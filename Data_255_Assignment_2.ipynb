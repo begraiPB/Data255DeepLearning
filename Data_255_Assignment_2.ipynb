{
  "cells": [
    {
      "cell_type": "markdown",
      "metadata": {
        "id": "view-in-github",
        "colab_type": "text"
      },
      "source": [
        "<a href=\"https://colab.research.google.com/github/begraiPB/Data255DeepLearning/blob/main/Data_255_Assignment_2.ipynb\" target=\"_parent\"><img src=\"https://colab.research.google.com/assets/colab-badge.svg\" alt=\"Open In Colab\"/></a>"
      ]
    },
    {
      "cell_type": "markdown",
      "source": [
        "## Use the code provided in demo 02 to complete this assignment.\n",
        "\n",
        "Step 1. Follow along with the tutorial to gain an understanding of the process\n",
        "\n",
        "Step 2. In a new .ipynb notebook, reproduce the results utilizing the \"QMNIST\" dataset\n",
        "\n",
        "Step 3. Report on the results in terms of prediction accuracy on the train and test datasets\n",
        "\n",
        "Step 4. Choose one of the proposed modifications below:\n",
        "\n",
        "Add another Dense layer of 128 nodes Increase the current number of nodes in the layer to 256 Hypothesize how it would change the performance results\n",
        "\n",
        "Step 5. Modify the model based on the chosen method and train\n",
        "\n",
        "Step 6. Report on the results of the modified model and if it matches your hypothesis\n",
        "\n",
        "Step 7. Experiment with different optimizers, loss functions, dropout, and activation functions, and observe the change in performance as you tune these hyperparameters."
      ],
      "metadata": {
        "id": "ETlbEwcl5DGO"
      }
    },
    {
      "cell_type": "code",
      "execution_count": null,
      "metadata": {
        "id": "nMFyW0jZwUp0"
      },
      "outputs": [],
      "source": [
        "# For tips on running notebooks in Google Colab, see\n",
        "# https://pytorch.org/tutorials/beginner/colab\n",
        "%matplotlib inline"
      ]
    },
    {
      "cell_type": "code",
      "source": [
        "!pip install -U portalocker>=2.0.0"
      ],
      "metadata": {
        "id": "cr8YP4tnwdeJ"
      },
      "execution_count": null,
      "outputs": []
    },
    {
      "cell_type": "code",
      "source": [
        "!pip install torchdata\n",
        "!pip install torchtext"
      ],
      "metadata": {
        "colab": {
          "base_uri": "https://localhost:8080/"
        },
        "id": "dWIeilopvCdX",
        "outputId": "5552c92c-a065-46fd-d366-0e7ef6fd7c84"
      },
      "execution_count": null,
      "outputs": [
        {
          "output_type": "stream",
          "name": "stdout",
          "text": [
            "Requirement already satisfied: torchdata in /usr/local/lib/python3.10/dist-packages (0.7.1)\n",
            "Requirement already satisfied: urllib3>=1.25 in /usr/local/lib/python3.10/dist-packages (from torchdata) (2.0.7)\n",
            "Requirement already satisfied: requests in /usr/local/lib/python3.10/dist-packages (from torchdata) (2.31.0)\n",
            "Requirement already satisfied: torch>=2 in /usr/local/lib/python3.10/dist-packages (from torchdata) (2.2.0)\n",
            "Requirement already satisfied: filelock in /usr/local/lib/python3.10/dist-packages (from torch>=2->torchdata) (3.13.1)\n",
            "Requirement already satisfied: typing-extensions>=4.8.0 in /usr/local/lib/python3.10/dist-packages (from torch>=2->torchdata) (4.9.0)\n",
            "Requirement already satisfied: sympy in /usr/local/lib/python3.10/dist-packages (from torch>=2->torchdata) (1.12)\n",
            "Requirement already satisfied: networkx in /usr/local/lib/python3.10/dist-packages (from torch>=2->torchdata) (3.2.1)\n",
            "Requirement already satisfied: jinja2 in /usr/local/lib/python3.10/dist-packages (from torch>=2->torchdata) (3.1.3)\n",
            "Requirement already satisfied: fsspec in /usr/local/lib/python3.10/dist-packages (from torch>=2->torchdata) (2023.6.0)\n",
            "Requirement already satisfied: nvidia-cuda-nvrtc-cu12==12.1.105 in /usr/local/lib/python3.10/dist-packages (from torch>=2->torchdata) (12.1.105)\n",
            "Requirement already satisfied: nvidia-cuda-runtime-cu12==12.1.105 in /usr/local/lib/python3.10/dist-packages (from torch>=2->torchdata) (12.1.105)\n",
            "Requirement already satisfied: nvidia-cuda-cupti-cu12==12.1.105 in /usr/local/lib/python3.10/dist-packages (from torch>=2->torchdata) (12.1.105)\n",
            "Requirement already satisfied: nvidia-cudnn-cu12==8.9.2.26 in /usr/local/lib/python3.10/dist-packages (from torch>=2->torchdata) (8.9.2.26)\n",
            "Requirement already satisfied: nvidia-cublas-cu12==12.1.3.1 in /usr/local/lib/python3.10/dist-packages (from torch>=2->torchdata) (12.1.3.1)\n",
            "Requirement already satisfied: nvidia-cufft-cu12==11.0.2.54 in /usr/local/lib/python3.10/dist-packages (from torch>=2->torchdata) (11.0.2.54)\n",
            "Requirement already satisfied: nvidia-curand-cu12==10.3.2.106 in /usr/local/lib/python3.10/dist-packages (from torch>=2->torchdata) (10.3.2.106)\n",
            "Requirement already satisfied: nvidia-cusolver-cu12==11.4.5.107 in /usr/local/lib/python3.10/dist-packages (from torch>=2->torchdata) (11.4.5.107)\n",
            "Requirement already satisfied: nvidia-cusparse-cu12==12.1.0.106 in /usr/local/lib/python3.10/dist-packages (from torch>=2->torchdata) (12.1.0.106)\n",
            "Requirement already satisfied: nvidia-nccl-cu12==2.19.3 in /usr/local/lib/python3.10/dist-packages (from torch>=2->torchdata) (2.19.3)\n",
            "Requirement already satisfied: nvidia-nvtx-cu12==12.1.105 in /usr/local/lib/python3.10/dist-packages (from torch>=2->torchdata) (12.1.105)\n",
            "Requirement already satisfied: triton==2.2.0 in /usr/local/lib/python3.10/dist-packages (from torch>=2->torchdata) (2.2.0)\n",
            "Requirement already satisfied: nvidia-nvjitlink-cu12 in /usr/local/lib/python3.10/dist-packages (from nvidia-cusolver-cu12==11.4.5.107->torch>=2->torchdata) (12.3.101)\n",
            "Requirement already satisfied: charset-normalizer<4,>=2 in /usr/local/lib/python3.10/dist-packages (from requests->torchdata) (3.3.2)\n",
            "Requirement already satisfied: idna<4,>=2.5 in /usr/local/lib/python3.10/dist-packages (from requests->torchdata) (3.6)\n",
            "Requirement already satisfied: certifi>=2017.4.17 in /usr/local/lib/python3.10/dist-packages (from requests->torchdata) (2024.2.2)\n",
            "Requirement already satisfied: MarkupSafe>=2.0 in /usr/local/lib/python3.10/dist-packages (from jinja2->torch>=2->torchdata) (2.1.5)\n",
            "Requirement already satisfied: mpmath>=0.19 in /usr/local/lib/python3.10/dist-packages (from sympy->torch>=2->torchdata) (1.3.0)\n",
            "Requirement already satisfied: torchtext in /usr/local/lib/python3.10/dist-packages (0.17.0)\n",
            "Requirement already satisfied: tqdm in /usr/local/lib/python3.10/dist-packages (from torchtext) (4.66.1)\n",
            "Requirement already satisfied: requests in /usr/local/lib/python3.10/dist-packages (from torchtext) (2.31.0)\n",
            "Requirement already satisfied: torch==2.2.0 in /usr/local/lib/python3.10/dist-packages (from torchtext) (2.2.0)\n",
            "Requirement already satisfied: numpy in /usr/local/lib/python3.10/dist-packages (from torchtext) (1.23.5)\n",
            "Requirement already satisfied: torchdata==0.7.1 in /usr/local/lib/python3.10/dist-packages (from torchtext) (0.7.1)\n",
            "Requirement already satisfied: filelock in /usr/local/lib/python3.10/dist-packages (from torch==2.2.0->torchtext) (3.13.1)\n",
            "Requirement already satisfied: typing-extensions>=4.8.0 in /usr/local/lib/python3.10/dist-packages (from torch==2.2.0->torchtext) (4.9.0)\n",
            "Requirement already satisfied: sympy in /usr/local/lib/python3.10/dist-packages (from torch==2.2.0->torchtext) (1.12)\n",
            "Requirement already satisfied: networkx in /usr/local/lib/python3.10/dist-packages (from torch==2.2.0->torchtext) (3.2.1)\n",
            "Requirement already satisfied: jinja2 in /usr/local/lib/python3.10/dist-packages (from torch==2.2.0->torchtext) (3.1.3)\n",
            "Requirement already satisfied: fsspec in /usr/local/lib/python3.10/dist-packages (from torch==2.2.0->torchtext) (2023.6.0)\n",
            "Requirement already satisfied: nvidia-cuda-nvrtc-cu12==12.1.105 in /usr/local/lib/python3.10/dist-packages (from torch==2.2.0->torchtext) (12.1.105)\n",
            "Requirement already satisfied: nvidia-cuda-runtime-cu12==12.1.105 in /usr/local/lib/python3.10/dist-packages (from torch==2.2.0->torchtext) (12.1.105)\n",
            "Requirement already satisfied: nvidia-cuda-cupti-cu12==12.1.105 in /usr/local/lib/python3.10/dist-packages (from torch==2.2.0->torchtext) (12.1.105)\n",
            "Requirement already satisfied: nvidia-cudnn-cu12==8.9.2.26 in /usr/local/lib/python3.10/dist-packages (from torch==2.2.0->torchtext) (8.9.2.26)\n",
            "Requirement already satisfied: nvidia-cublas-cu12==12.1.3.1 in /usr/local/lib/python3.10/dist-packages (from torch==2.2.0->torchtext) (12.1.3.1)\n",
            "Requirement already satisfied: nvidia-cufft-cu12==11.0.2.54 in /usr/local/lib/python3.10/dist-packages (from torch==2.2.0->torchtext) (11.0.2.54)\n",
            "Requirement already satisfied: nvidia-curand-cu12==10.3.2.106 in /usr/local/lib/python3.10/dist-packages (from torch==2.2.0->torchtext) (10.3.2.106)\n",
            "Requirement already satisfied: nvidia-cusolver-cu12==11.4.5.107 in /usr/local/lib/python3.10/dist-packages (from torch==2.2.0->torchtext) (11.4.5.107)\n",
            "Requirement already satisfied: nvidia-cusparse-cu12==12.1.0.106 in /usr/local/lib/python3.10/dist-packages (from torch==2.2.0->torchtext) (12.1.0.106)\n",
            "Requirement already satisfied: nvidia-nccl-cu12==2.19.3 in /usr/local/lib/python3.10/dist-packages (from torch==2.2.0->torchtext) (2.19.3)\n",
            "Requirement already satisfied: nvidia-nvtx-cu12==12.1.105 in /usr/local/lib/python3.10/dist-packages (from torch==2.2.0->torchtext) (12.1.105)\n",
            "Requirement already satisfied: triton==2.2.0 in /usr/local/lib/python3.10/dist-packages (from torch==2.2.0->torchtext) (2.2.0)\n",
            "Requirement already satisfied: urllib3>=1.25 in /usr/local/lib/python3.10/dist-packages (from torchdata==0.7.1->torchtext) (2.0.7)\n",
            "Requirement already satisfied: nvidia-nvjitlink-cu12 in /usr/local/lib/python3.10/dist-packages (from nvidia-cusolver-cu12==11.4.5.107->torch==2.2.0->torchtext) (12.3.101)\n",
            "Requirement already satisfied: charset-normalizer<4,>=2 in /usr/local/lib/python3.10/dist-packages (from requests->torchtext) (3.3.2)\n",
            "Requirement already satisfied: idna<4,>=2.5 in /usr/local/lib/python3.10/dist-packages (from requests->torchtext) (3.6)\n",
            "Requirement already satisfied: certifi>=2017.4.17 in /usr/local/lib/python3.10/dist-packages (from requests->torchtext) (2024.2.2)\n",
            "Requirement already satisfied: MarkupSafe>=2.0 in /usr/local/lib/python3.10/dist-packages (from jinja2->torch==2.2.0->torchtext) (2.1.5)\n",
            "Requirement already satisfied: mpmath>=0.19 in /usr/local/lib/python3.10/dist-packages (from sympy->torch==2.2.0->torchtext) (1.3.0)\n"
          ]
        }
      ]
    },
    {
      "cell_type": "code",
      "execution_count": null,
      "metadata": {
        "id": "tbX75VUGwUp3"
      },
      "outputs": [],
      "source": [
        "import torch\n",
        "import portalocker"
      ]
    },
    {
      "cell_type": "code",
      "source": [
        "!pip install torchvision"
      ],
      "metadata": {
        "colab": {
          "base_uri": "https://localhost:8080/"
        },
        "id": "F5c53XQ93z20",
        "outputId": "f8008209-0a9a-4529-82d1-55392db0710a"
      },
      "execution_count": null,
      "outputs": [
        {
          "output_type": "stream",
          "name": "stdout",
          "text": [
            "Collecting torchvision\n",
            "  Downloading torchvision-0.17.0-cp310-cp310-manylinux1_x86_64.whl (6.9 MB)\n",
            "\u001b[2K     \u001b[90m━━━━━━━━━━━━━━━━━━━━━━━━━━━━━━━━━━━━━━━━\u001b[0m \u001b[32m6.9/6.9 MB\u001b[0m \u001b[31m14.6 MB/s\u001b[0m eta \u001b[36m0:00:00\u001b[0m\n",
            "\u001b[?25hRequirement already satisfied: numpy in /usr/local/lib/python3.10/dist-packages (from torchvision) (1.23.5)\n",
            "Requirement already satisfied: requests in /usr/local/lib/python3.10/dist-packages (from torchvision) (2.31.0)\n",
            "Requirement already satisfied: torch==2.2.0 in /usr/local/lib/python3.10/dist-packages (from torchvision) (2.2.0)\n",
            "Requirement already satisfied: pillow!=8.3.*,>=5.3.0 in /usr/local/lib/python3.10/dist-packages (from torchvision) (9.4.0)\n",
            "Requirement already satisfied: filelock in /usr/local/lib/python3.10/dist-packages (from torch==2.2.0->torchvision) (3.13.1)\n",
            "Requirement already satisfied: typing-extensions>=4.8.0 in /usr/local/lib/python3.10/dist-packages (from torch==2.2.0->torchvision) (4.9.0)\n",
            "Requirement already satisfied: sympy in /usr/local/lib/python3.10/dist-packages (from torch==2.2.0->torchvision) (1.12)\n",
            "Requirement already satisfied: networkx in /usr/local/lib/python3.10/dist-packages (from torch==2.2.0->torchvision) (3.2.1)\n",
            "Requirement already satisfied: jinja2 in /usr/local/lib/python3.10/dist-packages (from torch==2.2.0->torchvision) (3.1.3)\n",
            "Requirement already satisfied: fsspec in /usr/local/lib/python3.10/dist-packages (from torch==2.2.0->torchvision) (2023.6.0)\n",
            "Requirement already satisfied: nvidia-cuda-nvrtc-cu12==12.1.105 in /usr/local/lib/python3.10/dist-packages (from torch==2.2.0->torchvision) (12.1.105)\n",
            "Requirement already satisfied: nvidia-cuda-runtime-cu12==12.1.105 in /usr/local/lib/python3.10/dist-packages (from torch==2.2.0->torchvision) (12.1.105)\n",
            "Requirement already satisfied: nvidia-cuda-cupti-cu12==12.1.105 in /usr/local/lib/python3.10/dist-packages (from torch==2.2.0->torchvision) (12.1.105)\n",
            "Requirement already satisfied: nvidia-cudnn-cu12==8.9.2.26 in /usr/local/lib/python3.10/dist-packages (from torch==2.2.0->torchvision) (8.9.2.26)\n",
            "Requirement already satisfied: nvidia-cublas-cu12==12.1.3.1 in /usr/local/lib/python3.10/dist-packages (from torch==2.2.0->torchvision) (12.1.3.1)\n",
            "Requirement already satisfied: nvidia-cufft-cu12==11.0.2.54 in /usr/local/lib/python3.10/dist-packages (from torch==2.2.0->torchvision) (11.0.2.54)\n",
            "Requirement already satisfied: nvidia-curand-cu12==10.3.2.106 in /usr/local/lib/python3.10/dist-packages (from torch==2.2.0->torchvision) (10.3.2.106)\n",
            "Requirement already satisfied: nvidia-cusolver-cu12==11.4.5.107 in /usr/local/lib/python3.10/dist-packages (from torch==2.2.0->torchvision) (11.4.5.107)\n",
            "Requirement already satisfied: nvidia-cusparse-cu12==12.1.0.106 in /usr/local/lib/python3.10/dist-packages (from torch==2.2.0->torchvision) (12.1.0.106)\n",
            "Requirement already satisfied: nvidia-nccl-cu12==2.19.3 in /usr/local/lib/python3.10/dist-packages (from torch==2.2.0->torchvision) (2.19.3)\n",
            "Requirement already satisfied: nvidia-nvtx-cu12==12.1.105 in /usr/local/lib/python3.10/dist-packages (from torch==2.2.0->torchvision) (12.1.105)\n",
            "Requirement already satisfied: triton==2.2.0 in /usr/local/lib/python3.10/dist-packages (from torch==2.2.0->torchvision) (2.2.0)\n",
            "Requirement already satisfied: nvidia-nvjitlink-cu12 in /usr/local/lib/python3.10/dist-packages (from nvidia-cusolver-cu12==11.4.5.107->torch==2.2.0->torchvision) (12.3.101)\n",
            "Requirement already satisfied: charset-normalizer<4,>=2 in /usr/local/lib/python3.10/dist-packages (from requests->torchvision) (3.3.2)\n",
            "Requirement already satisfied: idna<4,>=2.5 in /usr/local/lib/python3.10/dist-packages (from requests->torchvision) (3.6)\n",
            "Requirement already satisfied: urllib3<3,>=1.21.1 in /usr/local/lib/python3.10/dist-packages (from requests->torchvision) (2.0.7)\n",
            "Requirement already satisfied: certifi>=2017.4.17 in /usr/local/lib/python3.10/dist-packages (from requests->torchvision) (2024.2.2)\n",
            "Requirement already satisfied: MarkupSafe>=2.0 in /usr/local/lib/python3.10/dist-packages (from jinja2->torch==2.2.0->torchvision) (2.1.5)\n",
            "Requirement already satisfied: mpmath>=0.19 in /usr/local/lib/python3.10/dist-packages (from sympy->torch==2.2.0->torchvision) (1.3.0)\n",
            "Installing collected packages: torchvision\n",
            "Successfully installed torchvision-0.17.0\n"
          ]
        }
      ]
    },
    {
      "cell_type": "markdown",
      "source": [
        "## Step 2. In a new .ipynb notebook, reproduce the results utilizing the \"QMNIST\" dataset\n",
        "\n",
        "## Step 3. Report on the results in terms of prediction accuracy on the train and test datasets"
      ],
      "metadata": {
        "id": "Jtkj0dlJAV4J"
      }
    },
    {
      "cell_type": "code",
      "source": [
        "import torch\n",
        "import torch.nn as nn\n",
        "import torch.optim as optim\n",
        "import torchvision\n",
        "import torchvision.transforms as transforms\n",
        "from torch.utils.data import DataLoader\n",
        "import matplotlib.pyplot as plt"
      ],
      "metadata": {
        "id": "giVoSjim71o2"
      },
      "execution_count": null,
      "outputs": []
    },
    {
      "cell_type": "code",
      "source": [
        "# Load Fashion MNIST dataset and preprocess\n",
        "transform = transforms.Compose([transforms.ToTensor(), transforms.Normalize((0.5,), (0.5,))])\n",
        "train_dataset = torchvision.datasets.QMNIST(root='./data', train=True, download=True, transform=transform)\n",
        "test_dataset = torchvision.datasets.QMNIST(root='./data', train=False, download=True, transform=transform)\n",
        "\n",
        "# Create data loaders\n",
        "train_loader = DataLoader(train_dataset, batch_size=64, shuffle=True)\n",
        "test_loader = DataLoader(test_dataset, batch_size=64, shuffle=False)"
      ],
      "metadata": {
        "id": "4qPWgU6V71o3"
      },
      "execution_count": null,
      "outputs": []
    },
    {
      "cell_type": "code",
      "source": [
        "labels_map = {\n",
        "    0: \"0\",\n",
        "    1: \"1\",\n",
        "    2: \"2\",\n",
        "    3: \"3\",\n",
        "    4: \"4\",\n",
        "    5: \"5\",\n",
        "    6: \"6\",\n",
        "    7: \"7\",\n",
        "    8: \"8\",\n",
        "    9: \"9\",\n",
        "}\n",
        "figure = plt.figure(figsize=(8, 8))\n",
        "cols, rows = 3, 3\n",
        "for i in range(1, cols * rows + 1):\n",
        "    sample_idx = torch.randint(len(train_dataset), size=(1,)).item()\n",
        "    img, label = train_dataset[sample_idx]\n",
        "    figure.add_subplot(rows, cols, i)\n",
        "    plt.title(labels_map[label])\n",
        "    plt.axis(\"off\")\n",
        "    plt.imshow(img.squeeze(), cmap=\"gray\")\n",
        "plt.show()"
      ],
      "metadata": {
        "colab": {
          "base_uri": "https://localhost:8080/",
          "height": 675
        },
        "outputId": "88523192-1db1-4b59-8d1b-3b55cfd1a8bb",
        "id": "X4Ei2TCR71o3"
      },
      "execution_count": null,
      "outputs": [
        {
          "output_type": "display_data",
          "data": {
            "text/plain": [
              "<Figure size 800x800 with 9 Axes>"
            ],
            "image/png": "[encoded data removed]"
          },
          "metadata": {}
        }
      ]
    },
    {
      "cell_type": "code",
      "source": [
        "#Test DataSet\n",
        "figure = plt.figure(figsize=(8, 8))\n",
        "cols, rows = 3, 3\n",
        "for i in range(1, cols * rows + 1):\n",
        "    sample_idx = torch.randint(len(test_dataset), size=(1,)).item()\n",
        "    img, label = test_dataset[sample_idx]\n",
        "    figure.add_subplot(rows, cols, i)\n",
        "    plt.title(labels_map[label])\n",
        "    plt.axis(\"off\")\n",
        "    plt.imshow(img.squeeze(), cmap=\"gray\")\n",
        "plt.show()"
      ],
      "metadata": {
        "colab": {
          "base_uri": "https://localhost:8080/",
          "height": 675
        },
        "outputId": "acbcdae7-ea4f-4530-bead-e6b4c66efb83",
        "id": "rQFoeYv571o3"
      },
      "execution_count": null,
      "outputs": [
        {
          "output_type": "display_data",
          "data": {
            "text/plain": [
              "<Figure size 800x800 with 9 Axes>"
            ],
            "image/png": "[encoded data removed]"
          },
          "metadata": {}
        }
      ]
    },
    {
      "cell_type": "code",
      "source": [
        "#Define the neural network architecture\n",
        "class MLP(nn.Module):\n",
        "    def __init__(self):\n",
        "        super(MLP, self).__init__()\n",
        "        self.fc1 = nn.Linear(28 * 28, 128)\n",
        "        self.fc2 = nn.Linear(128, 64)\n",
        "        self.fc3 = nn.Linear(64, 10)\n",
        "\n",
        "    def forward(self, x):\n",
        "        x = x.view(-1, 28 * 28)\n",
        "        x = torch.relu(self.fc1(x))\n",
        "        x = torch.relu(self.fc2(x))\n",
        "        x = self.fc3(x)\n",
        "        return x\n",
        "\n",
        "# Initialize the neural network\n",
        "model = MLP()"
      ],
      "metadata": {
        "id": "I_UdS0iJ71o3"
      },
      "execution_count": null,
      "outputs": []
    },
    {
      "cell_type": "code",
      "source": [
        "# Define the loss function and optimizer\n",
        "criterion = nn.CrossEntropyLoss()\n",
        "optimizer = optim.Adam(model.parameters(), lr=0.001)\n",
        "\n",
        "# Train the neural network\n",
        "num_epochs = 5\n",
        "for epoch in range(num_epochs):\n",
        "    model.train()\n",
        "    running_loss = 0.0\n",
        "    for i, data in enumerate(train_loader, 0):\n",
        "        inputs, labels = data\n",
        "        optimizer.zero_grad()\n",
        "        outputs = model(inputs)\n",
        "        loss = criterion(outputs, labels)\n",
        "        loss.backward()\n",
        "        optimizer.step()\n",
        "        running_loss += loss.item()\n",
        "        if i % 100 == 99:  # print every 100 mini-batches\n",
        "            print(f'Epoch {epoch + 1}, Batch {i + 1}, Loss: {running_loss / 100}')\n",
        "            running_loss = 0.0\n",
        "\n",
        "print('Finished Training')"
      ],
      "metadata": {
        "outputId": "2605060e-867d-4910-f720-c999f526efb4",
        "colab": {
          "base_uri": "https://localhost:8080/"
        },
        "id": "T4uT7vpC71o3"
      },
      "execution_count": null,
      "outputs": [
        {
          "output_type": "stream",
          "name": "stdout",
          "text": [
            "Epoch 1, Batch 100, Loss: 1.0463326689600945\n",
            "Epoch 1, Batch 200, Loss: 0.44061136528849604\n",
            "Epoch 1, Batch 300, Loss: 0.3803908620774746\n",
            "Epoch 1, Batch 400, Loss: 0.3392521345615387\n",
            "Epoch 1, Batch 500, Loss: 0.30830431029200556\n",
            "Epoch 1, Batch 600, Loss: 0.2742084886133671\n",
            "Epoch 1, Batch 700, Loss: 0.26205633021891117\n",
            "Epoch 1, Batch 800, Loss: 0.2480681300908327\n",
            "Epoch 1, Batch 900, Loss: 0.23367511682212352\n",
            "Epoch 2, Batch 100, Loss: 0.2196897552534938\n",
            "Epoch 2, Batch 200, Loss: 0.18543523672968149\n",
            "Epoch 2, Batch 300, Loss: 0.20291750628501176\n",
            "Epoch 2, Batch 400, Loss: 0.2022833414375782\n",
            "Epoch 2, Batch 500, Loss: 0.18310531914234163\n",
            "Epoch 2, Batch 600, Loss: 0.16536633726209402\n",
            "Epoch 2, Batch 700, Loss: 0.1703419577330351\n",
            "Epoch 2, Batch 800, Loss: 0.16683845851570367\n",
            "Epoch 2, Batch 900, Loss: 0.1541809826437384\n",
            "Epoch 3, Batch 100, Loss: 0.15295686852186918\n",
            "Epoch 3, Batch 200, Loss: 0.13655223812907935\n",
            "Epoch 3, Batch 300, Loss: 0.15059493174776434\n",
            "Epoch 3, Batch 400, Loss: 0.13920348590239884\n",
            "Epoch 3, Batch 500, Loss: 0.12744207851588726\n",
            "Epoch 3, Batch 600, Loss: 0.12471801960840821\n",
            "Epoch 3, Batch 700, Loss: 0.12885389011353254\n",
            "Epoch 3, Batch 800, Loss: 0.11776817357167602\n",
            "Epoch 3, Batch 900, Loss: 0.11714522779919206\n",
            "Epoch 4, Batch 100, Loss: 0.1064820583537221\n",
            "Epoch 4, Batch 200, Loss: 0.11009492343291641\n",
            "Epoch 4, Batch 300, Loss: 0.11460588373243809\n",
            "Epoch 4, Batch 400, Loss: 0.10412555165588856\n",
            "Epoch 4, Batch 500, Loss: 0.107818707912229\n",
            "Epoch 4, Batch 600, Loss: 0.12307313228957355\n",
            "Epoch 4, Batch 700, Loss: 0.10234859460033477\n",
            "Epoch 4, Batch 800, Loss: 0.10831164316274226\n",
            "Epoch 4, Batch 900, Loss: 0.11085200043395162\n",
            "Epoch 5, Batch 100, Loss: 0.09272319845855236\n",
            "Epoch 5, Batch 200, Loss: 0.09388613229617476\n",
            "Epoch 5, Batch 300, Loss: 0.09236671016551554\n",
            "Epoch 5, Batch 400, Loss: 0.09901902431622148\n",
            "Epoch 5, Batch 500, Loss: 0.09115967569872736\n",
            "Epoch 5, Batch 600, Loss: 0.09217297025024891\n",
            "Epoch 5, Batch 700, Loss: 0.08729111535474658\n",
            "Epoch 5, Batch 800, Loss: 0.08530368216801434\n",
            "Epoch 5, Batch 900, Loss: 0.0921308177895844\n",
            "Finished Training\n"
          ]
        }
      ]
    },
    {
      "cell_type": "code",
      "source": [
        "# Evaluate the model\n",
        "model.eval()\n",
        "correct = 0\n",
        "total = 0\n",
        "with torch.no_grad():\n",
        "    for data in train_loader:\n",
        "        images, labels = data\n",
        "        outputs = model(images)\n",
        "        _, predicted = torch.max(outputs.data, 1)\n",
        "        total += labels.size(0)\n",
        "        correct += (predicted == labels).sum().item()\n",
        "\n",
        "print(f'Accuracy on train set: { correct / total}%')"
      ],
      "metadata": {
        "colab": {
          "base_uri": "https://localhost:8080/"
        },
        "id": "PO_igZ2UAeHo",
        "outputId": "7578510d-ff50-4d76-8aed-7513b3c41022"
      },
      "execution_count": null,
      "outputs": [
        {
          "output_type": "stream",
          "name": "stdout",
          "text": [
            "Accuracy on train set: 0.9750333333333333%\n"
          ]
        }
      ]
    },
    {
      "cell_type": "code",
      "source": [
        "# Evaluate the model\n",
        "model.eval()\n",
        "correct = 0\n",
        "total = 0\n",
        "with torch.no_grad():\n",
        "    for data in test_loader:\n",
        "        images, labels = data\n",
        "        outputs = model(images)\n",
        "        _, predicted = torch.max(outputs.data, 1)\n",
        "        total += labels.size(0)\n",
        "        correct += (predicted == labels).sum().item()\n",
        "\n",
        "print(f'Accuracy on test set: { correct / total}%')"
      ],
      "metadata": {
        "outputId": "c80b2aaa-b271-4d08-e992-c9512745926c",
        "colab": {
          "base_uri": "https://localhost:8080/"
        },
        "id": "rhyDNKPB71o4"
      },
      "execution_count": null,
      "outputs": [
        {
          "output_type": "stream",
          "name": "stdout",
          "text": [
            "Accuracy on test set: 0.9659%\n"
          ]
        }
      ]
    },
    {
      "cell_type": "code",
      "source": [
        "# Evaluate the model and store predictions\n",
        "model.eval()\n",
        "correct = 0\n",
        "total = 0\n",
        "with torch.no_grad():\n",
        "    for data in test_loader:\n",
        "        images, labels = data\n",
        "        predictions = []\n",
        "        outputs = model(images)\n",
        "        _, predicted = torch.max(outputs.data, 1)\n",
        "        predictions.extend(predicted.numpy())  # Store predictions\n",
        "        total += labels.size(0)\n",
        "        correct += (predicted == labels).sum().item()"
      ],
      "metadata": {
        "id": "ZshD06tG71o4"
      },
      "execution_count": null,
      "outputs": []
    },
    {
      "cell_type": "code",
      "source": [
        "# Get one test image and its label\n",
        "image, label = images[5], labels[5]\n",
        "\n",
        "# Reshape the image tensor to a 28x28 shape\n",
        "image = image.view(28, 28)\n",
        "\n",
        "# Convert the image tensor to a numpy array for visualization\n",
        "image_numpy = image.numpy()\n",
        "\n",
        "# Show the image\n",
        "plt.imshow(image_numpy, cmap='gray')\n",
        "plt.title(f'Predicted Label: {predictions[5]}, Actual Label: {label.item()}')\n",
        "plt.axis('off')\n",
        "plt.show()\n"
      ],
      "metadata": {
        "outputId": "c76436ab-1743-465a-9f6a-9b49509a61e9",
        "colab": {
          "base_uri": "https://localhost:8080/",
          "height": 428
        },
        "id": "076NoK3L71o4"
      },
      "execution_count": null,
      "outputs": [
        {
          "output_type": "display_data",
          "data": {
            "text/plain": [
              "<Figure size 640x480 with 1 Axes>"
            ],
            "image/png": "[encoded data removed]"
          },
          "metadata": {}
        }
      ]
    },
    {
      "cell_type": "markdown",
      "source": [
        "## Step 4. Choose one of the proposed modifications below:\n",
        "\n",
        "1. Add another Dense layer of 128 nodes\n",
        "2. Increase the current number of nodes in the layer to 256\n",
        "\n",
        "Hypothesize how it would change the performance results\n",
        "\n",
        "\n",
        "We will be adding another dense layer of 128 nodes.\n",
        "\n",
        "Hypothesis: Since the accuracy is already high, we might see a small increase in the accuracy. But, this might also mean we are overfitting the model by increasing the complexity. We might see a reduction in the test accuracy.\n",
        "\n",
        "## Step 5. Modify the model based on the chosen method and train"
      ],
      "metadata": {
        "id": "eV7YvLWFAs-A"
      }
    },
    {
      "cell_type": "code",
      "source": [
        "#Define the neural network architecture\n",
        "class MLPWithDenseLayer(nn.Module):\n",
        "    def __init__(self):\n",
        "        super(MLPWithDenseLayer, self).__init__()\n",
        "        self.fc1 = nn.Linear(28 * 28, 128)\n",
        "        self.fcdense = nn.Linear(128, 128)\n",
        "        self.fc2 = nn.Linear(128, 64)\n",
        "        self.fc3 = nn.Linear(64, 10)\n",
        "\n",
        "    def forward(self, x):\n",
        "        x = x.view(-1, 28 * 28)\n",
        "        x = torch.relu(self.fc1(x))\n",
        "        x = torch.relu(self.fcdense(x))\n",
        "        x = torch.relu(self.fc2(x))\n",
        "        x = self.fc3(x)\n",
        "        return x\n",
        "\n",
        "# Initialize the neural network\n",
        "model = MLPWithDenseLayer()"
      ],
      "metadata": {
        "id": "3s9SXUgiBGJW"
      },
      "execution_count": null,
      "outputs": []
    },
    {
      "cell_type": "code",
      "source": [
        "# Define the loss function and optimizer\n",
        "criterion = nn.CrossEntropyLoss()\n",
        "optimizer = optim.Adam(model.parameters(), lr=0.001)\n",
        "\n",
        "# Train the neural network\n",
        "num_epochs = 5\n",
        "for epoch in range(num_epochs):\n",
        "    model.train()\n",
        "    running_loss = 0.0\n",
        "    for i, data in enumerate(train_loader, 0):\n",
        "        inputs, labels = data\n",
        "        optimizer.zero_grad()\n",
        "        outputs = model(inputs)\n",
        "        loss = criterion(outputs, labels)\n",
        "        loss.backward()\n",
        "        optimizer.step()\n",
        "        running_loss += loss.item()\n",
        "        if i % 100 == 99:  # print every 100 mini-batches\n",
        "            print(f'Epoch {epoch + 1}, Batch {i + 1}, Loss: {running_loss / 100}')\n",
        "            running_loss = 0.0\n",
        "\n",
        "print('Finished Training')"
      ],
      "metadata": {
        "outputId": "eb246fd0-f074-4ea4-ac17-372fff6681ed",
        "colab": {
          "base_uri": "https://localhost:8080/"
        },
        "id": "5RZosIEUBm3S"
      },
      "execution_count": null,
      "outputs": [
        {
          "output_type": "stream",
          "name": "stdout",
          "text": [
            "Epoch 1, Batch 100, Loss: 1.1268374860286712\n",
            "Epoch 1, Batch 200, Loss: 0.47598993077874185\n",
            "Epoch 1, Batch 300, Loss: 0.40210871025919914\n",
            "Epoch 1, Batch 400, Loss: 0.34062313139438627\n",
            "Epoch 1, Batch 500, Loss: 0.31211542814970017\n",
            "Epoch 1, Batch 600, Loss: 0.30773200951516627\n",
            "Epoch 1, Batch 700, Loss: 0.2710860577225685\n",
            "Epoch 1, Batch 800, Loss: 0.25753173768520354\n",
            "Epoch 1, Batch 900, Loss: 0.2316029904782772\n",
            "Epoch 2, Batch 100, Loss: 0.21013165075331927\n",
            "Epoch 2, Batch 200, Loss: 0.20796217888593674\n",
            "Epoch 2, Batch 300, Loss: 0.2007505103200674\n",
            "Epoch 2, Batch 400, Loss: 0.20694965608417987\n",
            "Epoch 2, Batch 500, Loss: 0.17195567648857832\n",
            "Epoch 2, Batch 600, Loss: 0.1722345842793584\n",
            "Epoch 2, Batch 700, Loss: 0.18253512244671583\n",
            "Epoch 2, Batch 800, Loss: 0.17049340907484292\n",
            "Epoch 2, Batch 900, Loss: 0.16169440608471633\n",
            "Epoch 3, Batch 100, Loss: 0.14798347625881433\n",
            "Epoch 3, Batch 200, Loss: 0.13154206117615103\n",
            "Epoch 3, Batch 300, Loss: 0.1393149190954864\n",
            "Epoch 3, Batch 400, Loss: 0.1366453092545271\n",
            "Epoch 3, Batch 500, Loss: 0.1358075364306569\n",
            "Epoch 3, Batch 600, Loss: 0.1290425513125956\n",
            "Epoch 3, Batch 700, Loss: 0.1367864127829671\n",
            "Epoch 3, Batch 800, Loss: 0.1365190324932337\n",
            "Epoch 3, Batch 900, Loss: 0.12115588312968611\n",
            "Epoch 4, Batch 100, Loss: 0.10547749602235854\n",
            "Epoch 4, Batch 200, Loss: 0.11802333808504045\n",
            "Epoch 4, Batch 300, Loss: 0.10466764815151691\n",
            "Epoch 4, Batch 400, Loss: 0.1177161069214344\n",
            "Epoch 4, Batch 500, Loss: 0.09890165002085269\n",
            "Epoch 4, Batch 600, Loss: 0.11565253132022918\n",
            "Epoch 4, Batch 700, Loss: 0.11266323843970895\n",
            "Epoch 4, Batch 800, Loss: 0.11306360607966781\n",
            "Epoch 4, Batch 900, Loss: 0.10535779480822384\n",
            "Epoch 5, Batch 100, Loss: 0.09578004159033299\n",
            "Epoch 5, Batch 200, Loss: 0.09186915612779557\n",
            "Epoch 5, Batch 300, Loss: 0.07921203876845538\n",
            "Epoch 5, Batch 400, Loss: 0.10453070089221\n",
            "Epoch 5, Batch 500, Loss: 0.10667581878602504\n",
            "Epoch 5, Batch 600, Loss: 0.09630016944371164\n",
            "Epoch 5, Batch 700, Loss: 0.09121919009834528\n",
            "Epoch 5, Batch 800, Loss: 0.09686921565327794\n",
            "Epoch 5, Batch 900, Loss: 0.09149144957773388\n",
            "Finished Training\n"
          ]
        }
      ]
    },
    {
      "cell_type": "code",
      "source": [
        "# Evaluate the model\n",
        "model.eval()\n",
        "correct = 0\n",
        "total = 0\n",
        "with torch.no_grad():\n",
        "    for data in train_loader:\n",
        "        images, labels = data\n",
        "        outputs = model(images)\n",
        "        _, predicted = torch.max(outputs.data, 1)\n",
        "        total += labels.size(0)\n",
        "        correct += (predicted == labels).sum().item()\n",
        "\n",
        "print(f'Accuracy on train set: { correct / total}%')"
      ],
      "metadata": {
        "colab": {
          "base_uri": "https://localhost:8080/"
        },
        "outputId": "73cb5bde-f9f8-4fa7-8abb-91a7ce3a9312",
        "id": "Sgl-oAJEBm3T"
      },
      "execution_count": null,
      "outputs": [
        {
          "output_type": "stream",
          "name": "stdout",
          "text": [
            "Accuracy on train set: 0.97635%\n"
          ]
        }
      ]
    },
    {
      "cell_type": "code",
      "source": [
        "# Evaluate the model\n",
        "model.eval()\n",
        "correct = 0\n",
        "total = 0\n",
        "with torch.no_grad():\n",
        "    for data in test_loader:\n",
        "        images, labels = data\n",
        "        outputs = model(images)\n",
        "        _, predicted = torch.max(outputs.data, 1)\n",
        "        total += labels.size(0)\n",
        "        correct += (predicted == labels).sum().item()\n",
        "\n",
        "print(f'Accuracy on test set: { correct / total}%')"
      ],
      "metadata": {
        "outputId": "e3c0b7c0-2738-49b2-87b3-04408288612b",
        "colab": {
          "base_uri": "https://localhost:8080/"
        },
        "id": "LQK_bPGYBm3T"
      },
      "execution_count": null,
      "outputs": [
        {
          "output_type": "stream",
          "name": "stdout",
          "text": [
            "Accuracy on test set: 0.9645333333333334%\n"
          ]
        }
      ]
    },
    {
      "cell_type": "code",
      "source": [
        "# Evaluate the model and store predictions\n",
        "model.eval()\n",
        "correct = 0\n",
        "total = 0\n",
        "with torch.no_grad():\n",
        "    for data in test_loader:\n",
        "        images, labels = data\n",
        "        predictions = []\n",
        "        outputs = model(images)\n",
        "        _, predicted = torch.max(outputs.data, 1)\n",
        "        predictions.extend(predicted.numpy())  # Store predictions\n",
        "        total += labels.size(0)\n",
        "        correct += (predicted == labels).sum().item()"
      ],
      "metadata": {
        "id": "YsvyP4NfBm3T"
      },
      "execution_count": null,
      "outputs": []
    },
    {
      "cell_type": "code",
      "source": [
        "# Get one test image and its label\n",
        "image, label = images[5], labels[5]\n",
        "\n",
        "# Reshape the image tensor to a 28x28 shape\n",
        "image = image.view(28, 28)\n",
        "\n",
        "# Convert the image tensor to a numpy array for visualization\n",
        "image_numpy = image.numpy()\n",
        "\n",
        "# Show the image\n",
        "plt.imshow(image_numpy, cmap='gray')\n",
        "plt.title(f'Predicted Label: {predictions[5]}, Actual Label: {label.item()}')\n",
        "plt.axis('off')\n",
        "plt.show()\n"
      ],
      "metadata": {
        "outputId": "5e77401f-0eb9-4037-fc38-d922e3ebeeda",
        "colab": {
          "base_uri": "https://localhost:8080/",
          "height": 428
        },
        "id": "qvIp779SBm3T"
      },
      "execution_count": null,
      "outputs": [
        {
          "output_type": "display_data",
          "data": {
            "text/plain": [
              "<Figure size 640x480 with 1 Axes>"
            ],
            "image/png": "[encoded data removed]"
          },
          "metadata": {}
        }
      ]
    },
    {
      "cell_type": "markdown",
      "source": [
        "## Step 6. Report on the results of the modified model and if it matches your hypothesis\n",
        "\n",
        "From the experiment, we see the following accuracy data:\n",
        "\n",
        "Original Model:\n",
        "```\n",
        "Training Accuracy: 0.9750\n",
        "\n",
        "Testing Accuracy: 0.9659\n",
        "```\n",
        "Model with new 128 Dense Layer:\n",
        "```\n",
        "Training Accuracy: 0.9763\n",
        "\n",
        "Testing Accuracy: 0.9645\n",
        "```\n",
        "As anticipated, since the model already had an high accuracy, we see a small increase in the training accuracy. But this might also mean that the model is overfitting.\n",
        "\n",
        "This is validated by the decrease in the test accuracy.\n"
      ],
      "metadata": {
        "id": "tBFC6i7uqbVY"
      }
    },
    {
      "cell_type": "markdown",
      "source": [
        "## Step 7. Experiment with different optimizers, loss functions, dropout, and activation functions, and observe the change in performance as you tune these hyperparameters."
      ],
      "metadata": {
        "id": "kowPneYgCTc7"
      }
    },
    {
      "cell_type": "markdown",
      "source": [
        "### Experiment with Optimizer - SGD With Momentum"
      ],
      "metadata": {
        "id": "f59fv6ZZCYi3"
      }
    },
    {
      "cell_type": "code",
      "source": [
        "# Define the loss function and optimizer\n",
        "criterion = nn.CrossEntropyLoss()\n",
        "optimizer = optim.SGD(model.parameters(), lr=0.001, momentum=0.9)\n",
        "\n",
        "# Train the neural network\n",
        "num_epochs = 5\n",
        "for epoch in range(num_epochs):\n",
        "    model.train()\n",
        "    running_loss = 0.0\n",
        "    for i, data in enumerate(train_loader, 0):\n",
        "        inputs, labels = data\n",
        "        optimizer.zero_grad()\n",
        "        outputs = model(inputs)\n",
        "        loss = criterion(outputs, labels)\n",
        "        loss.backward()\n",
        "        optimizer.step()\n",
        "        running_loss += loss.item()\n",
        "        if i % 100 == 99:  # print every 100 mini-batches\n",
        "            print(f'Epoch {epoch + 1}, Batch {i + 1}, Loss: {running_loss / 100}')\n",
        "            running_loss = 0.0\n",
        "\n",
        "print('Finished Training')"
      ],
      "metadata": {
        "colab": {
          "base_uri": "https://localhost:8080/"
        },
        "id": "5hvAptQ_CS1D",
        "outputId": "f2c2ccd9-d964-46ef-e687-409de54c6d06"
      },
      "execution_count": null,
      "outputs": [
        {
          "output_type": "stream",
          "name": "stdout",
          "text": [
            "Epoch 1, Batch 100, Loss: 0.06231535483151674\n",
            "Epoch 1, Batch 200, Loss: 0.056786431563086805\n",
            "Epoch 1, Batch 300, Loss: 0.05207830374361947\n",
            "Epoch 1, Batch 400, Loss: 0.05349074364406988\n",
            "Epoch 1, Batch 500, Loss: 0.04734943171730265\n",
            "Epoch 1, Batch 600, Loss: 0.051071684821508825\n",
            "Epoch 1, Batch 700, Loss: 0.05119921502657235\n",
            "Epoch 1, Batch 800, Loss: 0.04646484459284693\n",
            "Epoch 1, Batch 900, Loss: 0.044710975422058256\n",
            "Epoch 2, Batch 100, Loss: 0.04454380614683032\n",
            "Epoch 2, Batch 200, Loss: 0.04813427176093683\n",
            "Epoch 2, Batch 300, Loss: 0.04831558954203501\n",
            "Epoch 2, Batch 400, Loss: 0.04584198391065002\n",
            "Epoch 2, Batch 500, Loss: 0.04410808756714687\n",
            "Epoch 2, Batch 600, Loss: 0.04501225106883794\n",
            "Epoch 2, Batch 700, Loss: 0.04177354902727529\n",
            "Epoch 2, Batch 800, Loss: 0.047176810035016385\n",
            "Epoch 2, Batch 900, Loss: 0.039846278617624194\n",
            "Epoch 3, Batch 100, Loss: 0.05123184077441692\n",
            "Epoch 3, Batch 200, Loss: 0.03630310000386089\n",
            "Epoch 3, Batch 300, Loss: 0.042009615378919986\n",
            "Epoch 3, Batch 400, Loss: 0.04365862641483545\n",
            "Epoch 3, Batch 500, Loss: 0.042756363386288285\n",
            "Epoch 3, Batch 600, Loss: 0.04696362960617989\n",
            "Epoch 3, Batch 700, Loss: 0.03807248929399066\n",
            "Epoch 3, Batch 800, Loss: 0.04366992326918989\n",
            "Epoch 3, Batch 900, Loss: 0.04430932082235813\n",
            "Epoch 4, Batch 100, Loss: 0.04007535112905316\n",
            "Epoch 4, Batch 200, Loss: 0.04176720160292462\n",
            "Epoch 4, Batch 300, Loss: 0.044962651012465354\n",
            "Epoch 4, Batch 400, Loss: 0.038789700106717645\n",
            "Epoch 4, Batch 500, Loss: 0.041661788844503465\n",
            "Epoch 4, Batch 600, Loss: 0.044810194021556525\n",
            "Epoch 4, Batch 700, Loss: 0.04231096146511845\n",
            "Epoch 4, Batch 800, Loss: 0.043186735379276794\n",
            "Epoch 4, Batch 900, Loss: 0.037863561300328\n",
            "Epoch 5, Batch 100, Loss: 0.03829481414053589\n",
            "Epoch 5, Batch 200, Loss: 0.04282775688683614\n",
            "Epoch 5, Batch 300, Loss: 0.03945229925913736\n",
            "Epoch 5, Batch 400, Loss: 0.03696035280358046\n",
            "Epoch 5, Batch 500, Loss: 0.04645601452910341\n",
            "Epoch 5, Batch 600, Loss: 0.035972272956278174\n",
            "Epoch 5, Batch 700, Loss: 0.04275422997248825\n",
            "Epoch 5, Batch 800, Loss: 0.03969742994755507\n",
            "Epoch 5, Batch 900, Loss: 0.03767422471893951\n",
            "Finished Training\n"
          ]
        }
      ]
    },
    {
      "cell_type": "code",
      "source": [
        "# Evaluate the model\n",
        "model.eval()\n",
        "correct = 0\n",
        "total = 0\n",
        "with torch.no_grad():\n",
        "    for data in train_loader:\n",
        "        images, labels = data\n",
        "        outputs = model(images)\n",
        "        _, predicted = torch.max(outputs.data, 1)\n",
        "        total += labels.size(0)\n",
        "        correct += (predicted == labels).sum().item()\n",
        "\n",
        "print(f'Accuracy on train set: { correct / total}%')"
      ],
      "metadata": {
        "colab": {
          "base_uri": "https://localhost:8080/"
        },
        "id": "AEHIiD58DZfc",
        "outputId": "01525980-8a51-4151-dc72-805843923790"
      },
      "execution_count": null,
      "outputs": [
        {
          "output_type": "stream",
          "name": "stdout",
          "text": [
            "Accuracy on train set: 0.9887833333333333%\n"
          ]
        }
      ]
    },
    {
      "cell_type": "code",
      "source": [
        "# Evaluate the model\n",
        "model.eval()\n",
        "correct = 0\n",
        "total = 0\n",
        "with torch.no_grad():\n",
        "    for data in test_loader:\n",
        "        images, labels = data\n",
        "        outputs = model(images)\n",
        "        _, predicted = torch.max(outputs.data, 1)\n",
        "        total += labels.size(0)\n",
        "        correct += (predicted == labels).sum().item()\n",
        "\n",
        "print(f'Accuracy on test set: { correct / total}%')"
      ],
      "metadata": {
        "outputId": "9b483404-dc99-490e-9647-3c6d1f97bb1d",
        "colab": {
          "base_uri": "https://localhost:8080/"
        },
        "id": "watyRgLGDB8b"
      },
      "execution_count": null,
      "outputs": [
        {
          "output_type": "stream",
          "name": "stdout",
          "text": [
            "Accuracy on test set: 0.9736833333333333%\n"
          ]
        }
      ]
    },
    {
      "cell_type": "code",
      "source": [
        "# Evaluate the model and store predictions\n",
        "model.eval()\n",
        "correct = 0\n",
        "total = 0\n",
        "with torch.no_grad():\n",
        "    for data in test_loader:\n",
        "        images, labels = data\n",
        "        predictions = []\n",
        "        outputs = model(images)\n",
        "        _, predicted = torch.max(outputs.data, 1)\n",
        "        predictions.extend(predicted.numpy())  # Store predictions\n",
        "        total += labels.size(0)\n",
        "        correct += (predicted == labels).sum().item()"
      ],
      "metadata": {
        "id": "BXgCA8cCDB8c"
      },
      "execution_count": null,
      "outputs": []
    },
    {
      "cell_type": "code",
      "source": [
        "# Get one test image and its label\n",
        "image, label = images[5], labels[5]\n",
        "\n",
        "# Reshape the image tensor to a 28x28 shape\n",
        "image = image.view(28, 28)\n",
        "\n",
        "# Convert the image tensor to a numpy array for visualization\n",
        "image_numpy = image.numpy()\n",
        "\n",
        "# Show the image\n",
        "plt.imshow(image_numpy, cmap='gray')\n",
        "plt.title(f'Predicted Label: {predictions[5]}, Actual Label: {label.item()}')\n",
        "plt.axis('off')\n",
        "plt.show()\n"
      ],
      "metadata": {
        "outputId": "5c65013a-a02d-4e6e-f52b-1bbbb07035c8",
        "colab": {
          "base_uri": "https://localhost:8080/",
          "height": 428
        },
        "id": "MyFO86q8DB8c"
      },
      "execution_count": null,
      "outputs": [
        {
          "output_type": "display_data",
          "data": {
            "text/plain": [
              "<Figure size 640x480 with 1 Axes>"
            ],
            "image/png": "[encoded data removed]"
          },
          "metadata": {}
        }
      ]
    },
    {
      "cell_type": "markdown",
      "source": [
        "Model with 128 Dense Layer Adam Optimizer:\n",
        "```\n",
        "Training Accuracy: 0.9763\n",
        "\n",
        "Testing Accuracy: 0.9645\n",
        "```\n",
        "Model with 128 Dense Layer SGD with Momentum Optimizer:\n",
        "```\n",
        "Training Accuracy: 0.9887\n",
        "\n",
        "Testing Accuracy: 0.9736\n",
        "```\n",
        "We see that with the use of SGD with Momentum Optimizer, we are seeing an increase in the accuracy of the model."
      ],
      "metadata": {
        "id": "L8J3hREcrY6M"
      }
    },
    {
      "cell_type": "markdown",
      "source": [
        "### Experiment with Activation Function: SELU instead of Relu"
      ],
      "metadata": {
        "id": "dloPosGMDeym"
      }
    },
    {
      "cell_type": "code",
      "source": [
        "#Define the neural network architecture\n",
        "class MLPWithDenseLayerSELU(nn.Module):\n",
        "    def __init__(self):\n",
        "        super(MLPWithDenseLayerSELU, self).__init__()\n",
        "        self.fc1 = nn.Linear(28 * 28, 128)\n",
        "        self.fcdense = nn.Linear(128, 128)\n",
        "        self.fc2 = nn.Linear(128, 64)\n",
        "        self.fc3 = nn.Linear(64, 10)\n",
        "\n",
        "    def forward(self, x):\n",
        "        x = x.view(-1, 28 * 28)\n",
        "        x = torch.selu(self.fc1(x))\n",
        "        x = torch.selu(self.fcdense(x))\n",
        "        x = torch.selu(self.fc2(x))\n",
        "        x = self.fc3(x)\n",
        "        return x\n",
        "\n",
        "# Initialize the neural network\n",
        "model = MLPWithDenseLayerSELU()"
      ],
      "metadata": {
        "id": "Hdn7x47LFAV9"
      },
      "execution_count": null,
      "outputs": []
    },
    {
      "cell_type": "code",
      "source": [
        "# Define the loss function and optimizer\n",
        "criterion = nn.CrossEntropyLoss()\n",
        "optimizer = optim.Adam(model.parameters(), lr=0.001)\n",
        "\n",
        "# Train the neural network\n",
        "num_epochs = 5\n",
        "for epoch in range(num_epochs):\n",
        "    model.train()\n",
        "    running_loss = 0.0\n",
        "    for i, data in enumerate(train_loader, 0):\n",
        "        inputs, labels = data\n",
        "        optimizer.zero_grad()\n",
        "        outputs = model(inputs)\n",
        "        loss = criterion(outputs, labels)\n",
        "        loss.backward()\n",
        "        optimizer.step()\n",
        "        running_loss += loss.item()\n",
        "        if i % 100 == 99:  # print every 100 mini-batches\n",
        "            print(f'Epoch {epoch + 1}, Batch {i + 1}, Loss: {running_loss / 100}')\n",
        "            running_loss = 0.0\n",
        "\n",
        "print('Finished Training')"
      ],
      "metadata": {
        "colab": {
          "base_uri": "https://localhost:8080/"
        },
        "id": "rh6lGhreDdfi",
        "outputId": "3b62d294-9262-432b-a174-3af92fc2252c"
      },
      "execution_count": null,
      "outputs": [
        {
          "output_type": "stream",
          "name": "stdout",
          "text": [
            "Epoch 1, Batch 100, Loss: 0.8012640964984894\n",
            "Epoch 1, Batch 200, Loss: 0.4047159872949123\n",
            "Epoch 1, Batch 300, Loss: 0.32450674861669543\n",
            "Epoch 1, Batch 400, Loss: 0.2834457851201296\n",
            "Epoch 1, Batch 500, Loss: 0.2844776754081249\n",
            "Epoch 1, Batch 600, Loss: 0.24365442410111426\n",
            "Epoch 1, Batch 700, Loss: 0.23552637379616498\n",
            "Epoch 1, Batch 800, Loss: 0.22935047291219235\n",
            "Epoch 1, Batch 900, Loss: 0.2083524824678898\n",
            "Epoch 2, Batch 100, Loss: 0.1581713822670281\n",
            "Epoch 2, Batch 200, Loss: 0.16168912090361118\n",
            "Epoch 2, Batch 300, Loss: 0.1584966378286481\n",
            "Epoch 2, Batch 400, Loss: 0.15967461835592986\n",
            "Epoch 2, Batch 500, Loss: 0.15470255613327027\n",
            "Epoch 2, Batch 600, Loss: 0.1609830473922193\n",
            "Epoch 2, Batch 700, Loss: 0.1374961094930768\n",
            "Epoch 2, Batch 800, Loss: 0.13460240000858903\n",
            "Epoch 2, Batch 900, Loss: 0.13613263120874763\n",
            "Epoch 3, Batch 100, Loss: 0.11531796135008335\n",
            "Epoch 3, Batch 200, Loss: 0.11955878688953817\n",
            "Epoch 3, Batch 300, Loss: 0.11648499346338212\n",
            "Epoch 3, Batch 400, Loss: 0.13343322219327092\n",
            "Epoch 3, Batch 500, Loss: 0.12047087157145142\n",
            "Epoch 3, Batch 600, Loss: 0.12122334899380803\n",
            "Epoch 3, Batch 700, Loss: 0.11436255823820829\n",
            "Epoch 3, Batch 800, Loss: 0.10741234114859254\n",
            "Epoch 3, Batch 900, Loss: 0.11174634398892522\n",
            "Epoch 4, Batch 100, Loss: 0.08289052275940775\n",
            "Epoch 4, Batch 200, Loss: 0.08622174065094441\n",
            "Epoch 4, Batch 300, Loss: 0.09530889881774783\n",
            "Epoch 4, Batch 400, Loss: 0.09863853375427425\n",
            "Epoch 4, Batch 500, Loss: 0.0940227166377008\n",
            "Epoch 4, Batch 600, Loss: 0.10770819599740207\n",
            "Epoch 4, Batch 700, Loss: 0.08806241342797876\n",
            "Epoch 4, Batch 800, Loss: 0.09599355289712548\n",
            "Epoch 4, Batch 900, Loss: 0.08384193344973027\n",
            "Epoch 5, Batch 100, Loss: 0.07350294415839016\n",
            "Epoch 5, Batch 200, Loss: 0.0818352088239044\n",
            "Epoch 5, Batch 300, Loss: 0.0774097704142332\n",
            "Epoch 5, Batch 400, Loss: 0.06964593400247394\n",
            "Epoch 5, Batch 500, Loss: 0.0776730031054467\n",
            "Epoch 5, Batch 600, Loss: 0.08909534099511802\n",
            "Epoch 5, Batch 700, Loss: 0.08345580050721764\n",
            "Epoch 5, Batch 800, Loss: 0.07349632022436708\n",
            "Epoch 5, Batch 900, Loss: 0.08098332461901009\n",
            "Finished Training\n"
          ]
        }
      ]
    },
    {
      "cell_type": "code",
      "source": [
        "# Evaluate the model\n",
        "model.eval()\n",
        "correct = 0\n",
        "total = 0\n",
        "with torch.no_grad():\n",
        "    for data in train_loader:\n",
        "        images, labels = data\n",
        "        outputs = model(images)\n",
        "        _, predicted = torch.max(outputs.data, 1)\n",
        "        total += labels.size(0)\n",
        "        correct += (predicted == labels).sum().item()\n",
        "\n",
        "print(f'Accuracy on train set: { correct / total}%')"
      ],
      "metadata": {
        "colab": {
          "base_uri": "https://localhost:8080/"
        },
        "outputId": "f8dc018b-c042-43fd-838e-7a8c6f2d4cbf",
        "id": "rGR6TrCXF246"
      },
      "execution_count": null,
      "outputs": [
        {
          "output_type": "stream",
          "name": "stdout",
          "text": [
            "Accuracy on train set: 0.9778333333333333%\n"
          ]
        }
      ]
    },
    {
      "cell_type": "code",
      "source": [
        "# Evaluate the model\n",
        "model.eval()\n",
        "correct = 0\n",
        "total = 0\n",
        "with torch.no_grad():\n",
        "    for data in test_loader:\n",
        "        images, labels = data\n",
        "        outputs = model(images)\n",
        "        _, predicted = torch.max(outputs.data, 1)\n",
        "        total += labels.size(0)\n",
        "        correct += (predicted == labels).sum().item()\n",
        "\n",
        "print(f'Accuracy on test set: { correct / total}%')"
      ],
      "metadata": {
        "outputId": "98434f6e-86ae-4e30-8667-c02a2b38b02f",
        "colab": {
          "base_uri": "https://localhost:8080/"
        },
        "id": "jU7tUrjmF247"
      },
      "execution_count": null,
      "outputs": [
        {
          "output_type": "stream",
          "name": "stdout",
          "text": [
            "Accuracy on test set: 0.9669%\n"
          ]
        }
      ]
    },
    {
      "cell_type": "code",
      "source": [
        "# Evaluate the model and store predictions\n",
        "model.eval()\n",
        "correct = 0\n",
        "total = 0\n",
        "with torch.no_grad():\n",
        "    for data in test_loader:\n",
        "        images, labels = data\n",
        "        predictions = []\n",
        "        outputs = model(images)\n",
        "        _, predicted = torch.max(outputs.data, 1)\n",
        "        predictions.extend(predicted.numpy())  # Store predictions\n",
        "        total += labels.size(0)\n",
        "        correct += (predicted == labels).sum().item()"
      ],
      "metadata": {
        "id": "muxPcUATF247"
      },
      "execution_count": null,
      "outputs": []
    },
    {
      "cell_type": "code",
      "source": [
        "# Get one test image and its label\n",
        "image, label = images[5], labels[5]\n",
        "\n",
        "# Reshape the image tensor to a 28x28 shape\n",
        "image = image.view(28, 28)\n",
        "\n",
        "# Convert the image tensor to a numpy array for visualization\n",
        "image_numpy = image.numpy()\n",
        "\n",
        "# Show the image\n",
        "plt.imshow(image_numpy, cmap='gray')\n",
        "plt.title(f'Predicted Label: {predictions[5]}, Actual Label: {label.item()}')\n",
        "plt.axis('off')\n",
        "plt.show()\n"
      ],
      "metadata": {
        "outputId": "739fa978-f168-4d39-e224-20e9ca6b31b6",
        "colab": {
          "base_uri": "https://localhost:8080/",
          "height": 428
        },
        "id": "KzQky6jHF247"
      },
      "execution_count": null,
      "outputs": [
        {
          "output_type": "display_data",
          "data": {
            "text/plain": [
              "<Figure size 640x480 with 1 Axes>"
            ],
            "image/png": "[encoded data removed]"
          },
          "metadata": {}
        }
      ]
    },
    {
      "cell_type": "markdown",
      "source": [
        "Model with Dense Layer and RELU Activation Function:\n",
        "```\n",
        "Training Accuracy: 0.9763\n",
        "\n",
        "Testing Accuracy: 0.9645\n",
        "```\n",
        "Model with Dense Layer and SELU Activation Function:\n",
        "```\n",
        "Training Accuracy: 0.9778\n",
        "\n",
        "Testing Accuracy: 0.9669\n",
        "```\n",
        "We see that with the use of SELU as an activation function, we see a marginal increase in the accuracy."
      ],
      "metadata": {
        "id": "2Zi6mVlpsBrI"
      }
    },
    {
      "cell_type": "markdown",
      "source": [
        "## Experiment With Dropout Layer:"
      ],
      "metadata": {
        "id": "7OUfd_FYGSca"
      }
    },
    {
      "cell_type": "code",
      "source": [
        "class MLPWithDenseLayerDropout(nn.Module):\n",
        "    def __init__(self):\n",
        "        super(MLPWithDenseLayerDropout, self).__init__()\n",
        "        self.fc1 = nn.Linear(28 * 28, 128)\n",
        "        self.dropout1 = nn.Dropout(p=0.5)\n",
        "        self.fcdense = nn.Linear(128, 128)\n",
        "        self.dropout2 = nn.Dropout(p=0.5)\n",
        "        self.fc2 = nn.Linear(128, 64)\n",
        "        self.dropout3 = nn.Dropout(p=0.5)\n",
        "        self.fc3 = nn.Linear(64, 10)\n",
        "\n",
        "    def forward(self, x):\n",
        "        x = x.view(-1, 28 * 28)\n",
        "        x = torch.relu(self.fc1(x))\n",
        "        x = self.dropout1(x)\n",
        "        x = torch.relu(self.fcdense(x))\n",
        "        x = self.dropout2(x)\n",
        "        x = torch.relu(self.fc2(x))\n",
        "        x = self.dropout3(x)\n",
        "        x = self.fc3(x)\n",
        "        return x\n",
        "\n",
        "# Initialize the neural network\n",
        "model = MLPWithDenseLayerDropout()\n"
      ],
      "metadata": {
        "id": "pl4Lgnr3GWDS"
      },
      "execution_count": null,
      "outputs": []
    },
    {
      "cell_type": "code",
      "source": [
        "# Define the loss function and optimizer\n",
        "criterion = nn.CrossEntropyLoss()\n",
        "optimizer = optim.Adam(model.parameters(), lr=0.001)\n",
        "\n",
        "# Train the neural network\n",
        "num_epochs = 5\n",
        "for epoch in range(num_epochs):\n",
        "    model.train()\n",
        "    running_loss = 0.0\n",
        "    for i, data in enumerate(train_loader, 0):\n",
        "        inputs, labels = data\n",
        "        optimizer.zero_grad()\n",
        "        outputs = model(inputs)\n",
        "        loss = criterion(outputs, labels)\n",
        "        loss.backward()\n",
        "        optimizer.step()\n",
        "        running_loss += loss.item()\n",
        "        if i % 100 == 99:  # print every 100 mini-batches\n",
        "            print(f'Epoch {epoch + 1}, Batch {i + 1}, Loss: {running_loss / 100}')\n",
        "            running_loss = 0.0\n",
        "\n",
        "print('Finished Training')"
      ],
      "metadata": {
        "colab": {
          "base_uri": "https://localhost:8080/"
        },
        "outputId": "eb0a0f76-589f-4eed-b39c-2b04832664dc",
        "id": "g24HURlwG_6c"
      },
      "execution_count": null,
      "outputs": [
        {
          "output_type": "stream",
          "name": "stdout",
          "text": [
            "Epoch 1, Batch 100, Loss: 2.0162443351745605\n",
            "Epoch 1, Batch 200, Loss: 1.2440818709135055\n",
            "Epoch 1, Batch 300, Loss: 0.960828909277916\n",
            "Epoch 1, Batch 400, Loss: 0.8158374887704849\n",
            "Epoch 1, Batch 500, Loss: 0.7940958619117737\n",
            "Epoch 1, Batch 600, Loss: 0.7323667702078819\n",
            "Epoch 1, Batch 700, Loss: 0.6849939864873886\n",
            "Epoch 1, Batch 800, Loss: 0.6619203734397888\n",
            "Epoch 1, Batch 900, Loss: 0.6464994651079178\n",
            "Epoch 2, Batch 100, Loss: 0.5998415717482567\n",
            "Epoch 2, Batch 200, Loss: 0.5998544725775719\n",
            "Epoch 2, Batch 300, Loss: 0.5849167017638683\n",
            "Epoch 2, Batch 400, Loss: 0.5949629062414169\n",
            "Epoch 2, Batch 500, Loss: 0.5813657510280609\n",
            "Epoch 2, Batch 600, Loss: 0.5727172850072384\n",
            "Epoch 2, Batch 700, Loss: 0.5563858476281166\n",
            "Epoch 2, Batch 800, Loss: 0.5644820520281791\n",
            "Epoch 2, Batch 900, Loss: 0.5310518604516983\n",
            "Epoch 3, Batch 100, Loss: 0.5258419458568097\n",
            "Epoch 3, Batch 200, Loss: 0.5134566861391068\n",
            "Epoch 3, Batch 300, Loss: 0.511759357303381\n",
            "Epoch 3, Batch 400, Loss: 0.5265497356653214\n",
            "Epoch 3, Batch 500, Loss: 0.5143339943885803\n",
            "Epoch 3, Batch 600, Loss: 0.48851308673620225\n",
            "Epoch 3, Batch 700, Loss: 0.5112187139689922\n",
            "Epoch 3, Batch 800, Loss: 0.5245918852090835\n",
            "Epoch 3, Batch 900, Loss: 0.4848500698804855\n",
            "Epoch 4, Batch 100, Loss: 0.49758141428232194\n",
            "Epoch 4, Batch 200, Loss: 0.5047659148275853\n",
            "Epoch 4, Batch 300, Loss: 0.471665825098753\n",
            "Epoch 4, Batch 400, Loss: 0.4643845281004906\n",
            "Epoch 4, Batch 500, Loss: 0.5124636133015156\n",
            "Epoch 4, Batch 600, Loss: 0.48924822941422463\n",
            "Epoch 4, Batch 700, Loss: 0.4533270086348057\n",
            "Epoch 4, Batch 800, Loss: 0.46836219683289526\n",
            "Epoch 4, Batch 900, Loss: 0.48133405610919\n",
            "Epoch 5, Batch 100, Loss: 0.46396266236901285\n",
            "Epoch 5, Batch 200, Loss: 0.4433898340165615\n",
            "Epoch 5, Batch 300, Loss: 0.46295712113380433\n",
            "Epoch 5, Batch 400, Loss: 0.4785072858631611\n",
            "Epoch 5, Batch 500, Loss: 0.46331471592187884\n",
            "Epoch 5, Batch 600, Loss: 0.46092690974473954\n",
            "Epoch 5, Batch 700, Loss: 0.48122590228915213\n",
            "Epoch 5, Batch 800, Loss: 0.4660440565645695\n",
            "Epoch 5, Batch 900, Loss: 0.4505496293306351\n",
            "Finished Training\n"
          ]
        }
      ]
    },
    {
      "cell_type": "code",
      "source": [
        "# Evaluate the model\n",
        "model.eval()\n",
        "correct = 0\n",
        "total = 0\n",
        "with torch.no_grad():\n",
        "    for data in train_loader:\n",
        "        images, labels = data\n",
        "        outputs = model(images)\n",
        "        _, predicted = torch.max(outputs.data, 1)\n",
        "        total += labels.size(0)\n",
        "        correct += (predicted == labels).sum().item()\n",
        "\n",
        "print(f'Accuracy on train set: { correct / total}%')"
      ],
      "metadata": {
        "colab": {
          "base_uri": "https://localhost:8080/"
        },
        "outputId": "f2247d89-a0be-46e3-fcdc-3715e8d314b3",
        "id": "yHbQXBWuG_6d"
      },
      "execution_count": null,
      "outputs": [
        {
          "output_type": "stream",
          "name": "stdout",
          "text": [
            "Accuracy on train set: 0.9304%\n"
          ]
        }
      ]
    },
    {
      "cell_type": "code",
      "source": [
        "# Evaluate the model\n",
        "model.eval()\n",
        "correct = 0\n",
        "total = 0\n",
        "with torch.no_grad():\n",
        "    for data in test_loader:\n",
        "        images, labels = data\n",
        "        outputs = model(images)\n",
        "        _, predicted = torch.max(outputs.data, 1)\n",
        "        total += labels.size(0)\n",
        "        correct += (predicted == labels).sum().item()\n",
        "\n",
        "print(f'Accuracy on test set: { correct / total}%')"
      ],
      "metadata": {
        "outputId": "3dc3123d-240f-4338-d960-3071938b348d",
        "colab": {
          "base_uri": "https://localhost:8080/"
        },
        "id": "jqKyyAcwG_6d"
      },
      "execution_count": null,
      "outputs": [
        {
          "output_type": "stream",
          "name": "stdout",
          "text": [
            "Accuracy on test set: 0.9271166666666667%\n"
          ]
        }
      ]
    },
    {
      "cell_type": "code",
      "source": [
        "# Evaluate the model and store predictions\n",
        "model.eval()\n",
        "correct = 0\n",
        "total = 0\n",
        "with torch.no_grad():\n",
        "    for data in test_loader:\n",
        "        images, labels = data\n",
        "        predictions = []\n",
        "        outputs = model(images)\n",
        "        _, predicted = torch.max(outputs.data, 1)\n",
        "        predictions.extend(predicted.numpy())  # Store predictions\n",
        "        total += labels.size(0)\n",
        "        correct += (predicted == labels).sum().item()"
      ],
      "metadata": {
        "id": "O0S8UVmYG_6e"
      },
      "execution_count": null,
      "outputs": []
    },
    {
      "cell_type": "code",
      "source": [
        "# Get one test image and its label\n",
        "image, label = images[5], labels[5]\n",
        "\n",
        "# Reshape the image tensor to a 28x28 shape\n",
        "image = image.view(28, 28)\n",
        "\n",
        "# Convert the image tensor to a numpy array for visualization\n",
        "image_numpy = image.numpy()\n",
        "\n",
        "# Show the image\n",
        "plt.imshow(image_numpy, cmap='gray')\n",
        "plt.title(f'Predicted Label: {predictions[5]}, Actual Label: {label.item()}')\n",
        "plt.axis('off')\n",
        "plt.show()\n"
      ],
      "metadata": {
        "outputId": "0766aeb2-b397-4c20-a415-effb0ad549ad",
        "colab": {
          "base_uri": "https://localhost:8080/",
          "height": 428
        },
        "id": "I_7UzGSoG_6e"
      },
      "execution_count": null,
      "outputs": [
        {
          "output_type": "display_data",
          "data": {
            "text/plain": [
              "<Figure size 640x480 with 1 Axes>"
            ],
            "image/png": "[encoded data removed]"
          },
          "metadata": {}
        }
      ]
    },
    {
      "cell_type": "markdown",
      "source": [
        "Model with Dense Layer without Dropout Layers:\n",
        "```\n",
        "Training Accuracy: 0.9763\n",
        "\n",
        "Testing Accuracy: 0.9645\n",
        "```\n",
        "Model with Dense Layer with Dropout Layers:\n",
        "```\n",
        "Training Accuracy: 0.9304\n",
        "\n",
        "Testing Accuracy: 0.9271\n",
        "```\n",
        "We see that with the use of dropout layers led to decrease in the training and testing accuracy. Dropout helps in reducing overfitting. However, in this case, it made the model simplier and thus, a reduction in accuracy."
      ],
      "metadata": {
        "id": "VzpgU9X_sgZH"
      }
    }
  ],
  "metadata": {
    "kernelspec": {
      "display_name": "Python 3",
      "name": "python3"
    },
    "language_info": {
      "codemirror_mode": {
        "name": "ipython",
        "version": 3
      },
      "file_extension": ".py",
      "mimetype": "text/x-python",
      "name": "python",
      "nbconvert_exporter": "python",
      "pygments_lexer": "ipython3",
      "version": "3.10.13"
    },
    "colab": {
      "provenance": [],
      "include_colab_link": true
    }
  },
  "nbformat": 4,
  "nbformat_minor": 0
}