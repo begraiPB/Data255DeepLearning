{
  "cells": [
    {
      "cell_type": "markdown",
      "source": [
        "https://github.com/begraiPB/Data255DeepLearning/blob/main/HW12_LangChain%20and%20RAG.ipynb"
      ],
      "metadata": {
        "id": "WPMXB8BAq-sc"
      }
    },
    {
      "cell_type": "markdown",
      "source": [
        "Go through the demo file and run it in your local for hands-on:\n",
        "\n",
        "Part A: Build a code understanding model. Upload your own custom code files to the model and ask questions based on the code file as context.\n",
        "\n",
        "Part B: Write a chatbot prompt to iteratively create a sequence of chats on one particular custom data.\n",
        "\n",
        "1. The chatbot should be able to answer the questions based on the text data or multiple documents.\n",
        "\n",
        "2. The chatbot should save the conversation in the memory.\n",
        "\n",
        "2. Summarize the chats at the end of the conversation."
      ],
      "metadata": {
        "id": "YS7ot_Mknzbf"
      }
    },
    {
      "cell_type": "markdown",
      "source": [
        "## Part A: Build a code understanding model. Upload your own custom code files to the model and ask questions based on the code file as context."
      ],
      "metadata": {
        "id": "apJ2KkMOoqGY"
      }
    },
    {
      "cell_type": "code",
      "execution_count": null,
      "metadata": {
        "id": "CflZ3e82w4wV"
      },
      "outputs": [],
      "source": [
        "!pip install -qU \\\n",
        "    langchain==0.0.354 \\\n",
        "    openai==1.6.1 \\\n",
        "    datasets==2.10.1 \\\n",
        "    pinecone-client==3.1.0 \\\n",
        "    tiktoken==0.5.2"
      ]
    },
    {
      "cell_type": "code",
      "source": [
        "import os\n",
        "import openai"
      ],
      "metadata": {
        "id": "dbjbvU12rGkx"
      },
      "execution_count": null,
      "outputs": []
    },
    {
      "cell_type": "markdown",
      "metadata": {
        "id": "ZUH6ontXw4wV"
      },
      "source": [
        "### Building a Chatbot (no RAG)"
      ]
    },
    {
      "cell_type": "markdown",
      "metadata": {
        "id": "VAps57bQw4wW"
      },
      "source": [
        "We will be relying heavily on the LangChain library to bring together the different components needed for our chatbot. To begin, we'll create a simple chatbot without any retrieval augmentation. We do this by initializing a `ChatOpenAI` object. For this we do need an [OpenAI API key](https://platform.openai.com/account/api-keys)."
      ]
    },
    {
      "cell_type": "code",
      "source": [
        "from google.colab import drive\n",
        "drive.mount('/content/drive')"
      ],
      "metadata": {
        "colab": {
          "base_uri": "https://localhost:8080/"
        },
        "id": "Psgm9I0YfOFj",
        "outputId": "d63464c4-bd4c-40b4-c9cb-2af57f500be1"
      },
      "execution_count": null,
      "outputs": [
        {
          "output_type": "stream",
          "name": "stdout",
          "text": [
            "Drive already mounted at /content/drive; to attempt to forcibly remount, call drive.mount(\"/content/drive\", force_remount=True).\n"
          ]
        }
      ]
    },
    {
      "cell_type": "code",
      "source": [
        "!pip install --quiet python-dotenv\n",
        "!pip install faiss-cpu"
      ],
      "metadata": {
        "id": "y0c4-fUZfAdz",
        "colab": {
          "base_uri": "https://localhost:8080/"
        },
        "outputId": "cde7924d-a112-4aff-af90-efce3f524ed3"
      },
      "execution_count": 129,
      "outputs": [
        {
          "output_type": "stream",
          "name": "stdout",
          "text": [
            "Collecting faiss-cpu\n",
            "  Downloading faiss_cpu-1.8.0-cp310-cp310-manylinux_2_17_x86_64.manylinux2014_x86_64.whl (27.0 MB)\n",
            "\u001b[2K     \u001b[90m━━━━━━━━━━━━━━━━━━━━━━━━━━━━━━━━━━━━━━━━\u001b[0m \u001b[32m27.0/27.0 MB\u001b[0m \u001b[31m26.4 MB/s\u001b[0m eta \u001b[36m0:00:00\u001b[0m\n",
            "\u001b[?25hRequirement already satisfied: numpy in /usr/local/lib/python3.10/dist-packages (from faiss-cpu) (1.25.2)\n",
            "Installing collected packages: faiss-cpu\n",
            "Successfully installed faiss-cpu-1.8.0\n"
          ]
        }
      ]
    },
    {
      "cell_type": "code",
      "source": [
        "from dotenv import load_dotenv, find_dotenv\n",
        "load_dotenv('/content/drive/MyDrive/Data 255 HW/Assignment 12/.env')"
      ],
      "metadata": {
        "colab": {
          "base_uri": "https://localhost:8080/"
        },
        "id": "-uu3ajVpfICp",
        "outputId": "34030374-3f47-4717-e03e-f84792a210fc"
      },
      "execution_count": 70,
      "outputs": [
        {
          "output_type": "execute_result",
          "data": {
            "text/plain": [
              "True"
            ]
          },
          "metadata": {},
          "execution_count": 70
        }
      ]
    },
    {
      "cell_type": "code",
      "execution_count": 71,
      "metadata": {
        "id": "-hF4HeBjw4wW",
        "colab": {
          "base_uri": "https://localhost:8080/"
        },
        "outputId": "2d910210-ae94-4bc6-f7da-80fe0413a48c"
      },
      "outputs": [
        {
          "output_type": "execute_result",
          "data": {
            "text/plain": [
              "True"
            ]
          },
          "metadata": {},
          "execution_count": 71
        }
      ],
      "source": [
        "import os\n",
        "from langchain.chat_models import ChatOpenAI\n",
        "from dotenv import load_dotenv, find_dotenv\n",
        "_ = load_dotenv(find_dotenv()) # read local .env file\n",
        "load_dotenv('/content/drive/MyDrive/Data 255 HW/Assignment 12/.env')"
      ]
    },
    {
      "cell_type": "code",
      "source": [
        "# account for deprecation of LLM model\n",
        "import datetime\n",
        "# Get the current date\n",
        "current_date = datetime.datetime.now().date()\n",
        "\n",
        "# Define the date after which the model should be set to \"gpt-3.5-turbo\"\n",
        "target_date = datetime.date(2024, 6, 12)\n",
        "\n",
        "# Set the model variable based on the current date\n",
        "if current_date > target_date:\n",
        "    llm_model = \"gpt-3.5-turbo\"\n",
        "else:\n",
        "    llm_model = \"gpt-3.5-turbo-0301\""
      ],
      "metadata": {
        "id": "g3Kre4MXqoaC"
      },
      "execution_count": 47,
      "outputs": []
    },
    {
      "cell_type": "markdown",
      "source": [
        "## Part A: Build a code understanding model. Upload your own custom code files to the model and ask questions based on the code file as context."
      ],
      "metadata": {
        "id": "pMeEtk5Yxv6H"
      }
    },
    {
      "cell_type": "code",
      "source": [
        "chat = ChatOpenAI(\n",
        "    openai_api_key=os.getenv(\"OPENAI_API_KEY\"),\n",
        "    model=llm_model\n",
        ")"
      ],
      "metadata": {
        "id": "zZzsuIwjqoWd"
      },
      "execution_count": 48,
      "outputs": []
    },
    {
      "cell_type": "code",
      "source": [
        "from langchain.chat_models import ChatOpenAI\n",
        "from langchain.chat_models import ChatOpenAI\n",
        "from langchain.chains import ConversationChain\n",
        "from langchain.memory import ConversationBufferMemory"
      ],
      "metadata": {
        "id": "z-W9Qs78qoQ0"
      },
      "execution_count": 49,
      "outputs": []
    },
    {
      "cell_type": "code",
      "source": [
        "from langchain.schema import (\n",
        "    SystemMessage,\n",
        "    HumanMessage,\n",
        "    AIMessage\n",
        ")\n",
        "\n",
        "messages = [\n",
        "    SystemMessage(content=\"You are a helpful assistant who helps understand code.\")\n",
        "]"
      ],
      "metadata": {
        "id": "a-gCbSSJuJa7"
      },
      "execution_count": 179,
      "outputs": []
    },
    {
      "cell_type": "code",
      "source": [
        "res = chat(messages)\n",
        "# add latest AI response to messages\n",
        "messages.append(res)\n",
        "print(res.content)"
      ],
      "metadata": {
        "colab": {
          "base_uri": "https://localhost:8080/"
        },
        "id": "Ttp79LHBfAoI",
        "outputId": "1e0891ef-1b38-453c-a355-f83fe3d978e5"
      },
      "execution_count": 180,
      "outputs": [
        {
          "output_type": "stream",
          "name": "stdout",
          "text": [
            "Great! How can I assist you today?\n"
          ]
        }
      ]
    },
    {
      "cell_type": "code",
      "source": [
        "from langchain.text_splitter import CharacterTextSplitter\n",
        "from langchain.embeddings import OpenAIEmbeddings\n",
        "from langchain.vectorstores import FAISS\n",
        "from langchain.document_loaders import TextLoader"
      ],
      "metadata": {
        "id": "ixVxPS7JroQM"
      },
      "execution_count": 155,
      "outputs": []
    },
    {
      "cell_type": "code",
      "source": [
        "code_file_path = \"/content/drive/MyDrive/Data 255 HW/Assignment 12/pari_ddpm_conditional_test_2.py\"\n",
        "loader = TextLoader(code_file_path)\n",
        "code_snippets = loader.load_and_split()"
      ],
      "metadata": {
        "id": "6N23TXxnrpC9"
      },
      "execution_count": 156,
      "outputs": []
    },
    {
      "cell_type": "code",
      "source": [
        "text_splitter = CharacterTextSplitter(chunk_size=1000, chunk_overlap=200)\n",
        "texts = text_splitter.split_documents(code_snippets)"
      ],
      "metadata": {
        "colab": {
          "base_uri": "https://localhost:8080/"
        },
        "id": "rLfLmyFPr3dk",
        "outputId": "666f1e33-d522-4443-a5c2-1847ea705f5b"
      },
      "execution_count": 157,
      "outputs": [
        {
          "output_type": "stream",
          "name": "stderr",
          "text": [
            "WARNING:langchain.text_splitter:Created a chunk of size 1212, which is longer than the specified 1000\n"
          ]
        }
      ]
    },
    {
      "cell_type": "code",
      "source": [
        "texts[0]"
      ],
      "metadata": {
        "colab": {
          "base_uri": "https://localhost:8080/"
        },
        "id": "uSHuS7L-r4n-",
        "outputId": "ff5508c6-a517-439a-e2f9-b66bece1ad80"
      },
      "execution_count": 158,
      "outputs": [
        {
          "output_type": "execute_result",
          "data": {
            "text/plain": [
              "Document(page_content='# -*- coding: utf-8 -*-\\n\"\"\"pari_ddpm_conditional_test_2.ipynb\\n\\nAutomatically generated by Colab.\\n\\nOriginal file is located at\\n    https://colab.research.google.com/drive/1Q1u7dXf9i9FhGD6rvTnqLOG5kryefD33\\n\"\"\"\\n\\nimport torch\\nimport torch.nn as nn\\nimport torch.nn.functional as F\\n\\n\\nclass EMA:\\n    def __init__(self, beta):\\n        super().__init__()\\n        self.beta = beta\\n        self.step = 0\\n\\n    def update_model_average(self, ma_model, current_model):\\n        for current_params, ma_params in zip(current_model.parameters(), ma_model.parameters()):\\n            old_weight, up_weight = ma_params.data, current_params.data\\n            ma_params.data = self.update_average(old_weight, up_weight)\\n\\n    def update_average(self, old, new):\\n        if old is None:\\n            return new\\n        return old * self.beta + (1 - self.beta) * new', metadata={'source': '/content/drive/MyDrive/Data 255 HW/Assignment 12/pari_ddpm_conditional_test_2.py'})"
            ]
          },
          "metadata": {},
          "execution_count": 158
        }
      ]
    },
    {
      "cell_type": "code",
      "source": [
        "embeddings = OpenAIEmbeddings()\n",
        "vectorstore = FAISS.from_documents(texts, embeddings)"
      ],
      "metadata": {
        "id": "Hxz2DGmXr99W"
      },
      "execution_count": 159,
      "outputs": []
    },
    {
      "cell_type": "code",
      "source": [
        "vectorstore.similarity_search(\"Can you tell me about the code in this python file?\", k=3)"
      ],
      "metadata": {
        "colab": {
          "base_uri": "https://localhost:8080/"
        },
        "id": "ydlfR514siyO",
        "outputId": "99019a78-ddce-45ad-e74a-1fface1d2274"
      },
      "execution_count": 160,
      "outputs": [
        {
          "output_type": "execute_result",
          "data": {
            "text/plain": [
              "[Document(page_content='def launch():\\n    import argparse\\n    parser = argparse.ArgumentParser()\\n    run_name = \"DDPM_conditional\"\\n    epochs = 1\\n    batch_size = 4\\n    image_size = 64\\n    num_classes = 10\\n    dataset_path = \"/content/drive/MyDrive/cifar-64/train\"\\n    device = \"cuda\"\\n    lr = 3e-4\\n    save_path = \"/content/drive/MyDrive/ddpm_conditional\"\\n    train(run_name, device, num_classes, lr, image_size, batch_size, dataset_path, epochs, save_path)\\n\\nlaunch()', metadata={'source': '/content/drive/MyDrive/Data 255 HW/Assignment 12/pari_ddpm_conditional_test_2.py'}),\n",
              " Document(page_content='def forward(self, x, t, y):\\n        t = t.unsqueeze(-1).type(torch.float)\\n        t = self.pos_encoding(t, self.time_dim)\\n\\n        if y is not None:\\n            t += self.label_emb(y)\\n\\n        x1 = self.inc(x)\\n        x2 = self.down1(x1, t)\\n        x2 = self.sa1(x2)\\n        x3 = self.down2(x2, t)\\n        x3 = self.sa2(x3)\\n        x4 = self.down3(x3, t)\\n        x4 = self.sa3(x4)\\n\\n        x4 = self.bot1(x4)\\n        x4 = self.bot2(x4)\\n        x4 = self.bot3(x4)\\n\\n        x = self.up1(x4, x3, t)\\n        x = self.sa4(x)\\n        x = self.up2(x, x2, t)\\n        x = self.sa5(x)\\n        x = self.up3(x, x1, t)\\n        x = self.sa6(x)\\n        output = self.outc(x)\\n        return output\\n\\nimport os\\nimport torch\\nimport torchvision\\nfrom PIL import Image\\nfrom matplotlib import pyplot as plt\\nfrom torch.utils.data import DataLoader', metadata={'source': '/content/drive/MyDrive/Data 255 HW/Assignment 12/pari_ddpm_conditional_test_2.py'}),\n",
              " Document(page_content='launch()\\n\\nsave_path = \"/content/drive/MyDrive/ddpm_conditional\"\\ndevice = \"cuda\"\\nmodel = UNet_conditional(num_classes=10).to(device)\\nckpt = torch.load(\"/content/drive/MyDrive/ddpm_conditional/models/DDPM_conditional/ckpt.pt\")\\nmodel.load_state_dict(ckpt)\\ndiffusion = Diffusion(img_size=64, device=device)\\nn = 8\\ny = torch.Tensor([6] * n).long().to(device)\\nx = diffusion.sample(model, n, y, cfg_scale=0)\\nplot_images(x)', metadata={'source': '/content/drive/MyDrive/Data 255 HW/Assignment 12/pari_ddpm_conditional_test_2.py'})]"
            ]
          },
          "metadata": {},
          "execution_count": 160
        }
      ]
    },
    {
      "cell_type": "code",
      "source": [
        "def converse_using_source_knowledge(query):\n",
        "  results = vectorstore.similarity_search(query, k=3)\n",
        "  source_knowledge = \"\\n\".join([x.page_content for x in results])\n",
        "  augmented_prompt = f\"\"\"Using the contexts below, answer the query.\n",
        "\n",
        "  Contexts:\n",
        "  {source_knowledge}\n",
        "\n",
        "  Query: {query}\"\"\"\n",
        "\n",
        "  # create a new user prompt\n",
        "  prompt = HumanMessage(\n",
        "      content=augmented_prompt\n",
        "  )\n",
        "  # add to messages\n",
        "  messages.append(prompt)\n",
        "\n",
        "  # send to OpenAI\n",
        "  res = chat(messages)\n",
        "\n",
        "  # add latest AI response to messages\n",
        "  messages.append(res)\n",
        "\n",
        "  print(res.content)\n",
        "\n",
        "def converse_without_source_knowledge(query):\n",
        "  augmented_prompt = query\n",
        "\n",
        "  # create a new user prompt\n",
        "  prompt = HumanMessage(\n",
        "      content=augmented_prompt\n",
        "  )\n",
        "  # add to messages\n",
        "  messages.append(prompt)\n",
        "\n",
        "  # send to OpenAI\n",
        "  res = chat(messages)\n",
        "\n",
        "  # add latest AI response to messages\n",
        "  messages.append(res)\n",
        "\n",
        "  print(res.content)"
      ],
      "metadata": {
        "id": "g7JM1mNpu8UR"
      },
      "execution_count": 177,
      "outputs": []
    },
    {
      "cell_type": "code",
      "source": [
        "converse_using_source_knowledge(\"Can you tell me about the code in this python file?\")"
      ],
      "metadata": {
        "colab": {
          "base_uri": "https://localhost:8080/"
        },
        "id": "p0SomYohvaxB",
        "outputId": "6659d388-ceed-4c61-9756-5ddbd5b479d2"
      },
      "execution_count": 181,
      "outputs": [
        {
          "output_type": "stream",
          "name": "stdout",
          "text": [
            "The code is defining a function called \"launch\" which imports argparse and sets several parameters including the number of epochs, batch size, image size, number of classes, dataset path, device, learning rate and save path. The function then calls another function called \"train\" with the specified parameters. \n",
            "\n",
            "The code also defines a function called \"forward\" which takes in three parameters: x, t, and y. It then performs several operations on these parameters using various layers of a UNet model and returns an output.\n",
            "\n",
            "The code imports various libraries including os, torch, torchvision, PIL, and matplotlib. It also loads a saved checkpoint of a trained UNet model and uses it to generate images using diffusion sampling.\n"
          ]
        }
      ]
    },
    {
      "cell_type": "code",
      "source": [
        "converse_using_source_knowledge(\"Which dataset is used in this code?\")"
      ],
      "metadata": {
        "colab": {
          "base_uri": "https://localhost:8080/"
        },
        "id": "lFfNMCl_vsgf",
        "outputId": "d6c2e79b-860c-47ed-c0ae-f81c7193416f"
      },
      "execution_count": 182,
      "outputs": [
        {
          "output_type": "stream",
          "name": "stdout",
          "text": [
            "The dataset used in this code is located at \"/content/drive/MyDrive/cifar-64/train\". However, the exact name of the dataset is not specified in the provided code.\n"
          ]
        }
      ]
    },
    {
      "cell_type": "code",
      "source": [
        "converse_using_source_knowledge(\"Does this code run on CPU?\")"
      ],
      "metadata": {
        "colab": {
          "base_uri": "https://localhost:8080/"
        },
        "id": "dAOvP7iFvxK7",
        "outputId": "8d774737-ebce-40c4-ca28-1e075d6bd70f"
      },
      "execution_count": 183,
      "outputs": [
        {
          "output_type": "stream",
          "name": "stdout",
          "text": [
            "No, this code is designed to run on the GPU using \"cuda\".\n"
          ]
        }
      ]
    },
    {
      "cell_type": "code",
      "source": [
        "converse_without_source_knowledge(\"Summarize our conversation\")"
      ],
      "metadata": {
        "colab": {
          "base_uri": "https://localhost:8080/"
        },
        "id": "0WyDHVmsv3in",
        "outputId": "2f58ef97-8b3e-4cd0-b83e-6b5dd8963ba7"
      },
      "execution_count": 184,
      "outputs": [
        {
          "output_type": "stream",
          "name": "stdout",
          "text": [
            "Sure! \n",
            "\n",
            "In our conversation, you asked me several questions about a provided code, which included functions for launching a model, training it on a dataset, generating images using diffusion sampling, and defining a forward function for the model. \n",
            "\n",
            "You asked about the dataset used in the code, but it was not clearly specified in the provided code. You also asked whether the code runs on CPU or GPU, and I confirmed that it is designed to run on the GPU using \"cuda\". \n",
            "\n",
            "I hope my answers were helpful to you!\n"
          ]
        }
      ]
    },
    {
      "cell_type": "code",
      "source": [
        "for message in messages:\n",
        "  print(\"**************************\")\n",
        "  print(message)"
      ],
      "metadata": {
        "id": "Q1oc7wifw3cg",
        "colab": {
          "base_uri": "https://localhost:8080/"
        },
        "outputId": "ba06e2ef-5d5b-4c78-8071-1e01c3a720f7"
      },
      "execution_count": 185,
      "outputs": [
        {
          "output_type": "stream",
          "name": "stdout",
          "text": [
            "**************************\n",
            "content='You are a helpful assistant who helps understand code.'\n",
            "**************************\n",
            "content='Great! How can I assist you today?'\n",
            "**************************\n",
            "content='Using the contexts below, answer the query.\\n\\n  Contexts:\\n  def launch():\\n    import argparse\\n    parser = argparse.ArgumentParser()\\n    run_name = \"DDPM_conditional\"\\n    epochs = 1\\n    batch_size = 4\\n    image_size = 64\\n    num_classes = 10\\n    dataset_path = \"/content/drive/MyDrive/cifar-64/train\"\\n    device = \"cuda\"\\n    lr = 3e-4\\n    save_path = \"/content/drive/MyDrive/ddpm_conditional\"\\n    train(run_name, device, num_classes, lr, image_size, batch_size, dataset_path, epochs, save_path)\\n\\nlaunch()\\ndef forward(self, x, t, y):\\n        t = t.unsqueeze(-1).type(torch.float)\\n        t = self.pos_encoding(t, self.time_dim)\\n\\n        if y is not None:\\n            t += self.label_emb(y)\\n\\n        x1 = self.inc(x)\\n        x2 = self.down1(x1, t)\\n        x2 = self.sa1(x2)\\n        x3 = self.down2(x2, t)\\n        x3 = self.sa2(x3)\\n        x4 = self.down3(x3, t)\\n        x4 = self.sa3(x4)\\n\\n        x4 = self.bot1(x4)\\n        x4 = self.bot2(x4)\\n        x4 = self.bot3(x4)\\n\\n        x = self.up1(x4, x3, t)\\n        x = self.sa4(x)\\n        x = self.up2(x, x2, t)\\n        x = self.sa5(x)\\n        x = self.up3(x, x1, t)\\n        x = self.sa6(x)\\n        output = self.outc(x)\\n        return output\\n\\nimport os\\nimport torch\\nimport torchvision\\nfrom PIL import Image\\nfrom matplotlib import pyplot as plt\\nfrom torch.utils.data import DataLoader\\nlaunch()\\n\\nsave_path = \"/content/drive/MyDrive/ddpm_conditional\"\\ndevice = \"cuda\"\\nmodel = UNet_conditional(num_classes=10).to(device)\\nckpt = torch.load(\"/content/drive/MyDrive/ddpm_conditional/models/DDPM_conditional/ckpt.pt\")\\nmodel.load_state_dict(ckpt)\\ndiffusion = Diffusion(img_size=64, device=device)\\nn = 8\\ny = torch.Tensor([6] * n).long().to(device)\\nx = diffusion.sample(model, n, y, cfg_scale=0)\\nplot_images(x)\\n\\n  Query: Can you tell me about the code in this python file?'\n",
            "**************************\n",
            "content='The code is defining a function called \"launch\" which imports argparse and sets several parameters including the number of epochs, batch size, image size, number of classes, dataset path, device, learning rate and save path. The function then calls another function called \"train\" with the specified parameters. \\n\\nThe code also defines a function called \"forward\" which takes in three parameters: x, t, and y. It then performs several operations on these parameters using various layers of a UNet model and returns an output.\\n\\nThe code imports various libraries including os, torch, torchvision, PIL, and matplotlib. It also loads a saved checkpoint of a trained UNet model and uses it to generate images using diffusion sampling.'\n",
            "**************************\n",
            "content='Using the contexts below, answer the query.\\n\\n  Contexts:\\n  def launch():\\n    import argparse\\n    parser = argparse.ArgumentParser()\\n    run_name = \"DDPM_conditional\"\\n    epochs = 1\\n    batch_size = 4\\n    image_size = 64\\n    num_classes = 10\\n    dataset_path = \"/content/drive/MyDrive/cifar-64/train\"\\n    device = \"cuda\"\\n    lr = 3e-4\\n    save_path = \"/content/drive/MyDrive/ddpm_conditional\"\\n    train(run_name, device, num_classes, lr, image_size, batch_size, dataset_path, epochs, save_path)\\n\\nlaunch()\\ndef train(run_name, device, num_classes, lr, image_size, batch_size, dataset_path, epochs, save_path):\\n    setup_logging(run_name, save_path)\\n    device = device\\n    dataloader = get_data(dataset_path, batch_size, image_size)\\n    model = UNet_conditional(num_classes=num_classes).to(device)\\n    optimizer = optim.AdamW(model.parameters(), lr=lr)\\n    mse = nn.MSELoss()\\n    diffusion = Diffusion(img_size=image_size, device=device)\\n    logger = SummaryWriter(os.path.join(\"runs\", run_name))\\n    l = len(dataloader)\\n    ema = EMA(0.995)\\n    ema_model = copy.deepcopy(model).eval().requires_grad_(False)\\nlaunch()\\n\\nsave_path = \"/content/drive/MyDrive/ddpm_conditional\"\\ndevice = \"cuda\"\\nmodel = UNet_conditional(num_classes=10).to(device)\\nckpt = torch.load(\"/content/drive/MyDrive/ddpm_conditional/models/DDPM_conditional/ckpt.pt\")\\nmodel.load_state_dict(ckpt)\\ndiffusion = Diffusion(img_size=64, device=device)\\nn = 8\\ny = torch.Tensor([6] * n).long().to(device)\\nx = diffusion.sample(model, n, y, cfg_scale=0)\\nplot_images(x)\\n\\n  Query: Which dataset is used in this code?'\n",
            "**************************\n",
            "content='The dataset used in this code is located at \"/content/drive/MyDrive/cifar-64/train\". However, the exact name of the dataset is not specified in the provided code.'\n",
            "**************************\n",
            "content='Using the contexts below, answer the query.\\n\\n  Contexts:\\n  def launch():\\n    import argparse\\n    parser = argparse.ArgumentParser()\\n    run_name = \"DDPM_conditional\"\\n    epochs = 1\\n    batch_size = 4\\n    image_size = 64\\n    num_classes = 10\\n    dataset_path = \"/content/drive/MyDrive/cifar-64/train\"\\n    device = \"cuda\"\\n    lr = 3e-4\\n    save_path = \"/content/drive/MyDrive/ddpm_conditional\"\\n    train(run_name, device, num_classes, lr, image_size, batch_size, dataset_path, epochs, save_path)\\n\\nlaunch()\\nlaunch()\\n\\nsave_path = \"/content/drive/MyDrive/ddpm_conditional\"\\ndevice = \"cuda\"\\nmodel = UNet_conditional(num_classes=10).to(device)\\nckpt = torch.load(\"/content/drive/MyDrive/ddpm_conditional/models/DDPM_conditional/ckpt.pt\")\\nmodel.load_state_dict(ckpt)\\ndiffusion = Diffusion(img_size=64, device=device)\\nn = 8\\ny = torch.Tensor([6] * n).long().to(device)\\nx = diffusion.sample(model, n, y, cfg_scale=0)\\nplot_images(x)\\ndef forward(self, x, t, y):\\n        t = t.unsqueeze(-1).type(torch.float)\\n        t = self.pos_encoding(t, self.time_dim)\\n\\n        if y is not None:\\n            t += self.label_emb(y)\\n\\n        x1 = self.inc(x)\\n        x2 = self.down1(x1, t)\\n        x2 = self.sa1(x2)\\n        x3 = self.down2(x2, t)\\n        x3 = self.sa2(x3)\\n        x4 = self.down3(x3, t)\\n        x4 = self.sa3(x4)\\n\\n        x4 = self.bot1(x4)\\n        x4 = self.bot2(x4)\\n        x4 = self.bot3(x4)\\n\\n        x = self.up1(x4, x3, t)\\n        x = self.sa4(x)\\n        x = self.up2(x, x2, t)\\n        x = self.sa5(x)\\n        x = self.up3(x, x1, t)\\n        x = self.sa6(x)\\n        output = self.outc(x)\\n        return output\\n\\nimport os\\nimport torch\\nimport torchvision\\nfrom PIL import Image\\nfrom matplotlib import pyplot as plt\\nfrom torch.utils.data import DataLoader\\n\\n  Query: Does this code run on CPU?'\n",
            "**************************\n",
            "content='No, this code is designed to run on the GPU using \"cuda\".'\n",
            "**************************\n",
            "content='Summarize our conversation'\n",
            "**************************\n",
            "content='Sure! \\n\\nIn our conversation, you asked me several questions about a provided code, which included functions for launching a model, training it on a dataset, generating images using diffusion sampling, and defining a forward function for the model. \\n\\nYou asked about the dataset used in the code, but it was not clearly specified in the provided code. You also asked whether the code runs on CPU or GPU, and I confirmed that it is designed to run on the GPU using \"cuda\". \\n\\nI hope my answers were helpful to you!'\n"
          ]
        }
      ]
    },
    {
      "cell_type": "markdown",
      "source": [
        "## Part B: Write a chatbot prompt to iteratively create a sequence of chats on one particular custom data.\n",
        "\n",
        "The chatbot should be able to answer the questions based on the text data or multiple documents.\n",
        "\n",
        "The chatbot should save the conversation in the memory.\n",
        "\n",
        "Summarize the chats at the end of the conversation."
      ],
      "metadata": {
        "id": "AtIxDYqxx4U2"
      }
    },
    {
      "cell_type": "code",
      "source": [
        "from datasets import load_dataset\n",
        "\n",
        "dataset = load_dataset(\n",
        "    \"RaiBP/openwebtext2-first-30-chunks-translation-examples\",\n",
        "    split=\"train\"\n",
        ")"
      ],
      "metadata": {
        "colab": {
          "base_uri": "https://localhost:8080/",
          "height": 201,
          "referenced_widgets": [
            "c79539281a5847deaffd97b0aaff089a",
            "7470d17f09ec43e98ba2bc691eb3da4a",
            "e00dce9b92264e51aa30a8a8fbc8d459",
            "002739a316284cb499e02c63c29f8011",
            "23058834ce8e48198da5935878171cf8",
            "d8cc07a38f464781a81f0bd564eafa00",
            "7849419cea31464dab149e422ab4d296",
            "96d7bc6280c149eaab2a31ff453cbcea",
            "a65d18d899734a6aa77e2b223c649f6f",
            "34112b34ec474d26a56d315aca236ddb",
            "52d35ee5ee4049cebd410d152027a1cc",
            "0a41ad41640e4995a2fda7ef453c452b",
            "08ea6dba579a422fba08b9c0635cc192",
            "726b3c8f8d9e4643b8fb53b16372a085",
            "81b52f175e5f4d4499a1a7667a42a587",
            "0a56ae3fc5824be48a8c758c1e4f7204",
            "1270709567434bd4a7d0d95481845c07",
            "20ce53a83edd47129aac7f6e68bf61da",
            "046be23d06a945dfb9872ec9909bb05b",
            "33d003d73cb14fdd8945a13ed337d78c",
            "5a061a3a9c6648e48903fba7195888ad",
            "efbe92456ea64ed79a0454556b73aa3b",
            "80ac422a2afa4b1aab608bd4510c0c62",
            "2200b7a0a1884a40a42de78917d81cf2",
            "eeddcfc31fbf49aeb17b603adeb1d547",
            "eadee63120b044d2ac7a004d72a79141",
            "ff672f4324634753bbdfbcecedb3918b",
            "2081d051ca3941aeac6b7e485831c068",
            "ce2dbe8963684c02910792fae65967c7",
            "e4baf575f04f4780b95ec0b2a9cea4f2",
            "7c10e36fa5c54d738d7ac03abbdd076e",
            "2466b03e13bd4d7697c76a40e3204099",
            "4a3a921bfbd041fd8e889296b48dfc95",
            "29329e4cde9c4f3ea39ebf1fe7185794",
            "7003ec8acb4e469fb14e9c61172bb5af",
            "fd292b1d9b394e6fafc530c30a0f7a09",
            "dc69dea3568146e6a32b576474e0e882",
            "eb28944363604df08b5eb92bb56fa3fa",
            "62f8825c6bb240e183cf4a117038e480",
            "a52acbc23f904a45b9910eef3c2724be",
            "70d14ce9cc574421b0d6551a7990fdc0",
            "a550981eacdf43b891f9f3e6d55d7bec",
            "035d1cb727be4edf88488de3f32faa2d",
            "5d803d5224c5420da5e0a6310c4bb372",
            "a9ff22269d6445f2ad3878c2214eb579",
            "00fc8f9b81e5435497d6ae68a56e3e9e",
            "da02ce6f1c2541c4832ed171de4fd182",
            "a8728396da85498785318b9188f6cfd3",
            "8956c6db778c4a1bbf3f9ee26520993d",
            "58d8adca050d44338705e9405ca7e1a0",
            "eeab30cf052449b4b841e6978c3c43cf",
            "f45ab608c6904a74a909832468d76cf0",
            "f9c61f6324ec419493953b8b9974d972",
            "a516aa1a4521420c8f5fef31fd1f705e",
            "547e2c48925445348f077f1cd20b4577"
          ]
        },
        "id": "G78DfLwsw3Xp",
        "outputId": "82012e5b-2b43-4f0f-bcf4-fce54239b54d"
      },
      "execution_count": 63,
      "outputs": [
        {
          "output_type": "display_data",
          "data": {
            "text/plain": [
              "Downloading readme:   0%|          | 0.00/320 [00:00<?, ?B/s]"
            ],
            "application/vnd.jupyter.widget-view+json": {
              "version_major": 2,
              "version_minor": 0,
              "model_id": "c79539281a5847deaffd97b0aaff089a"
            }
          },
          "metadata": {}
        },
        {
          "output_type": "stream",
          "name": "stdout",
          "text": [
            "Downloading and preparing dataset None/None to /root/.cache/huggingface/datasets/RaiBP___parquet/RaiBP--openwebtext2-first-30-chunks-translation-examples-fd5d48c8a573b892/0.0.0/2a3b91fbd88a2c90d1dbbb32b460cf621d31bd5b05b934492fdef7d8d6f236ec...\n"
          ]
        },
        {
          "output_type": "display_data",
          "data": {
            "text/plain": [
              "Downloading data files:   0%|          | 0/1 [00:00<?, ?it/s]"
            ],
            "application/vnd.jupyter.widget-view+json": {
              "version_major": 2,
              "version_minor": 0,
              "model_id": "0a41ad41640e4995a2fda7ef453c452b"
            }
          },
          "metadata": {}
        },
        {
          "output_type": "display_data",
          "data": {
            "text/plain": [
              "Downloading data:   0%|          | 0.00/13.3M [00:00<?, ?B/s]"
            ],
            "application/vnd.jupyter.widget-view+json": {
              "version_major": 2,
              "version_minor": 0,
              "model_id": "80ac422a2afa4b1aab608bd4510c0c62"
            }
          },
          "metadata": {}
        },
        {
          "output_type": "display_data",
          "data": {
            "text/plain": [
              "Extracting data files:   0%|          | 0/1 [00:00<?, ?it/s]"
            ],
            "application/vnd.jupyter.widget-view+json": {
              "version_major": 2,
              "version_minor": 0,
              "model_id": "29329e4cde9c4f3ea39ebf1fe7185794"
            }
          },
          "metadata": {}
        },
        {
          "output_type": "display_data",
          "data": {
            "text/plain": [
              "Generating train split:   0%|          | 0/6521 [00:00<?, ? examples/s]"
            ],
            "application/vnd.jupyter.widget-view+json": {
              "version_major": 2,
              "version_minor": 0,
              "model_id": "a9ff22269d6445f2ad3878c2214eb579"
            }
          },
          "metadata": {}
        },
        {
          "output_type": "stream",
          "name": "stdout",
          "text": [
            "Dataset parquet downloaded and prepared to /root/.cache/huggingface/datasets/RaiBP___parquet/RaiBP--openwebtext2-first-30-chunks-translation-examples-fd5d48c8a573b892/0.0.0/2a3b91fbd88a2c90d1dbbb32b460cf621d31bd5b05b934492fdef7d8d6f236ec. Subsequent calls will reuse this data.\n"
          ]
        }
      ]
    },
    {
      "cell_type": "code",
      "source": [
        "dataset[0]"
      ],
      "metadata": {
        "id": "uAeDjLr3w3TM",
        "colab": {
          "base_uri": "https://localhost:8080/"
        },
        "outputId": "d81d78f6-4fa3-48ae-c8ab-96c37db00400"
      },
      "execution_count": 64,
      "outputs": [
        {
          "output_type": "execute_result",
          "data": {
            "text/plain": [
              "{'text': 'Today was the opening of an info centre in the jungle – a collaboration between CMS, help Calais and the Hummingbird Project.\\n\\nThe space has been set up to share information on things from asylum in the UK and elsewhere, to goings on in the jungle, to information on the history of struggle in Calais, to issues that go beyond Calais that affect travellers (such as deportations and mass arrests). It’s also a space where people living in the jungle and other groups can share information. On the weekends the space will also be used as a clinic. Already in day one there were numerous people dropping in.\\n\\n[Its worth saying that this is not a space where people can give advice. We just share information.\\n\\nAlso, If you want to make an info-based project in the jungle, this might be a space you can use].\\n\\n—————————————————————————————\\n\\nAujourd’hui était le jour d’ouverture du centre d’information à la Jungle- une collaboration entre CMS et help Calais et Hummingbird Project.\\n\\nL’espace a été monté afin de partager les infos concernant l’asile au Royaume-Uni et ailleurs, en passant par ce qui se passe dans la jungle ou encore l’historique de la lutte à Calais, ou bien des problèmes plus larges qui affectent les voyageurs (comme les déportations ou les arrestations de masse). Il s’agit aussi d’un endroit où les gens habitants dans la jungle et d’autres groupes peuvent partager l’info. Les weekends, l’espace pourra aussi etre utilisé comme une clinique.\\n\\nDéjà pour le premier jour de nombreuses personnes se sont trouvées ici.\\n\\n[Ca vaut le coup de rappeler qu’il ne s’agit pas d’un lieu pour donner des conseils. Nous partageons juste l’info. Aussi si vous avez un projet de transmettre de l’info dans la jungle vous pouvez utiliser cet espace].',\n",
              " 'id': 0}"
            ]
          },
          "metadata": {},
          "execution_count": 64
        }
      ]
    },
    {
      "cell_type": "code",
      "source": [
        "from pinecone import Pinecone\n",
        "\n",
        "# initialize connection to pinecone (get API key at app.pinecone.io)\n",
        "api_key = os.getenv(\"PINECONE_API_KEY\")\n",
        "# configure client\n",
        "pc = Pinecone(api_key=api_key)"
      ],
      "metadata": {
        "id": "0HFZvXigiWoZ"
      },
      "execution_count": 73,
      "outputs": []
    },
    {
      "cell_type": "code",
      "source": [
        "from pinecone import ServerlessSpec\n",
        "\n",
        "spec = ServerlessSpec(\n",
        "    cloud=\"aws\", region=\"us-east-1\"\n",
        ")"
      ],
      "metadata": {
        "id": "1VIkL6RYiWla"
      },
      "execution_count": 74,
      "outputs": []
    },
    {
      "cell_type": "code",
      "source": [
        "import time\n",
        "\n",
        "index_name = 'openwebtext2-rag'\n",
        "existing_indexes = [\n",
        "    index_info[\"name\"] for index_info in pc.list_indexes()\n",
        "]\n",
        "\n",
        "# check if index already exists (it shouldn't if this is first time)\n",
        "if index_name not in existing_indexes:\n",
        "    # if does not exist, create index\n",
        "    pc.create_index(\n",
        "        index_name,\n",
        "        dimension=1536,  # dimensionality of ada 002\n",
        "        metric='dotproduct',\n",
        "        spec=spec\n",
        "    )\n",
        "    # wait for index to be initialized\n",
        "    while not pc.describe_index(index_name).status['ready']:\n",
        "        time.sleep(1)\n",
        "\n",
        "# connect to index\n",
        "index = pc.Index(index_name)\n",
        "time.sleep(1)\n",
        "# view index stats\n",
        "index.describe_index_stats()"
      ],
      "metadata": {
        "colab": {
          "base_uri": "https://localhost:8080/"
        },
        "id": "VJZvHn5qiWi5",
        "outputId": "9796e135-2a22-41e5-e3be-56a3ef3fd1c9"
      },
      "execution_count": 77,
      "outputs": [
        {
          "output_type": "execute_result",
          "data": {
            "text/plain": [
              "{'dimension': 1536,\n",
              " 'index_fullness': 0.0,\n",
              " 'namespaces': {},\n",
              " 'total_vector_count': 0}"
            ]
          },
          "metadata": {},
          "execution_count": 77
        }
      ]
    },
    {
      "cell_type": "code",
      "source": [
        "from langchain.embeddings.openai import OpenAIEmbeddings\n",
        "\n",
        "embed_model = OpenAIEmbeddings(model=\"text-embedding-ada-002\")"
      ],
      "metadata": {
        "colab": {
          "base_uri": "https://localhost:8080/"
        },
        "id": "RDUxoLRzjBur",
        "outputId": "e5ef78c8-e988-4481-eb0b-0fb246feb20c"
      },
      "execution_count": 78,
      "outputs": [
        {
          "output_type": "stream",
          "name": "stderr",
          "text": [
            "/usr/local/lib/python3.10/dist-packages/langchain_core/_api/deprecation.py:117: LangChainDeprecationWarning: The class `langchain_community.embeddings.openai.OpenAIEmbeddings` was deprecated in langchain-community 0.1.0 and will be removed in 0.2.0. An updated version of the class exists in the langchain-openai package and should be used instead. To use it run `pip install -U langchain-openai` and import as `from langchain_openai import OpenAIEmbeddings`.\n",
            "  warn_deprecated(\n"
          ]
        }
      ]
    },
    {
      "cell_type": "code",
      "source": [
        "from tqdm.auto import tqdm  # for progress bar\n",
        "\n",
        "data = dataset.to_pandas()  # this makes it easier to iterate over the dataset\n",
        "\n",
        "batch_size = 100\n",
        "\n",
        "for i in tqdm(range(0, len(data), batch_size)):\n",
        "    i_end = min(len(data), i+batch_size)\n",
        "    # get batch of data\n",
        "    batch = data.iloc[i:i_end]\n",
        "    # generate unique ids for each chunk\n",
        "    ids = [f\"{x['id']}\" for i, x in batch.iterrows()]\n",
        "    # get text to embed\n",
        "    texts = [x['text'] for _, x in batch.iterrows()]\n",
        "    # embed text\n",
        "    embeds = embed_model.embed_documents(texts)\n",
        "    # get metadata to store in Pinecone\n",
        "    metadata = [\n",
        "        {'text': x['text']} for i, x in batch.iterrows()\n",
        "    ]\n",
        "    # add to Pinecone\n",
        "    index.upsert(vectors=zip(ids, embeds, metadata))"
      ],
      "metadata": {
        "colab": {
          "base_uri": "https://localhost:8080/",
          "height": 49,
          "referenced_widgets": [
            "eaecce83a3e44c87a1f46f69035d4fee",
            "ddf6878ddc5041039b0b410040ea23da",
            "07ca423acb844d0e87bfbb5c6c449527",
            "4f09d76881cb471d98f7ca0ae7fc43ef",
            "79569276a2e547bd95b2c996fa100976",
            "0a0f9919d5d947a2acc34a1d5b5234f1",
            "dd754387e0074cbcaaf47cf68ede4604",
            "1ae4b4ee5b52446ba3f455c6cea2eef1",
            "9ae6e7b4e39e4312a7556a007e504d06",
            "e89fc1b8791e4231a9aeb2438fdfc969",
            "f938ba3301b54cda9df4cd4bb2f5b271"
          ]
        },
        "id": "Ve6KuyqFjBsT",
        "outputId": "7f994b0d-d262-446d-fa68-496a53b5962e"
      },
      "execution_count": 81,
      "outputs": [
        {
          "output_type": "display_data",
          "data": {
            "text/plain": [
              "  0%|          | 0/66 [00:00<?, ?it/s]"
            ],
            "application/vnd.jupyter.widget-view+json": {
              "version_major": 2,
              "version_minor": 0,
              "model_id": "eaecce83a3e44c87a1f46f69035d4fee"
            }
          },
          "metadata": {}
        }
      ]
    },
    {
      "cell_type": "code",
      "source": [
        "index.describe_index_stats()"
      ],
      "metadata": {
        "colab": {
          "base_uri": "https://localhost:8080/"
        },
        "id": "wbRrkstIjBp7",
        "outputId": "6dadbab0-ff54-4df1-f3b5-0e63b5561168"
      },
      "execution_count": 82,
      "outputs": [
        {
          "output_type": "execute_result",
          "data": {
            "text/plain": [
              "{'dimension': 1536,\n",
              " 'index_fullness': 0.0,\n",
              " 'namespaces': {'': {'vector_count': 6521}},\n",
              " 'total_vector_count': 6521}"
            ]
          },
          "metadata": {},
          "execution_count": 82
        }
      ]
    },
    {
      "cell_type": "code",
      "source": [
        "from langchain.vectorstores import Pinecone\n",
        "\n",
        "text_field = \"text\"  # the metadata field that contains our text\n",
        "\n",
        "# initialize the vector store object\n",
        "vectorstore = Pinecone(\n",
        "    index, embed_model.embed_query, text_field\n",
        ")"
      ],
      "metadata": {
        "colab": {
          "base_uri": "https://localhost:8080/"
        },
        "id": "W_iPTYEdkSCd",
        "outputId": "41dcc8d2-b733-4fc7-8219-1d319f2a1e77"
      },
      "execution_count": 84,
      "outputs": [
        {
          "output_type": "stream",
          "name": "stderr",
          "text": [
            "/usr/local/lib/python3.10/dist-packages/langchain_community/vectorstores/pinecone.py:68: UserWarning: Passing in `embedding` as a Callable is deprecated. Please pass in an Embeddings object instead.\n",
            "  warnings.warn(\n"
          ]
        }
      ]
    },
    {
      "cell_type": "code",
      "source": [
        "query = \"What does the Global Pact for Refugees approved by UN contain?\"\n",
        "\n",
        "vectorstore.similarity_search(query, k=3)"
      ],
      "metadata": {
        "colab": {
          "base_uri": "https://localhost:8080/"
        },
        "id": "TnJuXei0jBnT",
        "outputId": "00c23fac-72e8-454c-c9bf-03ba945d763e"
      },
      "execution_count": 104,
      "outputs": [
        {
          "output_type": "execute_result",
          "data": {
            "text/plain": [
              "[Document(page_content='United Nations (@TRT)\\n\\nOn December 17th, the General Assembly of the United Nations (UN) approved the Global Pact for Refugees. This victory for human rights and international cooperation comes one week after the General Assembly approved the Global Pact on Migration.\\n\\n181 countries signed the pact that outlines steps that the international community will take to guarantee the welfare of refugees. Three countries abstained, and the United States and Hungary voted against it. The United States had previously stated that, although it agreed with most of the Covenant, it did not want to accept a limitation on the detention of asylum seekers.\\n\\nThe Pact will try to give more support to the countries that host refugees, and when possible, help refugees to return to their countries of origin. It also calls for promoting the independence of refugees. To improve infrastructure and services to refugees, the pact will try to encourage more investment from governments and private sources.\\n\\nAlthough the Covenant is not binding, it represents a possibility of progress for the international community. Currently there are more than 25 million refugees in the world, representing only a part of the 68 million people who have been forced to flee their homes because of violence. Under international law, to be considered a refugee, you have to cross an international border.\\n\\nThe Pact on Refugees received more votes in its favor than the Global Pact on Migration (which was supported by 164 countries). In general, the rights of refugees have been clearer and therefore more protected than those of migrants.\\n\\nFor more information in Spanish:\\n\\nAsamblea de la ONU avala el Pacto Mundial sobre Refugiados (La Jornada, 18 de diciembre de 201).\\n\\nAsamblea de la ONU aprueba pacto mundial sobre refugiados (Telesur, 18 de diciembre de 2018).\\n\\nONU: Asamblea General adopta el Pacto Mundial sobre Refugiados (Kausa Justa, 17 de diciembre de 2018).\\n\\nFor more information from SIPAZ:\\n\\nNational/International: 164 Countries Approve UN Global Migration Pact (January 2nd, 2019)\\n\\nNational/International: World Network of Mothers of Disappeared Migrants Formed in Mexico (November 12th, 2018)\\n\\nNational/Chiapas/Oaxaca/Tabasco: Founding of the Collective of Defenders of Migrants and Refugees (CODEMIRE) (April 23rd, 2015)'),\n",
              " Document(page_content=\"Migrants are receiving prepaid bank cards backed by the United Nations Refugee Agency (UNHCR), according to reports.\\n\\nClues to answering questions about how some migrants sustain themselves during lengthy journeys from their homelands to their destinations have been unearthed by Slovenian outlet Nova24.\\n\\n“Social network users have warned us that illegal immigrants are financing their lifestyle while waiting in Bosnia and Herzegovina to continue their journey towards Western Europe, with the help of bank cards of the Mastercard brand bearing logos of the European Union and United Nations Refugee Agency,” Nova24 reports.\\n\\nNova24 cites an anonymous Croatian police officer who recently divulged that some migrants carry Mastercards that bear no names.\\n\\n“The migrants we catch and return back in a few days or weeks are again trying to break into Croatia,” the officer said. “Some of them are really poor, but many are well-equipped: they have new footwear, new clothes, sophisticated smartphones, weapons, and some have also been found with Mastercard bank cards without name, they are just numbers. They withdraw money at ATMs, but we do not know who pays them.”\\n\\nMastercard announced in 2016 that they were issuing prepaid debit cards to “provide refugees with mobility, flexibility and dignity.”\\n\\nAdditionally, Mastercard issued a press release in 2017 publicizing the launch of a partnership program with George Soros called “Humanity Ventures,” which aimed to “catalyze and accelerate economic and social development for vulnerable communities around the world, especially refugees and migrants.”\\n\\n“George Soros announced that he is earmarking up to $500 million for private investments that will improve capacity to address the challenges that migrants, including refugees, and their host communities face around the world. Humanity Ventures would be part of that initiative,” Mastercard revealed in the release.\\n\\n“Mastercard delivers innovative payments, data, and identity solutions which empower the underserved all over the world. These tools improve the lives of refugees and migrants by forging better economic and social ties with local populations.”\\n\\nTV director Ninoslav Vucetic recently shared an image of a Mastercard bearing the logos of the EU and UNHCR in a tweet directed at a Montenegran government official.\\n\\n@NebojsaMedojevi BANČNE KARTICE so tudi dokaz, kako EU uničuje Europsko kulturo.!? Vabi jih z denarjem, da povzročajo nasilje.??\\n\\nKDO migrantom daje takšne bančne kartice za dvigovanje denarnih sredstev, brez imena in priimka? 'MALJEVAC pic.twitter.com/EGNhHyHP4K — Ninoslav Vucetic (@NinoslavVucetic) October 30, 2018\\n\\n“Bank cards are also evidence of how the EU is destroying European culture?” Vucetic wrote. “Inviting them with money to cause violence? Who gives migrants such a bank card in order to access cash, without the first and last names?”\\n\\nThe image shared by Vucetic also appears in various reports from the UNHCR detailing how they are providing aid to migrants in Greece.\\n\\nHungarian officials are now warning that roughly 70,000 migrants have gathered in the Balkans, where they are preparing to force their way onward into Western Europe via the “Soros Express.”\\n\\n(PHOTO: S3studio / Contributor / Getty Images)\"),\n",
              " Document(page_content='WASHINGTON—The United States Secretary of State, Michael Pompeo,announced yesterday that the Administration will set the PresidentialDetermination, the level of refugees allowed into the United States, at 30,000refugees for 2019. This is the lowestnumber set in the history of the U.S. refugee admissions program which was formallycreated in 1980.\\n\\nMost Reverend Joe S. Vásquez, Bishop of Austin, Texas, Chair of the ofthe U.S. Conference of Catholic Bishops\\' Committee on Migration, issued thefollowing statement:\\n\\n\"The announcement of the Presidential Determination is deeplydisturbing and leaves many human lives in danger. To cut off protection formany who are fleeing persecution, at a time of unprecedented globalhumanitarian need, contradicts who we are as a nation. Offering refuge to thosefleeing violence, torture, or religious persecution is a cornerstone of ourhistory. We as a country are blessed with vast resources making us capable ofsecurely welcoming those fleeing harm. Closing our doors on those seeking suchsafety is not who we are as a people. In the coming days, we pray that Congresswill have the opportunity to engage in the formal consultation process with theAdministration that is required by law. During this mandatory consultationprocess, Congress should strongly urge the Administration to return to arefugee admission level that reflects local community response and support ofrefugees, global refugee protection needs, and our long history ofcompassionately welcoming refugees.\"\\n\\n---\\n\\nKeywords:U.S. Conference of Catholic Bishops, USCCB, Bishop Joe S. Vásquez, Committee onMigration, Presidential Determination, Administration, Congress, global refugeeprotection, Diocese of Austin, refugees, migration, humanitarian need,community response\\n\\n###\\n\\n\\n\\nMedia Contact:\\n\\nJudy Keane\\n\\n202-541-3200\\n\\nWASHINGTON— ElSecretario de Estado de Estados Unidos, Michael Pompeo, anunció ayer que laAdministración va a fijar la Determinación Presidencial, el número derefugiados permitidos en Estados Unidos, en 30.000 para el 2019. Éste es elnúmero más bajo en la historia del programa de admisiones de refugiados, quefue formalmente creado en 1980.\\n\\nEl ReverendísimoJoe S. Vásquez, Obispo de Austin, Texas, y Presidente del Comité de Migraciónde la Conferencia de Obispos Católicos de Estados Unidos emitió el siguientecomunicado:\\n\\n\"El anunciode la Determinación Presidencial es profundamente inquietante y deja muchasvidas humanas en peligro. Cortar la protección para muchos que huyen de lapersecución, en un momento sin precedentes de necesidad humanitaria mundial,contradice lo que somos nosotros como nación. Ofrecer refugio a aquellos quehuyen de la violencia, la tortura y la persecución religiosa es una piedraangular de nuestra historia. Como país hemos sido bendecidos con abundantesrecursos, lo que nos ha hecho capaces de dar la bienvenida a aquellos que huyen.Cerrar nuestras puertas a quienes buscan tal seguridad no es lo que somos comopueblo. En los próximos días, oramos para que el Congreso tenga la oportunidadde participar en el proceso de consulta formal con la Administración que exigela ley. Durante este proceso obligatorio de consulta, el Congreso debería urgirfirmemente a la Administración a retornar al nivel de admisiones de refugiadosque es consistente con la respuesta y respaldo de la comunidad local a los refugiados,las necesidades de protección global de refugiados y una larga historia derecibir compasivamente a los refugiados\".\\n\\n---\\n\\nPalabras clave: Conferenciade Obispos Católicos de Estados Unidos, USCCB, Obispo J. Vásquez, Comité deMigración, Determinación Presidencial, Administración, Congreso, protecciónglobal a los refugiados, Diócesis de Austin')]"
            ]
          },
          "metadata": {},
          "execution_count": 104
        }
      ]
    },
    {
      "cell_type": "code",
      "source": [
        "def augment_prompt(query: str):\n",
        "    # get top 3 results from knowledge base\n",
        "    results = vectorstore.similarity_search(query, k=3)\n",
        "    # get the text from the results\n",
        "    source_knowledge = \"\\n\".join([x.page_content for x in results])\n",
        "    # feed into an augmented prompt\n",
        "    augmented_prompt = f\"\"\"Using the contexts below, answer the query.\n",
        "\n",
        "    Contexts:\n",
        "    {source_knowledge}\n",
        "\n",
        "    Query: {query}\"\"\"\n",
        "    return augmented_prompt"
      ],
      "metadata": {
        "id": "8V63vZ6qjBhL"
      },
      "execution_count": 105,
      "outputs": []
    },
    {
      "cell_type": "code",
      "source": [
        "print(augment_prompt(query))"
      ],
      "metadata": {
        "colab": {
          "base_uri": "https://localhost:8080/"
        },
        "id": "RqCqy-7okoKT",
        "outputId": "0c79f378-b4bd-42b4-9167-0d9a12771fd8"
      },
      "execution_count": 106,
      "outputs": [
        {
          "output_type": "stream",
          "name": "stdout",
          "text": [
            "Using the contexts below, answer the query.\n",
            "\n",
            "    Contexts:\n",
            "    United Nations (@TRT)\n",
            "\n",
            "On December 17th, the General Assembly of the United Nations (UN) approved the Global Pact for Refugees. This victory for human rights and international cooperation comes one week after the General Assembly approved the Global Pact on Migration.\n",
            "\n",
            "181 countries signed the pact that outlines steps that the international community will take to guarantee the welfare of refugees. Three countries abstained, and the United States and Hungary voted against it. The United States had previously stated that, although it agreed with most of the Covenant, it did not want to accept a limitation on the detention of asylum seekers.\n",
            "\n",
            "The Pact will try to give more support to the countries that host refugees, and when possible, help refugees to return to their countries of origin. It also calls for promoting the independence of refugees. To improve infrastructure and services to refugees, the pact will try to encourage more investment from governments and private sources.\n",
            "\n",
            "Although the Covenant is not binding, it represents a possibility of progress for the international community. Currently there are more than 25 million refugees in the world, representing only a part of the 68 million people who have been forced to flee their homes because of violence. Under international law, to be considered a refugee, you have to cross an international border.\n",
            "\n",
            "The Pact on Refugees received more votes in its favor than the Global Pact on Migration (which was supported by 164 countries). In general, the rights of refugees have been clearer and therefore more protected than those of migrants.\n",
            "\n",
            "For more information in Spanish:\n",
            "\n",
            "Asamblea de la ONU avala el Pacto Mundial sobre Refugiados (La Jornada, 18 de diciembre de 201).\n",
            "\n",
            "Asamblea de la ONU aprueba pacto mundial sobre refugiados (Telesur, 18 de diciembre de 2018).\n",
            "\n",
            "ONU: Asamblea General adopta el Pacto Mundial sobre Refugiados (Kausa Justa, 17 de diciembre de 2018).\n",
            "\n",
            "For more information from SIPAZ:\n",
            "\n",
            "National/International: 164 Countries Approve UN Global Migration Pact (January 2nd, 2019)\n",
            "\n",
            "National/International: World Network of Mothers of Disappeared Migrants Formed in Mexico (November 12th, 2018)\n",
            "\n",
            "National/Chiapas/Oaxaca/Tabasco: Founding of the Collective of Defenders of Migrants and Refugees (CODEMIRE) (April 23rd, 2015)\n",
            "Migrants are receiving prepaid bank cards backed by the United Nations Refugee Agency (UNHCR), according to reports.\n",
            "\n",
            "Clues to answering questions about how some migrants sustain themselves during lengthy journeys from their homelands to their destinations have been unearthed by Slovenian outlet Nova24.\n",
            "\n",
            "“Social network users have warned us that illegal immigrants are financing their lifestyle while waiting in Bosnia and Herzegovina to continue their journey towards Western Europe, with the help of bank cards of the Mastercard brand bearing logos of the European Union and United Nations Refugee Agency,” Nova24 reports.\n",
            "\n",
            "Nova24 cites an anonymous Croatian police officer who recently divulged that some migrants carry Mastercards that bear no names.\n",
            "\n",
            "“The migrants we catch and return back in a few days or weeks are again trying to break into Croatia,” the officer said. “Some of them are really poor, but many are well-equipped: they have new footwear, new clothes, sophisticated smartphones, weapons, and some have also been found with Mastercard bank cards without name, they are just numbers. They withdraw money at ATMs, but we do not know who pays them.”\n",
            "\n",
            "Mastercard announced in 2016 that they were issuing prepaid debit cards to “provide refugees with mobility, flexibility and dignity.”\n",
            "\n",
            "Additionally, Mastercard issued a press release in 2017 publicizing the launch of a partnership program with George Soros called “Humanity Ventures,” which aimed to “catalyze and accelerate economic and social development for vulnerable communities around the world, especially refugees and migrants.”\n",
            "\n",
            "“George Soros announced that he is earmarking up to $500 million for private investments that will improve capacity to address the challenges that migrants, including refugees, and their host communities face around the world. Humanity Ventures would be part of that initiative,” Mastercard revealed in the release.\n",
            "\n",
            "“Mastercard delivers innovative payments, data, and identity solutions which empower the underserved all over the world. These tools improve the lives of refugees and migrants by forging better economic and social ties with local populations.”\n",
            "\n",
            "TV director Ninoslav Vucetic recently shared an image of a Mastercard bearing the logos of the EU and UNHCR in a tweet directed at a Montenegran government official.\n",
            "\n",
            "@NebojsaMedojevi BANČNE KARTICE so tudi dokaz, kako EU uničuje Europsko kulturo.!? Vabi jih z denarjem, da povzročajo nasilje.??\n",
            "\n",
            "KDO migrantom daje takšne bančne kartice za dvigovanje denarnih sredstev, brez imena in priimka? 'MALJEVAC pic.twitter.com/EGNhHyHP4K — Ninoslav Vucetic (@NinoslavVucetic) October 30, 2018\n",
            "\n",
            "“Bank cards are also evidence of how the EU is destroying European culture?” Vucetic wrote. “Inviting them with money to cause violence? Who gives migrants such a bank card in order to access cash, without the first and last names?”\n",
            "\n",
            "The image shared by Vucetic also appears in various reports from the UNHCR detailing how they are providing aid to migrants in Greece.\n",
            "\n",
            "Hungarian officials are now warning that roughly 70,000 migrants have gathered in the Balkans, where they are preparing to force their way onward into Western Europe via the “Soros Express.”\n",
            "\n",
            "(PHOTO: S3studio / Contributor / Getty Images)\n",
            "WASHINGTON—The United States Secretary of State, Michael Pompeo,announced yesterday that the Administration will set the PresidentialDetermination, the level of refugees allowed into the United States, at 30,000refugees for 2019. This is the lowestnumber set in the history of the U.S. refugee admissions program which was formallycreated in 1980.\n",
            "\n",
            "Most Reverend Joe S. Vásquez, Bishop of Austin, Texas, Chair of the ofthe U.S. Conference of Catholic Bishops' Committee on Migration, issued thefollowing statement:\n",
            "\n",
            "\"The announcement of the Presidential Determination is deeplydisturbing and leaves many human lives in danger. To cut off protection formany who are fleeing persecution, at a time of unprecedented globalhumanitarian need, contradicts who we are as a nation. Offering refuge to thosefleeing violence, torture, or religious persecution is a cornerstone of ourhistory. We as a country are blessed with vast resources making us capable ofsecurely welcoming those fleeing harm. Closing our doors on those seeking suchsafety is not who we are as a people. In the coming days, we pray that Congresswill have the opportunity to engage in the formal consultation process with theAdministration that is required by law. During this mandatory consultationprocess, Congress should strongly urge the Administration to return to arefugee admission level that reflects local community response and support ofrefugees, global refugee protection needs, and our long history ofcompassionately welcoming refugees.\"\n",
            "\n",
            "---\n",
            "\n",
            "Keywords:U.S. Conference of Catholic Bishops, USCCB, Bishop Joe S. Vásquez, Committee onMigration, Presidential Determination, Administration, Congress, global refugeeprotection, Diocese of Austin, refugees, migration, humanitarian need,community response\n",
            "\n",
            "###\n",
            "\n",
            "\n",
            "\n",
            "Media Contact:\n",
            "\n",
            "Judy Keane\n",
            "\n",
            "202-541-3200\n",
            "\n",
            "WASHINGTON— ElSecretario de Estado de Estados Unidos, Michael Pompeo, anunció ayer que laAdministración va a fijar la Determinación Presidencial, el número derefugiados permitidos en Estados Unidos, en 30.000 para el 2019. Éste es elnúmero más bajo en la historia del programa de admisiones de refugiados, quefue formalmente creado en 1980.\n",
            "\n",
            "El ReverendísimoJoe S. Vásquez, Obispo de Austin, Texas, y Presidente del Comité de Migraciónde la Conferencia de Obispos Católicos de Estados Unidos emitió el siguientecomunicado:\n",
            "\n",
            "\"El anunciode la Determinación Presidencial es profundamente inquietante y deja muchasvidas humanas en peligro. Cortar la protección para muchos que huyen de lapersecución, en un momento sin precedentes de necesidad humanitaria mundial,contradice lo que somos nosotros como nación. Ofrecer refugio a aquellos quehuyen de la violencia, la tortura y la persecución religiosa es una piedraangular de nuestra historia. Como país hemos sido bendecidos con abundantesrecursos, lo que nos ha hecho capaces de dar la bienvenida a aquellos que huyen.Cerrar nuestras puertas a quienes buscan tal seguridad no es lo que somos comopueblo. En los próximos días, oramos para que el Congreso tenga la oportunidadde participar en el proceso de consulta formal con la Administración que exigela ley. Durante este proceso obligatorio de consulta, el Congreso debería urgirfirmemente a la Administración a retornar al nivel de admisiones de refugiadosque es consistente con la respuesta y respaldo de la comunidad local a los refugiados,las necesidades de protección global de refugiados y una larga historia derecibir compasivamente a los refugiados\".\n",
            "\n",
            "---\n",
            "\n",
            "Palabras clave: Conferenciade Obispos Católicos de Estados Unidos, USCCB, Obispo J. Vásquez, Comité deMigración, Determinación Presidencial, Administración, Congreso, protecciónglobal a los refugiados, Diócesis de Austin\n",
            "\n",
            "    Query: What does the Global Pact for Refugees approved by UN contain?\n"
          ]
        }
      ]
    },
    {
      "cell_type": "code",
      "source": [
        "messages = [\n",
        "    SystemMessage(content=\"You are a helpful assistant who helps text from custom dataset.\")\n",
        "]"
      ],
      "metadata": {
        "id": "5HpdbDtjk7_K"
      },
      "execution_count": 111,
      "outputs": []
    },
    {
      "cell_type": "code",
      "source": [
        "# create a new user prompt\n",
        "prompt = HumanMessage(\n",
        "    content=augment_prompt(query)\n",
        ")\n",
        "# add to messages\n",
        "messages.append(prompt)\n",
        "\n",
        "res = chat(messages)\n",
        "\n",
        "print(res.content)\n",
        "messages.append(res)"
      ],
      "metadata": {
        "colab": {
          "base_uri": "https://localhost:8080/"
        },
        "id": "JZRpHiM2kreK",
        "outputId": "bac7ac50-cd9c-4a30-9630-59c1a0d27786"
      },
      "execution_count": 112,
      "outputs": [
        {
          "output_type": "stream",
          "name": "stdout",
          "text": [
            "The Global Pact for Refugees approved by the United Nations outlines steps that the international community will take to guarantee the welfare of refugees. It aims to give more support to the countries that host refugees, and when possible, help refugees to return to their countries of origin. It also calls for promoting the independence of refugees and encouraging more investment from governments and private sources to improve infrastructure and services to refugees.\n"
          ]
        }
      ]
    },
    {
      "cell_type": "code",
      "source": [
        "prompt = HumanMessage(\n",
        "    content=\"When was the Global Pact for Refugees pact signed and who signed it?\"\n",
        ")\n",
        "messages.append(prompt)\n",
        "res = chat(messages)\n",
        "print(res.content)\n",
        "messages.append(res)"
      ],
      "metadata": {
        "colab": {
          "base_uri": "https://localhost:8080/"
        },
        "id": "9dn8IyLhk9hv",
        "outputId": "b17524b2-55ca-4e51-9543-8bf59484907b"
      },
      "execution_count": 113,
      "outputs": [
        {
          "output_type": "stream",
          "name": "stdout",
          "text": [
            "The Global Pact for Refugees was approved by the General Assembly of the United Nations on December 17, 2018. A total of 181 countries signed the pact, while three countries abstained, and the United States and Hungary voted against it.\n"
          ]
        }
      ]
    },
    {
      "cell_type": "code",
      "source": [
        "prompt = HumanMessage(\n",
        "    content=\"Summarize our conversation\"\n",
        ")\n",
        "messages.append(prompt)\n",
        "res = chat(messages)\n",
        "messages.append(res)\n",
        "print(res.content)"
      ],
      "metadata": {
        "colab": {
          "base_uri": "https://localhost:8080/"
        },
        "id": "hULm1CZ4k9e_",
        "outputId": "84e853d5-89d8-43be-f08d-489748de6227"
      },
      "execution_count": 114,
      "outputs": [
        {
          "output_type": "stream",
          "name": "stdout",
          "text": [
            "In our conversation, I answered your questions regarding the Global Pact for Refugees approved by the United Nations. I provided information about what the pact contains and when it was signed, as well as who signed it. Additionally, I provided some related information about how some migrants sustain themselves during their journeys.\n"
          ]
        }
      ]
    },
    {
      "cell_type": "code",
      "source": [
        "for message in messages:\n",
        "  print(\"**************************\")\n",
        "  print(message)"
      ],
      "metadata": {
        "colab": {
          "base_uri": "https://localhost:8080/"
        },
        "id": "qlgghuYAoI-E",
        "outputId": "fcbaad76-dfb0-49ea-bfa7-1f73bfeb8eb6"
      },
      "execution_count": 116,
      "outputs": [
        {
          "output_type": "stream",
          "name": "stdout",
          "text": [
            "**************************\n",
            "content='You are a helpful assistant who helps text from custom dataset.'\n",
            "**************************\n",
            "content='Using the contexts below, answer the query.\\n\\n    Contexts:\\n    United Nations (@TRT)\\n\\nOn December 17th, the General Assembly of the United Nations (UN) approved the Global Pact for Refugees. This victory for human rights and international cooperation comes one week after the General Assembly approved the Global Pact on Migration.\\n\\n181 countries signed the pact that outlines steps that the international community will take to guarantee the welfare of refugees. Three countries abstained, and the United States and Hungary voted against it. The United States had previously stated that, although it agreed with most of the Covenant, it did not want to accept a limitation on the detention of asylum seekers.\\n\\nThe Pact will try to give more support to the countries that host refugees, and when possible, help refugees to return to their countries of origin. It also calls for promoting the independence of refugees. To improve infrastructure and services to refugees, the pact will try to encourage more investment from governments and private sources.\\n\\nAlthough the Covenant is not binding, it represents a possibility of progress for the international community. Currently there are more than 25 million refugees in the world, representing only a part of the 68 million people who have been forced to flee their homes because of violence. Under international law, to be considered a refugee, you have to cross an international border.\\n\\nThe Pact on Refugees received more votes in its favor than the Global Pact on Migration (which was supported by 164 countries). In general, the rights of refugees have been clearer and therefore more protected than those of migrants.\\n\\nFor more information in Spanish:\\n\\nAsamblea de la ONU avala el Pacto Mundial sobre Refugiados (La Jornada, 18 de diciembre de 201).\\n\\nAsamblea de la ONU aprueba pacto mundial sobre refugiados (Telesur, 18 de diciembre de 2018).\\n\\nONU: Asamblea General adopta el Pacto Mundial sobre Refugiados (Kausa Justa, 17 de diciembre de 2018).\\n\\nFor more information from SIPAZ:\\n\\nNational/International: 164 Countries Approve UN Global Migration Pact (January 2nd, 2019)\\n\\nNational/International: World Network of Mothers of Disappeared Migrants Formed in Mexico (November 12th, 2018)\\n\\nNational/Chiapas/Oaxaca/Tabasco: Founding of the Collective of Defenders of Migrants and Refugees (CODEMIRE) (April 23rd, 2015)\\nMigrants are receiving prepaid bank cards backed by the United Nations Refugee Agency (UNHCR), according to reports.\\n\\nClues to answering questions about how some migrants sustain themselves during lengthy journeys from their homelands to their destinations have been unearthed by Slovenian outlet Nova24.\\n\\n“Social network users have warned us that illegal immigrants are financing their lifestyle while waiting in Bosnia and Herzegovina to continue their journey towards Western Europe, with the help of bank cards of the Mastercard brand bearing logos of the European Union and United Nations Refugee Agency,” Nova24 reports.\\n\\nNova24 cites an anonymous Croatian police officer who recently divulged that some migrants carry Mastercards that bear no names.\\n\\n“The migrants we catch and return back in a few days or weeks are again trying to break into Croatia,” the officer said. “Some of them are really poor, but many are well-equipped: they have new footwear, new clothes, sophisticated smartphones, weapons, and some have also been found with Mastercard bank cards without name, they are just numbers. They withdraw money at ATMs, but we do not know who pays them.”\\n\\nMastercard announced in 2016 that they were issuing prepaid debit cards to “provide refugees with mobility, flexibility and dignity.”\\n\\nAdditionally, Mastercard issued a press release in 2017 publicizing the launch of a partnership program with George Soros called “Humanity Ventures,” which aimed to “catalyze and accelerate economic and social development for vulnerable communities around the world, especially refugees and migrants.”\\n\\n“George Soros announced that he is earmarking up to $500 million for private investments that will improve capacity to address the challenges that migrants, including refugees, and their host communities face around the world. Humanity Ventures would be part of that initiative,” Mastercard revealed in the release.\\n\\n“Mastercard delivers innovative payments, data, and identity solutions which empower the underserved all over the world. These tools improve the lives of refugees and migrants by forging better economic and social ties with local populations.”\\n\\nTV director Ninoslav Vucetic recently shared an image of a Mastercard bearing the logos of the EU and UNHCR in a tweet directed at a Montenegran government official.\\n\\n@NebojsaMedojevi BANČNE KARTICE so tudi dokaz, kako EU uničuje Europsko kulturo.!? Vabi jih z denarjem, da povzročajo nasilje.??\\n\\nKDO migrantom daje takšne bančne kartice za dvigovanje denarnih sredstev, brez imena in priimka? \\'MALJEVAC pic.twitter.com/EGNhHyHP4K — Ninoslav Vucetic (@NinoslavVucetic) October 30, 2018\\n\\n“Bank cards are also evidence of how the EU is destroying European culture?” Vucetic wrote. “Inviting them with money to cause violence? Who gives migrants such a bank card in order to access cash, without the first and last names?”\\n\\nThe image shared by Vucetic also appears in various reports from the UNHCR detailing how they are providing aid to migrants in Greece.\\n\\nHungarian officials are now warning that roughly 70,000 migrants have gathered in the Balkans, where they are preparing to force their way onward into Western Europe via the “Soros Express.”\\n\\n(PHOTO: S3studio / Contributor / Getty Images)\\nWASHINGTON—The United States Secretary of State, Michael Pompeo,announced yesterday that the Administration will set the PresidentialDetermination, the level of refugees allowed into the United States, at 30,000refugees for 2019. This is the lowestnumber set in the history of the U.S. refugee admissions program which was formallycreated in 1980.\\n\\nMost Reverend Joe S. Vásquez, Bishop of Austin, Texas, Chair of the ofthe U.S. Conference of Catholic Bishops\\' Committee on Migration, issued thefollowing statement:\\n\\n\"The announcement of the Presidential Determination is deeplydisturbing and leaves many human lives in danger. To cut off protection formany who are fleeing persecution, at a time of unprecedented globalhumanitarian need, contradicts who we are as a nation. Offering refuge to thosefleeing violence, torture, or religious persecution is a cornerstone of ourhistory. We as a country are blessed with vast resources making us capable ofsecurely welcoming those fleeing harm. Closing our doors on those seeking suchsafety is not who we are as a people. In the coming days, we pray that Congresswill have the opportunity to engage in the formal consultation process with theAdministration that is required by law. During this mandatory consultationprocess, Congress should strongly urge the Administration to return to arefugee admission level that reflects local community response and support ofrefugees, global refugee protection needs, and our long history ofcompassionately welcoming refugees.\"\\n\\n---\\n\\nKeywords:U.S. Conference of Catholic Bishops, USCCB, Bishop Joe S. Vásquez, Committee onMigration, Presidential Determination, Administration, Congress, global refugeeprotection, Diocese of Austin, refugees, migration, humanitarian need,community response\\n\\n###\\n\\n\\n\\nMedia Contact:\\n\\nJudy Keane\\n\\n202-541-3200\\n\\nWASHINGTON— ElSecretario de Estado de Estados Unidos, Michael Pompeo, anunció ayer que laAdministración va a fijar la Determinación Presidencial, el número derefugiados permitidos en Estados Unidos, en 30.000 para el 2019. Éste es elnúmero más bajo en la historia del programa de admisiones de refugiados, quefue formalmente creado en 1980.\\n\\nEl ReverendísimoJoe S. Vásquez, Obispo de Austin, Texas, y Presidente del Comité de Migraciónde la Conferencia de Obispos Católicos de Estados Unidos emitió el siguientecomunicado:\\n\\n\"El anunciode la Determinación Presidencial es profundamente inquietante y deja muchasvidas humanas en peligro. Cortar la protección para muchos que huyen de lapersecución, en un momento sin precedentes de necesidad humanitaria mundial,contradice lo que somos nosotros como nación. Ofrecer refugio a aquellos quehuyen de la violencia, la tortura y la persecución religiosa es una piedraangular de nuestra historia. Como país hemos sido bendecidos con abundantesrecursos, lo que nos ha hecho capaces de dar la bienvenida a aquellos que huyen.Cerrar nuestras puertas a quienes buscan tal seguridad no es lo que somos comopueblo. En los próximos días, oramos para que el Congreso tenga la oportunidadde participar en el proceso de consulta formal con la Administración que exigela ley. Durante este proceso obligatorio de consulta, el Congreso debería urgirfirmemente a la Administración a retornar al nivel de admisiones de refugiadosque es consistente con la respuesta y respaldo de la comunidad local a los refugiados,las necesidades de protección global de refugiados y una larga historia derecibir compasivamente a los refugiados\".\\n\\n---\\n\\nPalabras clave: Conferenciade Obispos Católicos de Estados Unidos, USCCB, Obispo J. Vásquez, Comité deMigración, Determinación Presidencial, Administración, Congreso, protecciónglobal a los refugiados, Diócesis de Austin\\n\\n    Query: What does the Global Pact for Refugees approved by UN contain?'\n",
            "**************************\n",
            "content='The Global Pact for Refugees approved by the United Nations outlines steps that the international community will take to guarantee the welfare of refugees. It aims to give more support to the countries that host refugees, and when possible, help refugees to return to their countries of origin. It also calls for promoting the independence of refugees and encouraging more investment from governments and private sources to improve infrastructure and services to refugees.'\n",
            "**************************\n",
            "content='When was the Global Pact for Refugees pact signed and who signed it?'\n",
            "**************************\n",
            "content='The Global Pact for Refugees was approved by the General Assembly of the United Nations on December 17, 2018. A total of 181 countries signed the pact, while three countries abstained, and the United States and Hungary voted against it.'\n",
            "**************************\n",
            "content='Summarize our conversation'\n",
            "**************************\n",
            "content='In our conversation, I answered your questions regarding the Global Pact for Refugees approved by the United Nations. I provided information about what the pact contains and when it was signed, as well as who signed it. Additionally, I provided some related information about how some migrants sustain themselves during their journeys.'\n"
          ]
        }
      ]
    },
    {
      "cell_type": "code",
      "source": [
        "pc.delete_index(index_name)"
      ],
      "metadata": {
        "id": "XAGYuJV3iWf8"
      },
      "execution_count": 117,
      "outputs": []
    },
    {
      "cell_type": "markdown",
      "metadata": {
        "id": "XtiAQmWdw4wd"
      },
      "source": [
        "---"
      ]
    }
  ],
  "metadata": {
    "kernelspec": {
      "display_name": "redacre",
      "language": "python",
      "name": "python3"
    },
    "language_info": {
      "codemirror_mode": {
        "name": "ipython",
        "version": 3
      },
      "file_extension": ".py",
      "mimetype": "text/x-python",
      "name": "python",
      "nbconvert_exporter": "python",
      "pygments_lexer": "ipython3",
      "version": "3.9.12"
    },
    "orig_nbformat": 4,
    "colab": {
      "provenance": []
    },
    "widgets": {
      "application/vnd.jupyter.widget-state+json": {
        "c79539281a5847deaffd97b0aaff089a": {
          "model_module": "@jupyter-widgets/controls",
          "model_name": "HBoxModel",
          "model_module_version": "1.5.0",
          "state": {
            "_dom_classes": [],
            "_model_module": "@jupyter-widgets/controls",
            "_model_module_version": "1.5.0",
            "_model_name": "HBoxModel",
            "_view_count": null,
            "_view_module": "@jupyter-widgets/controls",
            "_view_module_version": "1.5.0",
            "_view_name": "HBoxView",
            "box_style": "",
            "children": [
              "IPY_MODEL_7470d17f09ec43e98ba2bc691eb3da4a",
              "IPY_MODEL_e00dce9b92264e51aa30a8a8fbc8d459",
              "IPY_MODEL_002739a316284cb499e02c63c29f8011"
            ],
            "layout": "IPY_MODEL_23058834ce8e48198da5935878171cf8"
          }
        },
        "7470d17f09ec43e98ba2bc691eb3da4a": {
          "model_module": "@jupyter-widgets/controls",
          "model_name": "HTMLModel",
          "model_module_version": "1.5.0",
          "state": {
            "_dom_classes": [],
            "_model_module": "@jupyter-widgets/controls",
            "_model_module_version": "1.5.0",
            "_model_name": "HTMLModel",
            "_view_count": null,
            "_view_module": "@jupyter-widgets/controls",
            "_view_module_version": "1.5.0",
            "_view_name": "HTMLView",
            "description": "",
            "description_tooltip": null,
            "layout": "IPY_MODEL_d8cc07a38f464781a81f0bd564eafa00",
            "placeholder": "​",
            "style": "IPY_MODEL_7849419cea31464dab149e422ab4d296",
            "value": "Downloading readme: 100%"
          }
        },
        "e00dce9b92264e51aa30a8a8fbc8d459": {
          "model_module": "@jupyter-widgets/controls",
          "model_name": "FloatProgressModel",
          "model_module_version": "1.5.0",
          "state": {
            "_dom_classes": [],
            "_model_module": "@jupyter-widgets/controls",
            "_model_module_version": "1.5.0",
            "_model_name": "FloatProgressModel",
            "_view_count": null,
            "_view_module": "@jupyter-widgets/controls",
            "_view_module_version": "1.5.0",
            "_view_name": "ProgressView",
            "bar_style": "success",
            "description": "",
            "description_tooltip": null,
            "layout": "IPY_MODEL_96d7bc6280c149eaab2a31ff453cbcea",
            "max": 320,
            "min": 0,
            "orientation": "horizontal",
            "style": "IPY_MODEL_a65d18d899734a6aa77e2b223c649f6f",
            "value": 320
          }
        },
        "002739a316284cb499e02c63c29f8011": {
          "model_module": "@jupyter-widgets/controls",
          "model_name": "HTMLModel",
          "model_module_version": "1.5.0",
          "state": {
            "_dom_classes": [],
            "_model_module": "@jupyter-widgets/controls",
            "_model_module_version": "1.5.0",
            "_model_name": "HTMLModel",
            "_view_count": null,
            "_view_module": "@jupyter-widgets/controls",
            "_view_module_version": "1.5.0",
            "_view_name": "HTMLView",
            "description": "",
            "description_tooltip": null,
            "layout": "IPY_MODEL_34112b34ec474d26a56d315aca236ddb",
            "placeholder": "​",
            "style": "IPY_MODEL_52d35ee5ee4049cebd410d152027a1cc",
            "value": " 320/320 [00:00&lt;00:00, 8.89kB/s]"
          }
        },
        "23058834ce8e48198da5935878171cf8": {
          "model_module": "@jupyter-widgets/base",
          "model_name": "LayoutModel",
          "model_module_version": "1.2.0",
          "state": {
            "_model_module": "@jupyter-widgets/base",
            "_model_module_version": "1.2.0",
            "_model_name": "LayoutModel",
            "_view_count": null,
            "_view_module": "@jupyter-widgets/base",
            "_view_module_version": "1.2.0",
            "_view_name": "LayoutView",
            "align_content": null,
            "align_items": null,
            "align_self": null,
            "border": null,
            "bottom": null,
            "display": null,
            "flex": null,
            "flex_flow": null,
            "grid_area": null,
            "grid_auto_columns": null,
            "grid_auto_flow": null,
            "grid_auto_rows": null,
            "grid_column": null,
            "grid_gap": null,
            "grid_row": null,
            "grid_template_areas": null,
            "grid_template_columns": null,
            "grid_template_rows": null,
            "height": null,
            "justify_content": null,
            "justify_items": null,
            "left": null,
            "margin": null,
            "max_height": null,
            "max_width": null,
            "min_height": null,
            "min_width": null,
            "object_fit": null,
            "object_position": null,
            "order": null,
            "overflow": null,
            "overflow_x": null,
            "overflow_y": null,
            "padding": null,
            "right": null,
            "top": null,
            "visibility": null,
            "width": null
          }
        },
        "d8cc07a38f464781a81f0bd564eafa00": {
          "model_module": "@jupyter-widgets/base",
          "model_name": "LayoutModel",
          "model_module_version": "1.2.0",
          "state": {
            "_model_module": "@jupyter-widgets/base",
            "_model_module_version": "1.2.0",
            "_model_name": "LayoutModel",
            "_view_count": null,
            "_view_module": "@jupyter-widgets/base",
            "_view_module_version": "1.2.0",
            "_view_name": "LayoutView",
            "align_content": null,
            "align_items": null,
            "align_self": null,
            "border": null,
            "bottom": null,
            "display": null,
            "flex": null,
            "flex_flow": null,
            "grid_area": null,
            "grid_auto_columns": null,
            "grid_auto_flow": null,
            "grid_auto_rows": null,
            "grid_column": null,
            "grid_gap": null,
            "grid_row": null,
            "grid_template_areas": null,
            "grid_template_columns": null,
            "grid_template_rows": null,
            "height": null,
            "justify_content": null,
            "justify_items": null,
            "left": null,
            "margin": null,
            "max_height": null,
            "max_width": null,
            "min_height": null,
            "min_width": null,
            "object_fit": null,
            "object_position": null,
            "order": null,
            "overflow": null,
            "overflow_x": null,
            "overflow_y": null,
            "padding": null,
            "right": null,
            "top": null,
            "visibility": null,
            "width": null
          }
        },
        "7849419cea31464dab149e422ab4d296": {
          "model_module": "@jupyter-widgets/controls",
          "model_name": "DescriptionStyleModel",
          "model_module_version": "1.5.0",
          "state": {
            "_model_module": "@jupyter-widgets/controls",
            "_model_module_version": "1.5.0",
            "_model_name": "DescriptionStyleModel",
            "_view_count": null,
            "_view_module": "@jupyter-widgets/base",
            "_view_module_version": "1.2.0",
            "_view_name": "StyleView",
            "description_width": ""
          }
        },
        "96d7bc6280c149eaab2a31ff453cbcea": {
          "model_module": "@jupyter-widgets/base",
          "model_name": "LayoutModel",
          "model_module_version": "1.2.0",
          "state": {
            "_model_module": "@jupyter-widgets/base",
            "_model_module_version": "1.2.0",
            "_model_name": "LayoutModel",
            "_view_count": null,
            "_view_module": "@jupyter-widgets/base",
            "_view_module_version": "1.2.0",
            "_view_name": "LayoutView",
            "align_content": null,
            "align_items": null,
            "align_self": null,
            "border": null,
            "bottom": null,
            "display": null,
            "flex": null,
            "flex_flow": null,
            "grid_area": null,
            "grid_auto_columns": null,
            "grid_auto_flow": null,
            "grid_auto_rows": null,
            "grid_column": null,
            "grid_gap": null,
            "grid_row": null,
            "grid_template_areas": null,
            "grid_template_columns": null,
            "grid_template_rows": null,
            "height": null,
            "justify_content": null,
            "justify_items": null,
            "left": null,
            "margin": null,
            "max_height": null,
            "max_width": null,
            "min_height": null,
            "min_width": null,
            "object_fit": null,
            "object_position": null,
            "order": null,
            "overflow": null,
            "overflow_x": null,
            "overflow_y": null,
            "padding": null,
            "right": null,
            "top": null,
            "visibility": null,
            "width": null
          }
        },
        "a65d18d899734a6aa77e2b223c649f6f": {
          "model_module": "@jupyter-widgets/controls",
          "model_name": "ProgressStyleModel",
          "model_module_version": "1.5.0",
          "state": {
            "_model_module": "@jupyter-widgets/controls",
            "_model_module_version": "1.5.0",
            "_model_name": "ProgressStyleModel",
            "_view_count": null,
            "_view_module": "@jupyter-widgets/base",
            "_view_module_version": "1.2.0",
            "_view_name": "StyleView",
            "bar_color": null,
            "description_width": ""
          }
        },
        "34112b34ec474d26a56d315aca236ddb": {
          "model_module": "@jupyter-widgets/base",
          "model_name": "LayoutModel",
          "model_module_version": "1.2.0",
          "state": {
            "_model_module": "@jupyter-widgets/base",
            "_model_module_version": "1.2.0",
            "_model_name": "LayoutModel",
            "_view_count": null,
            "_view_module": "@jupyter-widgets/base",
            "_view_module_version": "1.2.0",
            "_view_name": "LayoutView",
            "align_content": null,
            "align_items": null,
            "align_self": null,
            "border": null,
            "bottom": null,
            "display": null,
            "flex": null,
            "flex_flow": null,
            "grid_area": null,
            "grid_auto_columns": null,
            "grid_auto_flow": null,
            "grid_auto_rows": null,
            "grid_column": null,
            "grid_gap": null,
            "grid_row": null,
            "grid_template_areas": null,
            "grid_template_columns": null,
            "grid_template_rows": null,
            "height": null,
            "justify_content": null,
            "justify_items": null,
            "left": null,
            "margin": null,
            "max_height": null,
            "max_width": null,
            "min_height": null,
            "min_width": null,
            "object_fit": null,
            "object_position": null,
            "order": null,
            "overflow": null,
            "overflow_x": null,
            "overflow_y": null,
            "padding": null,
            "right": null,
            "top": null,
            "visibility": null,
            "width": null
          }
        },
        "52d35ee5ee4049cebd410d152027a1cc": {
          "model_module": "@jupyter-widgets/controls",
          "model_name": "DescriptionStyleModel",
          "model_module_version": "1.5.0",
          "state": {
            "_model_module": "@jupyter-widgets/controls",
            "_model_module_version": "1.5.0",
            "_model_name": "DescriptionStyleModel",
            "_view_count": null,
            "_view_module": "@jupyter-widgets/base",
            "_view_module_version": "1.2.0",
            "_view_name": "StyleView",
            "description_width": ""
          }
        },
        "0a41ad41640e4995a2fda7ef453c452b": {
          "model_module": "@jupyter-widgets/controls",
          "model_name": "HBoxModel",
          "model_module_version": "1.5.0",
          "state": {
            "_dom_classes": [],
            "_model_module": "@jupyter-widgets/controls",
            "_model_module_version": "1.5.0",
            "_model_name": "HBoxModel",
            "_view_count": null,
            "_view_module": "@jupyter-widgets/controls",
            "_view_module_version": "1.5.0",
            "_view_name": "HBoxView",
            "box_style": "",
            "children": [
              "IPY_MODEL_08ea6dba579a422fba08b9c0635cc192",
              "IPY_MODEL_726b3c8f8d9e4643b8fb53b16372a085",
              "IPY_MODEL_81b52f175e5f4d4499a1a7667a42a587"
            ],
            "layout": "IPY_MODEL_0a56ae3fc5824be48a8c758c1e4f7204"
          }
        },
        "08ea6dba579a422fba08b9c0635cc192": {
          "model_module": "@jupyter-widgets/controls",
          "model_name": "HTMLModel",
          "model_module_version": "1.5.0",
          "state": {
            "_dom_classes": [],
            "_model_module": "@jupyter-widgets/controls",
            "_model_module_version": "1.5.0",
            "_model_name": "HTMLModel",
            "_view_count": null,
            "_view_module": "@jupyter-widgets/controls",
            "_view_module_version": "1.5.0",
            "_view_name": "HTMLView",
            "description": "",
            "description_tooltip": null,
            "layout": "IPY_MODEL_1270709567434bd4a7d0d95481845c07",
            "placeholder": "​",
            "style": "IPY_MODEL_20ce53a83edd47129aac7f6e68bf61da",
            "value": "Downloading data files: 100%"
          }
        },
        "726b3c8f8d9e4643b8fb53b16372a085": {
          "model_module": "@jupyter-widgets/controls",
          "model_name": "FloatProgressModel",
          "model_module_version": "1.5.0",
          "state": {
            "_dom_classes": [],
            "_model_module": "@jupyter-widgets/controls",
            "_model_module_version": "1.5.0",
            "_model_name": "FloatProgressModel",
            "_view_count": null,
            "_view_module": "@jupyter-widgets/controls",
            "_view_module_version": "1.5.0",
            "_view_name": "ProgressView",
            "bar_style": "success",
            "description": "",
            "description_tooltip": null,
            "layout": "IPY_MODEL_046be23d06a945dfb9872ec9909bb05b",
            "max": 1,
            "min": 0,
            "orientation": "horizontal",
            "style": "IPY_MODEL_33d003d73cb14fdd8945a13ed337d78c",
            "value": 1
          }
        },
        "81b52f175e5f4d4499a1a7667a42a587": {
          "model_module": "@jupyter-widgets/controls",
          "model_name": "HTMLModel",
          "model_module_version": "1.5.0",
          "state": {
            "_dom_classes": [],
            "_model_module": "@jupyter-widgets/controls",
            "_model_module_version": "1.5.0",
            "_model_name": "HTMLModel",
            "_view_count": null,
            "_view_module": "@jupyter-widgets/controls",
            "_view_module_version": "1.5.0",
            "_view_name": "HTMLView",
            "description": "",
            "description_tooltip": null,
            "layout": "IPY_MODEL_5a061a3a9c6648e48903fba7195888ad",
            "placeholder": "​",
            "style": "IPY_MODEL_efbe92456ea64ed79a0454556b73aa3b",
            "value": " 1/1 [00:01&lt;00:00,  1.39s/it]"
          }
        },
        "0a56ae3fc5824be48a8c758c1e4f7204": {
          "model_module": "@jupyter-widgets/base",
          "model_name": "LayoutModel",
          "model_module_version": "1.2.0",
          "state": {
            "_model_module": "@jupyter-widgets/base",
            "_model_module_version": "1.2.0",
            "_model_name": "LayoutModel",
            "_view_count": null,
            "_view_module": "@jupyter-widgets/base",
            "_view_module_version": "1.2.0",
            "_view_name": "LayoutView",
            "align_content": null,
            "align_items": null,
            "align_self": null,
            "border": null,
            "bottom": null,
            "display": null,
            "flex": null,
            "flex_flow": null,
            "grid_area": null,
            "grid_auto_columns": null,
            "grid_auto_flow": null,
            "grid_auto_rows": null,
            "grid_column": null,
            "grid_gap": null,
            "grid_row": null,
            "grid_template_areas": null,
            "grid_template_columns": null,
            "grid_template_rows": null,
            "height": null,
            "justify_content": null,
            "justify_items": null,
            "left": null,
            "margin": null,
            "max_height": null,
            "max_width": null,
            "min_height": null,
            "min_width": null,
            "object_fit": null,
            "object_position": null,
            "order": null,
            "overflow": null,
            "overflow_x": null,
            "overflow_y": null,
            "padding": null,
            "right": null,
            "top": null,
            "visibility": null,
            "width": null
          }
        },
        "1270709567434bd4a7d0d95481845c07": {
          "model_module": "@jupyter-widgets/base",
          "model_name": "LayoutModel",
          "model_module_version": "1.2.0",
          "state": {
            "_model_module": "@jupyter-widgets/base",
            "_model_module_version": "1.2.0",
            "_model_name": "LayoutModel",
            "_view_count": null,
            "_view_module": "@jupyter-widgets/base",
            "_view_module_version": "1.2.0",
            "_view_name": "LayoutView",
            "align_content": null,
            "align_items": null,
            "align_self": null,
            "border": null,
            "bottom": null,
            "display": null,
            "flex": null,
            "flex_flow": null,
            "grid_area": null,
            "grid_auto_columns": null,
            "grid_auto_flow": null,
            "grid_auto_rows": null,
            "grid_column": null,
            "grid_gap": null,
            "grid_row": null,
            "grid_template_areas": null,
            "grid_template_columns": null,
            "grid_template_rows": null,
            "height": null,
            "justify_content": null,
            "justify_items": null,
            "left": null,
            "margin": null,
            "max_height": null,
            "max_width": null,
            "min_height": null,
            "min_width": null,
            "object_fit": null,
            "object_position": null,
            "order": null,
            "overflow": null,
            "overflow_x": null,
            "overflow_y": null,
            "padding": null,
            "right": null,
            "top": null,
            "visibility": null,
            "width": null
          }
        },
        "20ce53a83edd47129aac7f6e68bf61da": {
          "model_module": "@jupyter-widgets/controls",
          "model_name": "DescriptionStyleModel",
          "model_module_version": "1.5.0",
          "state": {
            "_model_module": "@jupyter-widgets/controls",
            "_model_module_version": "1.5.0",
            "_model_name": "DescriptionStyleModel",
            "_view_count": null,
            "_view_module": "@jupyter-widgets/base",
            "_view_module_version": "1.2.0",
            "_view_name": "StyleView",
            "description_width": ""
          }
        },
        "046be23d06a945dfb9872ec9909bb05b": {
          "model_module": "@jupyter-widgets/base",
          "model_name": "LayoutModel",
          "model_module_version": "1.2.0",
          "state": {
            "_model_module": "@jupyter-widgets/base",
            "_model_module_version": "1.2.0",
            "_model_name": "LayoutModel",
            "_view_count": null,
            "_view_module": "@jupyter-widgets/base",
            "_view_module_version": "1.2.0",
            "_view_name": "LayoutView",
            "align_content": null,
            "align_items": null,
            "align_self": null,
            "border": null,
            "bottom": null,
            "display": null,
            "flex": null,
            "flex_flow": null,
            "grid_area": null,
            "grid_auto_columns": null,
            "grid_auto_flow": null,
            "grid_auto_rows": null,
            "grid_column": null,
            "grid_gap": null,
            "grid_row": null,
            "grid_template_areas": null,
            "grid_template_columns": null,
            "grid_template_rows": null,
            "height": null,
            "justify_content": null,
            "justify_items": null,
            "left": null,
            "margin": null,
            "max_height": null,
            "max_width": null,
            "min_height": null,
            "min_width": null,
            "object_fit": null,
            "object_position": null,
            "order": null,
            "overflow": null,
            "overflow_x": null,
            "overflow_y": null,
            "padding": null,
            "right": null,
            "top": null,
            "visibility": null,
            "width": null
          }
        },
        "33d003d73cb14fdd8945a13ed337d78c": {
          "model_module": "@jupyter-widgets/controls",
          "model_name": "ProgressStyleModel",
          "model_module_version": "1.5.0",
          "state": {
            "_model_module": "@jupyter-widgets/controls",
            "_model_module_version": "1.5.0",
            "_model_name": "ProgressStyleModel",
            "_view_count": null,
            "_view_module": "@jupyter-widgets/base",
            "_view_module_version": "1.2.0",
            "_view_name": "StyleView",
            "bar_color": null,
            "description_width": ""
          }
        },
        "5a061a3a9c6648e48903fba7195888ad": {
          "model_module": "@jupyter-widgets/base",
          "model_name": "LayoutModel",
          "model_module_version": "1.2.0",
          "state": {
            "_model_module": "@jupyter-widgets/base",
            "_model_module_version": "1.2.0",
            "_model_name": "LayoutModel",
            "_view_count": null,
            "_view_module": "@jupyter-widgets/base",
            "_view_module_version": "1.2.0",
            "_view_name": "LayoutView",
            "align_content": null,
            "align_items": null,
            "align_self": null,
            "border": null,
            "bottom": null,
            "display": null,
            "flex": null,
            "flex_flow": null,
            "grid_area": null,
            "grid_auto_columns": null,
            "grid_auto_flow": null,
            "grid_auto_rows": null,
            "grid_column": null,
            "grid_gap": null,
            "grid_row": null,
            "grid_template_areas": null,
            "grid_template_columns": null,
            "grid_template_rows": null,
            "height": null,
            "justify_content": null,
            "justify_items": null,
            "left": null,
            "margin": null,
            "max_height": null,
            "max_width": null,
            "min_height": null,
            "min_width": null,
            "object_fit": null,
            "object_position": null,
            "order": null,
            "overflow": null,
            "overflow_x": null,
            "overflow_y": null,
            "padding": null,
            "right": null,
            "top": null,
            "visibility": null,
            "width": null
          }
        },
        "efbe92456ea64ed79a0454556b73aa3b": {
          "model_module": "@jupyter-widgets/controls",
          "model_name": "DescriptionStyleModel",
          "model_module_version": "1.5.0",
          "state": {
            "_model_module": "@jupyter-widgets/controls",
            "_model_module_version": "1.5.0",
            "_model_name": "DescriptionStyleModel",
            "_view_count": null,
            "_view_module": "@jupyter-widgets/base",
            "_view_module_version": "1.2.0",
            "_view_name": "StyleView",
            "description_width": ""
          }
        },
        "80ac422a2afa4b1aab608bd4510c0c62": {
          "model_module": "@jupyter-widgets/controls",
          "model_name": "HBoxModel",
          "model_module_version": "1.5.0",
          "state": {
            "_dom_classes": [],
            "_model_module": "@jupyter-widgets/controls",
            "_model_module_version": "1.5.0",
            "_model_name": "HBoxModel",
            "_view_count": null,
            "_view_module": "@jupyter-widgets/controls",
            "_view_module_version": "1.5.0",
            "_view_name": "HBoxView",
            "box_style": "",
            "children": [
              "IPY_MODEL_2200b7a0a1884a40a42de78917d81cf2",
              "IPY_MODEL_eeddcfc31fbf49aeb17b603adeb1d547",
              "IPY_MODEL_eadee63120b044d2ac7a004d72a79141"
            ],
            "layout": "IPY_MODEL_ff672f4324634753bbdfbcecedb3918b"
          }
        },
        "2200b7a0a1884a40a42de78917d81cf2": {
          "model_module": "@jupyter-widgets/controls",
          "model_name": "HTMLModel",
          "model_module_version": "1.5.0",
          "state": {
            "_dom_classes": [],
            "_model_module": "@jupyter-widgets/controls",
            "_model_module_version": "1.5.0",
            "_model_name": "HTMLModel",
            "_view_count": null,
            "_view_module": "@jupyter-widgets/controls",
            "_view_module_version": "1.5.0",
            "_view_name": "HTMLView",
            "description": "",
            "description_tooltip": null,
            "layout": "IPY_MODEL_2081d051ca3941aeac6b7e485831c068",
            "placeholder": "​",
            "style": "IPY_MODEL_ce2dbe8963684c02910792fae65967c7",
            "value": "Downloading data: 100%"
          }
        },
        "eeddcfc31fbf49aeb17b603adeb1d547": {
          "model_module": "@jupyter-widgets/controls",
          "model_name": "FloatProgressModel",
          "model_module_version": "1.5.0",
          "state": {
            "_dom_classes": [],
            "_model_module": "@jupyter-widgets/controls",
            "_model_module_version": "1.5.0",
            "_model_name": "FloatProgressModel",
            "_view_count": null,
            "_view_module": "@jupyter-widgets/controls",
            "_view_module_version": "1.5.0",
            "_view_name": "ProgressView",
            "bar_style": "success",
            "description": "",
            "description_tooltip": null,
            "layout": "IPY_MODEL_e4baf575f04f4780b95ec0b2a9cea4f2",
            "max": 13262356,
            "min": 0,
            "orientation": "horizontal",
            "style": "IPY_MODEL_7c10e36fa5c54d738d7ac03abbdd076e",
            "value": 13262356
          }
        },
        "eadee63120b044d2ac7a004d72a79141": {
          "model_module": "@jupyter-widgets/controls",
          "model_name": "HTMLModel",
          "model_module_version": "1.5.0",
          "state": {
            "_dom_classes": [],
            "_model_module": "@jupyter-widgets/controls",
            "_model_module_version": "1.5.0",
            "_model_name": "HTMLModel",
            "_view_count": null,
            "_view_module": "@jupyter-widgets/controls",
            "_view_module_version": "1.5.0",
            "_view_name": "HTMLView",
            "description": "",
            "description_tooltip": null,
            "layout": "IPY_MODEL_2466b03e13bd4d7697c76a40e3204099",
            "placeholder": "​",
            "style": "IPY_MODEL_4a3a921bfbd041fd8e889296b48dfc95",
            "value": " 13.3M/13.3M [00:00&lt;00:00, 30.1MB/s]"
          }
        },
        "ff672f4324634753bbdfbcecedb3918b": {
          "model_module": "@jupyter-widgets/base",
          "model_name": "LayoutModel",
          "model_module_version": "1.2.0",
          "state": {
            "_model_module": "@jupyter-widgets/base",
            "_model_module_version": "1.2.0",
            "_model_name": "LayoutModel",
            "_view_count": null,
            "_view_module": "@jupyter-widgets/base",
            "_view_module_version": "1.2.0",
            "_view_name": "LayoutView",
            "align_content": null,
            "align_items": null,
            "align_self": null,
            "border": null,
            "bottom": null,
            "display": null,
            "flex": null,
            "flex_flow": null,
            "grid_area": null,
            "grid_auto_columns": null,
            "grid_auto_flow": null,
            "grid_auto_rows": null,
            "grid_column": null,
            "grid_gap": null,
            "grid_row": null,
            "grid_template_areas": null,
            "grid_template_columns": null,
            "grid_template_rows": null,
            "height": null,
            "justify_content": null,
            "justify_items": null,
            "left": null,
            "margin": null,
            "max_height": null,
            "max_width": null,
            "min_height": null,
            "min_width": null,
            "object_fit": null,
            "object_position": null,
            "order": null,
            "overflow": null,
            "overflow_x": null,
            "overflow_y": null,
            "padding": null,
            "right": null,
            "top": null,
            "visibility": null,
            "width": null
          }
        },
        "2081d051ca3941aeac6b7e485831c068": {
          "model_module": "@jupyter-widgets/base",
          "model_name": "LayoutModel",
          "model_module_version": "1.2.0",
          "state": {
            "_model_module": "@jupyter-widgets/base",
            "_model_module_version": "1.2.0",
            "_model_name": "LayoutModel",
            "_view_count": null,
            "_view_module": "@jupyter-widgets/base",
            "_view_module_version": "1.2.0",
            "_view_name": "LayoutView",
            "align_content": null,
            "align_items": null,
            "align_self": null,
            "border": null,
            "bottom": null,
            "display": null,
            "flex": null,
            "flex_flow": null,
            "grid_area": null,
            "grid_auto_columns": null,
            "grid_auto_flow": null,
            "grid_auto_rows": null,
            "grid_column": null,
            "grid_gap": null,
            "grid_row": null,
            "grid_template_areas": null,
            "grid_template_columns": null,
            "grid_template_rows": null,
            "height": null,
            "justify_content": null,
            "justify_items": null,
            "left": null,
            "margin": null,
            "max_height": null,
            "max_width": null,
            "min_height": null,
            "min_width": null,
            "object_fit": null,
            "object_position": null,
            "order": null,
            "overflow": null,
            "overflow_x": null,
            "overflow_y": null,
            "padding": null,
            "right": null,
            "top": null,
            "visibility": null,
            "width": null
          }
        },
        "ce2dbe8963684c02910792fae65967c7": {
          "model_module": "@jupyter-widgets/controls",
          "model_name": "DescriptionStyleModel",
          "model_module_version": "1.5.0",
          "state": {
            "_model_module": "@jupyter-widgets/controls",
            "_model_module_version": "1.5.0",
            "_model_name": "DescriptionStyleModel",
            "_view_count": null,
            "_view_module": "@jupyter-widgets/base",
            "_view_module_version": "1.2.0",
            "_view_name": "StyleView",
            "description_width": ""
          }
        },
        "e4baf575f04f4780b95ec0b2a9cea4f2": {
          "model_module": "@jupyter-widgets/base",
          "model_name": "LayoutModel",
          "model_module_version": "1.2.0",
          "state": {
            "_model_module": "@jupyter-widgets/base",
            "_model_module_version": "1.2.0",
            "_model_name": "LayoutModel",
            "_view_count": null,
            "_view_module": "@jupyter-widgets/base",
            "_view_module_version": "1.2.0",
            "_view_name": "LayoutView",
            "align_content": null,
            "align_items": null,
            "align_self": null,
            "border": null,
            "bottom": null,
            "display": null,
            "flex": null,
            "flex_flow": null,
            "grid_area": null,
            "grid_auto_columns": null,
            "grid_auto_flow": null,
            "grid_auto_rows": null,
            "grid_column": null,
            "grid_gap": null,
            "grid_row": null,
            "grid_template_areas": null,
            "grid_template_columns": null,
            "grid_template_rows": null,
            "height": null,
            "justify_content": null,
            "justify_items": null,
            "left": null,
            "margin": null,
            "max_height": null,
            "max_width": null,
            "min_height": null,
            "min_width": null,
            "object_fit": null,
            "object_position": null,
            "order": null,
            "overflow": null,
            "overflow_x": null,
            "overflow_y": null,
            "padding": null,
            "right": null,
            "top": null,
            "visibility": null,
            "width": null
          }
        },
        "7c10e36fa5c54d738d7ac03abbdd076e": {
          "model_module": "@jupyter-widgets/controls",
          "model_name": "ProgressStyleModel",
          "model_module_version": "1.5.0",
          "state": {
            "_model_module": "@jupyter-widgets/controls",
            "_model_module_version": "1.5.0",
            "_model_name": "ProgressStyleModel",
            "_view_count": null,
            "_view_module": "@jupyter-widgets/base",
            "_view_module_version": "1.2.0",
            "_view_name": "StyleView",
            "bar_color": null,
            "description_width": ""
          }
        },
        "2466b03e13bd4d7697c76a40e3204099": {
          "model_module": "@jupyter-widgets/base",
          "model_name": "LayoutModel",
          "model_module_version": "1.2.0",
          "state": {
            "_model_module": "@jupyter-widgets/base",
            "_model_module_version": "1.2.0",
            "_model_name": "LayoutModel",
            "_view_count": null,
            "_view_module": "@jupyter-widgets/base",
            "_view_module_version": "1.2.0",
            "_view_name": "LayoutView",
            "align_content": null,
            "align_items": null,
            "align_self": null,
            "border": null,
            "bottom": null,
            "display": null,
            "flex": null,
            "flex_flow": null,
            "grid_area": null,
            "grid_auto_columns": null,
            "grid_auto_flow": null,
            "grid_auto_rows": null,
            "grid_column": null,
            "grid_gap": null,
            "grid_row": null,
            "grid_template_areas": null,
            "grid_template_columns": null,
            "grid_template_rows": null,
            "height": null,
            "justify_content": null,
            "justify_items": null,
            "left": null,
            "margin": null,
            "max_height": null,
            "max_width": null,
            "min_height": null,
            "min_width": null,
            "object_fit": null,
            "object_position": null,
            "order": null,
            "overflow": null,
            "overflow_x": null,
            "overflow_y": null,
            "padding": null,
            "right": null,
            "top": null,
            "visibility": null,
            "width": null
          }
        },
        "4a3a921bfbd041fd8e889296b48dfc95": {
          "model_module": "@jupyter-widgets/controls",
          "model_name": "DescriptionStyleModel",
          "model_module_version": "1.5.0",
          "state": {
            "_model_module": "@jupyter-widgets/controls",
            "_model_module_version": "1.5.0",
            "_model_name": "DescriptionStyleModel",
            "_view_count": null,
            "_view_module": "@jupyter-widgets/base",
            "_view_module_version": "1.2.0",
            "_view_name": "StyleView",
            "description_width": ""
          }
        },
        "29329e4cde9c4f3ea39ebf1fe7185794": {
          "model_module": "@jupyter-widgets/controls",
          "model_name": "HBoxModel",
          "model_module_version": "1.5.0",
          "state": {
            "_dom_classes": [],
            "_model_module": "@jupyter-widgets/controls",
            "_model_module_version": "1.5.0",
            "_model_name": "HBoxModel",
            "_view_count": null,
            "_view_module": "@jupyter-widgets/controls",
            "_view_module_version": "1.5.0",
            "_view_name": "HBoxView",
            "box_style": "",
            "children": [
              "IPY_MODEL_7003ec8acb4e469fb14e9c61172bb5af",
              "IPY_MODEL_fd292b1d9b394e6fafc530c30a0f7a09",
              "IPY_MODEL_dc69dea3568146e6a32b576474e0e882"
            ],
            "layout": "IPY_MODEL_eb28944363604df08b5eb92bb56fa3fa"
          }
        },
        "7003ec8acb4e469fb14e9c61172bb5af": {
          "model_module": "@jupyter-widgets/controls",
          "model_name": "HTMLModel",
          "model_module_version": "1.5.0",
          "state": {
            "_dom_classes": [],
            "_model_module": "@jupyter-widgets/controls",
            "_model_module_version": "1.5.0",
            "_model_name": "HTMLModel",
            "_view_count": null,
            "_view_module": "@jupyter-widgets/controls",
            "_view_module_version": "1.5.0",
            "_view_name": "HTMLView",
            "description": "",
            "description_tooltip": null,
            "layout": "IPY_MODEL_62f8825c6bb240e183cf4a117038e480",
            "placeholder": "​",
            "style": "IPY_MODEL_a52acbc23f904a45b9910eef3c2724be",
            "value": "Extracting data files: 100%"
          }
        },
        "fd292b1d9b394e6fafc530c30a0f7a09": {
          "model_module": "@jupyter-widgets/controls",
          "model_name": "FloatProgressModel",
          "model_module_version": "1.5.0",
          "state": {
            "_dom_classes": [],
            "_model_module": "@jupyter-widgets/controls",
            "_model_module_version": "1.5.0",
            "_model_name": "FloatProgressModel",
            "_view_count": null,
            "_view_module": "@jupyter-widgets/controls",
            "_view_module_version": "1.5.0",
            "_view_name": "ProgressView",
            "bar_style": "success",
            "description": "",
            "description_tooltip": null,
            "layout": "IPY_MODEL_70d14ce9cc574421b0d6551a7990fdc0",
            "max": 1,
            "min": 0,
            "orientation": "horizontal",
            "style": "IPY_MODEL_a550981eacdf43b891f9f3e6d55d7bec",
            "value": 1
          }
        },
        "dc69dea3568146e6a32b576474e0e882": {
          "model_module": "@jupyter-widgets/controls",
          "model_name": "HTMLModel",
          "model_module_version": "1.5.0",
          "state": {
            "_dom_classes": [],
            "_model_module": "@jupyter-widgets/controls",
            "_model_module_version": "1.5.0",
            "_model_name": "HTMLModel",
            "_view_count": null,
            "_view_module": "@jupyter-widgets/controls",
            "_view_module_version": "1.5.0",
            "_view_name": "HTMLView",
            "description": "",
            "description_tooltip": null,
            "layout": "IPY_MODEL_035d1cb727be4edf88488de3f32faa2d",
            "placeholder": "​",
            "style": "IPY_MODEL_5d803d5224c5420da5e0a6310c4bb372",
            "value": " 1/1 [00:00&lt;00:00, 27.10it/s]"
          }
        },
        "eb28944363604df08b5eb92bb56fa3fa": {
          "model_module": "@jupyter-widgets/base",
          "model_name": "LayoutModel",
          "model_module_version": "1.2.0",
          "state": {
            "_model_module": "@jupyter-widgets/base",
            "_model_module_version": "1.2.0",
            "_model_name": "LayoutModel",
            "_view_count": null,
            "_view_module": "@jupyter-widgets/base",
            "_view_module_version": "1.2.0",
            "_view_name": "LayoutView",
            "align_content": null,
            "align_items": null,
            "align_self": null,
            "border": null,
            "bottom": null,
            "display": null,
            "flex": null,
            "flex_flow": null,
            "grid_area": null,
            "grid_auto_columns": null,
            "grid_auto_flow": null,
            "grid_auto_rows": null,
            "grid_column": null,
            "grid_gap": null,
            "grid_row": null,
            "grid_template_areas": null,
            "grid_template_columns": null,
            "grid_template_rows": null,
            "height": null,
            "justify_content": null,
            "justify_items": null,
            "left": null,
            "margin": null,
            "max_height": null,
            "max_width": null,
            "min_height": null,
            "min_width": null,
            "object_fit": null,
            "object_position": null,
            "order": null,
            "overflow": null,
            "overflow_x": null,
            "overflow_y": null,
            "padding": null,
            "right": null,
            "top": null,
            "visibility": null,
            "width": null
          }
        },
        "62f8825c6bb240e183cf4a117038e480": {
          "model_module": "@jupyter-widgets/base",
          "model_name": "LayoutModel",
          "model_module_version": "1.2.0",
          "state": {
            "_model_module": "@jupyter-widgets/base",
            "_model_module_version": "1.2.0",
            "_model_name": "LayoutModel",
            "_view_count": null,
            "_view_module": "@jupyter-widgets/base",
            "_view_module_version": "1.2.0",
            "_view_name": "LayoutView",
            "align_content": null,
            "align_items": null,
            "align_self": null,
            "border": null,
            "bottom": null,
            "display": null,
            "flex": null,
            "flex_flow": null,
            "grid_area": null,
            "grid_auto_columns": null,
            "grid_auto_flow": null,
            "grid_auto_rows": null,
            "grid_column": null,
            "grid_gap": null,
            "grid_row": null,
            "grid_template_areas": null,
            "grid_template_columns": null,
            "grid_template_rows": null,
            "height": null,
            "justify_content": null,
            "justify_items": null,
            "left": null,
            "margin": null,
            "max_height": null,
            "max_width": null,
            "min_height": null,
            "min_width": null,
            "object_fit": null,
            "object_position": null,
            "order": null,
            "overflow": null,
            "overflow_x": null,
            "overflow_y": null,
            "padding": null,
            "right": null,
            "top": null,
            "visibility": null,
            "width": null
          }
        },
        "a52acbc23f904a45b9910eef3c2724be": {
          "model_module": "@jupyter-widgets/controls",
          "model_name": "DescriptionStyleModel",
          "model_module_version": "1.5.0",
          "state": {
            "_model_module": "@jupyter-widgets/controls",
            "_model_module_version": "1.5.0",
            "_model_name": "DescriptionStyleModel",
            "_view_count": null,
            "_view_module": "@jupyter-widgets/base",
            "_view_module_version": "1.2.0",
            "_view_name": "StyleView",
            "description_width": ""
          }
        },
        "70d14ce9cc574421b0d6551a7990fdc0": {
          "model_module": "@jupyter-widgets/base",
          "model_name": "LayoutModel",
          "model_module_version": "1.2.0",
          "state": {
            "_model_module": "@jupyter-widgets/base",
            "_model_module_version": "1.2.0",
            "_model_name": "LayoutModel",
            "_view_count": null,
            "_view_module": "@jupyter-widgets/base",
            "_view_module_version": "1.2.0",
            "_view_name": "LayoutView",
            "align_content": null,
            "align_items": null,
            "align_self": null,
            "border": null,
            "bottom": null,
            "display": null,
            "flex": null,
            "flex_flow": null,
            "grid_area": null,
            "grid_auto_columns": null,
            "grid_auto_flow": null,
            "grid_auto_rows": null,
            "grid_column": null,
            "grid_gap": null,
            "grid_row": null,
            "grid_template_areas": null,
            "grid_template_columns": null,
            "grid_template_rows": null,
            "height": null,
            "justify_content": null,
            "justify_items": null,
            "left": null,
            "margin": null,
            "max_height": null,
            "max_width": null,
            "min_height": null,
            "min_width": null,
            "object_fit": null,
            "object_position": null,
            "order": null,
            "overflow": null,
            "overflow_x": null,
            "overflow_y": null,
            "padding": null,
            "right": null,
            "top": null,
            "visibility": null,
            "width": null
          }
        },
        "a550981eacdf43b891f9f3e6d55d7bec": {
          "model_module": "@jupyter-widgets/controls",
          "model_name": "ProgressStyleModel",
          "model_module_version": "1.5.0",
          "state": {
            "_model_module": "@jupyter-widgets/controls",
            "_model_module_version": "1.5.0",
            "_model_name": "ProgressStyleModel",
            "_view_count": null,
            "_view_module": "@jupyter-widgets/base",
            "_view_module_version": "1.2.0",
            "_view_name": "StyleView",
            "bar_color": null,
            "description_width": ""
          }
        },
        "035d1cb727be4edf88488de3f32faa2d": {
          "model_module": "@jupyter-widgets/base",
          "model_name": "LayoutModel",
          "model_module_version": "1.2.0",
          "state": {
            "_model_module": "@jupyter-widgets/base",
            "_model_module_version": "1.2.0",
            "_model_name": "LayoutModel",
            "_view_count": null,
            "_view_module": "@jupyter-widgets/base",
            "_view_module_version": "1.2.0",
            "_view_name": "LayoutView",
            "align_content": null,
            "align_items": null,
            "align_self": null,
            "border": null,
            "bottom": null,
            "display": null,
            "flex": null,
            "flex_flow": null,
            "grid_area": null,
            "grid_auto_columns": null,
            "grid_auto_flow": null,
            "grid_auto_rows": null,
            "grid_column": null,
            "grid_gap": null,
            "grid_row": null,
            "grid_template_areas": null,
            "grid_template_columns": null,
            "grid_template_rows": null,
            "height": null,
            "justify_content": null,
            "justify_items": null,
            "left": null,
            "margin": null,
            "max_height": null,
            "max_width": null,
            "min_height": null,
            "min_width": null,
            "object_fit": null,
            "object_position": null,
            "order": null,
            "overflow": null,
            "overflow_x": null,
            "overflow_y": null,
            "padding": null,
            "right": null,
            "top": null,
            "visibility": null,
            "width": null
          }
        },
        "5d803d5224c5420da5e0a6310c4bb372": {
          "model_module": "@jupyter-widgets/controls",
          "model_name": "DescriptionStyleModel",
          "model_module_version": "1.5.0",
          "state": {
            "_model_module": "@jupyter-widgets/controls",
            "_model_module_version": "1.5.0",
            "_model_name": "DescriptionStyleModel",
            "_view_count": null,
            "_view_module": "@jupyter-widgets/base",
            "_view_module_version": "1.2.0",
            "_view_name": "StyleView",
            "description_width": ""
          }
        },
        "a9ff22269d6445f2ad3878c2214eb579": {
          "model_module": "@jupyter-widgets/controls",
          "model_name": "HBoxModel",
          "model_module_version": "1.5.0",
          "state": {
            "_dom_classes": [],
            "_model_module": "@jupyter-widgets/controls",
            "_model_module_version": "1.5.0",
            "_model_name": "HBoxModel",
            "_view_count": null,
            "_view_module": "@jupyter-widgets/controls",
            "_view_module_version": "1.5.0",
            "_view_name": "HBoxView",
            "box_style": "",
            "children": [
              "IPY_MODEL_00fc8f9b81e5435497d6ae68a56e3e9e",
              "IPY_MODEL_da02ce6f1c2541c4832ed171de4fd182",
              "IPY_MODEL_a8728396da85498785318b9188f6cfd3"
            ],
            "layout": "IPY_MODEL_8956c6db778c4a1bbf3f9ee26520993d"
          }
        },
        "00fc8f9b81e5435497d6ae68a56e3e9e": {
          "model_module": "@jupyter-widgets/controls",
          "model_name": "HTMLModel",
          "model_module_version": "1.5.0",
          "state": {
            "_dom_classes": [],
            "_model_module": "@jupyter-widgets/controls",
            "_model_module_version": "1.5.0",
            "_model_name": "HTMLModel",
            "_view_count": null,
            "_view_module": "@jupyter-widgets/controls",
            "_view_module_version": "1.5.0",
            "_view_name": "HTMLView",
            "description": "",
            "description_tooltip": null,
            "layout": "IPY_MODEL_58d8adca050d44338705e9405ca7e1a0",
            "placeholder": "​",
            "style": "IPY_MODEL_eeab30cf052449b4b841e6978c3c43cf",
            "value": "Generating train split: 100%"
          }
        },
        "da02ce6f1c2541c4832ed171de4fd182": {
          "model_module": "@jupyter-widgets/controls",
          "model_name": "FloatProgressModel",
          "model_module_version": "1.5.0",
          "state": {
            "_dom_classes": [],
            "_model_module": "@jupyter-widgets/controls",
            "_model_module_version": "1.5.0",
            "_model_name": "FloatProgressModel",
            "_view_count": null,
            "_view_module": "@jupyter-widgets/controls",
            "_view_module_version": "1.5.0",
            "_view_name": "ProgressView",
            "bar_style": "",
            "description": "",
            "description_tooltip": null,
            "layout": "IPY_MODEL_f45ab608c6904a74a909832468d76cf0",
            "max": 6521,
            "min": 0,
            "orientation": "horizontal",
            "style": "IPY_MODEL_f9c61f6324ec419493953b8b9974d972",
            "value": 6521
          }
        },
        "a8728396da85498785318b9188f6cfd3": {
          "model_module": "@jupyter-widgets/controls",
          "model_name": "HTMLModel",
          "model_module_version": "1.5.0",
          "state": {
            "_dom_classes": [],
            "_model_module": "@jupyter-widgets/controls",
            "_model_module_version": "1.5.0",
            "_model_name": "HTMLModel",
            "_view_count": null,
            "_view_module": "@jupyter-widgets/controls",
            "_view_module_version": "1.5.0",
            "_view_name": "HTMLView",
            "description": "",
            "description_tooltip": null,
            "layout": "IPY_MODEL_a516aa1a4521420c8f5fef31fd1f705e",
            "placeholder": "​",
            "style": "IPY_MODEL_547e2c48925445348f077f1cd20b4577",
            "value": " 6521/6521 [00:00&lt;00:00, 13449.95 examples/s]"
          }
        },
        "8956c6db778c4a1bbf3f9ee26520993d": {
          "model_module": "@jupyter-widgets/base",
          "model_name": "LayoutModel",
          "model_module_version": "1.2.0",
          "state": {
            "_model_module": "@jupyter-widgets/base",
            "_model_module_version": "1.2.0",
            "_model_name": "LayoutModel",
            "_view_count": null,
            "_view_module": "@jupyter-widgets/base",
            "_view_module_version": "1.2.0",
            "_view_name": "LayoutView",
            "align_content": null,
            "align_items": null,
            "align_self": null,
            "border": null,
            "bottom": null,
            "display": null,
            "flex": null,
            "flex_flow": null,
            "grid_area": null,
            "grid_auto_columns": null,
            "grid_auto_flow": null,
            "grid_auto_rows": null,
            "grid_column": null,
            "grid_gap": null,
            "grid_row": null,
            "grid_template_areas": null,
            "grid_template_columns": null,
            "grid_template_rows": null,
            "height": null,
            "justify_content": null,
            "justify_items": null,
            "left": null,
            "margin": null,
            "max_height": null,
            "max_width": null,
            "min_height": null,
            "min_width": null,
            "object_fit": null,
            "object_position": null,
            "order": null,
            "overflow": null,
            "overflow_x": null,
            "overflow_y": null,
            "padding": null,
            "right": null,
            "top": null,
            "visibility": "hidden",
            "width": null
          }
        },
        "58d8adca050d44338705e9405ca7e1a0": {
          "model_module": "@jupyter-widgets/base",
          "model_name": "LayoutModel",
          "model_module_version": "1.2.0",
          "state": {
            "_model_module": "@jupyter-widgets/base",
            "_model_module_version": "1.2.0",
            "_model_name": "LayoutModel",
            "_view_count": null,
            "_view_module": "@jupyter-widgets/base",
            "_view_module_version": "1.2.0",
            "_view_name": "LayoutView",
            "align_content": null,
            "align_items": null,
            "align_self": null,
            "border": null,
            "bottom": null,
            "display": null,
            "flex": null,
            "flex_flow": null,
            "grid_area": null,
            "grid_auto_columns": null,
            "grid_auto_flow": null,
            "grid_auto_rows": null,
            "grid_column": null,
            "grid_gap": null,
            "grid_row": null,
            "grid_template_areas": null,
            "grid_template_columns": null,
            "grid_template_rows": null,
            "height": null,
            "justify_content": null,
            "justify_items": null,
            "left": null,
            "margin": null,
            "max_height": null,
            "max_width": null,
            "min_height": null,
            "min_width": null,
            "object_fit": null,
            "object_position": null,
            "order": null,
            "overflow": null,
            "overflow_x": null,
            "overflow_y": null,
            "padding": null,
            "right": null,
            "top": null,
            "visibility": null,
            "width": null
          }
        },
        "eeab30cf052449b4b841e6978c3c43cf": {
          "model_module": "@jupyter-widgets/controls",
          "model_name": "DescriptionStyleModel",
          "model_module_version": "1.5.0",
          "state": {
            "_model_module": "@jupyter-widgets/controls",
            "_model_module_version": "1.5.0",
            "_model_name": "DescriptionStyleModel",
            "_view_count": null,
            "_view_module": "@jupyter-widgets/base",
            "_view_module_version": "1.2.0",
            "_view_name": "StyleView",
            "description_width": ""
          }
        },
        "f45ab608c6904a74a909832468d76cf0": {
          "model_module": "@jupyter-widgets/base",
          "model_name": "LayoutModel",
          "model_module_version": "1.2.0",
          "state": {
            "_model_module": "@jupyter-widgets/base",
            "_model_module_version": "1.2.0",
            "_model_name": "LayoutModel",
            "_view_count": null,
            "_view_module": "@jupyter-widgets/base",
            "_view_module_version": "1.2.0",
            "_view_name": "LayoutView",
            "align_content": null,
            "align_items": null,
            "align_self": null,
            "border": null,
            "bottom": null,
            "display": null,
            "flex": null,
            "flex_flow": null,
            "grid_area": null,
            "grid_auto_columns": null,
            "grid_auto_flow": null,
            "grid_auto_rows": null,
            "grid_column": null,
            "grid_gap": null,
            "grid_row": null,
            "grid_template_areas": null,
            "grid_template_columns": null,
            "grid_template_rows": null,
            "height": null,
            "justify_content": null,
            "justify_items": null,
            "left": null,
            "margin": null,
            "max_height": null,
            "max_width": null,
            "min_height": null,
            "min_width": null,
            "object_fit": null,
            "object_position": null,
            "order": null,
            "overflow": null,
            "overflow_x": null,
            "overflow_y": null,
            "padding": null,
            "right": null,
            "top": null,
            "visibility": null,
            "width": null
          }
        },
        "f9c61f6324ec419493953b8b9974d972": {
          "model_module": "@jupyter-widgets/controls",
          "model_name": "ProgressStyleModel",
          "model_module_version": "1.5.0",
          "state": {
            "_model_module": "@jupyter-widgets/controls",
            "_model_module_version": "1.5.0",
            "_model_name": "ProgressStyleModel",
            "_view_count": null,
            "_view_module": "@jupyter-widgets/base",
            "_view_module_version": "1.2.0",
            "_view_name": "StyleView",
            "bar_color": null,
            "description_width": ""
          }
        },
        "a516aa1a4521420c8f5fef31fd1f705e": {
          "model_module": "@jupyter-widgets/base",
          "model_name": "LayoutModel",
          "model_module_version": "1.2.0",
          "state": {
            "_model_module": "@jupyter-widgets/base",
            "_model_module_version": "1.2.0",
            "_model_name": "LayoutModel",
            "_view_count": null,
            "_view_module": "@jupyter-widgets/base",
            "_view_module_version": "1.2.0",
            "_view_name": "LayoutView",
            "align_content": null,
            "align_items": null,
            "align_self": null,
            "border": null,
            "bottom": null,
            "display": null,
            "flex": null,
            "flex_flow": null,
            "grid_area": null,
            "grid_auto_columns": null,
            "grid_auto_flow": null,
            "grid_auto_rows": null,
            "grid_column": null,
            "grid_gap": null,
            "grid_row": null,
            "grid_template_areas": null,
            "grid_template_columns": null,
            "grid_template_rows": null,
            "height": null,
            "justify_content": null,
            "justify_items": null,
            "left": null,
            "margin": null,
            "max_height": null,
            "max_width": null,
            "min_height": null,
            "min_width": null,
            "object_fit": null,
            "object_position": null,
            "order": null,
            "overflow": null,
            "overflow_x": null,
            "overflow_y": null,
            "padding": null,
            "right": null,
            "top": null,
            "visibility": null,
            "width": null
          }
        },
        "547e2c48925445348f077f1cd20b4577": {
          "model_module": "@jupyter-widgets/controls",
          "model_name": "DescriptionStyleModel",
          "model_module_version": "1.5.0",
          "state": {
            "_model_module": "@jupyter-widgets/controls",
            "_model_module_version": "1.5.0",
            "_model_name": "DescriptionStyleModel",
            "_view_count": null,
            "_view_module": "@jupyter-widgets/base",
            "_view_module_version": "1.2.0",
            "_view_name": "StyleView",
            "description_width": ""
          }
        },
        "eaecce83a3e44c87a1f46f69035d4fee": {
          "model_module": "@jupyter-widgets/controls",
          "model_name": "HBoxModel",
          "model_module_version": "1.5.0",
          "state": {
            "_dom_classes": [],
            "_model_module": "@jupyter-widgets/controls",
            "_model_module_version": "1.5.0",
            "_model_name": "HBoxModel",
            "_view_count": null,
            "_view_module": "@jupyter-widgets/controls",
            "_view_module_version": "1.5.0",
            "_view_name": "HBoxView",
            "box_style": "",
            "children": [
              "IPY_MODEL_ddf6878ddc5041039b0b410040ea23da",
              "IPY_MODEL_07ca423acb844d0e87bfbb5c6c449527",
              "IPY_MODEL_4f09d76881cb471d98f7ca0ae7fc43ef"
            ],
            "layout": "IPY_MODEL_79569276a2e547bd95b2c996fa100976"
          }
        },
        "ddf6878ddc5041039b0b410040ea23da": {
          "model_module": "@jupyter-widgets/controls",
          "model_name": "HTMLModel",
          "model_module_version": "1.5.0",
          "state": {
            "_dom_classes": [],
            "_model_module": "@jupyter-widgets/controls",
            "_model_module_version": "1.5.0",
            "_model_name": "HTMLModel",
            "_view_count": null,
            "_view_module": "@jupyter-widgets/controls",
            "_view_module_version": "1.5.0",
            "_view_name": "HTMLView",
            "description": "",
            "description_tooltip": null,
            "layout": "IPY_MODEL_0a0f9919d5d947a2acc34a1d5b5234f1",
            "placeholder": "​",
            "style": "IPY_MODEL_dd754387e0074cbcaaf47cf68ede4604",
            "value": "100%"
          }
        },
        "07ca423acb844d0e87bfbb5c6c449527": {
          "model_module": "@jupyter-widgets/controls",
          "model_name": "FloatProgressModel",
          "model_module_version": "1.5.0",
          "state": {
            "_dom_classes": [],
            "_model_module": "@jupyter-widgets/controls",
            "_model_module_version": "1.5.0",
            "_model_name": "FloatProgressModel",
            "_view_count": null,
            "_view_module": "@jupyter-widgets/controls",
            "_view_module_version": "1.5.0",
            "_view_name": "ProgressView",
            "bar_style": "success",
            "description": "",
            "description_tooltip": null,
            "layout": "IPY_MODEL_1ae4b4ee5b52446ba3f455c6cea2eef1",
            "max": 66,
            "min": 0,
            "orientation": "horizontal",
            "style": "IPY_MODEL_9ae6e7b4e39e4312a7556a007e504d06",
            "value": 66
          }
        },
        "4f09d76881cb471d98f7ca0ae7fc43ef": {
          "model_module": "@jupyter-widgets/controls",
          "model_name": "HTMLModel",
          "model_module_version": "1.5.0",
          "state": {
            "_dom_classes": [],
            "_model_module": "@jupyter-widgets/controls",
            "_model_module_version": "1.5.0",
            "_model_name": "HTMLModel",
            "_view_count": null,
            "_view_module": "@jupyter-widgets/controls",
            "_view_module_version": "1.5.0",
            "_view_name": "HTMLView",
            "description": "",
            "description_tooltip": null,
            "layout": "IPY_MODEL_e89fc1b8791e4231a9aeb2438fdfc969",
            "placeholder": "​",
            "style": "IPY_MODEL_f938ba3301b54cda9df4cd4bb2f5b271",
            "value": " 66/66 [05:40&lt;00:00,  4.49s/it]"
          }
        },
        "79569276a2e547bd95b2c996fa100976": {
          "model_module": "@jupyter-widgets/base",
          "model_name": "LayoutModel",
          "model_module_version": "1.2.0",
          "state": {
            "_model_module": "@jupyter-widgets/base",
            "_model_module_version": "1.2.0",
            "_model_name": "LayoutModel",
            "_view_count": null,
            "_view_module": "@jupyter-widgets/base",
            "_view_module_version": "1.2.0",
            "_view_name": "LayoutView",
            "align_content": null,
            "align_items": null,
            "align_self": null,
            "border": null,
            "bottom": null,
            "display": null,
            "flex": null,
            "flex_flow": null,
            "grid_area": null,
            "grid_auto_columns": null,
            "grid_auto_flow": null,
            "grid_auto_rows": null,
            "grid_column": null,
            "grid_gap": null,
            "grid_row": null,
            "grid_template_areas": null,
            "grid_template_columns": null,
            "grid_template_rows": null,
            "height": null,
            "justify_content": null,
            "justify_items": null,
            "left": null,
            "margin": null,
            "max_height": null,
            "max_width": null,
            "min_height": null,
            "min_width": null,
            "object_fit": null,
            "object_position": null,
            "order": null,
            "overflow": null,
            "overflow_x": null,
            "overflow_y": null,
            "padding": null,
            "right": null,
            "top": null,
            "visibility": null,
            "width": null
          }
        },
        "0a0f9919d5d947a2acc34a1d5b5234f1": {
          "model_module": "@jupyter-widgets/base",
          "model_name": "LayoutModel",
          "model_module_version": "1.2.0",
          "state": {
            "_model_module": "@jupyter-widgets/base",
            "_model_module_version": "1.2.0",
            "_model_name": "LayoutModel",
            "_view_count": null,
            "_view_module": "@jupyter-widgets/base",
            "_view_module_version": "1.2.0",
            "_view_name": "LayoutView",
            "align_content": null,
            "align_items": null,
            "align_self": null,
            "border": null,
            "bottom": null,
            "display": null,
            "flex": null,
            "flex_flow": null,
            "grid_area": null,
            "grid_auto_columns": null,
            "grid_auto_flow": null,
            "grid_auto_rows": null,
            "grid_column": null,
            "grid_gap": null,
            "grid_row": null,
            "grid_template_areas": null,
            "grid_template_columns": null,
            "grid_template_rows": null,
            "height": null,
            "justify_content": null,
            "justify_items": null,
            "left": null,
            "margin": null,
            "max_height": null,
            "max_width": null,
            "min_height": null,
            "min_width": null,
            "object_fit": null,
            "object_position": null,
            "order": null,
            "overflow": null,
            "overflow_x": null,
            "overflow_y": null,
            "padding": null,
            "right": null,
            "top": null,
            "visibility": null,
            "width": null
          }
        },
        "dd754387e0074cbcaaf47cf68ede4604": {
          "model_module": "@jupyter-widgets/controls",
          "model_name": "DescriptionStyleModel",
          "model_module_version": "1.5.0",
          "state": {
            "_model_module": "@jupyter-widgets/controls",
            "_model_module_version": "1.5.0",
            "_model_name": "DescriptionStyleModel",
            "_view_count": null,
            "_view_module": "@jupyter-widgets/base",
            "_view_module_version": "1.2.0",
            "_view_name": "StyleView",
            "description_width": ""
          }
        },
        "1ae4b4ee5b52446ba3f455c6cea2eef1": {
          "model_module": "@jupyter-widgets/base",
          "model_name": "LayoutModel",
          "model_module_version": "1.2.0",
          "state": {
            "_model_module": "@jupyter-widgets/base",
            "_model_module_version": "1.2.0",
            "_model_name": "LayoutModel",
            "_view_count": null,
            "_view_module": "@jupyter-widgets/base",
            "_view_module_version": "1.2.0",
            "_view_name": "LayoutView",
            "align_content": null,
            "align_items": null,
            "align_self": null,
            "border": null,
            "bottom": null,
            "display": null,
            "flex": null,
            "flex_flow": null,
            "grid_area": null,
            "grid_auto_columns": null,
            "grid_auto_flow": null,
            "grid_auto_rows": null,
            "grid_column": null,
            "grid_gap": null,
            "grid_row": null,
            "grid_template_areas": null,
            "grid_template_columns": null,
            "grid_template_rows": null,
            "height": null,
            "justify_content": null,
            "justify_items": null,
            "left": null,
            "margin": null,
            "max_height": null,
            "max_width": null,
            "min_height": null,
            "min_width": null,
            "object_fit": null,
            "object_position": null,
            "order": null,
            "overflow": null,
            "overflow_x": null,
            "overflow_y": null,
            "padding": null,
            "right": null,
            "top": null,
            "visibility": null,
            "width": null
          }
        },
        "9ae6e7b4e39e4312a7556a007e504d06": {
          "model_module": "@jupyter-widgets/controls",
          "model_name": "ProgressStyleModel",
          "model_module_version": "1.5.0",
          "state": {
            "_model_module": "@jupyter-widgets/controls",
            "_model_module_version": "1.5.0",
            "_model_name": "ProgressStyleModel",
            "_view_count": null,
            "_view_module": "@jupyter-widgets/base",
            "_view_module_version": "1.2.0",
            "_view_name": "StyleView",
            "bar_color": null,
            "description_width": ""
          }
        },
        "e89fc1b8791e4231a9aeb2438fdfc969": {
          "model_module": "@jupyter-widgets/base",
          "model_name": "LayoutModel",
          "model_module_version": "1.2.0",
          "state": {
            "_model_module": "@jupyter-widgets/base",
            "_model_module_version": "1.2.0",
            "_model_name": "LayoutModel",
            "_view_count": null,
            "_view_module": "@jupyter-widgets/base",
            "_view_module_version": "1.2.0",
            "_view_name": "LayoutView",
            "align_content": null,
            "align_items": null,
            "align_self": null,
            "border": null,
            "bottom": null,
            "display": null,
            "flex": null,
            "flex_flow": null,
            "grid_area": null,
            "grid_auto_columns": null,
            "grid_auto_flow": null,
            "grid_auto_rows": null,
            "grid_column": null,
            "grid_gap": null,
            "grid_row": null,
            "grid_template_areas": null,
            "grid_template_columns": null,
            "grid_template_rows": null,
            "height": null,
            "justify_content": null,
            "justify_items": null,
            "left": null,
            "margin": null,
            "max_height": null,
            "max_width": null,
            "min_height": null,
            "min_width": null,
            "object_fit": null,
            "object_position": null,
            "order": null,
            "overflow": null,
            "overflow_x": null,
            "overflow_y": null,
            "padding": null,
            "right": null,
            "top": null,
            "visibility": null,
            "width": null
          }
        },
        "f938ba3301b54cda9df4cd4bb2f5b271": {
          "model_module": "@jupyter-widgets/controls",
          "model_name": "DescriptionStyleModel",
          "model_module_version": "1.5.0",
          "state": {
            "_model_module": "@jupyter-widgets/controls",
            "_model_module_version": "1.5.0",
            "_model_name": "DescriptionStyleModel",
            "_view_count": null,
            "_view_module": "@jupyter-widgets/base",
            "_view_module_version": "1.2.0",
            "_view_name": "StyleView",
            "description_width": ""
          }
        }
      }
    }
  },
  "nbformat": 4,
  "nbformat_minor": 0
}