{
  "cells": [
    {
      "cell_type": "markdown",
      "metadata": {
        "id": "1xF28qk8w4wT"
      },
      "source": [
        "[![Open In Colab](https://colab.research.google.com/assets/colab-badge.svg)](https://colab.research.google.com/github/pinecone-io/examples/blob/master/learn/generation/langchain/rag-chatbot.ipynb) [![Open nbviewer](https://raw.githubusercontent.com/pinecone-io/examples/master/assets/nbviewer-shield.svg)](https://nbviewer.org/github/pinecone-io/examples/blob/master/learn/generation/langchain/rag-chatbot.ipynb)"
      ]
    },
    {
      "cell_type": "markdown",
      "source": [
        "Go through the demo file and run it in your local for hands-on:\n",
        "\n",
        "Part A: Build a code understanding model. Upload your own custom code files to the model and ask questions based on the code file as context.\n",
        "\n",
        "Part B: Write a chatbot prompt to iteratively create a sequence of chats on one particular custom data.\n",
        "\n",
        "1. The chatbot should be able to answer the questions based on the text data or multiple documents.\n",
        "\n",
        "2. The chatbot should save the conversation in the memory.\n",
        "\n",
        "2. Summarize the chats at the end of the conversation."
      ],
      "metadata": {
        "id": "YS7ot_Mknzbf"
      }
    },
    {
      "cell_type": "markdown",
      "source": [
        "## Part A: Build a code understanding model. Upload your own custom code files to the model and ask questions based on the code file as context."
      ],
      "metadata": {
        "id": "apJ2KkMOoqGY"
      }
    },
    {
      "cell_type": "code",
      "execution_count": null,
      "metadata": {
        "id": "CflZ3e82w4wV"
      },
      "outputs": [],
      "source": [
        "!pip install -qU \\\n",
        "    langchain==0.0.354 \\\n",
        "    openai==1.6.1 \\\n",
        "    datasets==2.10.1 \\\n",
        "    pinecone-client==3.1.0 \\\n",
        "    tiktoken==0.5.2"
      ]
    },
    {
      "cell_type": "code",
      "source": [
        "import os\n",
        "import openai"
      ],
      "metadata": {
        "id": "dbjbvU12rGkx"
      },
      "execution_count": null,
      "outputs": []
    },
    {
      "cell_type": "markdown",
      "metadata": {
        "id": "ZUH6ontXw4wV"
      },
      "source": [
        "### Building a Chatbot (no RAG)"
      ]
    },
    {
      "cell_type": "markdown",
      "metadata": {
        "id": "VAps57bQw4wW"
      },
      "source": [
        "We will be relying heavily on the LangChain library to bring together the different components needed for our chatbot. To begin, we'll create a simple chatbot without any retrieval augmentation. We do this by initializing a `ChatOpenAI` object. For this we do need an [OpenAI API key](https://platform.openai.com/account/api-keys)."
      ]
    },
    {
      "cell_type": "code",
      "source": [
        "from google.colab import drive\n",
        "drive.mount('/content/drive')"
      ],
      "metadata": {
        "colab": {
          "base_uri": "https://localhost:8080/"
        },
        "id": "Psgm9I0YfOFj",
        "outputId": "d63464c4-bd4c-40b4-c9cb-2af57f500be1"
      },
      "execution_count": null,
      "outputs": [
        {
          "output_type": "stream",
          "name": "stdout",
          "text": [
            "Drive already mounted at /content/drive; to attempt to forcibly remount, call drive.mount(\"/content/drive\", force_remount=True).\n"
          ]
        }
      ]
    },
    {
      "cell_type": "code",
      "source": [
        "!pip install --quiet python-dotenv"
      ],
      "metadata": {
        "id": "y0c4-fUZfAdz"
      },
      "execution_count": null,
      "outputs": []
    },
    {
      "cell_type": "code",
      "source": [
        "from dotenv import load_dotenv, find_dotenv\n",
        "load_dotenv('/content/drive/MyDrive/Data 255 HW/Assignment 12/.env')"
      ],
      "metadata": {
        "colab": {
          "base_uri": "https://localhost:8080/"
        },
        "id": "-uu3ajVpfICp",
        "outputId": "34030374-3f47-4717-e03e-f84792a210fc"
      },
      "execution_count": 70,
      "outputs": [
        {
          "output_type": "execute_result",
          "data": {
            "text/plain": [
              "True"
            ]
          },
          "metadata": {},
          "execution_count": 70
        }
      ]
    },
    {
      "cell_type": "code",
      "execution_count": 71,
      "metadata": {
        "id": "-hF4HeBjw4wW",
        "colab": {
          "base_uri": "https://localhost:8080/"
        },
        "outputId": "2d910210-ae94-4bc6-f7da-80fe0413a48c"
      },
      "outputs": [
        {
          "output_type": "execute_result",
          "data": {
            "text/plain": [
              "True"
            ]
          },
          "metadata": {},
          "execution_count": 71
        }
      ],
      "source": [
        "import os\n",
        "from langchain.chat_models import ChatOpenAI\n",
        "from dotenv import load_dotenv, find_dotenv\n",
        "_ = load_dotenv(find_dotenv()) # read local .env file\n",
        "load_dotenv('/content/drive/MyDrive/Data 255 HW/Assignment 12/.env')"
      ]
    },
    {
      "cell_type": "code",
      "source": [
        "# account for deprecation of LLM model\n",
        "import datetime\n",
        "# Get the current date\n",
        "current_date = datetime.datetime.now().date()\n",
        "\n",
        "# Define the date after which the model should be set to \"gpt-3.5-turbo\"\n",
        "target_date = datetime.date(2024, 6, 12)\n",
        "\n",
        "# Set the model variable based on the current date\n",
        "if current_date > target_date:\n",
        "    llm_model = \"gpt-3.5-turbo\"\n",
        "else:\n",
        "    llm_model = \"gpt-3.5-turbo-0301\""
      ],
      "metadata": {
        "id": "g3Kre4MXqoaC"
      },
      "execution_count": 47,
      "outputs": []
    },
    {
      "cell_type": "markdown",
      "source": [
        "## Part A: Build a code understanding model. Upload your own custom code files to the model and ask questions based on the code file as context."
      ],
      "metadata": {
        "id": "pMeEtk5Yxv6H"
      }
    },
    {
      "cell_type": "code",
      "source": [
        "chat = ChatOpenAI(\n",
        "    openai_api_key=os.getenv(\"OPENAI_API_KEY\"),\n",
        "    model=llm_model\n",
        ")"
      ],
      "metadata": {
        "id": "zZzsuIwjqoWd"
      },
      "execution_count": 48,
      "outputs": []
    },
    {
      "cell_type": "code",
      "source": [
        "from langchain.chat_models import ChatOpenAI\n",
        "from langchain.chat_models import ChatOpenAI\n",
        "from langchain.chains import ConversationChain\n",
        "from langchain.memory import ConversationBufferMemory"
      ],
      "metadata": {
        "id": "z-W9Qs78qoQ0"
      },
      "execution_count": 49,
      "outputs": []
    },
    {
      "cell_type": "code",
      "source": [
        "from langchain.schema import (\n",
        "    SystemMessage,\n",
        "    HumanMessage,\n",
        "    AIMessage\n",
        ")\n",
        "\n",
        "messages = [\n",
        "    SystemMessage(content=\"You are a helpful assistant who helps understand code.\")\n",
        "]"
      ],
      "metadata": {
        "id": "a-gCbSSJuJa7"
      },
      "execution_count": 50,
      "outputs": []
    },
    {
      "cell_type": "code",
      "source": [
        "res = chat(messages)\n",
        "# add latest AI response to messages\n",
        "messages.append(res)\n",
        "print(res.content)"
      ],
      "metadata": {
        "colab": {
          "base_uri": "https://localhost:8080/"
        },
        "id": "Ttp79LHBfAoI",
        "outputId": "89a8b70a-b5dc-4daa-8187-f0731a43ec73"
      },
      "execution_count": 51,
      "outputs": [
        {
          "output_type": "stream",
          "name": "stdout",
          "text": [
            "Thank you! How can I assist you today?\n"
          ]
        }
      ]
    },
    {
      "cell_type": "code",
      "source": [
        "file_path = '/content/drive/MyDrive/Data 255 HW/Assignment 12/mini_vgg_base.py'\n",
        "\n",
        "with open(file_path, 'r') as file:\n",
        "    file_content = file.read()"
      ],
      "metadata": {
        "id": "Q8eiweI_vL8d"
      },
      "execution_count": 52,
      "outputs": []
    },
    {
      "cell_type": "code",
      "source": [
        "file_content"
      ],
      "metadata": {
        "colab": {
          "base_uri": "https://localhost:8080/",
          "height": 178
        },
        "id": "dnuPS0ZleIVb",
        "outputId": "118a6a8d-df20-4101-e571-5101e7dc23c7"
      },
      "execution_count": 53,
      "outputs": [
        {
          "output_type": "execute_result",
          "data": {
            "text/plain": [
              "'# -*- coding: utf-8 -*-\\n\"\"\"Mini VGG_Base.ipynb\\n\\nAutomatically generated by Colab.\\n\\nOriginal file is located at\\n    https://colab.research.google.com/drive/1eGh1Rhg5NF_N9DxTJd7fp72kWYz6cwB8\\n\"\"\"\\n\\nimport numpy as np\\nimport torch\\nimport torch.nn as nn\\nimport torchvision\\nfrom torchvision import datasets\\nfrom torchvision import transforms\\nfrom torchsummary import summary\\nfrom torch.utils.data.sampler import SubsetRandomSampler\\nfrom tensorflow.keras.datasets import cifar10\\nfrom tensorflow.keras.utils import to_categorical\\nfrom torch.utils.data import DataLoader\\nimport time\\nimport gc\\n\\ntorch.cuda.empty_cache()\\ngc.collect()\\n\\n# Device configuration\\ndevice = torch.device(\\'cuda\\' if torch.cuda.is_available() else \\'cpu\\')\\n\\ndevice\\n\\ntransform = transforms.Compose([\\n            transforms.ToTensor()\\n    ])\\n\\ntrain_data = torchvision.datasets.CIFAR10(root=\\'./data\\', train=True, download=True, transform=transform)\\ntest_data = torchvision.datasets.CIFAR10(root=\\'./data\\', train=False, download=True, transform=transform)\\n\\ntrain_data\\n\\ntest_data\\n\\nbatch_size = 32\\ntrain_data_loader = DataLoader(dataset=train_data, batch_size=batch_size, shuffle=True)\\ntest_data_loader = DataLoader(dataset=test_data, batch_size=batch_size, shuffle=True)\\n\\ntrain_data_loader.batch_size\\n\\nclass Mini_VGG(nn.Module):\\n    def __init__(self, num_classes=10):\\n        super(Mini_VGG, self).__init__()\\n        # 3 - Number of Channels in the image\\n        # 64 - Channels created by convolution\\n        self.layer1 = nn.Sequential(\\n            nn.Conv2d(3, 64, kernel_size=3, stride=1, padding=1),\\n            nn.BatchNorm2d(64),\\n            nn.ReLU())\\n        # 64 - Number of Channels in the input\\n        # 64 - Channels created by convolution\\n        self.layer2 = nn.Sequential(\\n            nn.Conv2d(64, 64, kernel_size=3, stride=1, padding=1),\\n            nn.BatchNorm2d(64),\\n            nn.ReLU())\\n        self.layer3 = nn.Sequential(\\n            nn.MaxPool2d(kernel_size = 2)\\n        )\\n        # 64 - Number of Channels in the input\\n        # 128 - Channels created by convolution\\n        self.layer4 = nn.Sequential(\\n            nn.Conv2d(64, 128, kernel_size=3, stride=1, padding=1),\\n            nn.BatchNorm2d(128),\\n            nn.ReLU())\\n        # 128 - Number of Channels in the input\\n        # 128 - Channels created by convolution\\n        self.layer5 = nn.Sequential(\\n            nn.Conv2d(128, 128, kernel_size=3, stride=1, padding=1),\\n            nn.BatchNorm2d(128),\\n            nn.ReLU())\\n        self.layer6 = nn.Sequential(\\n            nn.MaxPool2d(kernel_size = 2)\\n        )\\n        # 128 - Number of Channels in the input\\n        # 256 - Channels created by convolution\\n        self.layer7 = nn.Sequential(\\n            nn.Conv2d(128, 256, kernel_size=3, stride=1, padding=1),\\n            nn.BatchNorm2d(256),\\n            nn.ReLU())\\n        # 256 - Number of Channels in the input\\n        # 256 - Channels created by convolution\\n        self.layer8 = nn.Sequential(\\n            nn.Conv2d(256, 256, kernel_size=3, stride=1, padding=1),\\n            nn.BatchNorm2d(256),\\n            nn.ReLU())\\n        self.layer9 = nn.Sequential(\\n            nn.MaxPool2d(kernel_size = 2)\\n        )\\n        # 32 x 32 image - 2D Maxpooled 3 times to yield 4x4\\n        self.fc = nn.Sequential(\\n            nn.Linear(4*4*256, 512),\\n            nn.ReLU(),\\n            nn.Linear(512, num_classes))\\n\\n    def forward(self, x):\\n        out = self.layer1(x)\\n        out = self.layer2(out)\\n        out = self.layer3(out)\\n        out = self.layer4(out)\\n        out = self.layer5(out)\\n        out = self.layer6(out)\\n        out = self.layer7(out)\\n        out = self.layer8(out)\\n        out = self.layer9(out)\\n        out = out.reshape(out.size(0), -1)\\n        out = self.fc(out)\\n        return out\\n\\nnum_classes = 10\\nnum_epochs = 20\\nbatch_size = 32\\nlearning_rate = 0.005\\nweight_decay = 0.005\\nmomentum = 0.9\\n\\nmodel = Mini_VGG(10).cuda()\\ncriterion = nn.CrossEntropyLoss()\\noptimizer = torch.optim.SGD(model.parameters(), lr=learning_rate, weight_decay=weight_decay, momentum = momentum)\\n\\nsummary(model, (3,32,32))\\n\\nstart = time.time()\\nprint(\\'**********************************\\')\\nprint(\\'Start time: \\', start)\\n# Set model in training mode\\nmodel.train()\\nfor epoch in range(num_epochs):\\n  model.train()\\n  for i, (images,labels) in enumerate(train_data_loader):\\n    images, labels = images.cuda(), labels.cuda()\\n    output = model(images)\\n    loss = criterion(output, labels)\\n\\n    optimizer.zero_grad()\\n    loss.backward()\\n    optimizer.step()\\n\\n    if i % 100 == 0:\\n      print(\\'Epoch :\\', epoch+1,  \\' Step: \\', i, \\'Loss:\\',  loss.item())\\n\\nend = time.time()\\nprint(\\'**********************************\\')\\nprint(\\'End time: \\', end)\\nprint(\\'Total time: \\', end-start)\\n\\n# Testing\\n# Set model in evaluation mode\\ntotal_loss = 0\\ntotal_correct_prediction = 0\\nmodel.eval()\\nwith torch.no_grad():\\n  for (images,labels) in test_data_loader:\\n    images, labels = images.cuda(), labels.cuda()\\n    output = model(images)\\n    loss = criterion(output, labels)\\n    total_loss += loss\\n    total_correct_prediction += (output.argmax(axis=1) == labels).type(\\n          torch.float).sum().item()\\n\\nlen(test_data_loader.dataset)\\n\\nprint(\"Total Loss:\", total_loss)\\nprint(\"Total Correct Prediction: \", total_correct_prediction)\\nprint(\"Accuracy: \", total_correct_prediction / len(test_data_loader.dataset))\\n\\ntorch.cuda.memory_summary(device=None, abbreviated=False)'"
            ],
            "application/vnd.google.colaboratory.intrinsic+json": {
              "type": "string"
            }
          },
          "metadata": {},
          "execution_count": 53
        }
      ]
    },
    {
      "cell_type": "code",
      "execution_count": 54,
      "metadata": {
        "id": "wIgGjMLduUci"
      },
      "outputs": [],
      "source": [
        "source_knowledge = file_content"
      ]
    },
    {
      "cell_type": "code",
      "execution_count": 55,
      "metadata": {
        "id": "7UvWXWm6uUco"
      },
      "outputs": [],
      "source": [
        "query = \"Can you tell me about the code in this python file?\"\n",
        "\n",
        "augmented_prompt = f\"\"\"Using the contexts below, answer the query.\n",
        "\n",
        "Contexts:\n",
        "{source_knowledge}\n",
        "\n",
        "Query: {query}\"\"\""
      ]
    },
    {
      "cell_type": "code",
      "execution_count": 56,
      "metadata": {
        "id": "PNPGQscQuUco"
      },
      "outputs": [],
      "source": [
        "# create a new user prompt\n",
        "prompt = HumanMessage(\n",
        "    content=augmented_prompt\n",
        ")\n",
        "# add to messages\n",
        "messages.append(prompt)\n",
        "\n",
        "# send to OpenAI\n",
        "res = chat(messages)\n",
        "\n",
        "# add latest AI response to messages\n",
        "messages.append(res)"
      ]
    },
    {
      "cell_type": "code",
      "source": [
        "print(res.content)"
      ],
      "metadata": {
        "colab": {
          "base_uri": "https://localhost:8080/"
        },
        "id": "XKlY8z5suJU1",
        "outputId": "690391a6-85b6-4dfe-ba75-50bcd0c1b61f"
      },
      "execution_count": 57,
      "outputs": [
        {
          "output_type": "stream",
          "name": "stdout",
          "text": [
            "This is a Python script that defines a Mini VGG convolutional neural network and trains it on the CIFAR10 dataset. The CIFAR10 dataset is loaded using the torchvision library and transformed into tensors using the transforms module. The Mini VGG model is defined using the nn module from PyTorch, and the model is trained using stochastic gradient descent (SGD) with cross-entropy loss as the loss function. The model is trained and tested on the CIFAR10 dataset using data loaders from the PyTorch library. The script also prints the loss and accuracy during the training and testing phases, respectively. Lastly, it uses the torch.cuda.memory_summary() function to print a summary of the GPU memory usage.\n"
          ]
        }
      ]
    },
    {
      "cell_type": "code",
      "source": [
        "# create a new user prompt\n",
        "prompt = HumanMessage(\n",
        "    content=\"Which dataset is used in this code?\"\n",
        ")\n",
        "# add to messages\n",
        "messages.append(prompt)\n",
        "\n",
        "# send to OpenAI\n",
        "res = chat(messages)\n",
        "\n",
        "# add latest AI response to messages\n",
        "messages.append(res)\n",
        "\n",
        "print(res.content)"
      ],
      "metadata": {
        "colab": {
          "base_uri": "https://localhost:8080/"
        },
        "id": "lKIAKG69uJQh",
        "outputId": "1573e543-ef3f-4142-b682-132947b9b523"
      },
      "execution_count": 58,
      "outputs": [
        {
          "output_type": "stream",
          "name": "stdout",
          "text": [
            "The CIFAR10 dataset is used in this code. It is a dataset of 50,000 32x32 color training images and 10,000 test images, labeled over 10 categories.\n"
          ]
        }
      ]
    },
    {
      "cell_type": "code",
      "source": [
        "# create a new user prompt\n",
        "prompt = HumanMessage(\n",
        "    content=\"Is this code run on CPU?\"\n",
        ")\n",
        "# add to messages\n",
        "messages.append(prompt)\n",
        "\n",
        "# send to OpenAI\n",
        "res = chat(messages)\n",
        "\n",
        "# add latest AI response to messages\n",
        "messages.append(res)\n",
        "\n",
        "print(res.content)"
      ],
      "metadata": {
        "id": "xviv3FAKuJOf",
        "colab": {
          "base_uri": "https://localhost:8080/"
        },
        "outputId": "7569d3e8-a1fa-416f-8cf7-d0009f91d70c"
      },
      "execution_count": 59,
      "outputs": [
        {
          "output_type": "stream",
          "name": "stdout",
          "text": [
            "The code checks if a CUDA-enabled GPU is available and uses it for computation if available, otherwise it fallbacks to CPU. So it can run on both CPU and GPU.\n"
          ]
        }
      ]
    },
    {
      "cell_type": "code",
      "source": [
        "# create a new user prompt\n",
        "prompt = HumanMessage(\n",
        "    content=\"What improvements can you suggest in the code?\"\n",
        ")\n",
        "# add to messages\n",
        "messages.append(prompt)\n",
        "\n",
        "# send to OpenAI\n",
        "res = chat(messages)\n",
        "\n",
        "# add latest AI response to messages\n",
        "messages.append(res)\n",
        "\n",
        "print(res.content)"
      ],
      "metadata": {
        "id": "jHA51LjbuJLe",
        "colab": {
          "base_uri": "https://localhost:8080/"
        },
        "outputId": "a9ea9d87-a906-4273-c86e-69eb45363d3a"
      },
      "execution_count": 60,
      "outputs": [
        {
          "output_type": "stream",
          "name": "stdout",
          "text": [
            "Here are some improvements that can be suggested for this code:\n",
            "\n",
            "1. Data augmentation: Data augmentation techniques such as random cropping, flipping, rotation, and scaling can be applied to the images in the training set to increase the diversity of the data and improve the model's performance.\n",
            "\n",
            "2. Learning rate scheduling: The learning rate can be decayed over time to help the model converge faster and avoid overfitting.\n",
            "\n",
            "3. Early stopping: To prevent overfitting, the training can be stopped early if the validation loss does not improve after a certain number of epochs.\n",
            "\n",
            "4. Hyperparameter tuning: The model's hyperparameters, such as batch size and weight decay, can be tuned using techniques like grid search or random search to find the best combination of hyperparameters for the model.\n",
            "\n",
            "5. Use of transfer learning: Instead of training a model from scratch, a pre-trained model can be used as a starting point and fine-tuned on the CIFAR10 dataset to improve performance.\n",
            "\n",
            "6. Use of more advanced architectures: More advanced architectures like ResNet, DenseNet, or EfficientNet can be used to improve the model's performance.\n"
          ]
        }
      ]
    },
    {
      "cell_type": "code",
      "source": [
        "# create a new user prompt\n",
        "prompt = HumanMessage(\n",
        "    content=\"Summarize our conversation\"\n",
        ")\n",
        "# add to messages\n",
        "messages.append(prompt)\n",
        "\n",
        "# send to OpenAI\n",
        "res = chat(messages)\n",
        "\n",
        "# add latest AI response to messages\n",
        "messages.append(res)\n",
        "\n",
        "print(res.content)"
      ],
      "metadata": {
        "id": "yARHNhnGuJEA",
        "colab": {
          "base_uri": "https://localhost:8080/"
        },
        "outputId": "18af6e78-3177-477c-94f1-183d272f8cd3"
      },
      "execution_count": 61,
      "outputs": [
        {
          "output_type": "stream",
          "name": "stdout",
          "text": [
            "In this conversation, you asked me to understand the Python code provided in the context. I explained that the code defines a convolutional neural network called Mini VGG and trains it on the CIFAR10 dataset. The code uses PyTorch and torchvision libraries to load, transform, and process the data. The code also checks for the availability of a CUDA-enabled GPU and uses it for computation if available, otherwise it uses CPU. Additionally, I suggested some improvements to the code, including data augmentation, learning rate scheduling, early stopping, hyperparameter tuning, the use of transfer learning, and the use of more advanced architectures.\n"
          ]
        }
      ]
    },
    {
      "cell_type": "code",
      "source": [
        "for message in messages:\n",
        "  print(\"**************************\")\n",
        "  print(message)"
      ],
      "metadata": {
        "id": "Q1oc7wifw3cg",
        "colab": {
          "base_uri": "https://localhost:8080/"
        },
        "outputId": "4e1a706b-8006-4d55-cbf8-78d18c063648"
      },
      "execution_count": 62,
      "outputs": [
        {
          "output_type": "stream",
          "name": "stdout",
          "text": [
            "**************************\n",
            "content='You are a helpful assistant who helps understand code.'\n",
            "**************************\n",
            "content='Thank you! How can I assist you today?'\n",
            "**************************\n",
            "content='Using the contexts below, answer the query.\\n\\nContexts:\\n# -*- coding: utf-8 -*-\\n\"\"\"Mini VGG_Base.ipynb\\n\\nAutomatically generated by Colab.\\n\\nOriginal file is located at\\n    https://colab.research.google.com/drive/1eGh1Rhg5NF_N9DxTJd7fp72kWYz6cwB8\\n\"\"\"\\n\\nimport numpy as np\\nimport torch\\nimport torch.nn as nn\\nimport torchvision\\nfrom torchvision import datasets\\nfrom torchvision import transforms\\nfrom torchsummary import summary\\nfrom torch.utils.data.sampler import SubsetRandomSampler\\nfrom tensorflow.keras.datasets import cifar10\\nfrom tensorflow.keras.utils import to_categorical\\nfrom torch.utils.data import DataLoader\\nimport time\\nimport gc\\n\\ntorch.cuda.empty_cache()\\ngc.collect()\\n\\n# Device configuration\\ndevice = torch.device(\\'cuda\\' if torch.cuda.is_available() else \\'cpu\\')\\n\\ndevice\\n\\ntransform = transforms.Compose([\\n            transforms.ToTensor()\\n    ])\\n\\ntrain_data = torchvision.datasets.CIFAR10(root=\\'./data\\', train=True, download=True, transform=transform)\\ntest_data = torchvision.datasets.CIFAR10(root=\\'./data\\', train=False, download=True, transform=transform)\\n\\ntrain_data\\n\\ntest_data\\n\\nbatch_size = 32\\ntrain_data_loader = DataLoader(dataset=train_data, batch_size=batch_size, shuffle=True)\\ntest_data_loader = DataLoader(dataset=test_data, batch_size=batch_size, shuffle=True)\\n\\ntrain_data_loader.batch_size\\n\\nclass Mini_VGG(nn.Module):\\n    def __init__(self, num_classes=10):\\n        super(Mini_VGG, self).__init__()\\n        # 3 - Number of Channels in the image\\n        # 64 - Channels created by convolution\\n        self.layer1 = nn.Sequential(\\n            nn.Conv2d(3, 64, kernel_size=3, stride=1, padding=1),\\n            nn.BatchNorm2d(64),\\n            nn.ReLU())\\n        # 64 - Number of Channels in the input\\n        # 64 - Channels created by convolution\\n        self.layer2 = nn.Sequential(\\n            nn.Conv2d(64, 64, kernel_size=3, stride=1, padding=1),\\n            nn.BatchNorm2d(64),\\n            nn.ReLU())\\n        self.layer3 = nn.Sequential(\\n            nn.MaxPool2d(kernel_size = 2)\\n        )\\n        # 64 - Number of Channels in the input\\n        # 128 - Channels created by convolution\\n        self.layer4 = nn.Sequential(\\n            nn.Conv2d(64, 128, kernel_size=3, stride=1, padding=1),\\n            nn.BatchNorm2d(128),\\n            nn.ReLU())\\n        # 128 - Number of Channels in the input\\n        # 128 - Channels created by convolution\\n        self.layer5 = nn.Sequential(\\n            nn.Conv2d(128, 128, kernel_size=3, stride=1, padding=1),\\n            nn.BatchNorm2d(128),\\n            nn.ReLU())\\n        self.layer6 = nn.Sequential(\\n            nn.MaxPool2d(kernel_size = 2)\\n        )\\n        # 128 - Number of Channels in the input\\n        # 256 - Channels created by convolution\\n        self.layer7 = nn.Sequential(\\n            nn.Conv2d(128, 256, kernel_size=3, stride=1, padding=1),\\n            nn.BatchNorm2d(256),\\n            nn.ReLU())\\n        # 256 - Number of Channels in the input\\n        # 256 - Channels created by convolution\\n        self.layer8 = nn.Sequential(\\n            nn.Conv2d(256, 256, kernel_size=3, stride=1, padding=1),\\n            nn.BatchNorm2d(256),\\n            nn.ReLU())\\n        self.layer9 = nn.Sequential(\\n            nn.MaxPool2d(kernel_size = 2)\\n        )\\n        # 32 x 32 image - 2D Maxpooled 3 times to yield 4x4\\n        self.fc = nn.Sequential(\\n            nn.Linear(4*4*256, 512),\\n            nn.ReLU(),\\n            nn.Linear(512, num_classes))\\n\\n    def forward(self, x):\\n        out = self.layer1(x)\\n        out = self.layer2(out)\\n        out = self.layer3(out)\\n        out = self.layer4(out)\\n        out = self.layer5(out)\\n        out = self.layer6(out)\\n        out = self.layer7(out)\\n        out = self.layer8(out)\\n        out = self.layer9(out)\\n        out = out.reshape(out.size(0), -1)\\n        out = self.fc(out)\\n        return out\\n\\nnum_classes = 10\\nnum_epochs = 20\\nbatch_size = 32\\nlearning_rate = 0.005\\nweight_decay = 0.005\\nmomentum = 0.9\\n\\nmodel = Mini_VGG(10).cuda()\\ncriterion = nn.CrossEntropyLoss()\\noptimizer = torch.optim.SGD(model.parameters(), lr=learning_rate, weight_decay=weight_decay, momentum = momentum)\\n\\nsummary(model, (3,32,32))\\n\\nstart = time.time()\\nprint(\\'**********************************\\')\\nprint(\\'Start time: \\', start)\\n# Set model in training mode\\nmodel.train()\\nfor epoch in range(num_epochs):\\n  model.train()\\n  for i, (images,labels) in enumerate(train_data_loader):\\n    images, labels = images.cuda(), labels.cuda()\\n    output = model(images)\\n    loss = criterion(output, labels)\\n\\n    optimizer.zero_grad()\\n    loss.backward()\\n    optimizer.step()\\n\\n    if i % 100 == 0:\\n      print(\\'Epoch :\\', epoch+1,  \\' Step: \\', i, \\'Loss:\\',  loss.item())\\n\\nend = time.time()\\nprint(\\'**********************************\\')\\nprint(\\'End time: \\', end)\\nprint(\\'Total time: \\', end-start)\\n\\n# Testing\\n# Set model in evaluation mode\\ntotal_loss = 0\\ntotal_correct_prediction = 0\\nmodel.eval()\\nwith torch.no_grad():\\n  for (images,labels) in test_data_loader:\\n    images, labels = images.cuda(), labels.cuda()\\n    output = model(images)\\n    loss = criterion(output, labels)\\n    total_loss += loss\\n    total_correct_prediction += (output.argmax(axis=1) == labels).type(\\n          torch.float).sum().item()\\n\\nlen(test_data_loader.dataset)\\n\\nprint(\"Total Loss:\", total_loss)\\nprint(\"Total Correct Prediction: \", total_correct_prediction)\\nprint(\"Accuracy: \", total_correct_prediction / len(test_data_loader.dataset))\\n\\ntorch.cuda.memory_summary(device=None, abbreviated=False)\\n\\nQuery: Can you tell me about the code in this python file?'\n",
            "**************************\n",
            "content='This is a Python script that defines a Mini VGG convolutional neural network and trains it on the CIFAR10 dataset. The CIFAR10 dataset is loaded using the torchvision library and transformed into tensors using the transforms module. The Mini VGG model is defined using the nn module from PyTorch, and the model is trained using stochastic gradient descent (SGD) with cross-entropy loss as the loss function. The model is trained and tested on the CIFAR10 dataset using data loaders from the PyTorch library. The script also prints the loss and accuracy during the training and testing phases, respectively. Lastly, it uses the torch.cuda.memory_summary() function to print a summary of the GPU memory usage.'\n",
            "**************************\n",
            "content='Which dataset is used in this code?'\n",
            "**************************\n",
            "content='The CIFAR10 dataset is used in this code. It is a dataset of 50,000 32x32 color training images and 10,000 test images, labeled over 10 categories.'\n",
            "**************************\n",
            "content='Is this code run on CPU?'\n",
            "**************************\n",
            "content='The code checks if a CUDA-enabled GPU is available and uses it for computation if available, otherwise it fallbacks to CPU. So it can run on both CPU and GPU.'\n",
            "**************************\n",
            "content='What improvements can you suggest in the code?'\n",
            "**************************\n",
            "content=\"Here are some improvements that can be suggested for this code:\\n\\n1. Data augmentation: Data augmentation techniques such as random cropping, flipping, rotation, and scaling can be applied to the images in the training set to increase the diversity of the data and improve the model's performance.\\n\\n2. Learning rate scheduling: The learning rate can be decayed over time to help the model converge faster and avoid overfitting.\\n\\n3. Early stopping: To prevent overfitting, the training can be stopped early if the validation loss does not improve after a certain number of epochs.\\n\\n4. Hyperparameter tuning: The model's hyperparameters, such as batch size and weight decay, can be tuned using techniques like grid search or random search to find the best combination of hyperparameters for the model.\\n\\n5. Use of transfer learning: Instead of training a model from scratch, a pre-trained model can be used as a starting point and fine-tuned on the CIFAR10 dataset to improve performance.\\n\\n6. Use of more advanced architectures: More advanced architectures like ResNet, DenseNet, or EfficientNet can be used to improve the model's performance.\"\n",
            "**************************\n",
            "content='Summarize our conversation'\n",
            "**************************\n",
            "content='In this conversation, you asked me to understand the Python code provided in the context. I explained that the code defines a convolutional neural network called Mini VGG and trains it on the CIFAR10 dataset. The code uses PyTorch and torchvision libraries to load, transform, and process the data. The code also checks for the availability of a CUDA-enabled GPU and uses it for computation if available, otherwise it uses CPU. Additionally, I suggested some improvements to the code, including data augmentation, learning rate scheduling, early stopping, hyperparameter tuning, the use of transfer learning, and the use of more advanced architectures.'\n"
          ]
        }
      ]
    },
    {
      "cell_type": "markdown",
      "source": [
        "## Part B: Write a chatbot prompt to iteratively create a sequence of chats on one particular custom data.\n",
        "\n",
        "The chatbot should be able to answer the questions based on the text data or multiple documents.\n",
        "\n",
        "The chatbot should save the conversation in the memory.\n",
        "\n",
        "Summarize the chats at the end of the conversation."
      ],
      "metadata": {
        "id": "AtIxDYqxx4U2"
      }
    },
    {
      "cell_type": "code",
      "source": [
        "from datasets import load_dataset\n",
        "\n",
        "dataset = load_dataset(\n",
        "    \"RaiBP/openwebtext2-first-30-chunks-translation-examples\",\n",
        "    split=\"train\"\n",
        ")"
      ],
      "metadata": {
        "colab": {
          "base_uri": "https://localhost:8080/",
          "height": 201,
          "referenced_widgets": [
            "c79539281a5847deaffd97b0aaff089a",
            "7470d17f09ec43e98ba2bc691eb3da4a",
            "e00dce9b92264e51aa30a8a8fbc8d459",
            "002739a316284cb499e02c63c29f8011",
            "23058834ce8e48198da5935878171cf8",
            "d8cc07a38f464781a81f0bd564eafa00",
            "7849419cea31464dab149e422ab4d296",
            "96d7bc6280c149eaab2a31ff453cbcea",
            "a65d18d899734a6aa77e2b223c649f6f",
            "34112b34ec474d26a56d315aca236ddb",
            "52d35ee5ee4049cebd410d152027a1cc",
            "0a41ad41640e4995a2fda7ef453c452b",
            "08ea6dba579a422fba08b9c0635cc192",
            "726b3c8f8d9e4643b8fb53b16372a085",
            "81b52f175e5f4d4499a1a7667a42a587",
            "0a56ae3fc5824be48a8c758c1e4f7204",
            "1270709567434bd4a7d0d95481845c07",
            "20ce53a83edd47129aac7f6e68bf61da",
            "046be23d06a945dfb9872ec9909bb05b",
            "33d003d73cb14fdd8945a13ed337d78c",
            "5a061a3a9c6648e48903fba7195888ad",
            "efbe92456ea64ed79a0454556b73aa3b",
            "80ac422a2afa4b1aab608bd4510c0c62",
            "2200b7a0a1884a40a42de78917d81cf2",
            "eeddcfc31fbf49aeb17b603adeb1d547",
            "eadee63120b044d2ac7a004d72a79141",
            "ff672f4324634753bbdfbcecedb3918b",
            "2081d051ca3941aeac6b7e485831c068",
            "ce2dbe8963684c02910792fae65967c7",
            "e4baf575f04f4780b95ec0b2a9cea4f2",
            "7c10e36fa5c54d738d7ac03abbdd076e",
            "2466b03e13bd4d7697c76a40e3204099",
            "4a3a921bfbd041fd8e889296b48dfc95",
            "29329e4cde9c4f3ea39ebf1fe7185794",
            "7003ec8acb4e469fb14e9c61172bb5af",
            "fd292b1d9b394e6fafc530c30a0f7a09",
            "dc69dea3568146e6a32b576474e0e882",
            "eb28944363604df08b5eb92bb56fa3fa",
            "62f8825c6bb240e183cf4a117038e480",
            "a52acbc23f904a45b9910eef3c2724be",
            "70d14ce9cc574421b0d6551a7990fdc0",
            "a550981eacdf43b891f9f3e6d55d7bec",
            "035d1cb727be4edf88488de3f32faa2d",
            "5d803d5224c5420da5e0a6310c4bb372",
            "a9ff22269d6445f2ad3878c2214eb579",
            "00fc8f9b81e5435497d6ae68a56e3e9e",
            "da02ce6f1c2541c4832ed171de4fd182",
            "a8728396da85498785318b9188f6cfd3",
            "8956c6db778c4a1bbf3f9ee26520993d",
            "58d8adca050d44338705e9405ca7e1a0",
            "eeab30cf052449b4b841e6978c3c43cf",
            "f45ab608c6904a74a909832468d76cf0",
            "f9c61f6324ec419493953b8b9974d972",
            "a516aa1a4521420c8f5fef31fd1f705e",
            "547e2c48925445348f077f1cd20b4577"
          ]
        },
        "id": "G78DfLwsw3Xp",
        "outputId": "82012e5b-2b43-4f0f-bcf4-fce54239b54d"
      },
      "execution_count": 63,
      "outputs": [
        {
          "output_type": "display_data",
          "data": {
            "text/plain": [
              "Downloading readme:   0%|          | 0.00/320 [00:00<?, ?B/s]"
            ],
            "application/vnd.jupyter.widget-view+json": {
              "version_major": 2,
              "version_minor": 0,
              "model_id": "c79539281a5847deaffd97b0aaff089a"
            }
          },
          "metadata": {}
        },
        {
          "output_type": "stream",
          "name": "stdout",
          "text": [
            "Downloading and preparing dataset None/None to /root/.cache/huggingface/datasets/RaiBP___parquet/RaiBP--openwebtext2-first-30-chunks-translation-examples-fd5d48c8a573b892/0.0.0/2a3b91fbd88a2c90d1dbbb32b460cf621d31bd5b05b934492fdef7d8d6f236ec...\n"
          ]
        },
        {
          "output_type": "display_data",
          "data": {
            "text/plain": [
              "Downloading data files:   0%|          | 0/1 [00:00<?, ?it/s]"
            ],
            "application/vnd.jupyter.widget-view+json": {
              "version_major": 2,
              "version_minor": 0,
              "model_id": "0a41ad41640e4995a2fda7ef453c452b"
            }
          },
          "metadata": {}
        },
        {
          "output_type": "display_data",
          "data": {
            "text/plain": [
              "Downloading data:   0%|          | 0.00/13.3M [00:00<?, ?B/s]"
            ],
            "application/vnd.jupyter.widget-view+json": {
              "version_major": 2,
              "version_minor": 0,
              "model_id": "80ac422a2afa4b1aab608bd4510c0c62"
            }
          },
          "metadata": {}
        },
        {
          "output_type": "display_data",
          "data": {
            "text/plain": [
              "Extracting data files:   0%|          | 0/1 [00:00<?, ?it/s]"
            ],
            "application/vnd.jupyter.widget-view+json": {
              "version_major": 2,
              "version_minor": 0,
              "model_id": "29329e4cde9c4f3ea39ebf1fe7185794"
            }
          },
          "metadata": {}
        },
        {
          "output_type": "display_data",
          "data": {
            "text/plain": [
              "Generating train split:   0%|          | 0/6521 [00:00<?, ? examples/s]"
            ],
            "application/vnd.jupyter.widget-view+json": {
              "version_major": 2,
              "version_minor": 0,
              "model_id": "a9ff22269d6445f2ad3878c2214eb579"
            }
          },
          "metadata": {}
        },
        {
          "output_type": "stream",
          "name": "stdout",
          "text": [
            "Dataset parquet downloaded and prepared to /root/.cache/huggingface/datasets/RaiBP___parquet/RaiBP--openwebtext2-first-30-chunks-translation-examples-fd5d48c8a573b892/0.0.0/2a3b91fbd88a2c90d1dbbb32b460cf621d31bd5b05b934492fdef7d8d6f236ec. Subsequent calls will reuse this data.\n"
          ]
        }
      ]
    },
    {
      "cell_type": "code",
      "source": [
        "dataset[0]"
      ],
      "metadata": {
        "id": "uAeDjLr3w3TM",
        "colab": {
          "base_uri": "https://localhost:8080/"
        },
        "outputId": "d81d78f6-4fa3-48ae-c8ab-96c37db00400"
      },
      "execution_count": 64,
      "outputs": [
        {
          "output_type": "execute_result",
          "data": {
            "text/plain": [
              "{'text': 'Today was the opening of an info centre in the jungle – a collaboration between CMS, help Calais and the Hummingbird Project.\\n\\nThe space has been set up to share information on things from asylum in the UK and elsewhere, to goings on in the jungle, to information on the history of struggle in Calais, to issues that go beyond Calais that affect travellers (such as deportations and mass arrests). It’s also a space where people living in the jungle and other groups can share information. On the weekends the space will also be used as a clinic. Already in day one there were numerous people dropping in.\\n\\n[Its worth saying that this is not a space where people can give advice. We just share information.\\n\\nAlso, If you want to make an info-based project in the jungle, this might be a space you can use].\\n\\n—————————————————————————————\\n\\nAujourd’hui était le jour d’ouverture du centre d’information à la Jungle- une collaboration entre CMS et help Calais et Hummingbird Project.\\n\\nL’espace a été monté afin de partager les infos concernant l’asile au Royaume-Uni et ailleurs, en passant par ce qui se passe dans la jungle ou encore l’historique de la lutte à Calais, ou bien des problèmes plus larges qui affectent les voyageurs (comme les déportations ou les arrestations de masse). Il s’agit aussi d’un endroit où les gens habitants dans la jungle et d’autres groupes peuvent partager l’info. Les weekends, l’espace pourra aussi etre utilisé comme une clinique.\\n\\nDéjà pour le premier jour de nombreuses personnes se sont trouvées ici.\\n\\n[Ca vaut le coup de rappeler qu’il ne s’agit pas d’un lieu pour donner des conseils. Nous partageons juste l’info. Aussi si vous avez un projet de transmettre de l’info dans la jungle vous pouvez utiliser cet espace].',\n",
              " 'id': 0}"
            ]
          },
          "metadata": {},
          "execution_count": 64
        }
      ]
    },
    {
      "cell_type": "code",
      "source": [
        "from pinecone import Pinecone\n",
        "\n",
        "# initialize connection to pinecone (get API key at app.pinecone.io)\n",
        "api_key = os.getenv(\"PINECONE_API_KEY\")\n",
        "# configure client\n",
        "pc = Pinecone(api_key=api_key)"
      ],
      "metadata": {
        "id": "0HFZvXigiWoZ"
      },
      "execution_count": 73,
      "outputs": []
    },
    {
      "cell_type": "code",
      "source": [
        "from pinecone import ServerlessSpec\n",
        "\n",
        "spec = ServerlessSpec(\n",
        "    cloud=\"aws\", region=\"us-east-1\"\n",
        ")"
      ],
      "metadata": {
        "id": "1VIkL6RYiWla"
      },
      "execution_count": 74,
      "outputs": []
    },
    {
      "cell_type": "code",
      "source": [
        "import time\n",
        "\n",
        "index_name = 'openwebtext2-rag'\n",
        "existing_indexes = [\n",
        "    index_info[\"name\"] for index_info in pc.list_indexes()\n",
        "]\n",
        "\n",
        "# check if index already exists (it shouldn't if this is first time)\n",
        "if index_name not in existing_indexes:\n",
        "    # if does not exist, create index\n",
        "    pc.create_index(\n",
        "        index_name,\n",
        "        dimension=1536,  # dimensionality of ada 002\n",
        "        metric='dotproduct',\n",
        "        spec=spec\n",
        "    )\n",
        "    # wait for index to be initialized\n",
        "    while not pc.describe_index(index_name).status['ready']:\n",
        "        time.sleep(1)\n",
        "\n",
        "# connect to index\n",
        "index = pc.Index(index_name)\n",
        "time.sleep(1)\n",
        "# view index stats\n",
        "index.describe_index_stats()"
      ],
      "metadata": {
        "colab": {
          "base_uri": "https://localhost:8080/"
        },
        "id": "VJZvHn5qiWi5",
        "outputId": "9796e135-2a22-41e5-e3be-56a3ef3fd1c9"
      },
      "execution_count": 77,
      "outputs": [
        {
          "output_type": "execute_result",
          "data": {
            "text/plain": [
              "{'dimension': 1536,\n",
              " 'index_fullness': 0.0,\n",
              " 'namespaces': {},\n",
              " 'total_vector_count': 0}"
            ]
          },
          "metadata": {},
          "execution_count": 77
        }
      ]
    },
    {
      "cell_type": "code",
      "source": [
        "from langchain.embeddings.openai import OpenAIEmbeddings\n",
        "\n",
        "embed_model = OpenAIEmbeddings(model=\"text-embedding-ada-002\")"
      ],
      "metadata": {
        "colab": {
          "base_uri": "https://localhost:8080/"
        },
        "id": "RDUxoLRzjBur",
        "outputId": "e5ef78c8-e988-4481-eb0b-0fb246feb20c"
      },
      "execution_count": 78,
      "outputs": [
        {
          "output_type": "stream",
          "name": "stderr",
          "text": [
            "/usr/local/lib/python3.10/dist-packages/langchain_core/_api/deprecation.py:117: LangChainDeprecationWarning: The class `langchain_community.embeddings.openai.OpenAIEmbeddings` was deprecated in langchain-community 0.1.0 and will be removed in 0.2.0. An updated version of the class exists in the langchain-openai package and should be used instead. To use it run `pip install -U langchain-openai` and import as `from langchain_openai import OpenAIEmbeddings`.\n",
            "  warn_deprecated(\n"
          ]
        }
      ]
    },
    {
      "cell_type": "code",
      "source": [
        "from tqdm.auto import tqdm  # for progress bar\n",
        "\n",
        "data = dataset.to_pandas()  # this makes it easier to iterate over the dataset\n",
        "\n",
        "batch_size = 100\n",
        "\n",
        "for i in tqdm(range(0, len(data), batch_size)):\n",
        "    i_end = min(len(data), i+batch_size)\n",
        "    # get batch of data\n",
        "    batch = data.iloc[i:i_end]\n",
        "    # generate unique ids for each chunk\n",
        "    ids = [f\"{x['id']}\" for i, x in batch.iterrows()]\n",
        "    # get text to embed\n",
        "    texts = [x['text'] for _, x in batch.iterrows()]\n",
        "    # embed text\n",
        "    embeds = embed_model.embed_documents(texts)\n",
        "    # get metadata to store in Pinecone\n",
        "    metadata = [\n",
        "        {'text': x['text']} for i, x in batch.iterrows()\n",
        "    ]\n",
        "    # add to Pinecone\n",
        "    index.upsert(vectors=zip(ids, embeds, metadata))"
      ],
      "metadata": {
        "colab": {
          "base_uri": "https://localhost:8080/",
          "height": 49,
          "referenced_widgets": [
            "eaecce83a3e44c87a1f46f69035d4fee",
            "ddf6878ddc5041039b0b410040ea23da",
            "07ca423acb844d0e87bfbb5c6c449527",
            "4f09d76881cb471d98f7ca0ae7fc43ef",
            "79569276a2e547bd95b2c996fa100976",
            "0a0f9919d5d947a2acc34a1d5b5234f1",
            "dd754387e0074cbcaaf47cf68ede4604",
            "1ae4b4ee5b52446ba3f455c6cea2eef1",
            "9ae6e7b4e39e4312a7556a007e504d06",
            "e89fc1b8791e4231a9aeb2438fdfc969",
            "f938ba3301b54cda9df4cd4bb2f5b271"
          ]
        },
        "id": "Ve6KuyqFjBsT",
        "outputId": "7f994b0d-d262-446d-fa68-496a53b5962e"
      },
      "execution_count": 81,
      "outputs": [
        {
          "output_type": "display_data",
          "data": {
            "text/plain": [
              "  0%|          | 0/66 [00:00<?, ?it/s]"
            ],
            "application/vnd.jupyter.widget-view+json": {
              "version_major": 2,
              "version_minor": 0,
              "model_id": "eaecce83a3e44c87a1f46f69035d4fee"
            }
          },
          "metadata": {}
        }
      ]
    },
    {
      "cell_type": "code",
      "source": [
        "index.describe_index_stats()"
      ],
      "metadata": {
        "colab": {
          "base_uri": "https://localhost:8080/"
        },
        "id": "wbRrkstIjBp7",
        "outputId": "6dadbab0-ff54-4df1-f3b5-0e63b5561168"
      },
      "execution_count": 82,
      "outputs": [
        {
          "output_type": "execute_result",
          "data": {
            "text/plain": [
              "{'dimension': 1536,\n",
              " 'index_fullness': 0.0,\n",
              " 'namespaces': {'': {'vector_count': 6521}},\n",
              " 'total_vector_count': 6521}"
            ]
          },
          "metadata": {},
          "execution_count": 82
        }
      ]
    },
    {
      "cell_type": "code",
      "source": [
        "from langchain.vectorstores import Pinecone\n",
        "\n",
        "text_field = \"text\"  # the metadata field that contains our text\n",
        "\n",
        "# initialize the vector store object\n",
        "vectorstore = Pinecone(\n",
        "    index, embed_model.embed_query, text_field\n",
        ")"
      ],
      "metadata": {
        "colab": {
          "base_uri": "https://localhost:8080/"
        },
        "id": "W_iPTYEdkSCd",
        "outputId": "41dcc8d2-b733-4fc7-8219-1d319f2a1e77"
      },
      "execution_count": 84,
      "outputs": [
        {
          "output_type": "stream",
          "name": "stderr",
          "text": [
            "/usr/local/lib/python3.10/dist-packages/langchain_community/vectorstores/pinecone.py:68: UserWarning: Passing in `embedding` as a Callable is deprecated. Please pass in an Embeddings object instead.\n",
            "  warnings.warn(\n"
          ]
        }
      ]
    },
    {
      "cell_type": "code",
      "source": [
        "query = \"What does the Global Pact for Refugees approved by UN contain?\"\n",
        "\n",
        "vectorstore.similarity_search(query, k=3)"
      ],
      "metadata": {
        "colab": {
          "base_uri": "https://localhost:8080/"
        },
        "id": "TnJuXei0jBnT",
        "outputId": "00c23fac-72e8-454c-c9bf-03ba945d763e"
      },
      "execution_count": 104,
      "outputs": [
        {
          "output_type": "execute_result",
          "data": {
            "text/plain": [
              "[Document(page_content='United Nations (@TRT)\\n\\nOn December 17th, the General Assembly of the United Nations (UN) approved the Global Pact for Refugees. This victory for human rights and international cooperation comes one week after the General Assembly approved the Global Pact on Migration.\\n\\n181 countries signed the pact that outlines steps that the international community will take to guarantee the welfare of refugees. Three countries abstained, and the United States and Hungary voted against it. The United States had previously stated that, although it agreed with most of the Covenant, it did not want to accept a limitation on the detention of asylum seekers.\\n\\nThe Pact will try to give more support to the countries that host refugees, and when possible, help refugees to return to their countries of origin. It also calls for promoting the independence of refugees. To improve infrastructure and services to refugees, the pact will try to encourage more investment from governments and private sources.\\n\\nAlthough the Covenant is not binding, it represents a possibility of progress for the international community. Currently there are more than 25 million refugees in the world, representing only a part of the 68 million people who have been forced to flee their homes because of violence. Under international law, to be considered a refugee, you have to cross an international border.\\n\\nThe Pact on Refugees received more votes in its favor than the Global Pact on Migration (which was supported by 164 countries). In general, the rights of refugees have been clearer and therefore more protected than those of migrants.\\n\\nFor more information in Spanish:\\n\\nAsamblea de la ONU avala el Pacto Mundial sobre Refugiados (La Jornada, 18 de diciembre de 201).\\n\\nAsamblea de la ONU aprueba pacto mundial sobre refugiados (Telesur, 18 de diciembre de 2018).\\n\\nONU: Asamblea General adopta el Pacto Mundial sobre Refugiados (Kausa Justa, 17 de diciembre de 2018).\\n\\nFor more information from SIPAZ:\\n\\nNational/International: 164 Countries Approve UN Global Migration Pact (January 2nd, 2019)\\n\\nNational/International: World Network of Mothers of Disappeared Migrants Formed in Mexico (November 12th, 2018)\\n\\nNational/Chiapas/Oaxaca/Tabasco: Founding of the Collective of Defenders of Migrants and Refugees (CODEMIRE) (April 23rd, 2015)'),\n",
              " Document(page_content=\"Migrants are receiving prepaid bank cards backed by the United Nations Refugee Agency (UNHCR), according to reports.\\n\\nClues to answering questions about how some migrants sustain themselves during lengthy journeys from their homelands to their destinations have been unearthed by Slovenian outlet Nova24.\\n\\n“Social network users have warned us that illegal immigrants are financing their lifestyle while waiting in Bosnia and Herzegovina to continue their journey towards Western Europe, with the help of bank cards of the Mastercard brand bearing logos of the European Union and United Nations Refugee Agency,” Nova24 reports.\\n\\nNova24 cites an anonymous Croatian police officer who recently divulged that some migrants carry Mastercards that bear no names.\\n\\n“The migrants we catch and return back in a few days or weeks are again trying to break into Croatia,” the officer said. “Some of them are really poor, but many are well-equipped: they have new footwear, new clothes, sophisticated smartphones, weapons, and some have also been found with Mastercard bank cards without name, they are just numbers. They withdraw money at ATMs, but we do not know who pays them.”\\n\\nMastercard announced in 2016 that they were issuing prepaid debit cards to “provide refugees with mobility, flexibility and dignity.”\\n\\nAdditionally, Mastercard issued a press release in 2017 publicizing the launch of a partnership program with George Soros called “Humanity Ventures,” which aimed to “catalyze and accelerate economic and social development for vulnerable communities around the world, especially refugees and migrants.”\\n\\n“George Soros announced that he is earmarking up to $500 million for private investments that will improve capacity to address the challenges that migrants, including refugees, and their host communities face around the world. Humanity Ventures would be part of that initiative,” Mastercard revealed in the release.\\n\\n“Mastercard delivers innovative payments, data, and identity solutions which empower the underserved all over the world. These tools improve the lives of refugees and migrants by forging better economic and social ties with local populations.”\\n\\nTV director Ninoslav Vucetic recently shared an image of a Mastercard bearing the logos of the EU and UNHCR in a tweet directed at a Montenegran government official.\\n\\n@NebojsaMedojevi BANČNE KARTICE so tudi dokaz, kako EU uničuje Europsko kulturo.!? Vabi jih z denarjem, da povzročajo nasilje.??\\n\\nKDO migrantom daje takšne bančne kartice za dvigovanje denarnih sredstev, brez imena in priimka? 'MALJEVAC pic.twitter.com/EGNhHyHP4K — Ninoslav Vucetic (@NinoslavVucetic) October 30, 2018\\n\\n“Bank cards are also evidence of how the EU is destroying European culture?” Vucetic wrote. “Inviting them with money to cause violence? Who gives migrants such a bank card in order to access cash, without the first and last names?”\\n\\nThe image shared by Vucetic also appears in various reports from the UNHCR detailing how they are providing aid to migrants in Greece.\\n\\nHungarian officials are now warning that roughly 70,000 migrants have gathered in the Balkans, where they are preparing to force their way onward into Western Europe via the “Soros Express.”\\n\\n(PHOTO: S3studio / Contributor / Getty Images)\"),\n",
              " Document(page_content='WASHINGTON—The United States Secretary of State, Michael Pompeo,announced yesterday that the Administration will set the PresidentialDetermination, the level of refugees allowed into the United States, at 30,000refugees for 2019. This is the lowestnumber set in the history of the U.S. refugee admissions program which was formallycreated in 1980.\\n\\nMost Reverend Joe S. Vásquez, Bishop of Austin, Texas, Chair of the ofthe U.S. Conference of Catholic Bishops\\' Committee on Migration, issued thefollowing statement:\\n\\n\"The announcement of the Presidential Determination is deeplydisturbing and leaves many human lives in danger. To cut off protection formany who are fleeing persecution, at a time of unprecedented globalhumanitarian need, contradicts who we are as a nation. Offering refuge to thosefleeing violence, torture, or religious persecution is a cornerstone of ourhistory. We as a country are blessed with vast resources making us capable ofsecurely welcoming those fleeing harm. Closing our doors on those seeking suchsafety is not who we are as a people. In the coming days, we pray that Congresswill have the opportunity to engage in the formal consultation process with theAdministration that is required by law. During this mandatory consultationprocess, Congress should strongly urge the Administration to return to arefugee admission level that reflects local community response and support ofrefugees, global refugee protection needs, and our long history ofcompassionately welcoming refugees.\"\\n\\n---\\n\\nKeywords:U.S. Conference of Catholic Bishops, USCCB, Bishop Joe S. Vásquez, Committee onMigration, Presidential Determination, Administration, Congress, global refugeeprotection, Diocese of Austin, refugees, migration, humanitarian need,community response\\n\\n###\\n\\n\\n\\nMedia Contact:\\n\\nJudy Keane\\n\\n202-541-3200\\n\\nWASHINGTON— ElSecretario de Estado de Estados Unidos, Michael Pompeo, anunció ayer que laAdministración va a fijar la Determinación Presidencial, el número derefugiados permitidos en Estados Unidos, en 30.000 para el 2019. Éste es elnúmero más bajo en la historia del programa de admisiones de refugiados, quefue formalmente creado en 1980.\\n\\nEl ReverendísimoJoe S. Vásquez, Obispo de Austin, Texas, y Presidente del Comité de Migraciónde la Conferencia de Obispos Católicos de Estados Unidos emitió el siguientecomunicado:\\n\\n\"El anunciode la Determinación Presidencial es profundamente inquietante y deja muchasvidas humanas en peligro. Cortar la protección para muchos que huyen de lapersecución, en un momento sin precedentes de necesidad humanitaria mundial,contradice lo que somos nosotros como nación. Ofrecer refugio a aquellos quehuyen de la violencia, la tortura y la persecución religiosa es una piedraangular de nuestra historia. Como país hemos sido bendecidos con abundantesrecursos, lo que nos ha hecho capaces de dar la bienvenida a aquellos que huyen.Cerrar nuestras puertas a quienes buscan tal seguridad no es lo que somos comopueblo. En los próximos días, oramos para que el Congreso tenga la oportunidadde participar en el proceso de consulta formal con la Administración que exigela ley. Durante este proceso obligatorio de consulta, el Congreso debería urgirfirmemente a la Administración a retornar al nivel de admisiones de refugiadosque es consistente con la respuesta y respaldo de la comunidad local a los refugiados,las necesidades de protección global de refugiados y una larga historia derecibir compasivamente a los refugiados\".\\n\\n---\\n\\nPalabras clave: Conferenciade Obispos Católicos de Estados Unidos, USCCB, Obispo J. Vásquez, Comité deMigración, Determinación Presidencial, Administración, Congreso, protecciónglobal a los refugiados, Diócesis de Austin')]"
            ]
          },
          "metadata": {},
          "execution_count": 104
        }
      ]
    },
    {
      "cell_type": "code",
      "source": [
        "def augment_prompt(query: str):\n",
        "    # get top 3 results from knowledge base\n",
        "    results = vectorstore.similarity_search(query, k=3)\n",
        "    # get the text from the results\n",
        "    source_knowledge = \"\\n\".join([x.page_content for x in results])\n",
        "    # feed into an augmented prompt\n",
        "    augmented_prompt = f\"\"\"Using the contexts below, answer the query.\n",
        "\n",
        "    Contexts:\n",
        "    {source_knowledge}\n",
        "\n",
        "    Query: {query}\"\"\"\n",
        "    return augmented_prompt"
      ],
      "metadata": {
        "id": "8V63vZ6qjBhL"
      },
      "execution_count": 105,
      "outputs": []
    },
    {
      "cell_type": "code",
      "source": [
        "print(augment_prompt(query))"
      ],
      "metadata": {
        "colab": {
          "base_uri": "https://localhost:8080/"
        },
        "id": "RqCqy-7okoKT",
        "outputId": "0c79f378-b4bd-42b4-9167-0d9a12771fd8"
      },
      "execution_count": 106,
      "outputs": [
        {
          "output_type": "stream",
          "name": "stdout",
          "text": [
            "Using the contexts below, answer the query.\n",
            "\n",
            "    Contexts:\n",
            "    United Nations (@TRT)\n",
            "\n",
            "On December 17th, the General Assembly of the United Nations (UN) approved the Global Pact for Refugees. This victory for human rights and international cooperation comes one week after the General Assembly approved the Global Pact on Migration.\n",
            "\n",
            "181 countries signed the pact that outlines steps that the international community will take to guarantee the welfare of refugees. Three countries abstained, and the United States and Hungary voted against it. The United States had previously stated that, although it agreed with most of the Covenant, it did not want to accept a limitation on the detention of asylum seekers.\n",
            "\n",
            "The Pact will try to give more support to the countries that host refugees, and when possible, help refugees to return to their countries of origin. It also calls for promoting the independence of refugees. To improve infrastructure and services to refugees, the pact will try to encourage more investment from governments and private sources.\n",
            "\n",
            "Although the Covenant is not binding, it represents a possibility of progress for the international community. Currently there are more than 25 million refugees in the world, representing only a part of the 68 million people who have been forced to flee their homes because of violence. Under international law, to be considered a refugee, you have to cross an international border.\n",
            "\n",
            "The Pact on Refugees received more votes in its favor than the Global Pact on Migration (which was supported by 164 countries). In general, the rights of refugees have been clearer and therefore more protected than those of migrants.\n",
            "\n",
            "For more information in Spanish:\n",
            "\n",
            "Asamblea de la ONU avala el Pacto Mundial sobre Refugiados (La Jornada, 18 de diciembre de 201).\n",
            "\n",
            "Asamblea de la ONU aprueba pacto mundial sobre refugiados (Telesur, 18 de diciembre de 2018).\n",
            "\n",
            "ONU: Asamblea General adopta el Pacto Mundial sobre Refugiados (Kausa Justa, 17 de diciembre de 2018).\n",
            "\n",
            "For more information from SIPAZ:\n",
            "\n",
            "National/International: 164 Countries Approve UN Global Migration Pact (January 2nd, 2019)\n",
            "\n",
            "National/International: World Network of Mothers of Disappeared Migrants Formed in Mexico (November 12th, 2018)\n",
            "\n",
            "National/Chiapas/Oaxaca/Tabasco: Founding of the Collective of Defenders of Migrants and Refugees (CODEMIRE) (April 23rd, 2015)\n",
            "Migrants are receiving prepaid bank cards backed by the United Nations Refugee Agency (UNHCR), according to reports.\n",
            "\n",
            "Clues to answering questions about how some migrants sustain themselves during lengthy journeys from their homelands to their destinations have been unearthed by Slovenian outlet Nova24.\n",
            "\n",
            "“Social network users have warned us that illegal immigrants are financing their lifestyle while waiting in Bosnia and Herzegovina to continue their journey towards Western Europe, with the help of bank cards of the Mastercard brand bearing logos of the European Union and United Nations Refugee Agency,” Nova24 reports.\n",
            "\n",
            "Nova24 cites an anonymous Croatian police officer who recently divulged that some migrants carry Mastercards that bear no names.\n",
            "\n",
            "“The migrants we catch and return back in a few days or weeks are again trying to break into Croatia,” the officer said. “Some of them are really poor, but many are well-equipped: they have new footwear, new clothes, sophisticated smartphones, weapons, and some have also been found with Mastercard bank cards without name, they are just numbers. They withdraw money at ATMs, but we do not know who pays them.”\n",
            "\n",
            "Mastercard announced in 2016 that they were issuing prepaid debit cards to “provide refugees with mobility, flexibility and dignity.”\n",
            "\n",
            "Additionally, Mastercard issued a press release in 2017 publicizing the launch of a partnership program with George Soros called “Humanity Ventures,” which aimed to “catalyze and accelerate economic and social development for vulnerable communities around the world, especially refugees and migrants.”\n",
            "\n",
            "“George Soros announced that he is earmarking up to $500 million for private investments that will improve capacity to address the challenges that migrants, including refugees, and their host communities face around the world. Humanity Ventures would be part of that initiative,” Mastercard revealed in the release.\n",
            "\n",
            "“Mastercard delivers innovative payments, data, and identity solutions which empower the underserved all over the world. These tools improve the lives of refugees and migrants by forging better economic and social ties with local populations.”\n",
            "\n",
            "TV director Ninoslav Vucetic recently shared an image of a Mastercard bearing the logos of the EU and UNHCR in a tweet directed at a Montenegran government official.\n",
            "\n",
            "@NebojsaMedojevi BANČNE KARTICE so tudi dokaz, kako EU uničuje Europsko kulturo.!? Vabi jih z denarjem, da povzročajo nasilje.??\n",
            "\n",
            "KDO migrantom daje takšne bančne kartice za dvigovanje denarnih sredstev, brez imena in priimka? 'MALJEVAC pic.twitter.com/EGNhHyHP4K — Ninoslav Vucetic (@NinoslavVucetic) October 30, 2018\n",
            "\n",
            "“Bank cards are also evidence of how the EU is destroying European culture?” Vucetic wrote. “Inviting them with money to cause violence? Who gives migrants such a bank card in order to access cash, without the first and last names?”\n",
            "\n",
            "The image shared by Vucetic also appears in various reports from the UNHCR detailing how they are providing aid to migrants in Greece.\n",
            "\n",
            "Hungarian officials are now warning that roughly 70,000 migrants have gathered in the Balkans, where they are preparing to force their way onward into Western Europe via the “Soros Express.”\n",
            "\n",
            "(PHOTO: S3studio / Contributor / Getty Images)\n",
            "WASHINGTON—The United States Secretary of State, Michael Pompeo,announced yesterday that the Administration will set the PresidentialDetermination, the level of refugees allowed into the United States, at 30,000refugees for 2019. This is the lowestnumber set in the history of the U.S. refugee admissions program which was formallycreated in 1980.\n",
            "\n",
            "Most Reverend Joe S. Vásquez, Bishop of Austin, Texas, Chair of the ofthe U.S. Conference of Catholic Bishops' Committee on Migration, issued thefollowing statement:\n",
            "\n",
            "\"The announcement of the Presidential Determination is deeplydisturbing and leaves many human lives in danger. To cut off protection formany who are fleeing persecution, at a time of unprecedented globalhumanitarian need, contradicts who we are as a nation. Offering refuge to thosefleeing violence, torture, or religious persecution is a cornerstone of ourhistory. We as a country are blessed with vast resources making us capable ofsecurely welcoming those fleeing harm. Closing our doors on those seeking suchsafety is not who we are as a people. In the coming days, we pray that Congresswill have the opportunity to engage in the formal consultation process with theAdministration that is required by law. During this mandatory consultationprocess, Congress should strongly urge the Administration to return to arefugee admission level that reflects local community response and support ofrefugees, global refugee protection needs, and our long history ofcompassionately welcoming refugees.\"\n",
            "\n",
            "---\n",
            "\n",
            "Keywords:U.S. Conference of Catholic Bishops, USCCB, Bishop Joe S. Vásquez, Committee onMigration, Presidential Determination, Administration, Congress, global refugeeprotection, Diocese of Austin, refugees, migration, humanitarian need,community response\n",
            "\n",
            "###\n",
            "\n",
            "\n",
            "\n",
            "Media Contact:\n",
            "\n",
            "Judy Keane\n",
            "\n",
            "202-541-3200\n",
            "\n",
            "WASHINGTON— ElSecretario de Estado de Estados Unidos, Michael Pompeo, anunció ayer que laAdministración va a fijar la Determinación Presidencial, el número derefugiados permitidos en Estados Unidos, en 30.000 para el 2019. Éste es elnúmero más bajo en la historia del programa de admisiones de refugiados, quefue formalmente creado en 1980.\n",
            "\n",
            "El ReverendísimoJoe S. Vásquez, Obispo de Austin, Texas, y Presidente del Comité de Migraciónde la Conferencia de Obispos Católicos de Estados Unidos emitió el siguientecomunicado:\n",
            "\n",
            "\"El anunciode la Determinación Presidencial es profundamente inquietante y deja muchasvidas humanas en peligro. Cortar la protección para muchos que huyen de lapersecución, en un momento sin precedentes de necesidad humanitaria mundial,contradice lo que somos nosotros como nación. Ofrecer refugio a aquellos quehuyen de la violencia, la tortura y la persecución religiosa es una piedraangular de nuestra historia. Como país hemos sido bendecidos con abundantesrecursos, lo que nos ha hecho capaces de dar la bienvenida a aquellos que huyen.Cerrar nuestras puertas a quienes buscan tal seguridad no es lo que somos comopueblo. En los próximos días, oramos para que el Congreso tenga la oportunidadde participar en el proceso de consulta formal con la Administración que exigela ley. Durante este proceso obligatorio de consulta, el Congreso debería urgirfirmemente a la Administración a retornar al nivel de admisiones de refugiadosque es consistente con la respuesta y respaldo de la comunidad local a los refugiados,las necesidades de protección global de refugiados y una larga historia derecibir compasivamente a los refugiados\".\n",
            "\n",
            "---\n",
            "\n",
            "Palabras clave: Conferenciade Obispos Católicos de Estados Unidos, USCCB, Obispo J. Vásquez, Comité deMigración, Determinación Presidencial, Administración, Congreso, protecciónglobal a los refugiados, Diócesis de Austin\n",
            "\n",
            "    Query: What does the Global Pact for Refugees approved by UN contain?\n"
          ]
        }
      ]
    },
    {
      "cell_type": "code",
      "source": [
        "messages = [\n",
        "    SystemMessage(content=\"You are a helpful assistant who helps text from custom dataset.\")\n",
        "]"
      ],
      "metadata": {
        "id": "5HpdbDtjk7_K"
      },
      "execution_count": 111,
      "outputs": []
    },
    {
      "cell_type": "code",
      "source": [
        "# create a new user prompt\n",
        "prompt = HumanMessage(\n",
        "    content=augment_prompt(query)\n",
        ")\n",
        "# add to messages\n",
        "messages.append(prompt)\n",
        "\n",
        "res = chat(messages)\n",
        "\n",
        "print(res.content)\n",
        "messages.append(res)"
      ],
      "metadata": {
        "colab": {
          "base_uri": "https://localhost:8080/"
        },
        "id": "JZRpHiM2kreK",
        "outputId": "bac7ac50-cd9c-4a30-9630-59c1a0d27786"
      },
      "execution_count": 112,
      "outputs": [
        {
          "output_type": "stream",
          "name": "stdout",
          "text": [
            "The Global Pact for Refugees approved by the United Nations outlines steps that the international community will take to guarantee the welfare of refugees. It aims to give more support to the countries that host refugees, and when possible, help refugees to return to their countries of origin. It also calls for promoting the independence of refugees and encouraging more investment from governments and private sources to improve infrastructure and services to refugees.\n"
          ]
        }
      ]
    },
    {
      "cell_type": "code",
      "source": [
        "prompt = HumanMessage(\n",
        "    content=\"When was the Global Pact for Refugees pact signed and who signed it?\"\n",
        ")\n",
        "messages.append(prompt)\n",
        "res = chat(messages)\n",
        "print(res.content)\n",
        "messages.append(res)"
      ],
      "metadata": {
        "colab": {
          "base_uri": "https://localhost:8080/"
        },
        "id": "9dn8IyLhk9hv",
        "outputId": "b17524b2-55ca-4e51-9543-8bf59484907b"
      },
      "execution_count": 113,
      "outputs": [
        {
          "output_type": "stream",
          "name": "stdout",
          "text": [
            "The Global Pact for Refugees was approved by the General Assembly of the United Nations on December 17, 2018. A total of 181 countries signed the pact, while three countries abstained, and the United States and Hungary voted against it.\n"
          ]
        }
      ]
    },
    {
      "cell_type": "code",
      "source": [
        "prompt = HumanMessage(\n",
        "    content=\"Summarize our conversation\"\n",
        ")\n",
        "messages.append(prompt)\n",
        "res = chat(messages)\n",
        "messages.append(res)\n",
        "print(res.content)"
      ],
      "metadata": {
        "colab": {
          "base_uri": "https://localhost:8080/"
        },
        "id": "hULm1CZ4k9e_",
        "outputId": "84e853d5-89d8-43be-f08d-489748de6227"
      },
      "execution_count": 114,
      "outputs": [
        {
          "output_type": "stream",
          "name": "stdout",
          "text": [
            "In our conversation, I answered your questions regarding the Global Pact for Refugees approved by the United Nations. I provided information about what the pact contains and when it was signed, as well as who signed it. Additionally, I provided some related information about how some migrants sustain themselves during their journeys.\n"
          ]
        }
      ]
    },
    {
      "cell_type": "code",
      "source": [
        "for message in messages:\n",
        "  print(\"**************************\")\n",
        "  print(message)"
      ],
      "metadata": {
        "colab": {
          "base_uri": "https://localhost:8080/"
        },
        "id": "qlgghuYAoI-E",
        "outputId": "fcbaad76-dfb0-49ea-bfa7-1f73bfeb8eb6"
      },
      "execution_count": 116,
      "outputs": [
        {
          "output_type": "stream",
          "name": "stdout",
          "text": [
            "**************************\n",
            "content='You are a helpful assistant who helps text from custom dataset.'\n",
            "**************************\n",
            "content='Using the contexts below, answer the query.\\n\\n    Contexts:\\n    United Nations (@TRT)\\n\\nOn December 17th, the General Assembly of the United Nations (UN) approved the Global Pact for Refugees. This victory for human rights and international cooperation comes one week after the General Assembly approved the Global Pact on Migration.\\n\\n181 countries signed the pact that outlines steps that the international community will take to guarantee the welfare of refugees. Three countries abstained, and the United States and Hungary voted against it. The United States had previously stated that, although it agreed with most of the Covenant, it did not want to accept a limitation on the detention of asylum seekers.\\n\\nThe Pact will try to give more support to the countries that host refugees, and when possible, help refugees to return to their countries of origin. It also calls for promoting the independence of refugees. To improve infrastructure and services to refugees, the pact will try to encourage more investment from governments and private sources.\\n\\nAlthough the Covenant is not binding, it represents a possibility of progress for the international community. Currently there are more than 25 million refugees in the world, representing only a part of the 68 million people who have been forced to flee their homes because of violence. Under international law, to be considered a refugee, you have to cross an international border.\\n\\nThe Pact on Refugees received more votes in its favor than the Global Pact on Migration (which was supported by 164 countries). In general, the rights of refugees have been clearer and therefore more protected than those of migrants.\\n\\nFor more information in Spanish:\\n\\nAsamblea de la ONU avala el Pacto Mundial sobre Refugiados (La Jornada, 18 de diciembre de 201).\\n\\nAsamblea de la ONU aprueba pacto mundial sobre refugiados (Telesur, 18 de diciembre de 2018).\\n\\nONU: Asamblea General adopta el Pacto Mundial sobre Refugiados (Kausa Justa, 17 de diciembre de 2018).\\n\\nFor more information from SIPAZ:\\n\\nNational/International: 164 Countries Approve UN Global Migration Pact (January 2nd, 2019)\\n\\nNational/International: World Network of Mothers of Disappeared Migrants Formed in Mexico (November 12th, 2018)\\n\\nNational/Chiapas/Oaxaca/Tabasco: Founding of the Collective of Defenders of Migrants and Refugees (CODEMIRE) (April 23rd, 2015)\\nMigrants are receiving prepaid bank cards backed by the United Nations Refugee Agency (UNHCR), according to reports.\\n\\nClues to answering questions about how some migrants sustain themselves during lengthy journeys from their homelands to their destinations have been unearthed by Slovenian outlet Nova24.\\n\\n“Social network users have warned us that illegal immigrants are financing their lifestyle while waiting in Bosnia and Herzegovina to continue their journey towards Western Europe, with the help of bank cards of the Mastercard brand bearing logos of the European Union and United Nations Refugee Agency,” Nova24 reports.\\n\\nNova24 cites an anonymous Croatian police officer who recently divulged that some migrants carry Mastercards that bear no names.\\n\\n“The migrants we catch and return back in a few days or weeks are again trying to break into Croatia,” the officer said. “Some of them are really poor, but many are well-equipped: they have new footwear, new clothes, sophisticated smartphones, weapons, and some have also been found with Mastercard bank cards without name, they are just numbers. They withdraw money at ATMs, but we do not know who pays them.”\\n\\nMastercard announced in 2016 that they were issuing prepaid debit cards to “provide refugees with mobility, flexibility and dignity.”\\n\\nAdditionally, Mastercard issued a press release in 2017 publicizing the launch of a partnership program with George Soros called “Humanity Ventures,” which aimed to “catalyze and accelerate economic and social development for vulnerable communities around the world, especially refugees and migrants.”\\n\\n“George Soros announced that he is earmarking up to $500 million for private investments that will improve capacity to address the challenges that migrants, including refugees, and their host communities face around the world. Humanity Ventures would be part of that initiative,” Mastercard revealed in the release.\\n\\n“Mastercard delivers innovative payments, data, and identity solutions which empower the underserved all over the world. These tools improve the lives of refugees and migrants by forging better economic and social ties with local populations.”\\n\\nTV director Ninoslav Vucetic recently shared an image of a Mastercard bearing the logos of the EU and UNHCR in a tweet directed at a Montenegran government official.\\n\\n@NebojsaMedojevi BANČNE KARTICE so tudi dokaz, kako EU uničuje Europsko kulturo.!? Vabi jih z denarjem, da povzročajo nasilje.??\\n\\nKDO migrantom daje takšne bančne kartice za dvigovanje denarnih sredstev, brez imena in priimka? \\'MALJEVAC pic.twitter.com/EGNhHyHP4K — Ninoslav Vucetic (@NinoslavVucetic) October 30, 2018\\n\\n“Bank cards are also evidence of how the EU is destroying European culture?” Vucetic wrote. “Inviting them with money to cause violence? Who gives migrants such a bank card in order to access cash, without the first and last names?”\\n\\nThe image shared by Vucetic also appears in various reports from the UNHCR detailing how they are providing aid to migrants in Greece.\\n\\nHungarian officials are now warning that roughly 70,000 migrants have gathered in the Balkans, where they are preparing to force their way onward into Western Europe via the “Soros Express.”\\n\\n(PHOTO: S3studio / Contributor / Getty Images)\\nWASHINGTON—The United States Secretary of State, Michael Pompeo,announced yesterday that the Administration will set the PresidentialDetermination, the level of refugees allowed into the United States, at 30,000refugees for 2019. This is the lowestnumber set in the history of the U.S. refugee admissions program which was formallycreated in 1980.\\n\\nMost Reverend Joe S. Vásquez, Bishop of Austin, Texas, Chair of the ofthe U.S. Conference of Catholic Bishops\\' Committee on Migration, issued thefollowing statement:\\n\\n\"The announcement of the Presidential Determination is deeplydisturbing and leaves many human lives in danger. To cut off protection formany who are fleeing persecution, at a time of unprecedented globalhumanitarian need, contradicts who we are as a nation. Offering refuge to thosefleeing violence, torture, or religious persecution is a cornerstone of ourhistory. We as a country are blessed with vast resources making us capable ofsecurely welcoming those fleeing harm. Closing our doors on those seeking suchsafety is not who we are as a people. In the coming days, we pray that Congresswill have the opportunity to engage in the formal consultation process with theAdministration that is required by law. During this mandatory consultationprocess, Congress should strongly urge the Administration to return to arefugee admission level that reflects local community response and support ofrefugees, global refugee protection needs, and our long history ofcompassionately welcoming refugees.\"\\n\\n---\\n\\nKeywords:U.S. Conference of Catholic Bishops, USCCB, Bishop Joe S. Vásquez, Committee onMigration, Presidential Determination, Administration, Congress, global refugeeprotection, Diocese of Austin, refugees, migration, humanitarian need,community response\\n\\n###\\n\\n\\n\\nMedia Contact:\\n\\nJudy Keane\\n\\n202-541-3200\\n\\nWASHINGTON— ElSecretario de Estado de Estados Unidos, Michael Pompeo, anunció ayer que laAdministración va a fijar la Determinación Presidencial, el número derefugiados permitidos en Estados Unidos, en 30.000 para el 2019. Éste es elnúmero más bajo en la historia del programa de admisiones de refugiados, quefue formalmente creado en 1980.\\n\\nEl ReverendísimoJoe S. Vásquez, Obispo de Austin, Texas, y Presidente del Comité de Migraciónde la Conferencia de Obispos Católicos de Estados Unidos emitió el siguientecomunicado:\\n\\n\"El anunciode la Determinación Presidencial es profundamente inquietante y deja muchasvidas humanas en peligro. Cortar la protección para muchos que huyen de lapersecución, en un momento sin precedentes de necesidad humanitaria mundial,contradice lo que somos nosotros como nación. Ofrecer refugio a aquellos quehuyen de la violencia, la tortura y la persecución religiosa es una piedraangular de nuestra historia. Como país hemos sido bendecidos con abundantesrecursos, lo que nos ha hecho capaces de dar la bienvenida a aquellos que huyen.Cerrar nuestras puertas a quienes buscan tal seguridad no es lo que somos comopueblo. En los próximos días, oramos para que el Congreso tenga la oportunidadde participar en el proceso de consulta formal con la Administración que exigela ley. Durante este proceso obligatorio de consulta, el Congreso debería urgirfirmemente a la Administración a retornar al nivel de admisiones de refugiadosque es consistente con la respuesta y respaldo de la comunidad local a los refugiados,las necesidades de protección global de refugiados y una larga historia derecibir compasivamente a los refugiados\".\\n\\n---\\n\\nPalabras clave: Conferenciade Obispos Católicos de Estados Unidos, USCCB, Obispo J. Vásquez, Comité deMigración, Determinación Presidencial, Administración, Congreso, protecciónglobal a los refugiados, Diócesis de Austin\\n\\n    Query: What does the Global Pact for Refugees approved by UN contain?'\n",
            "**************************\n",
            "content='The Global Pact for Refugees approved by the United Nations outlines steps that the international community will take to guarantee the welfare of refugees. It aims to give more support to the countries that host refugees, and when possible, help refugees to return to their countries of origin. It also calls for promoting the independence of refugees and encouraging more investment from governments and private sources to improve infrastructure and services to refugees.'\n",
            "**************************\n",
            "content='When was the Global Pact for Refugees pact signed and who signed it?'\n",
            "**************************\n",
            "content='The Global Pact for Refugees was approved by the General Assembly of the United Nations on December 17, 2018. A total of 181 countries signed the pact, while three countries abstained, and the United States and Hungary voted against it.'\n",
            "**************************\n",
            "content='Summarize our conversation'\n",
            "**************************\n",
            "content='In our conversation, I answered your questions regarding the Global Pact for Refugees approved by the United Nations. I provided information about what the pact contains and when it was signed, as well as who signed it. Additionally, I provided some related information about how some migrants sustain themselves during their journeys.'\n"
          ]
        }
      ]
    },
    {
      "cell_type": "code",
      "source": [
        "pc.delete_index(index_name)"
      ],
      "metadata": {
        "id": "XAGYuJV3iWf8"
      },
      "execution_count": 117,
      "outputs": []
    },
    {
      "cell_type": "markdown",
      "metadata": {
        "id": "XtiAQmWdw4wd"
      },
      "source": [
        "---"
      ]
    }
  ],
  "metadata": {
    "kernelspec": {
      "display_name": "redacre",
      "language": "python",
      "name": "python3"
    },
    "language_info": {
      "codemirror_mode": {
        "name": "ipython",
        "version": 3
      },
      "file_extension": ".py",
      "mimetype": "text/x-python",
      "name": "python",
      "nbconvert_exporter": "python",
      "pygments_lexer": "ipython3",
      "version": "3.9.12"
    },
    "orig_nbformat": 4,
    "colab": {
      "provenance": []
    },
    "widgets": {
      "application/vnd.jupyter.widget-state+json": {
        "c79539281a5847deaffd97b0aaff089a": {
          "model_module": "@jupyter-widgets/controls",
          "model_name": "HBoxModel",
          "model_module_version": "1.5.0",
          "state": {
            "_dom_classes": [],
            "_model_module": "@jupyter-widgets/controls",
            "_model_module_version": "1.5.0",
            "_model_name": "HBoxModel",
            "_view_count": null,
            "_view_module": "@jupyter-widgets/controls",
            "_view_module_version": "1.5.0",
            "_view_name": "HBoxView",
            "box_style": "",
            "children": [
              "IPY_MODEL_7470d17f09ec43e98ba2bc691eb3da4a",
              "IPY_MODEL_e00dce9b92264e51aa30a8a8fbc8d459",
              "IPY_MODEL_002739a316284cb499e02c63c29f8011"
            ],
            "layout": "IPY_MODEL_23058834ce8e48198da5935878171cf8"
          }
        },
        "7470d17f09ec43e98ba2bc691eb3da4a": {
          "model_module": "@jupyter-widgets/controls",
          "model_name": "HTMLModel",
          "model_module_version": "1.5.0",
          "state": {
            "_dom_classes": [],
            "_model_module": "@jupyter-widgets/controls",
            "_model_module_version": "1.5.0",
            "_model_name": "HTMLModel",
            "_view_count": null,
            "_view_module": "@jupyter-widgets/controls",
            "_view_module_version": "1.5.0",
            "_view_name": "HTMLView",
            "description": "",
            "description_tooltip": null,
            "layout": "IPY_MODEL_d8cc07a38f464781a81f0bd564eafa00",
            "placeholder": "​",
            "style": "IPY_MODEL_7849419cea31464dab149e422ab4d296",
            "value": "Downloading readme: 100%"
          }
        },
        "e00dce9b92264e51aa30a8a8fbc8d459": {
          "model_module": "@jupyter-widgets/controls",
          "model_name": "FloatProgressModel",
          "model_module_version": "1.5.0",
          "state": {
            "_dom_classes": [],
            "_model_module": "@jupyter-widgets/controls",
            "_model_module_version": "1.5.0",
            "_model_name": "FloatProgressModel",
            "_view_count": null,
            "_view_module": "@jupyter-widgets/controls",
            "_view_module_version": "1.5.0",
            "_view_name": "ProgressView",
            "bar_style": "success",
            "description": "",
            "description_tooltip": null,
            "layout": "IPY_MODEL_96d7bc6280c149eaab2a31ff453cbcea",
            "max": 320,
            "min": 0,
            "orientation": "horizontal",
            "style": "IPY_MODEL_a65d18d899734a6aa77e2b223c649f6f",
            "value": 320
          }
        },
        "002739a316284cb499e02c63c29f8011": {
          "model_module": "@jupyter-widgets/controls",
          "model_name": "HTMLModel",
          "model_module_version": "1.5.0",
          "state": {
            "_dom_classes": [],
            "_model_module": "@jupyter-widgets/controls",
            "_model_module_version": "1.5.0",
            "_model_name": "HTMLModel",
            "_view_count": null,
            "_view_module": "@jupyter-widgets/controls",
            "_view_module_version": "1.5.0",
            "_view_name": "HTMLView",
            "description": "",
            "description_tooltip": null,
            "layout": "IPY_MODEL_34112b34ec474d26a56d315aca236ddb",
            "placeholder": "​",
            "style": "IPY_MODEL_52d35ee5ee4049cebd410d152027a1cc",
            "value": " 320/320 [00:00&lt;00:00, 8.89kB/s]"
          }
        },
        "23058834ce8e48198da5935878171cf8": {
          "model_module": "@jupyter-widgets/base",
          "model_name": "LayoutModel",
          "model_module_version": "1.2.0",
          "state": {
            "_model_module": "@jupyter-widgets/base",
            "_model_module_version": "1.2.0",
            "_model_name": "LayoutModel",
            "_view_count": null,
            "_view_module": "@jupyter-widgets/base",
            "_view_module_version": "1.2.0",
            "_view_name": "LayoutView",
            "align_content": null,
            "align_items": null,
            "align_self": null,
            "border": null,
            "bottom": null,
            "display": null,
            "flex": null,
            "flex_flow": null,
            "grid_area": null,
            "grid_auto_columns": null,
            "grid_auto_flow": null,
            "grid_auto_rows": null,
            "grid_column": null,
            "grid_gap": null,
            "grid_row": null,
            "grid_template_areas": null,
            "grid_template_columns": null,
            "grid_template_rows": null,
            "height": null,
            "justify_content": null,
            "justify_items": null,
            "left": null,
            "margin": null,
            "max_height": null,
            "max_width": null,
            "min_height": null,
            "min_width": null,
            "object_fit": null,
            "object_position": null,
            "order": null,
            "overflow": null,
            "overflow_x": null,
            "overflow_y": null,
            "padding": null,
            "right": null,
            "top": null,
            "visibility": null,
            "width": null
          }
        },
        "d8cc07a38f464781a81f0bd564eafa00": {
          "model_module": "@jupyter-widgets/base",
          "model_name": "LayoutModel",
          "model_module_version": "1.2.0",
          "state": {
            "_model_module": "@jupyter-widgets/base",
            "_model_module_version": "1.2.0",
            "_model_name": "LayoutModel",
            "_view_count": null,
            "_view_module": "@jupyter-widgets/base",
            "_view_module_version": "1.2.0",
            "_view_name": "LayoutView",
            "align_content": null,
            "align_items": null,
            "align_self": null,
            "border": null,
            "bottom": null,
            "display": null,
            "flex": null,
            "flex_flow": null,
            "grid_area": null,
            "grid_auto_columns": null,
            "grid_auto_flow": null,
            "grid_auto_rows": null,
            "grid_column": null,
            "grid_gap": null,
            "grid_row": null,
            "grid_template_areas": null,
            "grid_template_columns": null,
            "grid_template_rows": null,
            "height": null,
            "justify_content": null,
            "justify_items": null,
            "left": null,
            "margin": null,
            "max_height": null,
            "max_width": null,
            "min_height": null,
            "min_width": null,
            "object_fit": null,
            "object_position": null,
            "order": null,
            "overflow": null,
            "overflow_x": null,
            "overflow_y": null,
            "padding": null,
            "right": null,
            "top": null,
            "visibility": null,
            "width": null
          }
        },
        "7849419cea31464dab149e422ab4d296": {
          "model_module": "@jupyter-widgets/controls",
          "model_name": "DescriptionStyleModel",
          "model_module_version": "1.5.0",
          "state": {
            "_model_module": "@jupyter-widgets/controls",
            "_model_module_version": "1.5.0",
            "_model_name": "DescriptionStyleModel",
            "_view_count": null,
            "_view_module": "@jupyter-widgets/base",
            "_view_module_version": "1.2.0",
            "_view_name": "StyleView",
            "description_width": ""
          }
        },
        "96d7bc6280c149eaab2a31ff453cbcea": {
          "model_module": "@jupyter-widgets/base",
          "model_name": "LayoutModel",
          "model_module_version": "1.2.0",
          "state": {
            "_model_module": "@jupyter-widgets/base",
            "_model_module_version": "1.2.0",
            "_model_name": "LayoutModel",
            "_view_count": null,
            "_view_module": "@jupyter-widgets/base",
            "_view_module_version": "1.2.0",
            "_view_name": "LayoutView",
            "align_content": null,
            "align_items": null,
            "align_self": null,
            "border": null,
            "bottom": null,
            "display": null,
            "flex": null,
            "flex_flow": null,
            "grid_area": null,
            "grid_auto_columns": null,
            "grid_auto_flow": null,
            "grid_auto_rows": null,
            "grid_column": null,
            "grid_gap": null,
            "grid_row": null,
            "grid_template_areas": null,
            "grid_template_columns": null,
            "grid_template_rows": null,
            "height": null,
            "justify_content": null,
            "justify_items": null,
            "left": null,
            "margin": null,
            "max_height": null,
            "max_width": null,
            "min_height": null,
            "min_width": null,
            "object_fit": null,
            "object_position": null,
            "order": null,
            "overflow": null,
            "overflow_x": null,
            "overflow_y": null,
            "padding": null,
            "right": null,
            "top": null,
            "visibility": null,
            "width": null
          }
        },
        "a65d18d899734a6aa77e2b223c649f6f": {
          "model_module": "@jupyter-widgets/controls",
          "model_name": "ProgressStyleModel",
          "model_module_version": "1.5.0",
          "state": {
            "_model_module": "@jupyter-widgets/controls",
            "_model_module_version": "1.5.0",
            "_model_name": "ProgressStyleModel",
            "_view_count": null,
            "_view_module": "@jupyter-widgets/base",
            "_view_module_version": "1.2.0",
            "_view_name": "StyleView",
            "bar_color": null,
            "description_width": ""
          }
        },
        "34112b34ec474d26a56d315aca236ddb": {
          "model_module": "@jupyter-widgets/base",
          "model_name": "LayoutModel",
          "model_module_version": "1.2.0",
          "state": {
            "_model_module": "@jupyter-widgets/base",
            "_model_module_version": "1.2.0",
            "_model_name": "LayoutModel",
            "_view_count": null,
            "_view_module": "@jupyter-widgets/base",
            "_view_module_version": "1.2.0",
            "_view_name": "LayoutView",
            "align_content": null,
            "align_items": null,
            "align_self": null,
            "border": null,
            "bottom": null,
            "display": null,
            "flex": null,
            "flex_flow": null,
            "grid_area": null,
            "grid_auto_columns": null,
            "grid_auto_flow": null,
            "grid_auto_rows": null,
            "grid_column": null,
            "grid_gap": null,
            "grid_row": null,
            "grid_template_areas": null,
            "grid_template_columns": null,
            "grid_template_rows": null,
            "height": null,
            "justify_content": null,
            "justify_items": null,
            "left": null,
            "margin": null,
            "max_height": null,
            "max_width": null,
            "min_height": null,
            "min_width": null,
            "object_fit": null,
            "object_position": null,
            "order": null,
            "overflow": null,
            "overflow_x": null,
            "overflow_y": null,
            "padding": null,
            "right": null,
            "top": null,
            "visibility": null,
            "width": null
          }
        },
        "52d35ee5ee4049cebd410d152027a1cc": {
          "model_module": "@jupyter-widgets/controls",
          "model_name": "DescriptionStyleModel",
          "model_module_version": "1.5.0",
          "state": {
            "_model_module": "@jupyter-widgets/controls",
            "_model_module_version": "1.5.0",
            "_model_name": "DescriptionStyleModel",
            "_view_count": null,
            "_view_module": "@jupyter-widgets/base",
            "_view_module_version": "1.2.0",
            "_view_name": "StyleView",
            "description_width": ""
          }
        },
        "0a41ad41640e4995a2fda7ef453c452b": {
          "model_module": "@jupyter-widgets/controls",
          "model_name": "HBoxModel",
          "model_module_version": "1.5.0",
          "state": {
            "_dom_classes": [],
            "_model_module": "@jupyter-widgets/controls",
            "_model_module_version": "1.5.0",
            "_model_name": "HBoxModel",
            "_view_count": null,
            "_view_module": "@jupyter-widgets/controls",
            "_view_module_version": "1.5.0",
            "_view_name": "HBoxView",
            "box_style": "",
            "children": [
              "IPY_MODEL_08ea6dba579a422fba08b9c0635cc192",
              "IPY_MODEL_726b3c8f8d9e4643b8fb53b16372a085",
              "IPY_MODEL_81b52f175e5f4d4499a1a7667a42a587"
            ],
            "layout": "IPY_MODEL_0a56ae3fc5824be48a8c758c1e4f7204"
          }
        },
        "08ea6dba579a422fba08b9c0635cc192": {
          "model_module": "@jupyter-widgets/controls",
          "model_name": "HTMLModel",
          "model_module_version": "1.5.0",
          "state": {
            "_dom_classes": [],
            "_model_module": "@jupyter-widgets/controls",
            "_model_module_version": "1.5.0",
            "_model_name": "HTMLModel",
            "_view_count": null,
            "_view_module": "@jupyter-widgets/controls",
            "_view_module_version": "1.5.0",
            "_view_name": "HTMLView",
            "description": "",
            "description_tooltip": null,
            "layout": "IPY_MODEL_1270709567434bd4a7d0d95481845c07",
            "placeholder": "​",
            "style": "IPY_MODEL_20ce53a83edd47129aac7f6e68bf61da",
            "value": "Downloading data files: 100%"
          }
        },
        "726b3c8f8d9e4643b8fb53b16372a085": {
          "model_module": "@jupyter-widgets/controls",
          "model_name": "FloatProgressModel",
          "model_module_version": "1.5.0",
          "state": {
            "_dom_classes": [],
            "_model_module": "@jupyter-widgets/controls",
            "_model_module_version": "1.5.0",
            "_model_name": "FloatProgressModel",
            "_view_count": null,
            "_view_module": "@jupyter-widgets/controls",
            "_view_module_version": "1.5.0",
            "_view_name": "ProgressView",
            "bar_style": "success",
            "description": "",
            "description_tooltip": null,
            "layout": "IPY_MODEL_046be23d06a945dfb9872ec9909bb05b",
            "max": 1,
            "min": 0,
            "orientation": "horizontal",
            "style": "IPY_MODEL_33d003d73cb14fdd8945a13ed337d78c",
            "value": 1
          }
        },
        "81b52f175e5f4d4499a1a7667a42a587": {
          "model_module": "@jupyter-widgets/controls",
          "model_name": "HTMLModel",
          "model_module_version": "1.5.0",
          "state": {
            "_dom_classes": [],
            "_model_module": "@jupyter-widgets/controls",
            "_model_module_version": "1.5.0",
            "_model_name": "HTMLModel",
            "_view_count": null,
            "_view_module": "@jupyter-widgets/controls",
            "_view_module_version": "1.5.0",
            "_view_name": "HTMLView",
            "description": "",
            "description_tooltip": null,
            "layout": "IPY_MODEL_5a061a3a9c6648e48903fba7195888ad",
            "placeholder": "​",
            "style": "IPY_MODEL_efbe92456ea64ed79a0454556b73aa3b",
            "value": " 1/1 [00:01&lt;00:00,  1.39s/it]"
          }
        },
        "0a56ae3fc5824be48a8c758c1e4f7204": {
          "model_module": "@jupyter-widgets/base",
          "model_name": "LayoutModel",
          "model_module_version": "1.2.0",
          "state": {
            "_model_module": "@jupyter-widgets/base",
            "_model_module_version": "1.2.0",
            "_model_name": "LayoutModel",
            "_view_count": null,
            "_view_module": "@jupyter-widgets/base",
            "_view_module_version": "1.2.0",
            "_view_name": "LayoutView",
            "align_content": null,
            "align_items": null,
            "align_self": null,
            "border": null,
            "bottom": null,
            "display": null,
            "flex": null,
            "flex_flow": null,
            "grid_area": null,
            "grid_auto_columns": null,
            "grid_auto_flow": null,
            "grid_auto_rows": null,
            "grid_column": null,
            "grid_gap": null,
            "grid_row": null,
            "grid_template_areas": null,
            "grid_template_columns": null,
            "grid_template_rows": null,
            "height": null,
            "justify_content": null,
            "justify_items": null,
            "left": null,
            "margin": null,
            "max_height": null,
            "max_width": null,
            "min_height": null,
            "min_width": null,
            "object_fit": null,
            "object_position": null,
            "order": null,
            "overflow": null,
            "overflow_x": null,
            "overflow_y": null,
            "padding": null,
            "right": null,
            "top": null,
            "visibility": null,
            "width": null
          }
        },
        "1270709567434bd4a7d0d95481845c07": {
          "model_module": "@jupyter-widgets/base",
          "model_name": "LayoutModel",
          "model_module_version": "1.2.0",
          "state": {
            "_model_module": "@jupyter-widgets/base",
            "_model_module_version": "1.2.0",
            "_model_name": "LayoutModel",
            "_view_count": null,
            "_view_module": "@jupyter-widgets/base",
            "_view_module_version": "1.2.0",
            "_view_name": "LayoutView",
            "align_content": null,
            "align_items": null,
            "align_self": null,
            "border": null,
            "bottom": null,
            "display": null,
            "flex": null,
            "flex_flow": null,
            "grid_area": null,
            "grid_auto_columns": null,
            "grid_auto_flow": null,
            "grid_auto_rows": null,
            "grid_column": null,
            "grid_gap": null,
            "grid_row": null,
            "grid_template_areas": null,
            "grid_template_columns": null,
            "grid_template_rows": null,
            "height": null,
            "justify_content": null,
            "justify_items": null,
            "left": null,
            "margin": null,
            "max_height": null,
            "max_width": null,
            "min_height": null,
            "min_width": null,
            "object_fit": null,
            "object_position": null,
            "order": null,
            "overflow": null,
            "overflow_x": null,
            "overflow_y": null,
            "padding": null,
            "right": null,
            "top": null,
            "visibility": null,
            "width": null
          }
        },
        "20ce53a83edd47129aac7f6e68bf61da": {
          "model_module": "@jupyter-widgets/controls",
          "model_name": "DescriptionStyleModel",
          "model_module_version": "1.5.0",
          "state": {
            "_model_module": "@jupyter-widgets/controls",
            "_model_module_version": "1.5.0",
            "_model_name": "DescriptionStyleModel",
            "_view_count": null,
            "_view_module": "@jupyter-widgets/base",
            "_view_module_version": "1.2.0",
            "_view_name": "StyleView",
            "description_width": ""
          }
        },
        "046be23d06a945dfb9872ec9909bb05b": {
          "model_module": "@jupyter-widgets/base",
          "model_name": "LayoutModel",
          "model_module_version": "1.2.0",
          "state": {
            "_model_module": "@jupyter-widgets/base",
            "_model_module_version": "1.2.0",
            "_model_name": "LayoutModel",
            "_view_count": null,
            "_view_module": "@jupyter-widgets/base",
            "_view_module_version": "1.2.0",
            "_view_name": "LayoutView",
            "align_content": null,
            "align_items": null,
            "align_self": null,
            "border": null,
            "bottom": null,
            "display": null,
            "flex": null,
            "flex_flow": null,
            "grid_area": null,
            "grid_auto_columns": null,
            "grid_auto_flow": null,
            "grid_auto_rows": null,
            "grid_column": null,
            "grid_gap": null,
            "grid_row": null,
            "grid_template_areas": null,
            "grid_template_columns": null,
            "grid_template_rows": null,
            "height": null,
            "justify_content": null,
            "justify_items": null,
            "left": null,
            "margin": null,
            "max_height": null,
            "max_width": null,
            "min_height": null,
            "min_width": null,
            "object_fit": null,
            "object_position": null,
            "order": null,
            "overflow": null,
            "overflow_x": null,
            "overflow_y": null,
            "padding": null,
            "right": null,
            "top": null,
            "visibility": null,
            "width": null
          }
        },
        "33d003d73cb14fdd8945a13ed337d78c": {
          "model_module": "@jupyter-widgets/controls",
          "model_name": "ProgressStyleModel",
          "model_module_version": "1.5.0",
          "state": {
            "_model_module": "@jupyter-widgets/controls",
            "_model_module_version": "1.5.0",
            "_model_name": "ProgressStyleModel",
            "_view_count": null,
            "_view_module": "@jupyter-widgets/base",
            "_view_module_version": "1.2.0",
            "_view_name": "StyleView",
            "bar_color": null,
            "description_width": ""
          }
        },
        "5a061a3a9c6648e48903fba7195888ad": {
          "model_module": "@jupyter-widgets/base",
          "model_name": "LayoutModel",
          "model_module_version": "1.2.0",
          "state": {
            "_model_module": "@jupyter-widgets/base",
            "_model_module_version": "1.2.0",
            "_model_name": "LayoutModel",
            "_view_count": null,
            "_view_module": "@jupyter-widgets/base",
            "_view_module_version": "1.2.0",
            "_view_name": "LayoutView",
            "align_content": null,
            "align_items": null,
            "align_self": null,
            "border": null,
            "bottom": null,
            "display": null,
            "flex": null,
            "flex_flow": null,
            "grid_area": null,
            "grid_auto_columns": null,
            "grid_auto_flow": null,
            "grid_auto_rows": null,
            "grid_column": null,
            "grid_gap": null,
            "grid_row": null,
            "grid_template_areas": null,
            "grid_template_columns": null,
            "grid_template_rows": null,
            "height": null,
            "justify_content": null,
            "justify_items": null,
            "left": null,
            "margin": null,
            "max_height": null,
            "max_width": null,
            "min_height": null,
            "min_width": null,
            "object_fit": null,
            "object_position": null,
            "order": null,
            "overflow": null,
            "overflow_x": null,
            "overflow_y": null,
            "padding": null,
            "right": null,
            "top": null,
            "visibility": null,
            "width": null
          }
        },
        "efbe92456ea64ed79a0454556b73aa3b": {
          "model_module": "@jupyter-widgets/controls",
          "model_name": "DescriptionStyleModel",
          "model_module_version": "1.5.0",
          "state": {
            "_model_module": "@jupyter-widgets/controls",
            "_model_module_version": "1.5.0",
            "_model_name": "DescriptionStyleModel",
            "_view_count": null,
            "_view_module": "@jupyter-widgets/base",
            "_view_module_version": "1.2.0",
            "_view_name": "StyleView",
            "description_width": ""
          }
        },
        "80ac422a2afa4b1aab608bd4510c0c62": {
          "model_module": "@jupyter-widgets/controls",
          "model_name": "HBoxModel",
          "model_module_version": "1.5.0",
          "state": {
            "_dom_classes": [],
            "_model_module": "@jupyter-widgets/controls",
            "_model_module_version": "1.5.0",
            "_model_name": "HBoxModel",
            "_view_count": null,
            "_view_module": "@jupyter-widgets/controls",
            "_view_module_version": "1.5.0",
            "_view_name": "HBoxView",
            "box_style": "",
            "children": [
              "IPY_MODEL_2200b7a0a1884a40a42de78917d81cf2",
              "IPY_MODEL_eeddcfc31fbf49aeb17b603adeb1d547",
              "IPY_MODEL_eadee63120b044d2ac7a004d72a79141"
            ],
            "layout": "IPY_MODEL_ff672f4324634753bbdfbcecedb3918b"
          }
        },
        "2200b7a0a1884a40a42de78917d81cf2": {
          "model_module": "@jupyter-widgets/controls",
          "model_name": "HTMLModel",
          "model_module_version": "1.5.0",
          "state": {
            "_dom_classes": [],
            "_model_module": "@jupyter-widgets/controls",
            "_model_module_version": "1.5.0",
            "_model_name": "HTMLModel",
            "_view_count": null,
            "_view_module": "@jupyter-widgets/controls",
            "_view_module_version": "1.5.0",
            "_view_name": "HTMLView",
            "description": "",
            "description_tooltip": null,
            "layout": "IPY_MODEL_2081d051ca3941aeac6b7e485831c068",
            "placeholder": "​",
            "style": "IPY_MODEL_ce2dbe8963684c02910792fae65967c7",
            "value": "Downloading data: 100%"
          }
        },
        "eeddcfc31fbf49aeb17b603adeb1d547": {
          "model_module": "@jupyter-widgets/controls",
          "model_name": "FloatProgressModel",
          "model_module_version": "1.5.0",
          "state": {
            "_dom_classes": [],
            "_model_module": "@jupyter-widgets/controls",
            "_model_module_version": "1.5.0",
            "_model_name": "FloatProgressModel",
            "_view_count": null,
            "_view_module": "@jupyter-widgets/controls",
            "_view_module_version": "1.5.0",
            "_view_name": "ProgressView",
            "bar_style": "success",
            "description": "",
            "description_tooltip": null,
            "layout": "IPY_MODEL_e4baf575f04f4780b95ec0b2a9cea4f2",
            "max": 13262356,
            "min": 0,
            "orientation": "horizontal",
            "style": "IPY_MODEL_7c10e36fa5c54d738d7ac03abbdd076e",
            "value": 13262356
          }
        },
        "eadee63120b044d2ac7a004d72a79141": {
          "model_module": "@jupyter-widgets/controls",
          "model_name": "HTMLModel",
          "model_module_version": "1.5.0",
          "state": {
            "_dom_classes": [],
            "_model_module": "@jupyter-widgets/controls",
            "_model_module_version": "1.5.0",
            "_model_name": "HTMLModel",
            "_view_count": null,
            "_view_module": "@jupyter-widgets/controls",
            "_view_module_version": "1.5.0",
            "_view_name": "HTMLView",
            "description": "",
            "description_tooltip": null,
            "layout": "IPY_MODEL_2466b03e13bd4d7697c76a40e3204099",
            "placeholder": "​",
            "style": "IPY_MODEL_4a3a921bfbd041fd8e889296b48dfc95",
            "value": " 13.3M/13.3M [00:00&lt;00:00, 30.1MB/s]"
          }
        },
        "ff672f4324634753bbdfbcecedb3918b": {
          "model_module": "@jupyter-widgets/base",
          "model_name": "LayoutModel",
          "model_module_version": "1.2.0",
          "state": {
            "_model_module": "@jupyter-widgets/base",
            "_model_module_version": "1.2.0",
            "_model_name": "LayoutModel",
            "_view_count": null,
            "_view_module": "@jupyter-widgets/base",
            "_view_module_version": "1.2.0",
            "_view_name": "LayoutView",
            "align_content": null,
            "align_items": null,
            "align_self": null,
            "border": null,
            "bottom": null,
            "display": null,
            "flex": null,
            "flex_flow": null,
            "grid_area": null,
            "grid_auto_columns": null,
            "grid_auto_flow": null,
            "grid_auto_rows": null,
            "grid_column": null,
            "grid_gap": null,
            "grid_row": null,
            "grid_template_areas": null,
            "grid_template_columns": null,
            "grid_template_rows": null,
            "height": null,
            "justify_content": null,
            "justify_items": null,
            "left": null,
            "margin": null,
            "max_height": null,
            "max_width": null,
            "min_height": null,
            "min_width": null,
            "object_fit": null,
            "object_position": null,
            "order": null,
            "overflow": null,
            "overflow_x": null,
            "overflow_y": null,
            "padding": null,
            "right": null,
            "top": null,
            "visibility": null,
            "width": null
          }
        },
        "2081d051ca3941aeac6b7e485831c068": {
          "model_module": "@jupyter-widgets/base",
          "model_name": "LayoutModel",
          "model_module_version": "1.2.0",
          "state": {
            "_model_module": "@jupyter-widgets/base",
            "_model_module_version": "1.2.0",
            "_model_name": "LayoutModel",
            "_view_count": null,
            "_view_module": "@jupyter-widgets/base",
            "_view_module_version": "1.2.0",
            "_view_name": "LayoutView",
            "align_content": null,
            "align_items": null,
            "align_self": null,
            "border": null,
            "bottom": null,
            "display": null,
            "flex": null,
            "flex_flow": null,
            "grid_area": null,
            "grid_auto_columns": null,
            "grid_auto_flow": null,
            "grid_auto_rows": null,
            "grid_column": null,
            "grid_gap": null,
            "grid_row": null,
            "grid_template_areas": null,
            "grid_template_columns": null,
            "grid_template_rows": null,
            "height": null,
            "justify_content": null,
            "justify_items": null,
            "left": null,
            "margin": null,
            "max_height": null,
            "max_width": null,
            "min_height": null,
            "min_width": null,
            "object_fit": null,
            "object_position": null,
            "order": null,
            "overflow": null,
            "overflow_x": null,
            "overflow_y": null,
            "padding": null,
            "right": null,
            "top": null,
            "visibility": null,
            "width": null
          }
        },
        "ce2dbe8963684c02910792fae65967c7": {
          "model_module": "@jupyter-widgets/controls",
          "model_name": "DescriptionStyleModel",
          "model_module_version": "1.5.0",
          "state": {
            "_model_module": "@jupyter-widgets/controls",
            "_model_module_version": "1.5.0",
            "_model_name": "DescriptionStyleModel",
            "_view_count": null,
            "_view_module": "@jupyter-widgets/base",
            "_view_module_version": "1.2.0",
            "_view_name": "StyleView",
            "description_width": ""
          }
        },
        "e4baf575f04f4780b95ec0b2a9cea4f2": {
          "model_module": "@jupyter-widgets/base",
          "model_name": "LayoutModel",
          "model_module_version": "1.2.0",
          "state": {
            "_model_module": "@jupyter-widgets/base",
            "_model_module_version": "1.2.0",
            "_model_name": "LayoutModel",
            "_view_count": null,
            "_view_module": "@jupyter-widgets/base",
            "_view_module_version": "1.2.0",
            "_view_name": "LayoutView",
            "align_content": null,
            "align_items": null,
            "align_self": null,
            "border": null,
            "bottom": null,
            "display": null,
            "flex": null,
            "flex_flow": null,
            "grid_area": null,
            "grid_auto_columns": null,
            "grid_auto_flow": null,
            "grid_auto_rows": null,
            "grid_column": null,
            "grid_gap": null,
            "grid_row": null,
            "grid_template_areas": null,
            "grid_template_columns": null,
            "grid_template_rows": null,
            "height": null,
            "justify_content": null,
            "justify_items": null,
            "left": null,
            "margin": null,
            "max_height": null,
            "max_width": null,
            "min_height": null,
            "min_width": null,
            "object_fit": null,
            "object_position": null,
            "order": null,
            "overflow": null,
            "overflow_x": null,
            "overflow_y": null,
            "padding": null,
            "right": null,
            "top": null,
            "visibility": null,
            "width": null
          }
        },
        "7c10e36fa5c54d738d7ac03abbdd076e": {
          "model_module": "@jupyter-widgets/controls",
          "model_name": "ProgressStyleModel",
          "model_module_version": "1.5.0",
          "state": {
            "_model_module": "@jupyter-widgets/controls",
            "_model_module_version": "1.5.0",
            "_model_name": "ProgressStyleModel",
            "_view_count": null,
            "_view_module": "@jupyter-widgets/base",
            "_view_module_version": "1.2.0",
            "_view_name": "StyleView",
            "bar_color": null,
            "description_width": ""
          }
        },
        "2466b03e13bd4d7697c76a40e3204099": {
          "model_module": "@jupyter-widgets/base",
          "model_name": "LayoutModel",
          "model_module_version": "1.2.0",
          "state": {
            "_model_module": "@jupyter-widgets/base",
            "_model_module_version": "1.2.0",
            "_model_name": "LayoutModel",
            "_view_count": null,
            "_view_module": "@jupyter-widgets/base",
            "_view_module_version": "1.2.0",
            "_view_name": "LayoutView",
            "align_content": null,
            "align_items": null,
            "align_self": null,
            "border": null,
            "bottom": null,
            "display": null,
            "flex": null,
            "flex_flow": null,
            "grid_area": null,
            "grid_auto_columns": null,
            "grid_auto_flow": null,
            "grid_auto_rows": null,
            "grid_column": null,
            "grid_gap": null,
            "grid_row": null,
            "grid_template_areas": null,
            "grid_template_columns": null,
            "grid_template_rows": null,
            "height": null,
            "justify_content": null,
            "justify_items": null,
            "left": null,
            "margin": null,
            "max_height": null,
            "max_width": null,
            "min_height": null,
            "min_width": null,
            "object_fit": null,
            "object_position": null,
            "order": null,
            "overflow": null,
            "overflow_x": null,
            "overflow_y": null,
            "padding": null,
            "right": null,
            "top": null,
            "visibility": null,
            "width": null
          }
        },
        "4a3a921bfbd041fd8e889296b48dfc95": {
          "model_module": "@jupyter-widgets/controls",
          "model_name": "DescriptionStyleModel",
          "model_module_version": "1.5.0",
          "state": {
            "_model_module": "@jupyter-widgets/controls",
            "_model_module_version": "1.5.0",
            "_model_name": "DescriptionStyleModel",
            "_view_count": null,
            "_view_module": "@jupyter-widgets/base",
            "_view_module_version": "1.2.0",
            "_view_name": "StyleView",
            "description_width": ""
          }
        },
        "29329e4cde9c4f3ea39ebf1fe7185794": {
          "model_module": "@jupyter-widgets/controls",
          "model_name": "HBoxModel",
          "model_module_version": "1.5.0",
          "state": {
            "_dom_classes": [],
            "_model_module": "@jupyter-widgets/controls",
            "_model_module_version": "1.5.0",
            "_model_name": "HBoxModel",
            "_view_count": null,
            "_view_module": "@jupyter-widgets/controls",
            "_view_module_version": "1.5.0",
            "_view_name": "HBoxView",
            "box_style": "",
            "children": [
              "IPY_MODEL_7003ec8acb4e469fb14e9c61172bb5af",
              "IPY_MODEL_fd292b1d9b394e6fafc530c30a0f7a09",
              "IPY_MODEL_dc69dea3568146e6a32b576474e0e882"
            ],
            "layout": "IPY_MODEL_eb28944363604df08b5eb92bb56fa3fa"
          }
        },
        "7003ec8acb4e469fb14e9c61172bb5af": {
          "model_module": "@jupyter-widgets/controls",
          "model_name": "HTMLModel",
          "model_module_version": "1.5.0",
          "state": {
            "_dom_classes": [],
            "_model_module": "@jupyter-widgets/controls",
            "_model_module_version": "1.5.0",
            "_model_name": "HTMLModel",
            "_view_count": null,
            "_view_module": "@jupyter-widgets/controls",
            "_view_module_version": "1.5.0",
            "_view_name": "HTMLView",
            "description": "",
            "description_tooltip": null,
            "layout": "IPY_MODEL_62f8825c6bb240e183cf4a117038e480",
            "placeholder": "​",
            "style": "IPY_MODEL_a52acbc23f904a45b9910eef3c2724be",
            "value": "Extracting data files: 100%"
          }
        },
        "fd292b1d9b394e6fafc530c30a0f7a09": {
          "model_module": "@jupyter-widgets/controls",
          "model_name": "FloatProgressModel",
          "model_module_version": "1.5.0",
          "state": {
            "_dom_classes": [],
            "_model_module": "@jupyter-widgets/controls",
            "_model_module_version": "1.5.0",
            "_model_name": "FloatProgressModel",
            "_view_count": null,
            "_view_module": "@jupyter-widgets/controls",
            "_view_module_version": "1.5.0",
            "_view_name": "ProgressView",
            "bar_style": "success",
            "description": "",
            "description_tooltip": null,
            "layout": "IPY_MODEL_70d14ce9cc574421b0d6551a7990fdc0",
            "max": 1,
            "min": 0,
            "orientation": "horizontal",
            "style": "IPY_MODEL_a550981eacdf43b891f9f3e6d55d7bec",
            "value": 1
          }
        },
        "dc69dea3568146e6a32b576474e0e882": {
          "model_module": "@jupyter-widgets/controls",
          "model_name": "HTMLModel",
          "model_module_version": "1.5.0",
          "state": {
            "_dom_classes": [],
            "_model_module": "@jupyter-widgets/controls",
            "_model_module_version": "1.5.0",
            "_model_name": "HTMLModel",
            "_view_count": null,
            "_view_module": "@jupyter-widgets/controls",
            "_view_module_version": "1.5.0",
            "_view_name": "HTMLView",
            "description": "",
            "description_tooltip": null,
            "layout": "IPY_MODEL_035d1cb727be4edf88488de3f32faa2d",
            "placeholder": "​",
            "style": "IPY_MODEL_5d803d5224c5420da5e0a6310c4bb372",
            "value": " 1/1 [00:00&lt;00:00, 27.10it/s]"
          }
        },
        "eb28944363604df08b5eb92bb56fa3fa": {
          "model_module": "@jupyter-widgets/base",
          "model_name": "LayoutModel",
          "model_module_version": "1.2.0",
          "state": {
            "_model_module": "@jupyter-widgets/base",
            "_model_module_version": "1.2.0",
            "_model_name": "LayoutModel",
            "_view_count": null,
            "_view_module": "@jupyter-widgets/base",
            "_view_module_version": "1.2.0",
            "_view_name": "LayoutView",
            "align_content": null,
            "align_items": null,
            "align_self": null,
            "border": null,
            "bottom": null,
            "display": null,
            "flex": null,
            "flex_flow": null,
            "grid_area": null,
            "grid_auto_columns": null,
            "grid_auto_flow": null,
            "grid_auto_rows": null,
            "grid_column": null,
            "grid_gap": null,
            "grid_row": null,
            "grid_template_areas": null,
            "grid_template_columns": null,
            "grid_template_rows": null,
            "height": null,
            "justify_content": null,
            "justify_items": null,
            "left": null,
            "margin": null,
            "max_height": null,
            "max_width": null,
            "min_height": null,
            "min_width": null,
            "object_fit": null,
            "object_position": null,
            "order": null,
            "overflow": null,
            "overflow_x": null,
            "overflow_y": null,
            "padding": null,
            "right": null,
            "top": null,
            "visibility": null,
            "width": null
          }
        },
        "62f8825c6bb240e183cf4a117038e480": {
          "model_module": "@jupyter-widgets/base",
          "model_name": "LayoutModel",
          "model_module_version": "1.2.0",
          "state": {
            "_model_module": "@jupyter-widgets/base",
            "_model_module_version": "1.2.0",
            "_model_name": "LayoutModel",
            "_view_count": null,
            "_view_module": "@jupyter-widgets/base",
            "_view_module_version": "1.2.0",
            "_view_name": "LayoutView",
            "align_content": null,
            "align_items": null,
            "align_self": null,
            "border": null,
            "bottom": null,
            "display": null,
            "flex": null,
            "flex_flow": null,
            "grid_area": null,
            "grid_auto_columns": null,
            "grid_auto_flow": null,
            "grid_auto_rows": null,
            "grid_column": null,
            "grid_gap": null,
            "grid_row": null,
            "grid_template_areas": null,
            "grid_template_columns": null,
            "grid_template_rows": null,
            "height": null,
            "justify_content": null,
            "justify_items": null,
            "left": null,
            "margin": null,
            "max_height": null,
            "max_width": null,
            "min_height": null,
            "min_width": null,
            "object_fit": null,
            "object_position": null,
            "order": null,
            "overflow": null,
            "overflow_x": null,
            "overflow_y": null,
            "padding": null,
            "right": null,
            "top": null,
            "visibility": null,
            "width": null
          }
        },
        "a52acbc23f904a45b9910eef3c2724be": {
          "model_module": "@jupyter-widgets/controls",
          "model_name": "DescriptionStyleModel",
          "model_module_version": "1.5.0",
          "state": {
            "_model_module": "@jupyter-widgets/controls",
            "_model_module_version": "1.5.0",
            "_model_name": "DescriptionStyleModel",
            "_view_count": null,
            "_view_module": "@jupyter-widgets/base",
            "_view_module_version": "1.2.0",
            "_view_name": "StyleView",
            "description_width": ""
          }
        },
        "70d14ce9cc574421b0d6551a7990fdc0": {
          "model_module": "@jupyter-widgets/base",
          "model_name": "LayoutModel",
          "model_module_version": "1.2.0",
          "state": {
            "_model_module": "@jupyter-widgets/base",
            "_model_module_version": "1.2.0",
            "_model_name": "LayoutModel",
            "_view_count": null,
            "_view_module": "@jupyter-widgets/base",
            "_view_module_version": "1.2.0",
            "_view_name": "LayoutView",
            "align_content": null,
            "align_items": null,
            "align_self": null,
            "border": null,
            "bottom": null,
            "display": null,
            "flex": null,
            "flex_flow": null,
            "grid_area": null,
            "grid_auto_columns": null,
            "grid_auto_flow": null,
            "grid_auto_rows": null,
            "grid_column": null,
            "grid_gap": null,
            "grid_row": null,
            "grid_template_areas": null,
            "grid_template_columns": null,
            "grid_template_rows": null,
            "height": null,
            "justify_content": null,
            "justify_items": null,
            "left": null,
            "margin": null,
            "max_height": null,
            "max_width": null,
            "min_height": null,
            "min_width": null,
            "object_fit": null,
            "object_position": null,
            "order": null,
            "overflow": null,
            "overflow_x": null,
            "overflow_y": null,
            "padding": null,
            "right": null,
            "top": null,
            "visibility": null,
            "width": null
          }
        },
        "a550981eacdf43b891f9f3e6d55d7bec": {
          "model_module": "@jupyter-widgets/controls",
          "model_name": "ProgressStyleModel",
          "model_module_version": "1.5.0",
          "state": {
            "_model_module": "@jupyter-widgets/controls",
            "_model_module_version": "1.5.0",
            "_model_name": "ProgressStyleModel",
            "_view_count": null,
            "_view_module": "@jupyter-widgets/base",
            "_view_module_version": "1.2.0",
            "_view_name": "StyleView",
            "bar_color": null,
            "description_width": ""
          }
        },
        "035d1cb727be4edf88488de3f32faa2d": {
          "model_module": "@jupyter-widgets/base",
          "model_name": "LayoutModel",
          "model_module_version": "1.2.0",
          "state": {
            "_model_module": "@jupyter-widgets/base",
            "_model_module_version": "1.2.0",
            "_model_name": "LayoutModel",
            "_view_count": null,
            "_view_module": "@jupyter-widgets/base",
            "_view_module_version": "1.2.0",
            "_view_name": "LayoutView",
            "align_content": null,
            "align_items": null,
            "align_self": null,
            "border": null,
            "bottom": null,
            "display": null,
            "flex": null,
            "flex_flow": null,
            "grid_area": null,
            "grid_auto_columns": null,
            "grid_auto_flow": null,
            "grid_auto_rows": null,
            "grid_column": null,
            "grid_gap": null,
            "grid_row": null,
            "grid_template_areas": null,
            "grid_template_columns": null,
            "grid_template_rows": null,
            "height": null,
            "justify_content": null,
            "justify_items": null,
            "left": null,
            "margin": null,
            "max_height": null,
            "max_width": null,
            "min_height": null,
            "min_width": null,
            "object_fit": null,
            "object_position": null,
            "order": null,
            "overflow": null,
            "overflow_x": null,
            "overflow_y": null,
            "padding": null,
            "right": null,
            "top": null,
            "visibility": null,
            "width": null
          }
        },
        "5d803d5224c5420da5e0a6310c4bb372": {
          "model_module": "@jupyter-widgets/controls",
          "model_name": "DescriptionStyleModel",
          "model_module_version": "1.5.0",
          "state": {
            "_model_module": "@jupyter-widgets/controls",
            "_model_module_version": "1.5.0",
            "_model_name": "DescriptionStyleModel",
            "_view_count": null,
            "_view_module": "@jupyter-widgets/base",
            "_view_module_version": "1.2.0",
            "_view_name": "StyleView",
            "description_width": ""
          }
        },
        "a9ff22269d6445f2ad3878c2214eb579": {
          "model_module": "@jupyter-widgets/controls",
          "model_name": "HBoxModel",
          "model_module_version": "1.5.0",
          "state": {
            "_dom_classes": [],
            "_model_module": "@jupyter-widgets/controls",
            "_model_module_version": "1.5.0",
            "_model_name": "HBoxModel",
            "_view_count": null,
            "_view_module": "@jupyter-widgets/controls",
            "_view_module_version": "1.5.0",
            "_view_name": "HBoxView",
            "box_style": "",
            "children": [
              "IPY_MODEL_00fc8f9b81e5435497d6ae68a56e3e9e",
              "IPY_MODEL_da02ce6f1c2541c4832ed171de4fd182",
              "IPY_MODEL_a8728396da85498785318b9188f6cfd3"
            ],
            "layout": "IPY_MODEL_8956c6db778c4a1bbf3f9ee26520993d"
          }
        },
        "00fc8f9b81e5435497d6ae68a56e3e9e": {
          "model_module": "@jupyter-widgets/controls",
          "model_name": "HTMLModel",
          "model_module_version": "1.5.0",
          "state": {
            "_dom_classes": [],
            "_model_module": "@jupyter-widgets/controls",
            "_model_module_version": "1.5.0",
            "_model_name": "HTMLModel",
            "_view_count": null,
            "_view_module": "@jupyter-widgets/controls",
            "_view_module_version": "1.5.0",
            "_view_name": "HTMLView",
            "description": "",
            "description_tooltip": null,
            "layout": "IPY_MODEL_58d8adca050d44338705e9405ca7e1a0",
            "placeholder": "​",
            "style": "IPY_MODEL_eeab30cf052449b4b841e6978c3c43cf",
            "value": "Generating train split: 100%"
          }
        },
        "da02ce6f1c2541c4832ed171de4fd182": {
          "model_module": "@jupyter-widgets/controls",
          "model_name": "FloatProgressModel",
          "model_module_version": "1.5.0",
          "state": {
            "_dom_classes": [],
            "_model_module": "@jupyter-widgets/controls",
            "_model_module_version": "1.5.0",
            "_model_name": "FloatProgressModel",
            "_view_count": null,
            "_view_module": "@jupyter-widgets/controls",
            "_view_module_version": "1.5.0",
            "_view_name": "ProgressView",
            "bar_style": "",
            "description": "",
            "description_tooltip": null,
            "layout": "IPY_MODEL_f45ab608c6904a74a909832468d76cf0",
            "max": 6521,
            "min": 0,
            "orientation": "horizontal",
            "style": "IPY_MODEL_f9c61f6324ec419493953b8b9974d972",
            "value": 6521
          }
        },
        "a8728396da85498785318b9188f6cfd3": {
          "model_module": "@jupyter-widgets/controls",
          "model_name": "HTMLModel",
          "model_module_version": "1.5.0",
          "state": {
            "_dom_classes": [],
            "_model_module": "@jupyter-widgets/controls",
            "_model_module_version": "1.5.0",
            "_model_name": "HTMLModel",
            "_view_count": null,
            "_view_module": "@jupyter-widgets/controls",
            "_view_module_version": "1.5.0",
            "_view_name": "HTMLView",
            "description": "",
            "description_tooltip": null,
            "layout": "IPY_MODEL_a516aa1a4521420c8f5fef31fd1f705e",
            "placeholder": "​",
            "style": "IPY_MODEL_547e2c48925445348f077f1cd20b4577",
            "value": " 6521/6521 [00:00&lt;00:00, 13449.95 examples/s]"
          }
        },
        "8956c6db778c4a1bbf3f9ee26520993d": {
          "model_module": "@jupyter-widgets/base",
          "model_name": "LayoutModel",
          "model_module_version": "1.2.0",
          "state": {
            "_model_module": "@jupyter-widgets/base",
            "_model_module_version": "1.2.0",
            "_model_name": "LayoutModel",
            "_view_count": null,
            "_view_module": "@jupyter-widgets/base",
            "_view_module_version": "1.2.0",
            "_view_name": "LayoutView",
            "align_content": null,
            "align_items": null,
            "align_self": null,
            "border": null,
            "bottom": null,
            "display": null,
            "flex": null,
            "flex_flow": null,
            "grid_area": null,
            "grid_auto_columns": null,
            "grid_auto_flow": null,
            "grid_auto_rows": null,
            "grid_column": null,
            "grid_gap": null,
            "grid_row": null,
            "grid_template_areas": null,
            "grid_template_columns": null,
            "grid_template_rows": null,
            "height": null,
            "justify_content": null,
            "justify_items": null,
            "left": null,
            "margin": null,
            "max_height": null,
            "max_width": null,
            "min_height": null,
            "min_width": null,
            "object_fit": null,
            "object_position": null,
            "order": null,
            "overflow": null,
            "overflow_x": null,
            "overflow_y": null,
            "padding": null,
            "right": null,
            "top": null,
            "visibility": "hidden",
            "width": null
          }
        },
        "58d8adca050d44338705e9405ca7e1a0": {
          "model_module": "@jupyter-widgets/base",
          "model_name": "LayoutModel",
          "model_module_version": "1.2.0",
          "state": {
            "_model_module": "@jupyter-widgets/base",
            "_model_module_version": "1.2.0",
            "_model_name": "LayoutModel",
            "_view_count": null,
            "_view_module": "@jupyter-widgets/base",
            "_view_module_version": "1.2.0",
            "_view_name": "LayoutView",
            "align_content": null,
            "align_items": null,
            "align_self": null,
            "border": null,
            "bottom": null,
            "display": null,
            "flex": null,
            "flex_flow": null,
            "grid_area": null,
            "grid_auto_columns": null,
            "grid_auto_flow": null,
            "grid_auto_rows": null,
            "grid_column": null,
            "grid_gap": null,
            "grid_row": null,
            "grid_template_areas": null,
            "grid_template_columns": null,
            "grid_template_rows": null,
            "height": null,
            "justify_content": null,
            "justify_items": null,
            "left": null,
            "margin": null,
            "max_height": null,
            "max_width": null,
            "min_height": null,
            "min_width": null,
            "object_fit": null,
            "object_position": null,
            "order": null,
            "overflow": null,
            "overflow_x": null,
            "overflow_y": null,
            "padding": null,
            "right": null,
            "top": null,
            "visibility": null,
            "width": null
          }
        },
        "eeab30cf052449b4b841e6978c3c43cf": {
          "model_module": "@jupyter-widgets/controls",
          "model_name": "DescriptionStyleModel",
          "model_module_version": "1.5.0",
          "state": {
            "_model_module": "@jupyter-widgets/controls",
            "_model_module_version": "1.5.0",
            "_model_name": "DescriptionStyleModel",
            "_view_count": null,
            "_view_module": "@jupyter-widgets/base",
            "_view_module_version": "1.2.0",
            "_view_name": "StyleView",
            "description_width": ""
          }
        },
        "f45ab608c6904a74a909832468d76cf0": {
          "model_module": "@jupyter-widgets/base",
          "model_name": "LayoutModel",
          "model_module_version": "1.2.0",
          "state": {
            "_model_module": "@jupyter-widgets/base",
            "_model_module_version": "1.2.0",
            "_model_name": "LayoutModel",
            "_view_count": null,
            "_view_module": "@jupyter-widgets/base",
            "_view_module_version": "1.2.0",
            "_view_name": "LayoutView",
            "align_content": null,
            "align_items": null,
            "align_self": null,
            "border": null,
            "bottom": null,
            "display": null,
            "flex": null,
            "flex_flow": null,
            "grid_area": null,
            "grid_auto_columns": null,
            "grid_auto_flow": null,
            "grid_auto_rows": null,
            "grid_column": null,
            "grid_gap": null,
            "grid_row": null,
            "grid_template_areas": null,
            "grid_template_columns": null,
            "grid_template_rows": null,
            "height": null,
            "justify_content": null,
            "justify_items": null,
            "left": null,
            "margin": null,
            "max_height": null,
            "max_width": null,
            "min_height": null,
            "min_width": null,
            "object_fit": null,
            "object_position": null,
            "order": null,
            "overflow": null,
            "overflow_x": null,
            "overflow_y": null,
            "padding": null,
            "right": null,
            "top": null,
            "visibility": null,
            "width": null
          }
        },
        "f9c61f6324ec419493953b8b9974d972": {
          "model_module": "@jupyter-widgets/controls",
          "model_name": "ProgressStyleModel",
          "model_module_version": "1.5.0",
          "state": {
            "_model_module": "@jupyter-widgets/controls",
            "_model_module_version": "1.5.0",
            "_model_name": "ProgressStyleModel",
            "_view_count": null,
            "_view_module": "@jupyter-widgets/base",
            "_view_module_version": "1.2.0",
            "_view_name": "StyleView",
            "bar_color": null,
            "description_width": ""
          }
        },
        "a516aa1a4521420c8f5fef31fd1f705e": {
          "model_module": "@jupyter-widgets/base",
          "model_name": "LayoutModel",
          "model_module_version": "1.2.0",
          "state": {
            "_model_module": "@jupyter-widgets/base",
            "_model_module_version": "1.2.0",
            "_model_name": "LayoutModel",
            "_view_count": null,
            "_view_module": "@jupyter-widgets/base",
            "_view_module_version": "1.2.0",
            "_view_name": "LayoutView",
            "align_content": null,
            "align_items": null,
            "align_self": null,
            "border": null,
            "bottom": null,
            "display": null,
            "flex": null,
            "flex_flow": null,
            "grid_area": null,
            "grid_auto_columns": null,
            "grid_auto_flow": null,
            "grid_auto_rows": null,
            "grid_column": null,
            "grid_gap": null,
            "grid_row": null,
            "grid_template_areas": null,
            "grid_template_columns": null,
            "grid_template_rows": null,
            "height": null,
            "justify_content": null,
            "justify_items": null,
            "left": null,
            "margin": null,
            "max_height": null,
            "max_width": null,
            "min_height": null,
            "min_width": null,
            "object_fit": null,
            "object_position": null,
            "order": null,
            "overflow": null,
            "overflow_x": null,
            "overflow_y": null,
            "padding": null,
            "right": null,
            "top": null,
            "visibility": null,
            "width": null
          }
        },
        "547e2c48925445348f077f1cd20b4577": {
          "model_module": "@jupyter-widgets/controls",
          "model_name": "DescriptionStyleModel",
          "model_module_version": "1.5.0",
          "state": {
            "_model_module": "@jupyter-widgets/controls",
            "_model_module_version": "1.5.0",
            "_model_name": "DescriptionStyleModel",
            "_view_count": null,
            "_view_module": "@jupyter-widgets/base",
            "_view_module_version": "1.2.0",
            "_view_name": "StyleView",
            "description_width": ""
          }
        },
        "eaecce83a3e44c87a1f46f69035d4fee": {
          "model_module": "@jupyter-widgets/controls",
          "model_name": "HBoxModel",
          "model_module_version": "1.5.0",
          "state": {
            "_dom_classes": [],
            "_model_module": "@jupyter-widgets/controls",
            "_model_module_version": "1.5.0",
            "_model_name": "HBoxModel",
            "_view_count": null,
            "_view_module": "@jupyter-widgets/controls",
            "_view_module_version": "1.5.0",
            "_view_name": "HBoxView",
            "box_style": "",
            "children": [
              "IPY_MODEL_ddf6878ddc5041039b0b410040ea23da",
              "IPY_MODEL_07ca423acb844d0e87bfbb5c6c449527",
              "IPY_MODEL_4f09d76881cb471d98f7ca0ae7fc43ef"
            ],
            "layout": "IPY_MODEL_79569276a2e547bd95b2c996fa100976"
          }
        },
        "ddf6878ddc5041039b0b410040ea23da": {
          "model_module": "@jupyter-widgets/controls",
          "model_name": "HTMLModel",
          "model_module_version": "1.5.0",
          "state": {
            "_dom_classes": [],
            "_model_module": "@jupyter-widgets/controls",
            "_model_module_version": "1.5.0",
            "_model_name": "HTMLModel",
            "_view_count": null,
            "_view_module": "@jupyter-widgets/controls",
            "_view_module_version": "1.5.0",
            "_view_name": "HTMLView",
            "description": "",
            "description_tooltip": null,
            "layout": "IPY_MODEL_0a0f9919d5d947a2acc34a1d5b5234f1",
            "placeholder": "​",
            "style": "IPY_MODEL_dd754387e0074cbcaaf47cf68ede4604",
            "value": "100%"
          }
        },
        "07ca423acb844d0e87bfbb5c6c449527": {
          "model_module": "@jupyter-widgets/controls",
          "model_name": "FloatProgressModel",
          "model_module_version": "1.5.0",
          "state": {
            "_dom_classes": [],
            "_model_module": "@jupyter-widgets/controls",
            "_model_module_version": "1.5.0",
            "_model_name": "FloatProgressModel",
            "_view_count": null,
            "_view_module": "@jupyter-widgets/controls",
            "_view_module_version": "1.5.0",
            "_view_name": "ProgressView",
            "bar_style": "success",
            "description": "",
            "description_tooltip": null,
            "layout": "IPY_MODEL_1ae4b4ee5b52446ba3f455c6cea2eef1",
            "max": 66,
            "min": 0,
            "orientation": "horizontal",
            "style": "IPY_MODEL_9ae6e7b4e39e4312a7556a007e504d06",
            "value": 66
          }
        },
        "4f09d76881cb471d98f7ca0ae7fc43ef": {
          "model_module": "@jupyter-widgets/controls",
          "model_name": "HTMLModel",
          "model_module_version": "1.5.0",
          "state": {
            "_dom_classes": [],
            "_model_module": "@jupyter-widgets/controls",
            "_model_module_version": "1.5.0",
            "_model_name": "HTMLModel",
            "_view_count": null,
            "_view_module": "@jupyter-widgets/controls",
            "_view_module_version": "1.5.0",
            "_view_name": "HTMLView",
            "description": "",
            "description_tooltip": null,
            "layout": "IPY_MODEL_e89fc1b8791e4231a9aeb2438fdfc969",
            "placeholder": "​",
            "style": "IPY_MODEL_f938ba3301b54cda9df4cd4bb2f5b271",
            "value": " 66/66 [05:40&lt;00:00,  4.49s/it]"
          }
        },
        "79569276a2e547bd95b2c996fa100976": {
          "model_module": "@jupyter-widgets/base",
          "model_name": "LayoutModel",
          "model_module_version": "1.2.0",
          "state": {
            "_model_module": "@jupyter-widgets/base",
            "_model_module_version": "1.2.0",
            "_model_name": "LayoutModel",
            "_view_count": null,
            "_view_module": "@jupyter-widgets/base",
            "_view_module_version": "1.2.0",
            "_view_name": "LayoutView",
            "align_content": null,
            "align_items": null,
            "align_self": null,
            "border": null,
            "bottom": null,
            "display": null,
            "flex": null,
            "flex_flow": null,
            "grid_area": null,
            "grid_auto_columns": null,
            "grid_auto_flow": null,
            "grid_auto_rows": null,
            "grid_column": null,
            "grid_gap": null,
            "grid_row": null,
            "grid_template_areas": null,
            "grid_template_columns": null,
            "grid_template_rows": null,
            "height": null,
            "justify_content": null,
            "justify_items": null,
            "left": null,
            "margin": null,
            "max_height": null,
            "max_width": null,
            "min_height": null,
            "min_width": null,
            "object_fit": null,
            "object_position": null,
            "order": null,
            "overflow": null,
            "overflow_x": null,
            "overflow_y": null,
            "padding": null,
            "right": null,
            "top": null,
            "visibility": null,
            "width": null
          }
        },
        "0a0f9919d5d947a2acc34a1d5b5234f1": {
          "model_module": "@jupyter-widgets/base",
          "model_name": "LayoutModel",
          "model_module_version": "1.2.0",
          "state": {
            "_model_module": "@jupyter-widgets/base",
            "_model_module_version": "1.2.0",
            "_model_name": "LayoutModel",
            "_view_count": null,
            "_view_module": "@jupyter-widgets/base",
            "_view_module_version": "1.2.0",
            "_view_name": "LayoutView",
            "align_content": null,
            "align_items": null,
            "align_self": null,
            "border": null,
            "bottom": null,
            "display": null,
            "flex": null,
            "flex_flow": null,
            "grid_area": null,
            "grid_auto_columns": null,
            "grid_auto_flow": null,
            "grid_auto_rows": null,
            "grid_column": null,
            "grid_gap": null,
            "grid_row": null,
            "grid_template_areas": null,
            "grid_template_columns": null,
            "grid_template_rows": null,
            "height": null,
            "justify_content": null,
            "justify_items": null,
            "left": null,
            "margin": null,
            "max_height": null,
            "max_width": null,
            "min_height": null,
            "min_width": null,
            "object_fit": null,
            "object_position": null,
            "order": null,
            "overflow": null,
            "overflow_x": null,
            "overflow_y": null,
            "padding": null,
            "right": null,
            "top": null,
            "visibility": null,
            "width": null
          }
        },
        "dd754387e0074cbcaaf47cf68ede4604": {
          "model_module": "@jupyter-widgets/controls",
          "model_name": "DescriptionStyleModel",
          "model_module_version": "1.5.0",
          "state": {
            "_model_module": "@jupyter-widgets/controls",
            "_model_module_version": "1.5.0",
            "_model_name": "DescriptionStyleModel",
            "_view_count": null,
            "_view_module": "@jupyter-widgets/base",
            "_view_module_version": "1.2.0",
            "_view_name": "StyleView",
            "description_width": ""
          }
        },
        "1ae4b4ee5b52446ba3f455c6cea2eef1": {
          "model_module": "@jupyter-widgets/base",
          "model_name": "LayoutModel",
          "model_module_version": "1.2.0",
          "state": {
            "_model_module": "@jupyter-widgets/base",
            "_model_module_version": "1.2.0",
            "_model_name": "LayoutModel",
            "_view_count": null,
            "_view_module": "@jupyter-widgets/base",
            "_view_module_version": "1.2.0",
            "_view_name": "LayoutView",
            "align_content": null,
            "align_items": null,
            "align_self": null,
            "border": null,
            "bottom": null,
            "display": null,
            "flex": null,
            "flex_flow": null,
            "grid_area": null,
            "grid_auto_columns": null,
            "grid_auto_flow": null,
            "grid_auto_rows": null,
            "grid_column": null,
            "grid_gap": null,
            "grid_row": null,
            "grid_template_areas": null,
            "grid_template_columns": null,
            "grid_template_rows": null,
            "height": null,
            "justify_content": null,
            "justify_items": null,
            "left": null,
            "margin": null,
            "max_height": null,
            "max_width": null,
            "min_height": null,
            "min_width": null,
            "object_fit": null,
            "object_position": null,
            "order": null,
            "overflow": null,
            "overflow_x": null,
            "overflow_y": null,
            "padding": null,
            "right": null,
            "top": null,
            "visibility": null,
            "width": null
          }
        },
        "9ae6e7b4e39e4312a7556a007e504d06": {
          "model_module": "@jupyter-widgets/controls",
          "model_name": "ProgressStyleModel",
          "model_module_version": "1.5.0",
          "state": {
            "_model_module": "@jupyter-widgets/controls",
            "_model_module_version": "1.5.0",
            "_model_name": "ProgressStyleModel",
            "_view_count": null,
            "_view_module": "@jupyter-widgets/base",
            "_view_module_version": "1.2.0",
            "_view_name": "StyleView",
            "bar_color": null,
            "description_width": ""
          }
        },
        "e89fc1b8791e4231a9aeb2438fdfc969": {
          "model_module": "@jupyter-widgets/base",
          "model_name": "LayoutModel",
          "model_module_version": "1.2.0",
          "state": {
            "_model_module": "@jupyter-widgets/base",
            "_model_module_version": "1.2.0",
            "_model_name": "LayoutModel",
            "_view_count": null,
            "_view_module": "@jupyter-widgets/base",
            "_view_module_version": "1.2.0",
            "_view_name": "LayoutView",
            "align_content": null,
            "align_items": null,
            "align_self": null,
            "border": null,
            "bottom": null,
            "display": null,
            "flex": null,
            "flex_flow": null,
            "grid_area": null,
            "grid_auto_columns": null,
            "grid_auto_flow": null,
            "grid_auto_rows": null,
            "grid_column": null,
            "grid_gap": null,
            "grid_row": null,
            "grid_template_areas": null,
            "grid_template_columns": null,
            "grid_template_rows": null,
            "height": null,
            "justify_content": null,
            "justify_items": null,
            "left": null,
            "margin": null,
            "max_height": null,
            "max_width": null,
            "min_height": null,
            "min_width": null,
            "object_fit": null,
            "object_position": null,
            "order": null,
            "overflow": null,
            "overflow_x": null,
            "overflow_y": null,
            "padding": null,
            "right": null,
            "top": null,
            "visibility": null,
            "width": null
          }
        },
        "f938ba3301b54cda9df4cd4bb2f5b271": {
          "model_module": "@jupyter-widgets/controls",
          "model_name": "DescriptionStyleModel",
          "model_module_version": "1.5.0",
          "state": {
            "_model_module": "@jupyter-widgets/controls",
            "_model_module_version": "1.5.0",
            "_model_name": "DescriptionStyleModel",
            "_view_count": null,
            "_view_module": "@jupyter-widgets/base",
            "_view_module_version": "1.2.0",
            "_view_name": "StyleView",
            "description_width": ""
          }
        }
      }
    }
  },
  "nbformat": 4,
  "nbformat_minor": 0
}