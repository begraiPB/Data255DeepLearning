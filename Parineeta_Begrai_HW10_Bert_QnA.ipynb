{
  "nbformat": 4,
  "nbformat_minor": 0,
  "metadata": {
    "colab": {
      "provenance": []
    },
    "kernelspec": {
      "name": "python3",
      "display_name": "Python 3"
    },
    "language_info": {
      "name": "python"
    }
  },
  "cells": [
    {
      "cell_type": "markdown",
      "source": [
        "Follow the demo and run the demo notebook on your local machine.\n",
        "\n",
        "BERT for QnA:\n",
        "\n",
        "1. Load the SQUAD 2.0 (https://pytorch.org/text/stable/datasets.html#torchtext.datasets.SQuAD2Links to an external site.) dataset from pytorch dataset library. take minimum 20 QnA pairs.\n",
        "\n",
        "2. Display a few raw QnA data samples.\n",
        "\n",
        "3. Preprocess/Clean dataset as per BERT format.\n",
        "\n",
        "4. Train the BERT QnA model. Evaluate the model.\n",
        "\n",
        "5. Perform an Inference and show the predicted vs ground truth answers."
      ],
      "metadata": {
        "id": "3PN8usq1pftD"
      }
    },
    {
      "cell_type": "code",
      "execution_count": null,
      "metadata": {
        "colab": {
          "base_uri": "https://localhost:8080/",
          "height": 1000
        },
        "id": "yUOM_JAziN2u",
        "outputId": "e2c7947f-a611-4bf3-ee86-66f97c974a02"
      },
      "outputs": [
        {
          "output_type": "stream",
          "name": "stdout",
          "text": [
            "Requirement already satisfied: transformers in /usr/local/lib/python3.10/dist-packages (4.38.2)\n",
            "Requirement already satisfied: filelock in /usr/local/lib/python3.10/dist-packages (from transformers) (3.13.4)\n",
            "Requirement already satisfied: huggingface-hub<1.0,>=0.19.3 in /usr/local/lib/python3.10/dist-packages (from transformers) (0.20.3)\n",
            "Requirement already satisfied: numpy>=1.17 in /usr/local/lib/python3.10/dist-packages (from transformers) (1.25.2)\n",
            "Requirement already satisfied: packaging>=20.0 in /usr/local/lib/python3.10/dist-packages (from transformers) (24.0)\n",
            "Requirement already satisfied: pyyaml>=5.1 in /usr/local/lib/python3.10/dist-packages (from transformers) (6.0.1)\n",
            "Requirement already satisfied: regex!=2019.12.17 in /usr/local/lib/python3.10/dist-packages (from transformers) (2023.12.25)\n",
            "Requirement already satisfied: requests in /usr/local/lib/python3.10/dist-packages (from transformers) (2.31.0)\n",
            "Requirement already satisfied: tokenizers<0.19,>=0.14 in /usr/local/lib/python3.10/dist-packages (from transformers) (0.15.2)\n",
            "Requirement already satisfied: safetensors>=0.4.1 in /usr/local/lib/python3.10/dist-packages (from transformers) (0.4.3)\n",
            "Requirement already satisfied: tqdm>=4.27 in /usr/local/lib/python3.10/dist-packages (from transformers) (4.66.2)\n",
            "Requirement already satisfied: fsspec>=2023.5.0 in /usr/local/lib/python3.10/dist-packages (from huggingface-hub<1.0,>=0.19.3->transformers) (2023.6.0)\n",
            "Requirement already satisfied: typing-extensions>=3.7.4.3 in /usr/local/lib/python3.10/dist-packages (from huggingface-hub<1.0,>=0.19.3->transformers) (4.11.0)\n",
            "Requirement already satisfied: charset-normalizer<4,>=2 in /usr/local/lib/python3.10/dist-packages (from requests->transformers) (3.3.2)\n",
            "Requirement already satisfied: idna<4,>=2.5 in /usr/local/lib/python3.10/dist-packages (from requests->transformers) (3.7)\n",
            "Requirement already satisfied: urllib3<3,>=1.21.1 in /usr/local/lib/python3.10/dist-packages (from requests->transformers) (2.0.7)\n",
            "Requirement already satisfied: certifi>=2017.4.17 in /usr/local/lib/python3.10/dist-packages (from requests->transformers) (2024.2.2)\n",
            "Requirement already satisfied: torchtext in /usr/local/lib/python3.10/dist-packages (0.17.1)\n",
            "Requirement already satisfied: tqdm in /usr/local/lib/python3.10/dist-packages (from torchtext) (4.66.2)\n",
            "Requirement already satisfied: requests in /usr/local/lib/python3.10/dist-packages (from torchtext) (2.31.0)\n",
            "Requirement already satisfied: torch==2.2.1 in /usr/local/lib/python3.10/dist-packages (from torchtext) (2.2.1+cu121)\n",
            "Requirement already satisfied: numpy in /usr/local/lib/python3.10/dist-packages (from torchtext) (1.25.2)\n",
            "Requirement already satisfied: torchdata==0.7.1 in /usr/local/lib/python3.10/dist-packages (from torchtext) (0.7.1)\n",
            "Requirement already satisfied: filelock in /usr/local/lib/python3.10/dist-packages (from torch==2.2.1->torchtext) (3.13.4)\n",
            "Requirement already satisfied: typing-extensions>=4.8.0 in /usr/local/lib/python3.10/dist-packages (from torch==2.2.1->torchtext) (4.11.0)\n",
            "Requirement already satisfied: sympy in /usr/local/lib/python3.10/dist-packages (from torch==2.2.1->torchtext) (1.12)\n",
            "Requirement already satisfied: networkx in /usr/local/lib/python3.10/dist-packages (from torch==2.2.1->torchtext) (3.3)\n",
            "Requirement already satisfied: jinja2 in /usr/local/lib/python3.10/dist-packages (from torch==2.2.1->torchtext) (3.1.3)\n",
            "Requirement already satisfied: fsspec in /usr/local/lib/python3.10/dist-packages (from torch==2.2.1->torchtext) (2023.6.0)\n",
            "Requirement already satisfied: nvidia-cuda-nvrtc-cu12==12.1.105 in /usr/local/lib/python3.10/dist-packages (from torch==2.2.1->torchtext) (12.1.105)\n",
            "Requirement already satisfied: nvidia-cuda-runtime-cu12==12.1.105 in /usr/local/lib/python3.10/dist-packages (from torch==2.2.1->torchtext) (12.1.105)\n",
            "Requirement already satisfied: nvidia-cuda-cupti-cu12==12.1.105 in /usr/local/lib/python3.10/dist-packages (from torch==2.2.1->torchtext) (12.1.105)\n",
            "Requirement already satisfied: nvidia-cudnn-cu12==8.9.2.26 in /usr/local/lib/python3.10/dist-packages (from torch==2.2.1->torchtext) (8.9.2.26)\n",
            "Requirement already satisfied: nvidia-cublas-cu12==12.1.3.1 in /usr/local/lib/python3.10/dist-packages (from torch==2.2.1->torchtext) (12.1.3.1)\n",
            "Requirement already satisfied: nvidia-cufft-cu12==11.0.2.54 in /usr/local/lib/python3.10/dist-packages (from torch==2.2.1->torchtext) (11.0.2.54)\n",
            "Requirement already satisfied: nvidia-curand-cu12==10.3.2.106 in /usr/local/lib/python3.10/dist-packages (from torch==2.2.1->torchtext) (10.3.2.106)\n",
            "Requirement already satisfied: nvidia-cusolver-cu12==11.4.5.107 in /usr/local/lib/python3.10/dist-packages (from torch==2.2.1->torchtext) (11.4.5.107)\n",
            "Requirement already satisfied: nvidia-cusparse-cu12==12.1.0.106 in /usr/local/lib/python3.10/dist-packages (from torch==2.2.1->torchtext) (12.1.0.106)\n",
            "Requirement already satisfied: nvidia-nccl-cu12==2.19.3 in /usr/local/lib/python3.10/dist-packages (from torch==2.2.1->torchtext) (2.19.3)\n",
            "Requirement already satisfied: nvidia-nvtx-cu12==12.1.105 in /usr/local/lib/python3.10/dist-packages (from torch==2.2.1->torchtext) (12.1.105)\n",
            "Requirement already satisfied: triton==2.2.0 in /usr/local/lib/python3.10/dist-packages (from torch==2.2.1->torchtext) (2.2.0)\n",
            "Requirement already satisfied: urllib3>=1.25 in /usr/local/lib/python3.10/dist-packages (from torchdata==0.7.1->torchtext) (2.0.7)\n",
            "Requirement already satisfied: nvidia-nvjitlink-cu12 in /usr/local/lib/python3.10/dist-packages (from nvidia-cusolver-cu12==11.4.5.107->torch==2.2.1->torchtext) (12.4.127)\n",
            "Requirement already satisfied: charset-normalizer<4,>=2 in /usr/local/lib/python3.10/dist-packages (from requests->torchtext) (3.3.2)\n",
            "Requirement already satisfied: idna<4,>=2.5 in /usr/local/lib/python3.10/dist-packages (from requests->torchtext) (3.7)\n",
            "Requirement already satisfied: certifi>=2017.4.17 in /usr/local/lib/python3.10/dist-packages (from requests->torchtext) (2024.2.2)\n",
            "Requirement already satisfied: MarkupSafe>=2.0 in /usr/local/lib/python3.10/dist-packages (from jinja2->torch==2.2.1->torchtext) (2.1.5)\n",
            "Requirement already satisfied: mpmath>=0.19 in /usr/local/lib/python3.10/dist-packages (from sympy->torch==2.2.1->torchtext) (1.3.0)\n",
            "Requirement already satisfied: portalocker in /usr/local/lib/python3.10/dist-packages (2.8.2)\n",
            "Collecting datasets\n",
            "  Downloading datasets-2.19.0-py3-none-any.whl (542 kB)\n",
            "\u001b[2K     \u001b[90m━━━━━━━━━━━━━━━━━━━━━━━━━━━━━━━━━━━━━━━━\u001b[0m \u001b[32m542.0/542.0 kB\u001b[0m \u001b[31m6.2 MB/s\u001b[0m eta \u001b[36m0:00:00\u001b[0m\n",
            "\u001b[?25hRequirement already satisfied: filelock in /usr/local/lib/python3.10/dist-packages (from datasets) (3.13.4)\n",
            "Requirement already satisfied: numpy>=1.17 in /usr/local/lib/python3.10/dist-packages (from datasets) (1.25.2)\n",
            "Requirement already satisfied: pyarrow>=12.0.0 in /usr/local/lib/python3.10/dist-packages (from datasets) (14.0.2)\n",
            "Requirement already satisfied: pyarrow-hotfix in /usr/local/lib/python3.10/dist-packages (from datasets) (0.6)\n",
            "Collecting dill<0.3.9,>=0.3.0 (from datasets)\n",
            "  Downloading dill-0.3.8-py3-none-any.whl (116 kB)\n",
            "\u001b[2K     \u001b[90m━━━━━━━━━━━━━━━━━━━━━━━━━━━━━━━━━━━━━━━━\u001b[0m \u001b[32m116.3/116.3 kB\u001b[0m \u001b[31m12.7 MB/s\u001b[0m eta \u001b[36m0:00:00\u001b[0m\n",
            "\u001b[?25hRequirement already satisfied: pandas in /usr/local/lib/python3.10/dist-packages (from datasets) (2.0.3)\n",
            "Requirement already satisfied: requests>=2.19.0 in /usr/local/lib/python3.10/dist-packages (from datasets) (2.31.0)\n",
            "Requirement already satisfied: tqdm>=4.62.1 in /usr/local/lib/python3.10/dist-packages (from datasets) (4.66.2)\n",
            "Collecting xxhash (from datasets)\n",
            "  Downloading xxhash-3.4.1-cp310-cp310-manylinux_2_17_x86_64.manylinux2014_x86_64.whl (194 kB)\n",
            "\u001b[2K     \u001b[90m━━━━━━━━━━━━━━━━━━━━━━━━━━━━━━━━━━━━━━━━\u001b[0m \u001b[32m194.1/194.1 kB\u001b[0m \u001b[31m12.5 MB/s\u001b[0m eta \u001b[36m0:00:00\u001b[0m\n",
            "\u001b[?25hCollecting multiprocess (from datasets)\n",
            "  Downloading multiprocess-0.70.16-py310-none-any.whl (134 kB)\n",
            "\u001b[2K     \u001b[90m━━━━━━━━━━━━━━━━━━━━━━━━━━━━━━━━━━━━━━━━\u001b[0m \u001b[32m134.8/134.8 kB\u001b[0m \u001b[31m12.3 MB/s\u001b[0m eta \u001b[36m0:00:00\u001b[0m\n",
            "\u001b[?25hRequirement already satisfied: fsspec[http]<=2024.3.1,>=2023.1.0 in /usr/local/lib/python3.10/dist-packages (from datasets) (2023.6.0)\n",
            "Requirement already satisfied: aiohttp in /usr/local/lib/python3.10/dist-packages (from datasets) (3.9.5)\n",
            "Collecting huggingface-hub>=0.21.2 (from datasets)\n",
            "  Downloading huggingface_hub-0.22.2-py3-none-any.whl (388 kB)\n",
            "\u001b[2K     \u001b[90m━━━━━━━━━━━━━━━━━━━━━━━━━━━━━━━━━━━━━━━━\u001b[0m \u001b[32m388.9/388.9 kB\u001b[0m \u001b[31m12.8 MB/s\u001b[0m eta \u001b[36m0:00:00\u001b[0m\n",
            "\u001b[?25hRequirement already satisfied: packaging in /usr/local/lib/python3.10/dist-packages (from datasets) (24.0)\n",
            "Requirement already satisfied: pyyaml>=5.1 in /usr/local/lib/python3.10/dist-packages (from datasets) (6.0.1)\n",
            "Requirement already satisfied: aiosignal>=1.1.2 in /usr/local/lib/python3.10/dist-packages (from aiohttp->datasets) (1.3.1)\n",
            "Requirement already satisfied: attrs>=17.3.0 in /usr/local/lib/python3.10/dist-packages (from aiohttp->datasets) (23.2.0)\n",
            "Requirement already satisfied: frozenlist>=1.1.1 in /usr/local/lib/python3.10/dist-packages (from aiohttp->datasets) (1.4.1)\n",
            "Requirement already satisfied: multidict<7.0,>=4.5 in /usr/local/lib/python3.10/dist-packages (from aiohttp->datasets) (6.0.5)\n",
            "Requirement already satisfied: yarl<2.0,>=1.0 in /usr/local/lib/python3.10/dist-packages (from aiohttp->datasets) (1.9.4)\n",
            "Requirement already satisfied: async-timeout<5.0,>=4.0 in /usr/local/lib/python3.10/dist-packages (from aiohttp->datasets) (4.0.3)\n",
            "Requirement already satisfied: typing-extensions>=3.7.4.3 in /usr/local/lib/python3.10/dist-packages (from huggingface-hub>=0.21.2->datasets) (4.11.0)\n",
            "Requirement already satisfied: charset-normalizer<4,>=2 in /usr/local/lib/python3.10/dist-packages (from requests>=2.19.0->datasets) (3.3.2)\n",
            "Requirement already satisfied: idna<4,>=2.5 in /usr/local/lib/python3.10/dist-packages (from requests>=2.19.0->datasets) (3.7)\n",
            "Requirement already satisfied: urllib3<3,>=1.21.1 in /usr/local/lib/python3.10/dist-packages (from requests>=2.19.0->datasets) (2.0.7)\n",
            "Requirement already satisfied: certifi>=2017.4.17 in /usr/local/lib/python3.10/dist-packages (from requests>=2.19.0->datasets) (2024.2.2)\n",
            "Requirement already satisfied: python-dateutil>=2.8.2 in /usr/local/lib/python3.10/dist-packages (from pandas->datasets) (2.8.2)\n",
            "Requirement already satisfied: pytz>=2020.1 in /usr/local/lib/python3.10/dist-packages (from pandas->datasets) (2023.4)\n",
            "Requirement already satisfied: tzdata>=2022.1 in /usr/local/lib/python3.10/dist-packages (from pandas->datasets) (2024.1)\n",
            "Requirement already satisfied: six>=1.5 in /usr/local/lib/python3.10/dist-packages (from python-dateutil>=2.8.2->pandas->datasets) (1.16.0)\n",
            "Installing collected packages: xxhash, dill, multiprocess, huggingface-hub, datasets\n",
            "  Attempting uninstall: huggingface-hub\n",
            "    Found existing installation: huggingface-hub 0.20.3\n",
            "    Uninstalling huggingface-hub-0.20.3:\n",
            "      Successfully uninstalled huggingface-hub-0.20.3\n",
            "Successfully installed datasets-2.19.0 dill-0.3.8 huggingface-hub-0.22.2 multiprocess-0.70.16 xxhash-3.4.1\n"
          ]
        },
        {
          "output_type": "display_data",
          "data": {
            "application/vnd.colab-display-data+json": {
              "pip_warning": {
                "packages": [
                  "huggingface_hub"
                ]
              },
              "id": "0d688c8e25284381bb052de21bc49962"
            }
          },
          "metadata": {}
        }
      ],
      "source": [
        "!pip install transformers\n",
        "!pip install torchtext\n",
        "!pip install portalocker\n",
        "!pip install datasets"
      ]
    },
    {
      "cell_type": "code",
      "source": [
        "import json\n",
        "import pandas as pd\n",
        "import numpy as np\n",
        "from pathlib import Path\n",
        "import torch\n",
        "from torch.utils.data import DataLoader, TensorDataset\n",
        "from transformers import BertTokenizer, BertForQuestionAnswering\n",
        "import time\n",
        "import torchtext"
      ],
      "metadata": {
        "id": "30GD2S6CiTcb"
      },
      "execution_count": null,
      "outputs": []
    },
    {
      "cell_type": "code",
      "source": [
        "is_cuda = torch.cuda.is_available()\n",
        "\n",
        "# If we have a GPU available, we'll set our device to GPU.\n",
        "if is_cuda:\n",
        "    device = torch.device(\"cuda\")\n",
        "    print(\"GPU is available\")\n",
        "else:\n",
        "    device = torch.device(\"cpu\")\n",
        "    print(\"GPU not available, CPU used\")"
      ],
      "metadata": {
        "colab": {
          "base_uri": "https://localhost:8080/"
        },
        "id": "VoajkTiliXZ6",
        "outputId": "885b41a4-7a9b-45af-d3de-e259ad09a57c"
      },
      "execution_count": null,
      "outputs": [
        {
          "output_type": "stream",
          "name": "stdout",
          "text": [
            "GPU not available, CPU used\n"
          ]
        }
      ]
    },
    {
      "cell_type": "markdown",
      "source": [
        "## Load the SQUAD 2.0 (https://pytorch.org/text/stable/datasets.html#torchtext.datasets.SQuAD2Links to an external site.) dataset from pytorch dataset library. take minimum 20 QnA pairs."
      ],
      "metadata": {
        "id": "MASQKRamqhgI"
      }
    },
    {
      "cell_type": "code",
      "source": [
        "train_iter, dev_iter = torchtext.datasets.SQuAD2()"
      ],
      "metadata": {
        "id": "FqQMVtpci3yz"
      },
      "execution_count": null,
      "outputs": []
    },
    {
      "cell_type": "code",
      "source": [
        "train_iter = iter(train_iter)\n",
        "dev_iter = iter(dev_iter)"
      ],
      "metadata": {
        "id": "UEtoYukHkPVX"
      },
      "execution_count": null,
      "outputs": []
    },
    {
      "cell_type": "code",
      "source": [
        "datapoint = next(dev_iter)"
      ],
      "metadata": {
        "id": "GHoQRVxvnoGM"
      },
      "execution_count": null,
      "outputs": []
    },
    {
      "cell_type": "code",
      "source": [
        "datapoint"
      ],
      "metadata": {
        "colab": {
          "base_uri": "https://localhost:8080/"
        },
        "id": "xG2jgfSCpRIc",
        "outputId": "b1478f4e-9efe-484f-f702-92f6a55694f2"
      },
      "execution_count": null,
      "outputs": [
        {
          "output_type": "execute_result",
          "data": {
            "text/plain": [
              "('The Normans (Norman: Nourmands; French: Normands; Latin: Normanni) were the people who in the 10th and 11th centuries gave their name to Normandy, a region in France. They were descended from Norse (\"Norman\" comes from \"Norseman\") raiders and pirates from Denmark, Iceland and Norway who, under their leader Rollo, agreed to swear fealty to King Charles III of West Francia. Through generations of assimilation and mixing with the native Frankish and Roman-Gaulish populations, their descendants would gradually merge with the Carolingian-based cultures of West Francia. The distinct cultural and ethnic identity of the Normans emerged initially in the first half of the 10th century, and it continued to evolve over the succeeding centuries.',\n",
              " 'In what country is Normandy located?',\n",
              " ['France', 'France', 'France', 'France'],\n",
              " [159, 159, 159, 159])"
            ]
          },
          "metadata": {},
          "execution_count": 37
        }
      ]
    },
    {
      "cell_type": "code",
      "source": [],
      "metadata": {
        "colab": {
          "base_uri": "https://localhost:8080/",
          "height": 35
        },
        "id": "Novxp48JpBLu",
        "outputId": "dcfdf6b2-0434-4ef7-8c3c-bed37fd84af9"
      },
      "execution_count": null,
      "outputs": [
        {
          "output_type": "execute_result",
          "data": {
            "text/plain": [
              "'France'"
            ],
            "application/vnd.google.colaboratory.intrinsic+json": {
              "type": "string"
            }
          },
          "metadata": {},
          "execution_count": 39
        }
      ]
    },
    {
      "cell_type": "code",
      "source": [
        "datapoint[1]"
      ],
      "metadata": {
        "colab": {
          "base_uri": "https://localhost:8080/",
          "height": 35
        },
        "id": "h85dGWTJpG_G",
        "outputId": "5f21a6e3-e415-4e19-eb7f-6a2fe5c2e621"
      },
      "execution_count": null,
      "outputs": [
        {
          "output_type": "execute_result",
          "data": {
            "text/plain": [
              "'Who was the duke in the battle of Hastings?'"
            ],
            "application/vnd.google.colaboratory.intrinsic+json": {
              "type": "string"
            }
          },
          "metadata": {},
          "execution_count": 30
        }
      ]
    },
    {
      "cell_type": "code",
      "source": [
        "datapoint[2]"
      ],
      "metadata": {
        "colab": {
          "base_uri": "https://localhost:8080/"
        },
        "id": "PF4CFDhvpJI5",
        "outputId": "c76ba01b-3ddd-4ec8-c61b-925d03236c4a"
      },
      "execution_count": null,
      "outputs": [
        {
          "output_type": "execute_result",
          "data": {
            "text/plain": [
              "['William the Conqueror', 'William the Conqueror', 'William the Conqueror']"
            ]
          },
          "metadata": {},
          "execution_count": 31
        }
      ]
    },
    {
      "cell_type": "code",
      "source": [
        "datapoint[3]"
      ],
      "metadata": {
        "colab": {
          "base_uri": "https://localhost:8080/"
        },
        "id": "p9oeG3NupLwW",
        "outputId": "35c24dc8-c933-4319-c598-be2b8f0b64e5"
      },
      "execution_count": null,
      "outputs": [
        {
          "output_type": "execute_result",
          "data": {
            "text/plain": [
              "[1022, 1022, 1022]"
            ]
          },
          "metadata": {},
          "execution_count": 32
        }
      ]
    },
    {
      "cell_type": "code",
      "source": [
        "contexts = []\n",
        "questions = []\n",
        "answers = []\n",
        "answer_starts = []\n",
        "answer_ends = []\n",
        "\n",
        "i = 0\n",
        "while i < 200:\n",
        "  datapoint = next(dev_iter)\n",
        "  if datapoint[2][0] != '':\n",
        "    i = i + 1\n",
        "    contexts.append(datapoint[0])\n",
        "    questions.append(datapoint[1])\n",
        "    answers.append(datapoint[2][0])\n",
        "    answer_starts.append(datapoint[3][0])\n",
        "    answer_ends.append(datapoint[3][0] + len(datapoint[2][0]))"
      ],
      "metadata": {
        "id": "eoGQbepXqFYW"
      },
      "execution_count": null,
      "outputs": []
    },
    {
      "cell_type": "code",
      "source": [
        "import random\n",
        "train_indices = random.sample(range(1, 200), 160)"
      ],
      "metadata": {
        "id": "3Nd6Nk4pMLel"
      },
      "execution_count": null,
      "outputs": []
    },
    {
      "cell_type": "code",
      "source": [
        "train_answers = [answers[i] for i in train_indices]\n",
        "test_answers = [answers[i] for i in range(len(answers)) if i not in train_indices]"
      ],
      "metadata": {
        "id": "JroWzIpZMS7i"
      },
      "execution_count": null,
      "outputs": []
    },
    {
      "cell_type": "code",
      "source": [
        "test_answers"
      ],
      "metadata": {
        "colab": {
          "base_uri": "https://localhost:8080/"
        },
        "id": "FXz0d8MsMrNw",
        "outputId": "ae988add-982e-4c5e-aaf5-201dc01a0d05"
      },
      "execution_count": null,
      "outputs": [
        {
          "output_type": "execute_result",
          "data": {
            "text/plain": [
              "['United States Census Bureau',\n",
              " 'Orange',\n",
              " 'Mediterranean',\n",
              " 'Pacific Ocean',\n",
              " '6.7',\n",
              " '$20 billion',\n",
              " '6.7',\n",
              " 'occurrence',\n",
              " 'economically',\n",
              " 'global',\n",
              " 'economic',\n",
              " '2010',\n",
              " '10.0%',\n",
              " 'tech-oriented',\n",
              " 'Greater Sacramento',\n",
              " 'Metropolitan Statistical Areas',\n",
              " 'Southern Border Region',\n",
              " '17,786,419',\n",
              " 'Los Angeles',\n",
              " '100,000']"
            ]
          },
          "metadata": {},
          "execution_count": 221
        }
      ]
    },
    {
      "cell_type": "markdown",
      "source": [
        "## Display a few raw QnA data samples."
      ],
      "metadata": {
        "id": "tpE6RaH1qpSr"
      }
    },
    {
      "cell_type": "code",
      "source": [
        "for i in range(5):\n",
        "    print(f\"Context: {contexts[i]}\")\n",
        "    print(f\"Question: {questions[i]}\")\n",
        "    print(f\"Real Answer: {answers[i]}\")\n",
        "    print(f\"########################\")"
      ],
      "metadata": {
        "colab": {
          "base_uri": "https://localhost:8080/"
        },
        "id": "v_9gxDD-J9gt",
        "outputId": "63965321-c0fc-4370-a64b-90fb89509788"
      },
      "execution_count": null,
      "outputs": [
        {
          "output_type": "stream",
          "name": "stdout",
          "text": [
            "Context: Los Angeles (at 3.7 million people) and San Diego (at 1.3 million people), both in southern California, are the two largest cities in all of California (and two of the eight largest cities in the United States). In southern California there are also twelve cities with more than 200,000 residents and 34 cities over 100,000 in population. Many of southern California's most developed cities lie along or in close proximity to the coast, with the exception of San Bernardino and Riverside.\n",
            "Question: Other than San Bernardino, which other developed southern Californian city is not in close proximity to the coast?\n",
            "Real Answer: Riverside\n",
            "########################\n",
            "Context: Southern California's economy is diverse and one of the largest in the United States. It is dominated and heavily dependent upon abundance of petroleum, as opposed to other regions where automobiles not nearly as dominant, the vast majority of transport runs on this fuel. Southern California is famous for tourism and Hollywood (film, television, and music). Other industries include software, automotive, ports, finance, tourism, biomedical, and regional logistics. The region was a leader in the housing bubble 2001–2007, and has been heavily impacted by the housing crash.\n",
            "Question: What resource is the economy of southern California depedent on?\n",
            "Real Answer: petroleum\n",
            "########################\n",
            "Context: Southern California's economy is diverse and one of the largest in the United States. It is dominated and heavily dependent upon abundance of petroleum, as opposed to other regions where automobiles not nearly as dominant, the vast majority of transport runs on this fuel. Southern California is famous for tourism and Hollywood (film, television, and music). Other industries include software, automotive, ports, finance, tourism, biomedical, and regional logistics. The region was a leader in the housing bubble 2001–2007, and has been heavily impacted by the housing crash.\n",
            "Question: Southern California is most famous for tourism and what notably named district?\n",
            "Real Answer: Hollywood\n",
            "########################\n",
            "Context: Southern California's economy is diverse and one of the largest in the United States. It is dominated and heavily dependent upon abundance of petroleum, as opposed to other regions where automobiles not nearly as dominant, the vast majority of transport runs on this fuel. Southern California is famous for tourism and Hollywood (film, television, and music). Other industries include software, automotive, ports, finance, tourism, biomedical, and regional logistics. The region was a leader in the housing bubble 2001–2007, and has been heavily impacted by the housing crash.\n",
            "Question: The region was a leader in what event between 2001 - 2007?\n",
            "Real Answer: the housing bubble\n",
            "########################\n",
            "Context: Southern California's economy is diverse and one of the largest in the United States. It is dominated and heavily dependent upon abundance of petroleum, as opposed to other regions where automobiles not nearly as dominant, the vast majority of transport runs on this fuel. Southern California is famous for tourism and Hollywood (film, television, and music). Other industries include software, automotive, ports, finance, tourism, biomedical, and regional logistics. The region was a leader in the housing bubble 2001–2007, and has been heavily impacted by the housing crash.\n",
            "Question: Southern California's economy can be described as one of the largest in the United States and what other characteristic?\n",
            "Real Answer: diverse\n",
            "########################\n"
          ]
        }
      ]
    },
    {
      "cell_type": "code",
      "source": [
        "questions"
      ],
      "metadata": {
        "colab": {
          "base_uri": "https://localhost:8080/"
        },
        "id": "ZWSdu9bSr6mO",
        "outputId": "d73490da-2ce4-4bcc-b05d-7d44bae09be6"
      },
      "execution_count": null,
      "outputs": [
        {
          "output_type": "execute_result",
          "data": {
            "text/plain": [
              "['Who considers Los Angeles County to be a separate metropolitan area?',\n",
              " 'Other than L.A. which other county do many people commute to?',\n",
              " 'Other than the 1980s, in which decade did most of San Bernardino and Riverside Counties develop?',\n",
              " 'What kind of climate does southern California maintain?',\n",
              " 'Other than many sunny days, what characteristic is typical for the climate in souther California?',\n",
              " 'What is the low end of the temperature range in summer?',\n",
              " 'How frequent is snow in the Southwest of the state?',\n",
              " 'What is the high end of the temperature range in winter?',\n",
              " \"What term best describes southern California's collection of landscapes?\",\n",
              " 'The region spans starting at islands found in which body of water?',\n",
              " 'What type of landscapes other than geologic and natural ecosystem landscapes can be found in southern California?',\n",
              " 'The region spans which mountains other than the Transverse ranges?',\n",
              " 'The mountain ranges tail off into what kind of geographical formation?',\n",
              " 'How many earthquakes does southern California experience in a year?',\n",
              " 'Generally speaking, what size are the earthquakes that hit southern California?',\n",
              " 'What magnitude was the 1994 Northridge earthquake?',\n",
              " 'What kind of destruction did the 1994 earthquake cause the most of in US history?',\n",
              " 'How much was the 1994 earthquake estimated to have cost?',\n",
              " 'Which fault can produce a magnitude earthquake of 8.0?',\n",
              " 'What magnitude of earthquake can many faults produce?',\n",
              " 'Other than the San Jacinto Fault, and the Elsinore Fault, name one other fault.',\n",
              " 'Which organization released a California Earthquake forecast?',\n",
              " 'The earthquake forecast models what features of earthquakes in California?',\n",
              " \"Southern California's distinctive regions are divided culturally, politically and what other trait?\",\n",
              " 'Outside of national recognition, what other kind of recognition do some of the cities get?',\n",
              " 'Cities that anchor the regions are often the hub for what kind of activity?',\n",
              " 'Southern California had a population of 22,680,010 according to the census from which year?',\n",
              " 'What does southern California have a reputation for?',\n",
              " 'What is the state average growth rate?',\n",
              " 'What kind of economy did northern California start to grow in the 2000s?',\n",
              " 'Which region began to grow and assert itself in the 2000s?',\n",
              " 'What is the name associated with the eight areas that make up a part of southern California?',\n",
              " 'How many extended metropolitan areas are there?',\n",
              " 'Each of the extended metropolitan areas has a population that exceeds what number?',\n",
              " 'What does the El Centro metropolitan area and San Diego-Carslbad-San Marcos metropolitan area form?',\n",
              " 'What is the population of the Greater Los Angeles Area?',\n",
              " 'What is the largest city in all of California?',\n",
              " 'What is the population of the second largest city in California?',\n",
              " 'How many cities in southern California have over 200,000 residents?',\n",
              " 'There are 34 cities in southern California that have a population exceeding what number?']"
            ]
          },
          "metadata": {},
          "execution_count": 152
        }
      ]
    },
    {
      "cell_type": "code",
      "source": [
        "answers"
      ],
      "metadata": {
        "colab": {
          "base_uri": "https://localhost:8080/"
        },
        "id": "tgT79eDIrI7s",
        "outputId": "93b01cb8-1be6-4a78-f5fa-ca66b5fea673"
      },
      "execution_count": null,
      "outputs": [
        {
          "output_type": "execute_result",
          "data": {
            "text/plain": [
              "['United States Census Bureau',\n",
              " 'Orange',\n",
              " '1990s',\n",
              " 'Mediterranean',\n",
              " 'infrequent rain',\n",
              " \"60's\",\n",
              " 'very rare',\n",
              " '70',\n",
              " 'varied',\n",
              " 'Pacific Ocean',\n",
              " 'topographic',\n",
              " 'Peninsular',\n",
              " 'valleys',\n",
              " '10,000',\n",
              " 'small',\n",
              " '6.7',\n",
              " 'property damage',\n",
              " '$20 billion',\n",
              " 'San Andreas',\n",
              " '6.7',\n",
              " 'Puente Hills',\n",
              " 'USGS',\n",
              " 'occurrence',\n",
              " 'economically',\n",
              " 'global',\n",
              " 'economic',\n",
              " '2010',\n",
              " 'high growth rates',\n",
              " '10.0%',\n",
              " 'tech-oriented',\n",
              " 'Greater Sacramento',\n",
              " 'Metropolitan Statistical Areas',\n",
              " 'two',\n",
              " 'five million',\n",
              " 'Southern Border Region',\n",
              " '17,786,419',\n",
              " 'Los Angeles',\n",
              " '1.3 million',\n",
              " 'twelve',\n",
              " '100,000']"
            ]
          },
          "metadata": {},
          "execution_count": 153
        }
      ]
    },
    {
      "cell_type": "code",
      "source": [
        "answer_starts"
      ],
      "metadata": {
        "colab": {
          "base_uri": "https://localhost:8080/"
        },
        "id": "_q05G8ecroEG",
        "outputId": "8bd1997b-7bd6-4831-e219-be36e10bc79f"
      },
      "execution_count": null,
      "outputs": [
        {
          "output_type": "execute_result",
          "data": {
            "text/plain": [
              "[318,\n",
              " 521,\n",
              " 688,\n",
              " 31,\n",
              " 59,\n",
              " 243,\n",
              " 353,\n",
              " 269,\n",
              " 48,\n",
              " 222,\n",
              " 80,\n",
              " 313,\n",
              " 383,\n",
              " 50,\n",
              " 96,\n",
              " 246,\n",
              " 402,\n",
              " 471,\n",
              " 73,\n",
              " 44,\n",
              " 181,\n",
              " 234,\n",
              " 309,\n",
              " 60,\n",
              " 207,\n",
              " 254,\n",
              " 10,\n",
              " 114,\n",
              " 196,\n",
              " 311,\n",
              " 365,\n",
              " 69,\n",
              " 197,\n",
              " 241,\n",
              " 672,\n",
              " 311,\n",
              " 0,\n",
              " 54,\n",
              " 250,\n",
              " 316]"
            ]
          },
          "metadata": {},
          "execution_count": 154
        }
      ]
    },
    {
      "cell_type": "code",
      "source": [
        "answer_ends"
      ],
      "metadata": {
        "colab": {
          "base_uri": "https://localhost:8080/"
        },
        "id": "MPZKwnCcr4ET",
        "outputId": "611a3d6d-f00b-462c-e4e4-5616eedc8960"
      },
      "execution_count": null,
      "outputs": [
        {
          "output_type": "execute_result",
          "data": {
            "text/plain": [
              "[345,\n",
              " 527,\n",
              " 693,\n",
              " 44,\n",
              " 74,\n",
              " 247,\n",
              " 362,\n",
              " 271,\n",
              " 54,\n",
              " 235,\n",
              " 91,\n",
              " 323,\n",
              " 390,\n",
              " 56,\n",
              " 101,\n",
              " 249,\n",
              " 417,\n",
              " 482,\n",
              " 84,\n",
              " 47,\n",
              " 193,\n",
              " 238,\n",
              " 319,\n",
              " 72,\n",
              " 213,\n",
              " 262,\n",
              " 14,\n",
              " 131,\n",
              " 201,\n",
              " 324,\n",
              " 383,\n",
              " 99,\n",
              " 200,\n",
              " 253,\n",
              " 694,\n",
              " 321,\n",
              " 11,\n",
              " 65,\n",
              " 256,\n",
              " 323]"
            ]
          },
          "metadata": {},
          "execution_count": 155
        }
      ]
    },
    {
      "cell_type": "code",
      "source": [],
      "metadata": {
        "id": "pf0jm4zUJz42"
      },
      "execution_count": null,
      "outputs": []
    },
    {
      "cell_type": "code",
      "source": [
        "from transformers import AutoTokenizer\n",
        "model_checkpoint = 'bert-base-uncased'\n",
        "tokenizer = AutoTokenizer.from_pretrained(model_checkpoint)"
      ],
      "metadata": {
        "id": "_WFWB4j1r2q6"
      },
      "execution_count": null,
      "outputs": []
    },
    {
      "cell_type": "code",
      "source": [
        "tokenizer(\"Where do you live\", \"I live in San Jose.\")"
      ],
      "metadata": {
        "colab": {
          "base_uri": "https://localhost:8080/"
        },
        "id": "skUuy8A0szuh",
        "outputId": "059856bd-c96b-494a-cbeb-614376c5fc56"
      },
      "execution_count": null,
      "outputs": [
        {
          "output_type": "execute_result",
          "data": {
            "text/plain": [
              "{'input_ids': [101, 2073, 2079, 2017, 2444, 102, 1045, 2444, 1999, 2624, 4560, 1012, 102], 'token_type_ids': [0, 0, 0, 0, 0, 0, 1, 1, 1, 1, 1, 1, 1], 'attention_mask': [1, 1, 1, 1, 1, 1, 1, 1, 1, 1, 1, 1, 1]}"
            ]
          },
          "metadata": {},
          "execution_count": 158
        }
      ]
    },
    {
      "cell_type": "code",
      "source": [
        "questions[0]"
      ],
      "metadata": {
        "colab": {
          "base_uri": "https://localhost:8080/",
          "height": 35
        },
        "id": "pLLKWLVmzVBU",
        "outputId": "209635a6-3e29-43ba-e81f-28e715e80cc1"
      },
      "execution_count": null,
      "outputs": [
        {
          "output_type": "execute_result",
          "data": {
            "text/plain": [
              "'Who considers Los Angeles County to be a separate metropolitan area?'"
            ],
            "application/vnd.google.colaboratory.intrinsic+json": {
              "type": "string"
            }
          },
          "metadata": {},
          "execution_count": 159
        }
      ]
    },
    {
      "cell_type": "code",
      "source": [
        "contexts[0]"
      ],
      "metadata": {
        "colab": {
          "base_uri": "https://localhost:8080/",
          "height": 160
        },
        "id": "2ymkft93zWaH",
        "outputId": "46340179-5dfc-4224-fb7a-701dc03ed06e"
      },
      "execution_count": null,
      "outputs": [
        {
          "output_type": "execute_result",
          "data": {
            "text/plain": [
              "'Traveling south on Interstate 5, the main gap to continued urbanization is Camp Pendleton. The cities and communities along Interstate 15 and Interstate 215 are so inter-related that Temecula and Murrieta have as much connection with the San Diego metropolitan area as they do with the Inland Empire. To the east, the United States Census Bureau considers the San Bernardino and Riverside County areas, Riverside-San Bernardino area as a separate metropolitan area from Los Angeles County. While many commute to L.A. and Orange Counties, there are some differences in development, as most of San Bernardino and Riverside Counties (the non-desert portions) were developed in the 1980s and 1990s. Newly developed exurbs formed in the Antelope Valley north of Los Angeles, the Victor Valley and the Coachella Valley with the Imperial Valley. Also, population growth was high in the Bakersfield-Kern County, Santa Maria and San Luis Obispo areas.'"
            ],
            "application/vnd.google.colaboratory.intrinsic+json": {
              "type": "string"
            }
          },
          "metadata": {},
          "execution_count": 160
        }
      ]
    },
    {
      "cell_type": "code",
      "source": [
        "tokenized_example = tokenizer(\n",
        "    questions[0],\n",
        "    contexts[0],\n",
        "    return_offsets_mapping=True\n",
        ")"
      ],
      "metadata": {
        "id": "XwuVE0mAyyt1"
      },
      "execution_count": null,
      "outputs": []
    },
    {
      "cell_type": "code",
      "source": [
        "sequence_ids = tokenized_example.sequence_ids()\n",
        "print(sequence_ids)"
      ],
      "metadata": {
        "colab": {
          "base_uri": "https://localhost:8080/"
        },
        "id": "gkdxmKYA0lyG",
        "outputId": "fb2e0d24-894c-4ce5-c134-3a4739f68a0a"
      },
      "execution_count": null,
      "outputs": [
        {
          "output_type": "stream",
          "name": "stdout",
          "text": [
            "[None, 0, 0, 0, 0, 0, 0, 0, 0, 0, 0, 0, 0, 0, 0, 0, 0, 0, 0, 0, 0, 0, None, 1, 1, 1, 1, 1, 1, 1, 1, 1, 1, 1, 1, 1, 1, 1, 1, 1, 1, 1, 1, 1, 1, 1, 1, 1, 1, 1, 1, 1, 1, 1, 1, 1, 1, 1, 1, 1, 1, 1, 1, 1, 1, 1, 1, 1, 1, 1, 1, 1, 1, 1, 1, 1, 1, 1, 1, 1, 1, 1, 1, 1, 1, 1, 1, 1, 1, 1, 1, 1, 1, 1, 1, 1, 1, 1, 1, 1, 1, 1, 1, 1, 1, 1, 1, 1, 1, 1, 1, 1, 1, 1, 1, 1, 1, 1, 1, 1, 1, 1, 1, 1, 1, 1, None]\n"
          ]
        }
      ]
    },
    {
      "cell_type": "code",
      "source": [
        "tokenized_example['offset_mapping']"
      ],
      "metadata": {
        "colab": {
          "base_uri": "https://localhost:8080/"
        },
        "id": "8o66xrmlzEji",
        "outputId": "a7371a9b-3fce-449d-e6f3-d334077249bb"
      },
      "execution_count": null,
      "outputs": [
        {
          "output_type": "execute_result",
          "data": {
            "text/plain": [
              "[(0, 0),\n",
              " (0, 5),\n",
              " (6, 10),\n",
              " (11, 14),\n",
              " (15, 25),\n",
              " (25, 26),\n",
              " (27, 32),\n",
              " (33, 38),\n",
              " (39, 48),\n",
              " (49, 57),\n",
              " (58, 68),\n",
              " (68, 69),\n",
              " (70, 74),\n",
              " (75, 77),\n",
              " (78, 81),\n",
              " (82, 84),\n",
              " (85, 90),\n",
              " (91, 100),\n",
              " (101, 103),\n",
              " (104, 107),\n",
              " (108, 113),\n",
              " (113, 114),\n",
              " (0, 0),\n",
              " (0, 3),\n",
              " (4, 11),\n",
              " (12, 13),\n",
              " (13, 15),\n",
              " (16, 17),\n",
              " (17, 18),\n",
              " (18, 19),\n",
              " (20, 27),\n",
              " (28, 34),\n",
              " (34, 35),\n",
              " (36, 39),\n",
              " (40, 43),\n",
              " (44, 49),\n",
              " (50, 51),\n",
              " (51, 53),\n",
              " (54, 55),\n",
              " (55, 56),\n",
              " (56, 57),\n",
              " (58, 65),\n",
              " (66, 72),\n",
              " (72, 73),\n",
              " (73, 74),\n",
              " (75, 79),\n",
              " (80, 82),\n",
              " (83, 91),\n",
              " (92, 102),\n",
              " (102, 103),\n",
              " (104, 107),\n",
              " (108, 111),\n",
              " (112, 115),\n",
              " (116, 123),\n",
              " (124, 130),\n",
              " (131, 133),\n",
              " (134, 137),\n",
              " (138, 140),\n",
              " (141, 151),\n",
              " (152, 153),\n",
              " (153, 156),\n",
              " (157, 160),\n",
              " (161, 163),\n",
              " (164, 167),\n",
              " (168, 173),\n",
              " (174, 181),\n",
              " (182, 188),\n",
              " (189, 191),\n",
              " (192, 195),\n",
              " (196, 202),\n",
              " (203, 209),\n",
              " (209, 210),\n",
              " (210, 211),\n",
              " (212, 214),\n",
              " (215, 223),\n",
              " (224, 234),\n",
              " (235, 240),\n",
              " (241, 244),\n",
              " (245, 249),\n",
              " (250, 256),\n",
              " (257, 263),\n",
              " (264, 268),\n",
              " (269, 273),\n",
              " (274, 278),\n",
              " (279, 282),\n",
              " (282, 283),\n",
              " (283, 286),\n",
              " (287, 296),\n",
              " (297, 300),\n",
              " (301, 303),\n",
              " (304, 310),\n",
              " (311, 315),\n",
              " (316, 319),\n",
              " (319, 320),\n",
              " (320, 323),\n",
              " (324, 326),\n",
              " (327, 337),\n",
              " (337, 338),\n",
              " (339, 343),\n",
              " (344, 346),\n",
              " (347, 355),\n",
              " (356, 366),\n",
              " (366, 367),\n",
              " (367, 368),\n",
              " (369, 373),\n",
              " (374, 383),\n",
              " (384, 390),\n",
              " (391, 394),\n",
              " (395, 400),\n",
              " (401, 403),\n",
              " (404, 406),\n",
              " (407, 412),\n",
              " (413, 422),\n",
              " (423, 425),\n",
              " (426, 429),\n",
              " (430, 435),\n",
              " (435, 436),\n",
              " (437, 441),\n",
              " (442, 445),\n",
              " (446, 455),\n",
              " (456, 458),\n",
              " (459, 462),\n",
              " (463, 473),\n",
              " (474, 477),\n",
              " (478, 487),\n",
              " (487, 488),\n",
              " (0, 0)]"
            ]
          },
          "metadata": {},
          "execution_count": 254
        }
      ]
    },
    {
      "cell_type": "code",
      "source": [
        "tokenizer.decode(tokenized_example['input_ids'])"
      ],
      "metadata": {
        "colab": {
          "base_uri": "https://localhost:8080/",
          "height": 125
        },
        "id": "0ZxLoBIDzPVX",
        "outputId": "9f92923e-0514-488a-801f-f45de13281a2"
      },
      "execution_count": null,
      "outputs": [
        {
          "output_type": "execute_result",
          "data": {
            "text/plain": [
              "\"[CLS] other than san bernardino, which other developed southern californian city is not in close proximity to the coast? [SEP] los angeles ( at 3. 7 million people ) and san diego ( at 1. 3 million people ), both in southern california, are the two largest cities in all of california ( and two of the eight largest cities in the united states ). in southern california there are also twelve cities with more than 200, 000 residents and 34 cities over 100, 000 in population. many of southern california's most developed cities lie along or in close proximity to the coast, with the exception of san bernardino and riverside. [SEP]\""
            ],
            "application/vnd.google.colaboratory.intrinsic+json": {
              "type": "string"
            }
          },
          "metadata": {},
          "execution_count": 255
        }
      ]
    },
    {
      "cell_type": "code",
      "source": [
        "contexts"
      ],
      "metadata": {
        "colab": {
          "base_uri": "https://localhost:8080/"
        },
        "id": "MilmWCP87J-_",
        "outputId": "0218c3b5-5150-46ae-9a4b-b690749f90d1"
      },
      "execution_count": null,
      "outputs": [
        {
          "output_type": "execute_result",
          "data": {
            "text/plain": [
              "['Traveling south on Interstate 5, the main gap to continued urbanization is Camp Pendleton. The cities and communities along Interstate 15 and Interstate 215 are so inter-related that Temecula and Murrieta have as much connection with the San Diego metropolitan area as they do with the Inland Empire. To the east, the United States Census Bureau considers the San Bernardino and Riverside County areas, Riverside-San Bernardino area as a separate metropolitan area from Los Angeles County. While many commute to L.A. and Orange Counties, there are some differences in development, as most of San Bernardino and Riverside Counties (the non-desert portions) were developed in the 1980s and 1990s. Newly developed exurbs formed in the Antelope Valley north of Los Angeles, the Victor Valley and the Coachella Valley with the Imperial Valley. Also, population growth was high in the Bakersfield-Kern County, Santa Maria and San Luis Obispo areas.',\n",
              " 'Traveling south on Interstate 5, the main gap to continued urbanization is Camp Pendleton. The cities and communities along Interstate 15 and Interstate 215 are so inter-related that Temecula and Murrieta have as much connection with the San Diego metropolitan area as they do with the Inland Empire. To the east, the United States Census Bureau considers the San Bernardino and Riverside County areas, Riverside-San Bernardino area as a separate metropolitan area from Los Angeles County. While many commute to L.A. and Orange Counties, there are some differences in development, as most of San Bernardino and Riverside Counties (the non-desert portions) were developed in the 1980s and 1990s. Newly developed exurbs formed in the Antelope Valley north of Los Angeles, the Victor Valley and the Coachella Valley with the Imperial Valley. Also, population growth was high in the Bakersfield-Kern County, Santa Maria and San Luis Obispo areas.',\n",
              " 'Traveling south on Interstate 5, the main gap to continued urbanization is Camp Pendleton. The cities and communities along Interstate 15 and Interstate 215 are so inter-related that Temecula and Murrieta have as much connection with the San Diego metropolitan area as they do with the Inland Empire. To the east, the United States Census Bureau considers the San Bernardino and Riverside County areas, Riverside-San Bernardino area as a separate metropolitan area from Los Angeles County. While many commute to L.A. and Orange Counties, there are some differences in development, as most of San Bernardino and Riverside Counties (the non-desert portions) were developed in the 1980s and 1990s. Newly developed exurbs formed in the Antelope Valley north of Los Angeles, the Victor Valley and the Coachella Valley with the Imperial Valley. Also, population growth was high in the Bakersfield-Kern County, Santa Maria and San Luis Obispo areas.',\n",
              " \"Southern California contains a Mediterranean climate, with infrequent rain and many sunny days. Summers are hot and dry, while winters are a bit warm or mild and wet. Serious rain can occur unusually. In the summers, temperature ranges are 90-60's while as winters are 70-50's, usually all of Southern California have Mediterranean climate. But snow is very rare in the Southwest of the state, it occurs on the Southeast of the state.\",\n",
              " \"Southern California contains a Mediterranean climate, with infrequent rain and many sunny days. Summers are hot and dry, while winters are a bit warm or mild and wet. Serious rain can occur unusually. In the summers, temperature ranges are 90-60's while as winters are 70-50's, usually all of Southern California have Mediterranean climate. But snow is very rare in the Southwest of the state, it occurs on the Southeast of the state.\",\n",
              " \"Southern California contains a Mediterranean climate, with infrequent rain and many sunny days. Summers are hot and dry, while winters are a bit warm or mild and wet. Serious rain can occur unusually. In the summers, temperature ranges are 90-60's while as winters are 70-50's, usually all of Southern California have Mediterranean climate. But snow is very rare in the Southwest of the state, it occurs on the Southeast of the state.\",\n",
              " \"Southern California contains a Mediterranean climate, with infrequent rain and many sunny days. Summers are hot and dry, while winters are a bit warm or mild and wet. Serious rain can occur unusually. In the summers, temperature ranges are 90-60's while as winters are 70-50's, usually all of Southern California have Mediterranean climate. But snow is very rare in the Southwest of the state, it occurs on the Southeast of the state.\",\n",
              " \"Southern California contains a Mediterranean climate, with infrequent rain and many sunny days. Summers are hot and dry, while winters are a bit warm or mild and wet. Serious rain can occur unusually. In the summers, temperature ranges are 90-60's while as winters are 70-50's, usually all of Southern California have Mediterranean climate. But snow is very rare in the Southwest of the state, it occurs on the Southeast of the state.\",\n",
              " 'Southern California consists of one of the more varied collections of geologic, topographic, and natural ecosystem landscapes in a diversity outnumbering other major regions in the state and country. The region spans from Pacific Ocean islands, shorelines, beaches, and coastal plains, through the Transverse and Peninsular Ranges with their peaks, into the large and small interior valleys, to the vast deserts of California.',\n",
              " 'Southern California consists of one of the more varied collections of geologic, topographic, and natural ecosystem landscapes in a diversity outnumbering other major regions in the state and country. The region spans from Pacific Ocean islands, shorelines, beaches, and coastal plains, through the Transverse and Peninsular Ranges with their peaks, into the large and small interior valleys, to the vast deserts of California.',\n",
              " 'Southern California consists of one of the more varied collections of geologic, topographic, and natural ecosystem landscapes in a diversity outnumbering other major regions in the state and country. The region spans from Pacific Ocean islands, shorelines, beaches, and coastal plains, through the Transverse and Peninsular Ranges with their peaks, into the large and small interior valleys, to the vast deserts of California.',\n",
              " 'Southern California consists of one of the more varied collections of geologic, topographic, and natural ecosystem landscapes in a diversity outnumbering other major regions in the state and country. The region spans from Pacific Ocean islands, shorelines, beaches, and coastal plains, through the Transverse and Peninsular Ranges with their peaks, into the large and small interior valleys, to the vast deserts of California.',\n",
              " 'Southern California consists of one of the more varied collections of geologic, topographic, and natural ecosystem landscapes in a diversity outnumbering other major regions in the state and country. The region spans from Pacific Ocean islands, shorelines, beaches, and coastal plains, through the Transverse and Peninsular Ranges with their peaks, into the large and small interior valleys, to the vast deserts of California.',\n",
              " 'Each year, the southern California area has about 10,000 earthquakes. Nearly all of them are so small that they are not felt. Only several hundred are greater than magnitude 3.0, and only about 15–20 are greater than magnitude 4.0. The magnitude 6.7 1994 Northridge earthquake was particularly destructive, causing a substantial number of deaths, injuries, and structural collapses. It caused the most property damage of any earthquake in U.S. history, estimated at over $20 billion.',\n",
              " 'Each year, the southern California area has about 10,000 earthquakes. Nearly all of them are so small that they are not felt. Only several hundred are greater than magnitude 3.0, and only about 15–20 are greater than magnitude 4.0. The magnitude 6.7 1994 Northridge earthquake was particularly destructive, causing a substantial number of deaths, injuries, and structural collapses. It caused the most property damage of any earthquake in U.S. history, estimated at over $20 billion.',\n",
              " 'Each year, the southern California area has about 10,000 earthquakes. Nearly all of them are so small that they are not felt. Only several hundred are greater than magnitude 3.0, and only about 15–20 are greater than magnitude 4.0. The magnitude 6.7 1994 Northridge earthquake was particularly destructive, causing a substantial number of deaths, injuries, and structural collapses. It caused the most property damage of any earthquake in U.S. history, estimated at over $20 billion.',\n",
              " 'Each year, the southern California area has about 10,000 earthquakes. Nearly all of them are so small that they are not felt. Only several hundred are greater than magnitude 3.0, and only about 15–20 are greater than magnitude 4.0. The magnitude 6.7 1994 Northridge earthquake was particularly destructive, causing a substantial number of deaths, injuries, and structural collapses. It caused the most property damage of any earthquake in U.S. history, estimated at over $20 billion.',\n",
              " 'Each year, the southern California area has about 10,000 earthquakes. Nearly all of them are so small that they are not felt. Only several hundred are greater than magnitude 3.0, and only about 15–20 are greater than magnitude 4.0. The magnitude 6.7 1994 Northridge earthquake was particularly destructive, causing a substantial number of deaths, injuries, and structural collapses. It caused the most property damage of any earthquake in U.S. history, estimated at over $20 billion.',\n",
              " 'Many faults are able to produce a magnitude 6.7+ earthquake, such as the San Andreas Fault, which can produce a magnitude 8.0 event. Other faults include the San Jacinto Fault, the Puente Hills Fault, and the Elsinore Fault Zone. The USGS has released a California Earthquake forecast which models Earthquake occurrence in California.',\n",
              " 'Many faults are able to produce a magnitude 6.7+ earthquake, such as the San Andreas Fault, which can produce a magnitude 8.0 event. Other faults include the San Jacinto Fault, the Puente Hills Fault, and the Elsinore Fault Zone. The USGS has released a California Earthquake forecast which models Earthquake occurrence in California.',\n",
              " 'Many faults are able to produce a magnitude 6.7+ earthquake, such as the San Andreas Fault, which can produce a magnitude 8.0 event. Other faults include the San Jacinto Fault, the Puente Hills Fault, and the Elsinore Fault Zone. The USGS has released a California Earthquake forecast which models Earthquake occurrence in California.',\n",
              " 'Many faults are able to produce a magnitude 6.7+ earthquake, such as the San Andreas Fault, which can produce a magnitude 8.0 event. Other faults include the San Jacinto Fault, the Puente Hills Fault, and the Elsinore Fault Zone. The USGS has released a California Earthquake forecast which models Earthquake occurrence in California.',\n",
              " 'Many faults are able to produce a magnitude 6.7+ earthquake, such as the San Andreas Fault, which can produce a magnitude 8.0 event. Other faults include the San Jacinto Fault, the Puente Hills Fault, and the Elsinore Fault Zone. The USGS has released a California Earthquake forecast which models Earthquake occurrence in California.',\n",
              " 'Southern California is divided culturally, politically, and economically into distinctive regions, each containing its own culture and atmosphere, anchored usually by a city with both national and sometimes global recognition, which are often the hub of economic activity for its respective region and being home to many tourist destinations. Each region is further divided into many culturally distinct areas but as a whole combine to create the southern California atmosphere.',\n",
              " 'Southern California is divided culturally, politically, and economically into distinctive regions, each containing its own culture and atmosphere, anchored usually by a city with both national and sometimes global recognition, which are often the hub of economic activity for its respective region and being home to many tourist destinations. Each region is further divided into many culturally distinct areas but as a whole combine to create the southern California atmosphere.',\n",
              " 'Southern California is divided culturally, politically, and economically into distinctive regions, each containing its own culture and atmosphere, anchored usually by a city with both national and sometimes global recognition, which are often the hub of economic activity for its respective region and being home to many tourist destinations. Each region is further divided into many culturally distinct areas but as a whole combine to create the southern California atmosphere.',\n",
              " \"As of the 2010 United States Census, southern California has a population of 22,680,010. Despite a reputation for high growth rates, southern California's rate grew less than the state average of 10.0% in the 2000s as California's growth became concentrated in the northern part of the state due to a stronger, tech-oriented economy in the Bay Area and an emerging Greater Sacramento region.\",\n",
              " \"As of the 2010 United States Census, southern California has a population of 22,680,010. Despite a reputation for high growth rates, southern California's rate grew less than the state average of 10.0% in the 2000s as California's growth became concentrated in the northern part of the state due to a stronger, tech-oriented economy in the Bay Area and an emerging Greater Sacramento region.\",\n",
              " \"As of the 2010 United States Census, southern California has a population of 22,680,010. Despite a reputation for high growth rates, southern California's rate grew less than the state average of 10.0% in the 2000s as California's growth became concentrated in the northern part of the state due to a stronger, tech-oriented economy in the Bay Area and an emerging Greater Sacramento region.\",\n",
              " \"As of the 2010 United States Census, southern California has a population of 22,680,010. Despite a reputation for high growth rates, southern California's rate grew less than the state average of 10.0% in the 2000s as California's growth became concentrated in the northern part of the state due to a stronger, tech-oriented economy in the Bay Area and an emerging Greater Sacramento region.\",\n",
              " \"As of the 2010 United States Census, southern California has a population of 22,680,010. Despite a reputation for high growth rates, southern California's rate grew less than the state average of 10.0% in the 2000s as California's growth became concentrated in the northern part of the state due to a stronger, tech-oriented economy in the Bay Area and an emerging Greater Sacramento region.\",\n",
              " 'Southern California consists of one Combined Statistical Area, eight Metropolitan Statistical Areas, one international metropolitan area, and multiple metropolitan divisions. The region is home to two extended metropolitan areas that exceed five million in population. These are the Greater Los Angeles Area at 17,786,419, and San Diego–Tijuana at 5,105,768. Of these metropolitan areas, the Los Angeles-Long Beach-Santa Ana metropolitan area, Riverside-San Bernardino-Ontario metropolitan area, and Oxnard-Thousand Oaks-Ventura metropolitan area form Greater Los Angeles; while the El Centro metropolitan area and San Diego-Carlsbad-San Marcos metropolitan area form the Southern Border Region. North of Greater Los Angeles are the Santa Barbara, San Luis Obispo, and Bakersfield metropolitan areas.',\n",
              " 'Southern California consists of one Combined Statistical Area, eight Metropolitan Statistical Areas, one international metropolitan area, and multiple metropolitan divisions. The region is home to two extended metropolitan areas that exceed five million in population. These are the Greater Los Angeles Area at 17,786,419, and San Diego–Tijuana at 5,105,768. Of these metropolitan areas, the Los Angeles-Long Beach-Santa Ana metropolitan area, Riverside-San Bernardino-Ontario metropolitan area, and Oxnard-Thousand Oaks-Ventura metropolitan area form Greater Los Angeles; while the El Centro metropolitan area and San Diego-Carlsbad-San Marcos metropolitan area form the Southern Border Region. North of Greater Los Angeles are the Santa Barbara, San Luis Obispo, and Bakersfield metropolitan areas.',\n",
              " 'Southern California consists of one Combined Statistical Area, eight Metropolitan Statistical Areas, one international metropolitan area, and multiple metropolitan divisions. The region is home to two extended metropolitan areas that exceed five million in population. These are the Greater Los Angeles Area at 17,786,419, and San Diego–Tijuana at 5,105,768. Of these metropolitan areas, the Los Angeles-Long Beach-Santa Ana metropolitan area, Riverside-San Bernardino-Ontario metropolitan area, and Oxnard-Thousand Oaks-Ventura metropolitan area form Greater Los Angeles; while the El Centro metropolitan area and San Diego-Carlsbad-San Marcos metropolitan area form the Southern Border Region. North of Greater Los Angeles are the Santa Barbara, San Luis Obispo, and Bakersfield metropolitan areas.',\n",
              " 'Southern California consists of one Combined Statistical Area, eight Metropolitan Statistical Areas, one international metropolitan area, and multiple metropolitan divisions. The region is home to two extended metropolitan areas that exceed five million in population. These are the Greater Los Angeles Area at 17,786,419, and San Diego–Tijuana at 5,105,768. Of these metropolitan areas, the Los Angeles-Long Beach-Santa Ana metropolitan area, Riverside-San Bernardino-Ontario metropolitan area, and Oxnard-Thousand Oaks-Ventura metropolitan area form Greater Los Angeles; while the El Centro metropolitan area and San Diego-Carlsbad-San Marcos metropolitan area form the Southern Border Region. North of Greater Los Angeles are the Santa Barbara, San Luis Obispo, and Bakersfield metropolitan areas.',\n",
              " 'Southern California consists of one Combined Statistical Area, eight Metropolitan Statistical Areas, one international metropolitan area, and multiple metropolitan divisions. The region is home to two extended metropolitan areas that exceed five million in population. These are the Greater Los Angeles Area at 17,786,419, and San Diego–Tijuana at 5,105,768. Of these metropolitan areas, the Los Angeles-Long Beach-Santa Ana metropolitan area, Riverside-San Bernardino-Ontario metropolitan area, and Oxnard-Thousand Oaks-Ventura metropolitan area form Greater Los Angeles; while the El Centro metropolitan area and San Diego-Carlsbad-San Marcos metropolitan area form the Southern Border Region. North of Greater Los Angeles are the Santa Barbara, San Luis Obispo, and Bakersfield metropolitan areas.',\n",
              " \"Los Angeles (at 3.7 million people) and San Diego (at 1.3 million people), both in southern California, are the two largest cities in all of California (and two of the eight largest cities in the United States). In southern California there are also twelve cities with more than 200,000 residents and 34 cities over 100,000 in population. Many of southern California's most developed cities lie along or in close proximity to the coast, with the exception of San Bernardino and Riverside.\",\n",
              " \"Los Angeles (at 3.7 million people) and San Diego (at 1.3 million people), both in southern California, are the two largest cities in all of California (and two of the eight largest cities in the United States). In southern California there are also twelve cities with more than 200,000 residents and 34 cities over 100,000 in population. Many of southern California's most developed cities lie along or in close proximity to the coast, with the exception of San Bernardino and Riverside.\",\n",
              " \"Los Angeles (at 3.7 million people) and San Diego (at 1.3 million people), both in southern California, are the two largest cities in all of California (and two of the eight largest cities in the United States). In southern California there are also twelve cities with more than 200,000 residents and 34 cities over 100,000 in population. Many of southern California's most developed cities lie along or in close proximity to the coast, with the exception of San Bernardino and Riverside.\",\n",
              " \"Los Angeles (at 3.7 million people) and San Diego (at 1.3 million people), both in southern California, are the two largest cities in all of California (and two of the eight largest cities in the United States). In southern California there are also twelve cities with more than 200,000 residents and 34 cities over 100,000 in population. Many of southern California's most developed cities lie along or in close proximity to the coast, with the exception of San Bernardino and Riverside.\"]"
            ]
          },
          "metadata": {},
          "execution_count": 165
        }
      ]
    },
    {
      "cell_type": "markdown",
      "source": [
        "## 3. Preprocess/Clean dataset as per BERT format."
      ],
      "metadata": {
        "id": "xYPgP51pquuJ"
      }
    },
    {
      "cell_type": "code",
      "source": [
        "train_texts = [contexts[i] for i in train_indices]\n",
        "train_queries = [questions[i] for i in train_indices]\n",
        "train_answers = [answers[i] for i in train_indices]\n",
        "train_answer_starts = [answer_starts[i] for i in train_indices]\n",
        "train_answer_ends = [answer_ends[i] for i in train_indices]\n",
        "val_texts = [contexts[i] for i in range(len(contexts)) if i not in train_indices]\n",
        "val_queries = [questions[i] for i in range(len(questions)) if i not in train_indices]\n",
        "val_answers = [answers[i] for i in range(len(answers)) if i not in train_indices]\n",
        "val_answer_starts = [answer_starts[i] for i in range(len(answer_starts)) if i not in train_indices]\n",
        "val_answer_ends = [answer_ends[i] for i in range(len(answer_ends)) if i not in train_indices]\n",
        "train_encodings = tokenizer(train_texts, train_queries, truncation=True, padding=True)\n",
        "val_encodings = tokenizer(val_texts, val_queries, truncation=True, padding=True)"
      ],
      "metadata": {
        "id": "4rO0ZiTs83JH"
      },
      "execution_count": null,
      "outputs": []
    },
    {
      "cell_type": "code",
      "source": [
        "def add_token_positions(encodings, answers, answer_starts, answer_ends):\n",
        "    start_positions = []\n",
        "    end_positions = []\n",
        "\n",
        "    count = 0\n",
        "\n",
        "    for i in range(len(answers)):\n",
        "        start_positions.append(encodings.char_to_token(i, answer_starts[i]))\n",
        "        end_positions.append(encodings.char_to_token(i, answer_ends[i]))\n",
        "\n",
        "        if start_positions[-1] is None:\n",
        "            start_positions[-1] = tokenizer.model_max_length\n",
        "\n",
        "        if end_positions[-1] is None:\n",
        "            end_positions[-1] = encodings.char_to_token(i, answer_ends[i] - 1)\n",
        "\n",
        "            if end_positions[-1] is None:\n",
        "                count += 1\n",
        "                end_positions[-1] = tokenizer.model_max_length\n",
        "    print(count)\n",
        "\n",
        "    encodings.update({'start_positions': start_positions, 'end_positions': end_positions})\n",
        "\n",
        "add_token_positions(train_encodings, train_answers, train_answer_starts, train_answer_ends)\n",
        "add_token_positions(val_encodings, val_answers, val_answer_starts, val_answer_ends)"
      ],
      "metadata": {
        "colab": {
          "base_uri": "https://localhost:8080/"
        },
        "id": "ifs6A859_nqq",
        "outputId": "642677d4-ecc5-43db-cb26-41590d6061bb"
      },
      "execution_count": null,
      "outputs": [
        {
          "output_type": "stream",
          "name": "stdout",
          "text": [
            "0\n",
            "0\n"
          ]
        }
      ]
    },
    {
      "cell_type": "code",
      "source": [
        "train_encodings['end_positions']"
      ],
      "metadata": {
        "colab": {
          "base_uri": "https://localhost:8080/"
        },
        "id": "Aaf6T1_HANN1",
        "outputId": "14d2e479-1d21-4460-a7d7-afea0a3ded27"
      },
      "execution_count": null,
      "outputs": [
        {
          "output_type": "execute_result",
          "data": {
            "text/plain": [
              "[116,\n",
              " 38,\n",
              " 118,\n",
              " 125,\n",
              " 9,\n",
              " 18,\n",
              " 4,\n",
              " 53,\n",
              " 1,\n",
              " 5,\n",
              " 82,\n",
              " 123,\n",
              " 87,\n",
              " 55,\n",
              " 97,\n",
              " 17,\n",
              " 72,\n",
              " 14,\n",
              " 117,\n",
              " 29,\n",
              " 71,\n",
              " 74,\n",
              " 50,\n",
              " 120,\n",
              " 129,\n",
              " 43,\n",
              " 37,\n",
              " 24,\n",
              " 52,\n",
              " 98,\n",
              " 92,\n",
              " 17,\n",
              " 21,\n",
              " 18,\n",
              " 62,\n",
              " 58,\n",
              " 88,\n",
              " 140,\n",
              " 58,\n",
              " 1,\n",
              " 49,\n",
              " 22,\n",
              " 31,\n",
              " 72,\n",
              " 69,\n",
              " 22,\n",
              " 17,\n",
              " 6,\n",
              " 25,\n",
              " 17,\n",
              " 110,\n",
              " 187,\n",
              " 50,\n",
              " 14,\n",
              " 8,\n",
              " 5,\n",
              " 1,\n",
              " 56,\n",
              " 116,\n",
              " 66,\n",
              " 99,\n",
              " 5,\n",
              " 119,\n",
              " 89,\n",
              " 63,\n",
              " 19,\n",
              " 104,\n",
              " 15,\n",
              " 112,\n",
              " 52,\n",
              " 98,\n",
              " 27,\n",
              " 78,\n",
              " 19,\n",
              " 73,\n",
              " 34,\n",
              " 5,\n",
              " 96,\n",
              " 18,\n",
              " 61,\n",
              " 3,\n",
              " 88,\n",
              " 22,\n",
              " 58,\n",
              " 44,\n",
              " 5,\n",
              " 47,\n",
              " 1,\n",
              " 3,\n",
              " 7,\n",
              " 137,\n",
              " 97,\n",
              " 4,\n",
              " 8,\n",
              " 96,\n",
              " 114,\n",
              " 62,\n",
              " 55,\n",
              " 98,\n",
              " 46,\n",
              " 169,\n",
              " 31,\n",
              " 118,\n",
              " 48,\n",
              " 15,\n",
              " 55,\n",
              " 101,\n",
              " 37,\n",
              " 73,\n",
              " 9,\n",
              " 70,\n",
              " 21,\n",
              " 22,\n",
              " 86,\n",
              " 174,\n",
              " 102,\n",
              " 83,\n",
              " 83,\n",
              " 125,\n",
              " 63,\n",
              " 143,\n",
              " 7,\n",
              " 29,\n",
              " 59,\n",
              " 12,\n",
              " 71,\n",
              " 8,\n",
              " 4,\n",
              " 12,\n",
              " 99,\n",
              " 19,\n",
              " 33,\n",
              " 95,\n",
              " 28,\n",
              " 60,\n",
              " 48,\n",
              " 3,\n",
              " 9,\n",
              " 8,\n",
              " 60,\n",
              " 33,\n",
              " 23,\n",
              " 87,\n",
              " 20,\n",
              " 29,\n",
              " 101,\n",
              " 37,\n",
              " 87,\n",
              " 47,\n",
              " 73,\n",
              " 2,\n",
              " 127,\n",
              " 13,\n",
              " 6,\n",
              " 11,\n",
              " 76,\n",
              " 106,\n",
              " 31,\n",
              " 50,\n",
              " 29]"
            ]
          },
          "metadata": {},
          "execution_count": 258
        }
      ]
    },
    {
      "cell_type": "code",
      "source": [
        "class SquadDataset(torch.utils.data.Dataset):\n",
        "    def __init__(self, encodings):\n",
        "        self.encodings = encodings\n",
        "\n",
        "    def __getitem__(self, idx):\n",
        "        return {key: torch.tensor(val[idx]) for key, val in self.encodings.items()}\n",
        "\n",
        "    def __len__(self):\n",
        "        return len(self.encodings.input_ids)"
      ],
      "metadata": {
        "id": "4nAajyaSAiNI"
      },
      "execution_count": null,
      "outputs": []
    },
    {
      "cell_type": "code",
      "source": [
        "train_dataset = SquadDataset(train_encodings)\n",
        "val_dataset = SquadDataset(val_encodings)"
      ],
      "metadata": {
        "id": "R8En34sAAi6B"
      },
      "execution_count": null,
      "outputs": []
    },
    {
      "cell_type": "code",
      "source": [
        "train_loader = DataLoader(train_dataset, batch_size=4, shuffle=True)\n",
        "val_loader = DataLoader(val_dataset, batch_size=4, shuffle=True)"
      ],
      "metadata": {
        "id": "22-9ITvoAlyN"
      },
      "execution_count": null,
      "outputs": []
    },
    {
      "cell_type": "code",
      "source": [
        "model = BertForQuestionAnswering.from_pretrained(model_checkpoint).to(device)"
      ],
      "metadata": {
        "colab": {
          "base_uri": "https://localhost:8080/"
        },
        "id": "MqRQeSRSAoxC",
        "outputId": "738acf42-e3d0-41be-b713-0d86bd19c5f7"
      },
      "execution_count": null,
      "outputs": [
        {
          "output_type": "stream",
          "name": "stderr",
          "text": [
            "Some weights of BertForQuestionAnswering were not initialized from the model checkpoint at bert-base-uncased and are newly initialized: ['qa_outputs.bias', 'qa_outputs.weight']\n",
            "You should probably TRAIN this model on a down-stream task to be able to use it for predictions and inference.\n"
          ]
        }
      ]
    },
    {
      "cell_type": "markdown",
      "source": [
        "## 4. Train the BERT QnA model. Evaluate the model."
      ],
      "metadata": {
        "id": "aH37OV6Xq3Gw"
      }
    },
    {
      "cell_type": "code",
      "source": [
        "from transformers import AdamW\n",
        "optim = AdamW(model.parameters(), lr=5e-5)\n",
        "\n",
        "epochs = 10"
      ],
      "metadata": {
        "id": "1gUzqchHBRKd"
      },
      "execution_count": null,
      "outputs": []
    },
    {
      "cell_type": "code",
      "source": [
        "whole_train_eval_time = time.time()\n",
        "\n",
        "train_losses = []\n",
        "val_losses = []\n",
        "\n",
        "print_every = 5\n",
        "\n",
        "for epoch in range(epochs):\n",
        "    epoch_time = time.time()\n",
        "\n",
        "    # Set model in train mode\n",
        "    model.train()\n",
        "    loss_of_epoch = 0\n",
        "\n",
        "    print(\"############Training Step############\")\n",
        "\n",
        "    for batch_idx,batch in enumerate(train_loader):\n",
        "        optim.zero_grad()\n",
        "\n",
        "        input_ids = batch['input_ids'].to(device)\n",
        "        attention_mask = batch['attention_mask'].to(device)\n",
        "        start_positions = batch['start_positions'].to(device)\n",
        "        end_positions = batch['end_positions'].to(device)\n",
        "\n",
        "        outputs = model(input_ids, attention_mask=attention_mask, start_positions=start_positions, end_positions=end_positions)\n",
        "        loss = outputs[0]\n",
        "        # do a backwards pass\n",
        "        loss.backward()\n",
        "        # update the weights\n",
        "        optim.step()\n",
        "        # Find the total loss\n",
        "        loss_of_epoch += loss.item()\n",
        "\n",
        "        if (batch_idx+1) % print_every == 0:\n",
        "            print(\"Batch {:} / {:}\".format(batch_idx+1,len(train_loader)),\"\\nLoss:\", round(loss.item(),1),\"\\n\")\n",
        "\n",
        "    loss_of_epoch /= len(train_loader)\n",
        "    train_losses.append(loss_of_epoch)\n",
        "\n",
        "    ##########Validation##################\n",
        "\n",
        "    # Set model in evaluation mode\n",
        "    model.eval()\n",
        "\n",
        "    print(\"############Validation Step############\")\n",
        "\n",
        "    loss_of_epoch = 0\n",
        "\n",
        "    for batch_idx,batch in enumerate(val_loader):\n",
        "\n",
        "        with torch.no_grad():\n",
        "\n",
        "            input_ids = batch['input_ids'].to(device)\n",
        "            attention_mask = batch['attention_mask'].to(device)\n",
        "            start_positions = batch['start_positions'].to(device)\n",
        "            end_positions = batch['end_positions'].to(device)\n",
        "\n",
        "            outputs = model(input_ids, attention_mask=attention_mask, start_positions=start_positions, end_positions=end_positions)\n",
        "            loss = outputs[0]\n",
        "            # Find the total loss\n",
        "            loss_of_epoch += loss.item()\n",
        "\n",
        "        if (batch_idx+1) % print_every == 0:\n",
        "            print(\"Batch {:} / {:}\".format(batch_idx+1,len(val_loader)),\"\\nLoss:\", round(loss.item(),1),\"\\n\")\n",
        "\n",
        "    loss_of_epoch /= len(val_loader)\n",
        "    val_losses.append(loss_of_epoch)\n",
        "\n",
        "    # Print each epoch's time and train/val loss\n",
        "\n",
        "    print(\"\\n-------Epoch \", epoch+1,\n",
        "          \"-------\"\n",
        "          \"\\nTraining Loss:\", train_losses[-1],\n",
        "          \"\\nValidation Loss:\", val_losses[-1],\n",
        "          \"\\nTime: \",(time.time() - epoch_time),\n",
        "          \"\\n-----------------------\",\n",
        "          \"\\n\\n\")\n",
        "\n",
        "print(\"Total training and evaluation time: \", (time.time() - whole_train_eval_time))"
      ],
      "metadata": {
        "colab": {
          "base_uri": "https://localhost:8080/"
        },
        "id": "qENg1lJ6BXyb",
        "outputId": "470c60b2-5473-4b5c-c625-1a16f1737e63"
      },
      "execution_count": null,
      "outputs": [
        {
          "output_type": "stream",
          "name": "stdout",
          "text": [
            "############Train############\n",
            "Batch 5 / 40 \n",
            "Loss: 5.1 \n",
            "\n",
            "Batch 10 / 40 \n",
            "Loss: 5.0 \n",
            "\n",
            "Batch 15 / 40 \n",
            "Loss: 4.2 \n",
            "\n",
            "Batch 20 / 40 \n",
            "Loss: 4.4 \n",
            "\n",
            "Batch 25 / 40 \n",
            "Loss: 4.1 \n",
            "\n",
            "Batch 30 / 40 \n",
            "Loss: 4.1 \n",
            "\n",
            "Batch 35 / 40 \n",
            "Loss: 3.7 \n",
            "\n",
            "Batch 40 / 40 \n",
            "Loss: 4.1 \n",
            "\n",
            "############Evaluate############\n",
            "Batch 5 / 10 \n",
            "Loss: 3.5 \n",
            "\n",
            "Batch 10 / 10 \n",
            "Loss: 4.1 \n",
            "\n",
            "\n",
            "-------Epoch  1 -------\n",
            "Training Loss: 4.552010667324066 \n",
            "Validation Loss: 3.7855751514434814 \n",
            "Time:  495.4094250202179 \n",
            "----------------------- \n",
            "\n",
            "\n",
            "############Train############\n",
            "Batch 5 / 40 \n",
            "Loss: 3.3 \n",
            "\n",
            "Batch 10 / 40 \n",
            "Loss: 3.1 \n",
            "\n",
            "Batch 15 / 40 \n",
            "Loss: 3.3 \n",
            "\n",
            "Batch 20 / 40 \n",
            "Loss: 3.7 \n",
            "\n",
            "Batch 25 / 40 \n",
            "Loss: 3.0 \n",
            "\n",
            "Batch 30 / 40 \n",
            "Loss: 3.2 \n",
            "\n",
            "Batch 35 / 40 \n",
            "Loss: 3.7 \n",
            "\n",
            "Batch 40 / 40 \n",
            "Loss: 3.8 \n",
            "\n",
            "############Evaluate############\n",
            "Batch 5 / 10 \n",
            "Loss: 3.5 \n",
            "\n",
            "Batch 10 / 10 \n",
            "Loss: 3.0 \n",
            "\n",
            "\n",
            "-------Epoch  2 -------\n",
            "Training Loss: 3.3770641148090363 \n",
            "Validation Loss: 3.761335778236389 \n",
            "Time:  490.4995789527893 \n",
            "----------------------- \n",
            "\n",
            "\n",
            "############Train############\n",
            "Batch 5 / 40 \n",
            "Loss: 2.4 \n",
            "\n",
            "Batch 10 / 40 \n",
            "Loss: 3.5 \n",
            "\n",
            "Batch 15 / 40 \n",
            "Loss: 2.4 \n",
            "\n",
            "Batch 20 / 40 \n",
            "Loss: 3.1 \n",
            "\n",
            "Batch 25 / 40 \n",
            "Loss: 2.8 \n",
            "\n",
            "Batch 30 / 40 \n",
            "Loss: 3.6 \n",
            "\n",
            "Batch 35 / 40 \n",
            "Loss: 1.9 \n",
            "\n",
            "Batch 40 / 40 \n",
            "Loss: 3.0 \n",
            "\n",
            "############Evaluate############\n",
            "Batch 5 / 10 \n",
            "Loss: 3.4 \n",
            "\n",
            "Batch 10 / 10 \n",
            "Loss: 3.0 \n",
            "\n",
            "\n",
            "-------Epoch  3 -------\n",
            "Training Loss: 2.766151410341263 \n",
            "Validation Loss: 3.654725980758667 \n",
            "Time:  488.2502529621124 \n",
            "----------------------- \n",
            "\n",
            "\n",
            "############Train############\n",
            "Batch 5 / 40 \n",
            "Loss: 1.9 \n",
            "\n",
            "Batch 10 / 40 \n",
            "Loss: 2.6 \n",
            "\n",
            "Batch 15 / 40 \n",
            "Loss: 2.0 \n",
            "\n",
            "Batch 20 / 40 \n",
            "Loss: 2.5 \n",
            "\n",
            "Batch 25 / 40 \n",
            "Loss: 1.6 \n",
            "\n",
            "Batch 30 / 40 \n",
            "Loss: 2.1 \n",
            "\n",
            "Batch 35 / 40 \n",
            "Loss: 2.0 \n",
            "\n",
            "Batch 40 / 40 \n",
            "Loss: 2.3 \n",
            "\n",
            "############Evaluate############\n",
            "Batch 5 / 10 \n",
            "Loss: 4.2 \n",
            "\n",
            "Batch 10 / 10 \n",
            "Loss: 4.6 \n",
            "\n",
            "\n",
            "-------Epoch  4 -------\n",
            "Training Loss: 2.238374337553978 \n",
            "Validation Loss: 3.8050467729568482 \n",
            "Time:  489.7427673339844 \n",
            "----------------------- \n",
            "\n",
            "\n",
            "############Train############\n",
            "Batch 5 / 40 \n",
            "Loss: 2.1 \n",
            "\n",
            "Batch 10 / 40 \n",
            "Loss: 0.7 \n",
            "\n",
            "Batch 15 / 40 \n",
            "Loss: 2.3 \n",
            "\n",
            "Batch 20 / 40 \n",
            "Loss: 2.0 \n",
            "\n",
            "Batch 25 / 40 \n",
            "Loss: 1.0 \n",
            "\n",
            "Batch 30 / 40 \n",
            "Loss: 2.3 \n",
            "\n",
            "Batch 35 / 40 \n",
            "Loss: 1.3 \n",
            "\n",
            "Batch 40 / 40 \n",
            "Loss: 1.3 \n",
            "\n",
            "############Evaluate############\n",
            "Batch 5 / 10 \n",
            "Loss: 2.4 \n",
            "\n",
            "Batch 10 / 10 \n",
            "Loss: 5.3 \n",
            "\n",
            "\n",
            "-------Epoch  5 -------\n",
            "Training Loss: 1.7047773391008376 \n",
            "Validation Loss: 3.5535595178604127 \n",
            "Time:  481.38484954833984 \n",
            "----------------------- \n",
            "\n",
            "\n",
            "############Train############\n",
            "Batch 5 / 40 \n",
            "Loss: 1.1 \n",
            "\n",
            "Batch 10 / 40 \n",
            "Loss: 2.6 \n",
            "\n",
            "Batch 15 / 40 \n",
            "Loss: 0.7 \n",
            "\n",
            "Batch 20 / 40 \n",
            "Loss: 0.7 \n",
            "\n",
            "Batch 25 / 40 \n",
            "Loss: 1.1 \n",
            "\n",
            "Batch 30 / 40 \n",
            "Loss: 0.9 \n",
            "\n",
            "Batch 35 / 40 \n",
            "Loss: 2.1 \n",
            "\n",
            "Batch 40 / 40 \n",
            "Loss: 0.8 \n",
            "\n",
            "############Evaluate############\n",
            "Batch 5 / 10 \n",
            "Loss: 3.1 \n",
            "\n",
            "Batch 10 / 10 \n",
            "Loss: 3.2 \n",
            "\n",
            "\n",
            "-------Epoch  6 -------\n",
            "Training Loss: 1.2789594203233718 \n",
            "Validation Loss: 3.909410762786865 \n",
            "Time:  481.21674609184265 \n",
            "----------------------- \n",
            "\n",
            "\n",
            "############Train############\n",
            "Batch 5 / 40 \n",
            "Loss: 0.3 \n",
            "\n",
            "Batch 10 / 40 \n",
            "Loss: 0.7 \n",
            "\n",
            "Batch 15 / 40 \n",
            "Loss: 1.1 \n",
            "\n",
            "Batch 20 / 40 \n",
            "Loss: 0.2 \n",
            "\n",
            "Batch 25 / 40 \n",
            "Loss: 0.3 \n",
            "\n",
            "Batch 30 / 40 \n",
            "Loss: 0.7 \n",
            "\n",
            "Batch 35 / 40 \n",
            "Loss: 0.7 \n",
            "\n",
            "Batch 40 / 40 \n",
            "Loss: 1.4 \n",
            "\n",
            "############Evaluate############\n",
            "Batch 5 / 10 \n",
            "Loss: 4.6 \n",
            "\n",
            "Batch 10 / 10 \n",
            "Loss: 3.1 \n",
            "\n",
            "\n",
            "-------Epoch  7 -------\n",
            "Training Loss: 0.8642805583775044 \n",
            "Validation Loss: 3.550054335594177 \n",
            "Time:  484.78586649894714 \n",
            "----------------------- \n",
            "\n",
            "\n",
            "############Train############\n",
            "Batch 5 / 40 \n",
            "Loss: 0.5 \n",
            "\n",
            "Batch 10 / 40 \n",
            "Loss: 1.4 \n",
            "\n",
            "Batch 15 / 40 \n",
            "Loss: 0.2 \n",
            "\n",
            "Batch 20 / 40 \n",
            "Loss: 1.3 \n",
            "\n",
            "Batch 25 / 40 \n",
            "Loss: 0.3 \n",
            "\n",
            "Batch 30 / 40 \n",
            "Loss: 2.3 \n",
            "\n",
            "Batch 35 / 40 \n",
            "Loss: 0.8 \n",
            "\n",
            "Batch 40 / 40 \n",
            "Loss: 0.5 \n",
            "\n",
            "############Evaluate############\n",
            "Batch 5 / 10 \n",
            "Loss: 3.3 \n",
            "\n",
            "Batch 10 / 10 \n",
            "Loss: 4.8 \n",
            "\n",
            "\n",
            "-------Epoch  8 -------\n",
            "Training Loss: 0.6306544333696366 \n",
            "Validation Loss: 3.74629602432251 \n",
            "Time:  482.8713102340698 \n",
            "----------------------- \n",
            "\n",
            "\n",
            "############Train############\n",
            "Batch 5 / 40 \n",
            "Loss: 0.4 \n",
            "\n",
            "Batch 10 / 40 \n",
            "Loss: 0.1 \n",
            "\n",
            "Batch 15 / 40 \n",
            "Loss: 0.6 \n",
            "\n",
            "Batch 20 / 40 \n",
            "Loss: 0.2 \n",
            "\n",
            "Batch 25 / 40 \n",
            "Loss: 0.5 \n",
            "\n",
            "Batch 30 / 40 \n",
            "Loss: 0.8 \n",
            "\n",
            "Batch 35 / 40 \n",
            "Loss: 0.5 \n",
            "\n",
            "Batch 40 / 40 \n",
            "Loss: 0.3 \n",
            "\n",
            "############Evaluate############\n",
            "Batch 5 / 10 \n",
            "Loss: 5.8 \n",
            "\n",
            "Batch 10 / 10 \n",
            "Loss: 3.7 \n",
            "\n",
            "\n",
            "-------Epoch  9 -------\n",
            "Training Loss: 0.5845445478335023 \n",
            "Validation Loss: 4.466221809387207 \n",
            "Time:  477.1995921134949 \n",
            "----------------------- \n",
            "\n",
            "\n",
            "############Train############\n",
            "Batch 5 / 40 \n",
            "Loss: 0.2 \n",
            "\n",
            "Batch 10 / 40 \n",
            "Loss: 3.2 \n",
            "\n",
            "Batch 15 / 40 \n",
            "Loss: 0.1 \n",
            "\n",
            "Batch 20 / 40 \n",
            "Loss: 0.0 \n",
            "\n",
            "Batch 25 / 40 \n",
            "Loss: 0.2 \n",
            "\n",
            "Batch 30 / 40 \n",
            "Loss: 0.1 \n",
            "\n",
            "Batch 35 / 40 \n",
            "Loss: 0.2 \n",
            "\n",
            "Batch 40 / 40 \n",
            "Loss: 0.5 \n",
            "\n",
            "############Evaluate############\n",
            "Batch 5 / 10 \n",
            "Loss: 4.0 \n",
            "\n",
            "Batch 10 / 10 \n",
            "Loss: 6.1 \n",
            "\n",
            "\n",
            "-------Epoch  10 -------\n",
            "Training Loss: 0.5348239181563258 \n",
            "Validation Loss: 4.706494927406311 \n",
            "Time:  477.1988184452057 \n",
            "----------------------- \n",
            "\n",
            "\n",
            "Total training and evaluation time:  4848.575189828873\n"
          ]
        }
      ]
    },
    {
      "cell_type": "code",
      "source": [
        "import matplotlib.pyplot as plt\n",
        "\n",
        "fig,ax = plt.subplots(1,1,figsize=(10,5))\n",
        "\n",
        "ax.set_title(\"Train and Validation Losses\",size=20)\n",
        "ax.set_ylabel('Loss', fontsize = 20)\n",
        "ax.set_xlabel('Epochs', fontsize = 25)\n",
        "_=ax.plot(train_losses)\n",
        "_=ax.plot(val_losses)\n",
        "_=ax.legend(('Train','Val'),loc='upper right')"
      ],
      "metadata": {
        "id": "g8LeIM9qBgPl",
        "colab": {
          "base_uri": "https://localhost:8080/",
          "height": 515
        },
        "outputId": "8f76e1f8-3d9a-4b40-89ce-8d623100c03c"
      },
      "execution_count": null,
      "outputs": [
        {
          "output_type": "display_data",
          "data": {
            "text/plain": [
              "<Figure size 1000x500 with 1 Axes>"
            ],
            "image/png": "[encoded data removed]"
          },
          "metadata": {}
        }
      ]
    },
    {
      "cell_type": "code",
      "source": [
        "plt.figure(figsize=(10, 5))\n",
        "plt.plot(range(1, epochs + 1), train_losses, label='Training Loss')\n",
        "plt.xlabel('Epoch')\n",
        "plt.ylabel('Loss')\n",
        "plt.title('Training Loss Over Epochs')\n",
        "plt.legend()\n",
        "plt.grid(True)\n",
        "plt.show()"
      ],
      "metadata": {
        "id": "dHueVn-CBian",
        "colab": {
          "base_uri": "https://localhost:8080/",
          "height": 487
        },
        "outputId": "6cfc1da8-f5f1-40c3-928d-f1af81383d75"
      },
      "execution_count": null,
      "outputs": [
        {
          "output_type": "display_data",
          "data": {
            "text/plain": [
              "<Figure size 1000x500 with 1 Axes>"
            ],
            "image/png": "[encoded data removed]"
          },
          "metadata": {}
        }
      ]
    },
    {
      "cell_type": "code",
      "source": [
        "plt.figure(figsize=(10, 5))\n",
        "plt.plot(range(1, epochs + 1), val_losses, label='Validation Loss')\n",
        "plt.xlabel('Epoch')\n",
        "plt.ylabel('Loss')\n",
        "plt.title('Validation Loss Over Epochs')\n",
        "plt.legend()\n",
        "plt.grid(True)\n",
        "\n",
        "# Show the plots\n",
        "plt.show()"
      ],
      "metadata": {
        "id": "8wyvl9_hBqEs",
        "colab": {
          "base_uri": "https://localhost:8080/",
          "height": 487
        },
        "outputId": "f36ab0a2-a14e-48ea-b230-2916a942e0cd"
      },
      "execution_count": null,
      "outputs": [
        {
          "output_type": "display_data",
          "data": {
            "text/plain": [
              "<Figure size 1000x500 with 1 Axes>"
            ],
            "image/png": "[encoded data removed]"
          },
          "metadata": {}
        }
      ]
    },
    {
      "cell_type": "code",
      "source": [
        "# Save model to Google Drive\n",
        "torch.save(model, '/content/drive/MyDrive/Data 255 HW/Assignment 10/bert_finetunedmodel')"
      ],
      "metadata": {
        "id": "2rHsft9gBuFT"
      },
      "execution_count": null,
      "outputs": []
    },
    {
      "cell_type": "code",
      "source": [
        "bert_model2 = torch.load('/content/drive/MyDrive/Data 255 HW/Assignment 10/bert_finetunedmodel',map_location=torch.device('cpu'))\n",
        "bert_model2.eval()"
      ],
      "metadata": {
        "id": "7kG0bL7xB3s-",
        "colab": {
          "base_uri": "https://localhost:8080/"
        },
        "outputId": "0bb38c8f-6178-44c9-e5d2-a7b9c3da986a"
      },
      "execution_count": null,
      "outputs": [
        {
          "output_type": "execute_result",
          "data": {
            "text/plain": [
              "BertForQuestionAnswering(\n",
              "  (bert): BertModel(\n",
              "    (embeddings): BertEmbeddings(\n",
              "      (word_embeddings): Embedding(30522, 768, padding_idx=0)\n",
              "      (position_embeddings): Embedding(512, 768)\n",
              "      (token_type_embeddings): Embedding(2, 768)\n",
              "      (LayerNorm): LayerNorm((768,), eps=1e-12, elementwise_affine=True)\n",
              "      (dropout): Dropout(p=0.1, inplace=False)\n",
              "    )\n",
              "    (encoder): BertEncoder(\n",
              "      (layer): ModuleList(\n",
              "        (0-11): 12 x BertLayer(\n",
              "          (attention): BertAttention(\n",
              "            (self): BertSelfAttention(\n",
              "              (query): Linear(in_features=768, out_features=768, bias=True)\n",
              "              (key): Linear(in_features=768, out_features=768, bias=True)\n",
              "              (value): Linear(in_features=768, out_features=768, bias=True)\n",
              "              (dropout): Dropout(p=0.1, inplace=False)\n",
              "            )\n",
              "            (output): BertSelfOutput(\n",
              "              (dense): Linear(in_features=768, out_features=768, bias=True)\n",
              "              (LayerNorm): LayerNorm((768,), eps=1e-12, elementwise_affine=True)\n",
              "              (dropout): Dropout(p=0.1, inplace=False)\n",
              "            )\n",
              "          )\n",
              "          (intermediate): BertIntermediate(\n",
              "            (dense): Linear(in_features=768, out_features=3072, bias=True)\n",
              "            (intermediate_act_fn): GELUActivation()\n",
              "          )\n",
              "          (output): BertOutput(\n",
              "            (dense): Linear(in_features=3072, out_features=768, bias=True)\n",
              "            (LayerNorm): LayerNorm((768,), eps=1e-12, elementwise_affine=True)\n",
              "            (dropout): Dropout(p=0.1, inplace=False)\n",
              "          )\n",
              "        )\n",
              "      )\n",
              "    )\n",
              "  )\n",
              "  (qa_outputs): Linear(in_features=768, out_features=2, bias=True)\n",
              ")"
            ]
          },
          "metadata": {},
          "execution_count": 275
        }
      ]
    },
    {
      "cell_type": "code",
      "source": [
        "def predict(context,query):\n",
        "    inputs = tokenizer.encode_plus(query, context, return_tensors='pt')\n",
        "    outputs = bert_model2(**inputs)\n",
        "    answer_start = torch.argmax(outputs[0])  # get the most likely beginning of answer with the argmax of the score\n",
        "    answer_end = torch.argmax(outputs[1]) + 1\n",
        "    answer = tokenizer.convert_tokens_to_string(tokenizer.convert_ids_to_tokens(inputs['input_ids'][0][answer_start:answer_end]))\n",
        "    return answer\n",
        "\n",
        "def normalize_text(s):\n",
        "    \"\"\"Removing articles and punctuation, and standardizing whitespace are all typical text processing steps.\"\"\"\n",
        "    import string, re\n",
        "    def remove_articles(text):\n",
        "        regex = re.compile(r\"\\b(a|an|the)\\b\", re.UNICODE)\n",
        "        return re.sub(regex, \" \", text)\n",
        "\n",
        "    def white_space_fix(text):\n",
        "        return \" \".join(text.split())\n",
        "\n",
        "    def remove_punc(text):\n",
        "        exclude = set(string.punctuation)\n",
        "        return \"\".join(ch for ch in text if ch not in exclude)\n",
        "\n",
        "    def lower(text):\n",
        "        return text.lower()\n",
        "\n",
        "    return white_space_fix(remove_articles(remove_punc(lower(s))))\n"
      ],
      "metadata": {
        "id": "PziR2wtkB8g7"
      },
      "execution_count": null,
      "outputs": []
    },
    {
      "cell_type": "code",
      "source": [
        "def predict_answer(context,query,answer):\n",
        "    prediction = predict(context,query)\n",
        "    print(f\"Context: {context}\")\n",
        "    print(f\"Question: {query}\")\n",
        "    print(f\"Predicted Answer: {prediction}\")\n",
        "    print(f\"Real Answer: {answer}\")\n",
        "    print(\"\\n\")"
      ],
      "metadata": {
        "id": "qoW3SOxjB-dO"
      },
      "execution_count": null,
      "outputs": []
    },
    {
      "cell_type": "markdown",
      "source": [
        "## 5. Perform an Inference and show the predicted vs ground truth answers."
      ],
      "metadata": {
        "id": "2f-hDwSgq_Fu"
      }
    },
    {
      "cell_type": "code",
      "source": [
        "predict_answer(contexts[14],questions[14],answers[14])"
      ],
      "metadata": {
        "id": "jAYx599mCC86",
        "colab": {
          "base_uri": "https://localhost:8080/"
        },
        "outputId": "e5aab04b-774b-41db-88af-cfdb0c38f4cc"
      },
      "execution_count": null,
      "outputs": [
        {
          "output_type": "stream",
          "name": "stdout",
          "text": [
            "Context: Within the Los Angeles Area are the major business districts of Downtown Burbank, Downtown Santa Monica, Downtown Glendale and Downtown Long Beach. Los Angeles itself has many business districts including the Downtown Los Angeles central business district as well as those lining the Wilshire Boulevard Miracle Mile including Century City, Westwood and Warner Center in the San Fernando Valley.\n",
            "Question: Downtown Burbank is an example of what kind of district?\n",
            "Predicted Answer: business\n",
            "Real Answer: business\n",
            "\n",
            "\n"
          ]
        }
      ]
    },
    {
      "cell_type": "code",
      "source": [
        "predict_answer(contexts[44],questions[44],answers[44])"
      ],
      "metadata": {
        "id": "3vbtju3iG8EC",
        "colab": {
          "base_uri": "https://localhost:8080/"
        },
        "outputId": "b48e31df-19d8-490d-be72-eb298c0f1f06"
      },
      "execution_count": null,
      "outputs": [
        {
          "output_type": "stream",
          "name": "stdout",
          "text": [
            "Context: The Tech Coast is a moniker that has gained use as a descriptor for the region's diversified technology and industrial base as well as its multitude of prestigious and world-renowned research universities and other public and private institutions. Amongst these include 5 University of California campuses (Irvine, Los Angeles, Riverside, Santa Barbara, and San Diego); 12 California State University campuses (Bakersfield, Channel Islands, Dominguez Hills, Fullerton, Los Angeles, Long Beach, Northridge, Pomona, San Bernardino, San Diego, San Marcos, and San Luis Obispo); and private institutions such as the California Institute of Technology, Chapman University, the Claremont Colleges (Claremont McKenna College, Harvey Mudd College, Pitzer College, Pomona College, and Scripps College), Loma Linda University, Loyola Marymount University, Occidental College, Pepperdine University, University of Redlands, University of San Diego, and the University of Southern California.\n",
            "Question: What kind of university is the California Institute of Technology?\n",
            "Predicted Answer: private\n",
            "Real Answer: private\n",
            "\n",
            "\n"
          ]
        }
      ]
    },
    {
      "cell_type": "code",
      "source": [
        "predict_answer(contexts[66],questions[66],answers[66])"
      ],
      "metadata": {
        "colab": {
          "base_uri": "https://localhost:8080/"
        },
        "id": "bbPzi9E5mzwA",
        "outputId": "92b30592-341e-4c32-9f46-cab3f5b85a01"
      },
      "execution_count": null,
      "outputs": [
        {
          "output_type": "stream",
          "name": "stdout",
          "text": [
            "Context: Formed in November 1990 by the equal merger of Sky Television and British Satellite Broadcasting, BSkyB became the UK's largest digital subscription television company. Following BSkyB's 2014 acquisition of Sky Italia and a majority 90.04% interest in Sky Deutschland in November 2014, its holding company British Sky Broadcasting Group plc changed its name to Sky plc. The United Kingdom operations also changed the company name from British Sky Broadcasting Limited to Sky UK Limited, still trading as Sky.\n",
            "Question: Who is the UK's largest digital subscription television company?\n",
            "Predicted Answer: sky plc.\n",
            "Real Answer: BSkyB\n",
            "\n",
            "\n"
          ]
        }
      ]
    }
  ]
}